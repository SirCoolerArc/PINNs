{
 "cells": [
  {
   "cell_type": "markdown",
   "id": "407c8598-dcce-4b52-ac0e-88a2bb0fae24",
   "metadata": {},
   "source": [
    "# Basic Python \n",
    "Writing a very basic program"
   ]
  },
  {
   "cell_type": "code",
   "execution_count": 1,
   "id": "38a0acd7-813e-4782-a5bf-7baf04af551c",
   "metadata": {},
   "outputs": [
    {
     "name": "stdout",
     "output_type": "stream",
     "text": [
      "Hello World\n"
     ]
    }
   ],
   "source": [
    "print(\"Hello World\")"
   ]
  },
  {
   "cell_type": "markdown",
   "id": "a2c9bf58-1272-41e9-8f04-2d9c89a6740e",
   "metadata": {},
   "source": [
    "### MODULES\n",
    "A module is a file containing code written by somebody else (usually) which can be\n",
    "imported and used in our programs.\n",
    "### PIP\n",
    "Pip is the package manager for python. You can use pip to install a module on your\n",
    "system."
   ]
  },
  {
   "cell_type": "markdown",
   "id": "49042d16-21a9-44fa-9946-fbeb36ecaf9c",
   "metadata": {},
   "source": [
    "There are two types of modules in Python.\n",
    "1. Built in Modules (Preinstalled in Python)\n",
    "2. External Modules (Need to install using pip"
   ]
  },
  {
   "cell_type": "markdown",
   "id": "b9ea6ded-f62f-4270-befa-12f373410b8c",
   "metadata": {},
   "source": [
    "## How to write comments"
   ]
  },
  {
   "cell_type": "markdown",
   "id": "943a35c6-b216-4fd1-a819-5c10165beca4",
   "metadata": {},
   "source": [
    "### Single line comments\n",
    "The following is the syntax for a single line comment.\n",
    "The short cut is Ctrl + /"
   ]
  },
  {
   "cell_type": "code",
   "execution_count": 1,
   "id": "489d18b5-5d91-41e9-88c6-ac7b3b69ad7f",
   "metadata": {},
   "outputs": [],
   "source": [
    "# This is a comment"
   ]
  },
  {
   "cell_type": "markdown",
   "id": "e745e1cb-d633-471c-92b1-363507b41756",
   "metadata": {},
   "source": [
    "For a multiline comment, we use \"\"\" at the start & end like this"
   ]
  },
  {
   "cell_type": "code",
   "execution_count": 8,
   "id": "309b95be-79a2-4539-9919-9effa8ed1f21",
   "metadata": {},
   "outputs": [
    {
     "data": {
      "text/plain": [
       "'This is a \\ndouble line comment'"
      ]
     },
     "execution_count": 8,
     "metadata": {},
     "output_type": "execute_result"
    }
   ],
   "source": [
    "\"\"\"This is a \n",
    "double line comment\"\"\""
   ]
  },
  {
   "cell_type": "markdown",
   "id": "bc4c2015-6844-4c02-9862-a2834f0ba256",
   "metadata": {},
   "source": [
    "But after using IDEs like VS code has rendered the above feature useless since # is more widely used after selecting all those lines like this:"
   ]
  },
  {
   "cell_type": "code",
   "execution_count": 9,
   "id": "cbb3d9ac-1230-4890-aca7-47694b2f8614",
   "metadata": {},
   "outputs": [],
   "source": [
    "# A comment starts here\n",
    "# proceeds here\n",
    "# ends here"
   ]
  },
  {
   "cell_type": "markdown",
   "id": "b82367ef-6cee-43d1-85da-b0d7add57d8d",
   "metadata": {},
   "source": [
    "### How to print multiple lines"
   ]
  },
  {
   "cell_type": "markdown",
   "id": "4907737a-e339-4d41-bda0-c1c6bde4c3c1",
   "metadata": {},
   "source": [
    "The following is a code to print \"Dust of Snow\" poem"
   ]
  },
  {
   "cell_type": "code",
   "execution_count": 10,
   "id": "05a4d0bf-81d8-4c9a-b162-298eed5877f7",
   "metadata": {},
   "outputs": [
    {
     "name": "stdout",
     "output_type": "stream",
     "text": [
      "The way a crow\n",
      "Shook down on me\n",
      "The dust of snow\n",
      "From a hemlock tree\n",
      "\n",
      "Has given my heart\n",
      "A change of mood\n",
      "And saved some part\n",
      "Of a day I had rued.\n"
     ]
    }
   ],
   "source": [
    "print('''The way a crow\n",
    "Shook down on me\n",
    "The dust of snow\n",
    "From a hemlock tree\n",
    "\n",
    "Has given my heart\n",
    "A change of mood\n",
    "And saved some part\n",
    "Of a day I had rued.''')"
   ]
  },
  {
   "cell_type": "markdown",
   "id": "12b2e921-d045-4bcd-bd09-3b8703a91866",
   "metadata": {},
   "source": [
    "## Variables & Data Types"
   ]
  },
  {
   "cell_type": "code",
   "execution_count": 14,
   "id": "db158e15-b8bd-4476-ad78-fc346568a7a7",
   "metadata": {},
   "outputs": [],
   "source": [
    "a=2 #Integer\n",
    "b=5.22 #Floating point \n",
    "c=\"Harry\" #String\n",
    "d=True #Boolean\n",
    "e=None #None type variable, denotes nothing"
   ]
  },
  {
   "cell_type": "markdown",
   "id": "dc445bff-099b-49dd-ab99-5943e317cdcc",
   "metadata": {},
   "source": [
    "## Operators\n",
    "### Arithmetic Operators\n",
    "+, -, *, /, %  are all such operators. \n",
    "A simple example is shown below:"
   ]
  },
  {
   "cell_type": "code",
   "execution_count": 15,
   "id": "51e98f8f-6f7c-4bb7-bd5e-ea9c811da946",
   "metadata": {},
   "outputs": [
    {
     "name": "stdout",
     "output_type": "stream",
     "text": [
      "11\n"
     ]
    }
   ],
   "source": [
    "a=7\n",
    "b=4\n",
    "print(a+b)"
   ]
  },
  {
   "cell_type": "markdown",
   "id": "73d5700b-5c16-490a-a3d4-b6089c55a936",
   "metadata": {},
   "source": [
    "### Assignement Operators\n",
    "=, +=, -=, *=, /= etc. Examples:"
   ]
  },
  {
   "cell_type": "code",
   "execution_count": 19,
   "id": "e738355c-d87e-47d8-9c00-836bcf6e1a45",
   "metadata": {},
   "outputs": [
    {
     "name": "stdout",
     "output_type": "stream",
     "text": [
      "14\n"
     ]
    }
   ],
   "source": [
    "b=5\n",
    "b+=7 #Increments the value by 7\n",
    "a=2\n",
    "print(a+b)"
   ]
  },
  {
   "cell_type": "code",
   "execution_count": 21,
   "id": "52b1b448-df6b-42a2-a155-5db2c2a62f13",
   "metadata": {},
   "outputs": [
    {
     "name": "stdout",
     "output_type": "stream",
     "text": [
      "5.0\n"
     ]
    }
   ],
   "source": [
    "a=8\n",
    "a/=4 #Divides original value by 4 & then reassigns it\n",
    "b=3\n",
    "print(a+b)"
   ]
  },
  {
   "cell_type": "markdown",
   "id": "04adf85c-1608-48ae-b193-a9c81bd7eec7",
   "metadata": {},
   "source": [
    "### Comparison Operators\n",
    "==, >, >=, <, != etc. They always return a boolean value. Examples:"
   ]
  },
  {
   "cell_type": "code",
   "execution_count": 25,
   "id": "4fd076b0-14d6-4d04-81b3-0f48efd8fef9",
   "metadata": {},
   "outputs": [
    {
     "name": "stdout",
     "output_type": "stream",
     "text": [
      "False\n"
     ]
    }
   ],
   "source": [
    "a = 5<4\n",
    "print(a)"
   ]
  },
  {
   "cell_type": "code",
   "execution_count": 24,
   "id": "73e6e28a-d6e6-4e89-9673-32086b2bdf50",
   "metadata": {},
   "outputs": [
    {
     "name": "stdout",
     "output_type": "stream",
     "text": [
      "True\n"
     ]
    }
   ],
   "source": [
    "b= 7!=8\n",
    "print(b)"
   ]
  },
  {
   "cell_type": "markdown",
   "id": "d166f631-a2a5-4240-9b36-bb7c1db80e0b",
   "metadata": {},
   "source": [
    "### Logical Operators\n",
    "and, or, not are such operators. Examples:"
   ]
  },
  {
   "cell_type": "code",
   "execution_count": 3,
   "id": "3e69c261-6179-49a2-a10d-1ae31828d2b3",
   "metadata": {},
   "outputs": [
    {
     "name": "stdout",
     "output_type": "stream",
     "text": [
      "False\n"
     ]
    }
   ],
   "source": [
    "a=True\n",
    "b=False\n",
    "print(a and b)"
   ]
  },
  {
   "cell_type": "code",
   "execution_count": 26,
   "id": "d32b8ac5-baa8-41b5-9c86-7c21d499db91",
   "metadata": {},
   "outputs": [
    {
     "name": "stdout",
     "output_type": "stream",
     "text": [
      "True\n"
     ]
    }
   ],
   "source": [
    "a=True\n",
    "b=False\n",
    "print(a or b)"
   ]
  },
  {
   "cell_type": "code",
   "execution_count": 27,
   "id": "b241dd29-2dfb-48d4-a3b0-6f3009b38d45",
   "metadata": {},
   "outputs": [
    {
     "name": "stdout",
     "output_type": "stream",
     "text": [
      "False\n"
     ]
    }
   ],
   "source": [
    "a=True\n",
    "print(not(a))"
   ]
  },
  {
   "cell_type": "markdown",
   "id": "79c7489e-cd59-471b-8a59-895ad9c481e6",
   "metadata": {},
   "source": [
    "## Type & Typecasting\n",
    "Here are some examples to explain the concepts involved"
   ]
  },
  {
   "cell_type": "code",
   "execution_count": 28,
   "id": "1eb06701-ae55-4322-aea2-d153c2ec45a7",
   "metadata": {},
   "outputs": [
    {
     "name": "stdout",
     "output_type": "stream",
     "text": [
      "<class 'float'>\n"
     ]
    }
   ],
   "source": [
    "a=31.2\n",
    "t=type(a)\n",
    "print(t)"
   ]
  },
  {
   "cell_type": "code",
   "execution_count": 29,
   "id": "ee75dcbd-92b2-4fe7-a62d-bfc2256ff4bb",
   "metadata": {},
   "outputs": [
    {
     "name": "stdout",
     "output_type": "stream",
     "text": [
      "<class 'str'>\n"
     ]
    }
   ],
   "source": [
    "name=\"Harry\"\n",
    "t=type(name)\n",
    "print(t)"
   ]
  },
  {
   "cell_type": "markdown",
   "id": "57569dad-f9a9-409a-9fd4-5810ec23a51a",
   "metadata": {},
   "source": [
    "A number can be converted into a string and vice versa (if possible)"
   ]
  },
  {
   "cell_type": "code",
   "execution_count": 34,
   "id": "6a5e8118-7568-4e8b-b901-f4fdbee07cb1",
   "metadata": {},
   "outputs": [
    {
     "name": "stdout",
     "output_type": "stream",
     "text": [
      "<class 'float'>\n"
     ]
    }
   ],
   "source": [
    "a=\"31.2\"\n",
    "b=float(a) #a but the type should be float\n",
    "t=type(b)\n",
    "print(t)"
   ]
  },
  {
   "cell_type": "code",
   "execution_count": 35,
   "id": "36d1ab58-faa9-40fd-a340-f0ff0bdb22ad",
   "metadata": {},
   "outputs": [
    {
     "name": "stdout",
     "output_type": "stream",
     "text": [
      "32.0\n"
     ]
    }
   ],
   "source": [
    "print(float(32))"
   ]
  },
  {
   "cell_type": "markdown",
   "id": "0c4dcd19-d6f1-48aa-9c26-b8abe0ecc9d8",
   "metadata": {},
   "source": [
    "Let's address an anomaly which arises while taking inputs"
   ]
  },
  {
   "cell_type": "code",
   "execution_count": 36,
   "id": "a886d069-b785-45d8-9055-f20f6de5d284",
   "metadata": {},
   "outputs": [
    {
     "name": "stdin",
     "output_type": "stream",
     "text": [
      "Enter number 1:  5\n",
      "Enter number 2:  4\n"
     ]
    },
    {
     "name": "stdout",
     "output_type": "stream",
     "text": [
      "Number a is  5\n",
      "Number b is  4\n",
      "Sum is  54\n"
     ]
    }
   ],
   "source": [
    "a=input(\"Enter number 1: \")\n",
    "b=input(\"Enter number 2: \")\n",
    "print(\"Number a is \", a)\n",
    "print(\"Number b is \", b)\n",
    "print(\"Sum is \", a+b)\n"
   ]
  },
  {
   "cell_type": "code",
   "execution_count": 37,
   "id": "293230b3-8e4b-4e33-975a-07e8cf4e1187",
   "metadata": {},
   "outputs": [
    {
     "name": "stdin",
     "output_type": "stream",
     "text": [
      "Enter number 1:  5\n",
      "Enter number 2:  4\n"
     ]
    },
    {
     "name": "stdout",
     "output_type": "stream",
     "text": [
      "Number a is  5\n",
      "Number b is  4\n",
      "Sum is  9\n"
     ]
    }
   ],
   "source": [
    "a=int(input(\"Enter number 1: \"))\n",
    "b=int(input(\"Enter number 2: \"))\n",
    "print(\"Number a is \", a)\n",
    "print(\"Number b is \", b)\n",
    "print(\"Sum is \", a+b)\n"
   ]
  },
  {
   "cell_type": "markdown",
   "id": "b58e92b0-42c1-4da0-b1db-a27d8a40b6ab",
   "metadata": {},
   "source": [
    "This happens because in the first case the inputs are treated as strings & hence they are being concatened by the '+', whereas in the second case, the int outside the input part converts the type to integer so that sum can be performed properly.\n",
    "Therefore,\n",
    "NOTE : The default variable type assigned by using input function is always *string*."
   ]
  },
  {
   "cell_type": "markdown",
   "id": "a7c670f2-1f27-4943-accc-950bad4f4d4e",
   "metadata": {},
   "source": [
    "Writing a python program to calculate the square of a number entered by the user"
   ]
  },
  {
   "cell_type": "code",
   "execution_count": 41,
   "id": "ec2cf54f-02a7-4e7a-bf21-0a7abce2bb00",
   "metadata": {},
   "outputs": [
    {
     "name": "stdin",
     "output_type": "stream",
     "text": [
      "Enter your number :  4\n"
     ]
    },
    {
     "name": "stdout",
     "output_type": "stream",
     "text": [
      "The square of the number is  16\n"
     ]
    }
   ],
   "source": [
    "a=int(input(\"Enter your number : \"))\n",
    "print(\"The square of the number is \", a**2)"
   ]
  },
  {
   "cell_type": "markdown",
   "id": "6a905e17-27c2-4240-aea5-6cb4d9054316",
   "metadata": {},
   "source": [
    "NOTE: In python, a^x is denoted by a**x"
   ]
  },
  {
   "cell_type": "markdown",
   "id": "0334c929-7852-4c1a-864e-944e34ed072a",
   "metadata": {},
   "source": [
    "## Strings"
   ]
  },
  {
   "cell_type": "markdown",
   "id": "569beb00-e98e-4f33-8930-d68e956ab7f8",
   "metadata": {},
   "source": [
    "Examples"
   ]
  },
  {
   "cell_type": "code",
   "execution_count": 4,
   "id": "992cf7fe-a309-426b-be8e-61c60a440f28",
   "metadata": {},
   "outputs": [],
   "source": [
    "a='Harry' #Length=5\n",
    "b=\"Rishabh\"\n",
    "c='''Yuvraj'''\n",
    "# All are valid ways of writing a string"
   ]
  },
  {
   "cell_type": "markdown",
   "id": "ecd16a1c-e317-4b1d-bc84-503e057671d7",
   "metadata": {},
   "source": [
    "Strings are immutable but they can be sliced\n",
    "Also, the index of a string starts from 0 when counting from left to right\n",
    "and starts from -1, -2,.. on going from right to left"
   ]
  },
  {
   "cell_type": "markdown",
   "id": "58a1c57f-d858-4d9e-80e8-e036614793d5",
   "metadata": {},
   "source": [
    "Syntax for Slicing is\n",
    "\n",
    "sl=name[ind_start:ind_end]"
   ]
  },
  {
   "cell_type": "markdown",
   "id": "6e4b0451-a28b-4e63-a3aa-c825b09ecd01",
   "metadata": {},
   "source": [
    "NOTE: The first index is included but the last index is excluded for the purpose of slicing"
   ]
  },
  {
   "cell_type": "code",
   "execution_count": 5,
   "id": "b361a742-53d3-4314-bd5b-02d1d126b986",
   "metadata": {},
   "outputs": [
    {
     "name": "stdout",
     "output_type": "stream",
     "text": [
      "Har\n"
     ]
    }
   ],
   "source": [
    "#Example\n",
    "name=\"Harry\"\n",
    "nameshort=name[0:3]\n",
    "print(nameshort)"
   ]
  },
  {
   "cell_type": "code",
   "execution_count": 9,
   "id": "b127d674-a3d1-4332-88c0-6aa7706cac5a",
   "metadata": {},
   "outputs": [
    {
     "name": "stdout",
     "output_type": "stream",
     "text": [
      "a\n",
      "r\n"
     ]
    }
   ],
   "source": [
    "name=\"Harry\"\n",
    "character1=name[1]\n",
    "print(character1)\n",
    "print(name[-2])"
   ]
  },
  {
   "cell_type": "markdown",
   "id": "9909cd6a-2d70-477b-bf6f-e41b8073f212",
   "metadata": {},
   "source": [
    "Generally, not preferable to deal with negative indices; convert them to positive indices & then solve"
   ]
  },
  {
   "cell_type": "code",
   "execution_count": 12,
   "id": "262d9832-4897-4f5a-9ac2-53106ddec738",
   "metadata": {},
   "outputs": [
    {
     "name": "stdout",
     "output_type": "stream",
     "text": [
      "Harr\n",
      "arry\n"
     ]
    }
   ],
   "source": [
    "#A somewhat tricky situation\n",
    "name=\"Harry\"\n",
    "print(name[:4]) #Same as [0:4]\n",
    "print(name[1:]) #Same as [1:5]"
   ]
  },
  {
   "cell_type": "markdown",
   "id": "fec5f94a-a563-4a7f-bc1f-422f82f7dab7",
   "metadata": {},
   "source": [
    "Slicing with Skip value"
   ]
  },
  {
   "cell_type": "code",
   "execution_count": 14,
   "id": "727e462b-8299-49b1-a434-013dd589027d",
   "metadata": {},
   "outputs": [
    {
     "name": "stdout",
     "output_type": "stream",
     "text": [
      "mzn\n"
     ]
    }
   ],
   "source": [
    "word=\"amazing\"\n",
    "print(word[1:6:2])"
   ]
  },
  {
   "cell_type": "markdown",
   "id": "4adf9108-9691-4efd-beb5-04f117621080",
   "metadata": {},
   "source": [
    "Here, first 1:6 part is resolved as defined earlier & then a skip of 2 is followed in the string so obtained to get the final output\n"
   ]
  },
  {
   "cell_type": "markdown",
   "id": "a6e31375-b179-4a39-8cc2-b002a4ffc353",
   "metadata": {},
   "source": [
    "### String functions"
   ]
  },
  {
   "cell_type": "code",
   "execution_count": 45,
   "id": "750e6d28-a55f-4da9-8f4a-907fde2c3ea2",
   "metadata": {},
   "outputs": [
    {
     "name": "stdout",
     "output_type": "stream",
     "text": [
      "13\n",
      "RISHABH KUMAR\n",
      "rishabh kumar\n",
      "Rishabh kumar\n",
      "Rishabh Kumar\n",
      "rishabh kumar\n",
      "risxabx kumar\n",
      "3\n",
      "False\n",
      "True\n",
      "False\n",
      "2\n",
      "False\n",
      "False\n"
     ]
    }
   ],
   "source": [
    "#There are many. Some examples are:\n",
    "name=\"rishabh kumar\"\n",
    "print(len(name)) #Gives lenght of string\n",
    "print(name.upper()) #All characters to upper case\n",
    "print(name.lower()) #All characters to lower case\n",
    "print(name.capitalize()) #Capitalizes only the first letter\n",
    "print(name.title()) #Capitalizes first letter of each word\n",
    "print(name.strip()) #Removes leading & trailing white spaces\n",
    "print(name.replace(\"h\", \"x\")) #Replaces all occurrences of a substring with another\n",
    "print(name.find(\"h\")) #Returns the index of the first occurrence of a substring, or -1 if not found\n",
    "print(name.startswith(\"Ris\")) #Checks if the string starts with the specified substring\n",
    "print(name.startswith(\"ris\")) \n",
    "print(name.endswith(\"max\")) #Checks if the string ends with the specified substring\n",
    "print(name.count(\"a\")) #Counts the total number of occurrences of any character\n",
    "print(name.isdigit()) #Gives false there are no digits in the name as well as white space is present\n",
    "print(name.isalpha()) #Gives false because of white space"
   ]
  },
  {
   "cell_type": "markdown",
   "id": "9fef116a-82cc-465d-b72c-97d902614a83",
   "metadata": {},
   "source": [
    "### Escape Sequence Characters\n",
    "Some commonly used examples are \\n, \\t, \\', \\\\"
   ]
  },
  {
   "cell_type": "code",
   "execution_count": 47,
   "id": "dbf45493-dcac-49e0-9c91-db94822b996c",
   "metadata": {},
   "outputs": [
    {
     "name": "stdout",
     "output_type": "stream",
     "text": [
      "Rishabh plays\n",
      "cricket\n"
     ]
    }
   ],
   "source": [
    "print(\"Rishabh plays\\ncricket\")"
   ]
  },
  {
   "cell_type": "code",
   "execution_count": 48,
   "id": "7db6db52-9bd6-4a16-9371-fecb61213b42",
   "metadata": {},
   "outputs": [
    {
     "name": "stdout",
     "output_type": "stream",
     "text": [
      "Rishabh plays cricket &\tfootball\n"
     ]
    }
   ],
   "source": [
    "print(\"Rishabh plays cricket &\\tfootball\")"
   ]
  },
  {
   "cell_type": "code",
   "execution_count": 49,
   "id": "f8e5ca09-4331-4e3b-b95b-6b4dab73cad5",
   "metadata": {},
   "outputs": [
    {
     "name": "stdout",
     "output_type": "stream",
     "text": [
      "Rishabh plays\n",
      "cricket \"vey well\"\n"
     ]
    }
   ],
   "source": [
    "print(\"Rishabh plays\\ncricket \\\"vey well\\\"\")"
   ]
  },
  {
   "cell_type": "code",
   "execution_count": 52,
   "id": "65f2e8c1-2d38-45de-ad78-5d14091fe780",
   "metadata": {},
   "outputs": [
    {
     "name": "stdin",
     "output_type": "stream",
     "text": [
      "Enter your name:  Rishabh\n"
     ]
    },
    {
     "name": "stdout",
     "output_type": "stream",
     "text": [
      "Good Afternoon Rishabh \n"
     ]
    }
   ],
   "source": [
    "# Write a python program to display a user entered name followed by \n",
    "# Good Afternoon using the input () function\n",
    "name=input(\"Enter your name: \")\n",
    "print(f\"Good Afternoon {name} \") #Here, f-string is used to simplify our task"
   ]
  },
  {
   "cell_type": "code",
   "execution_count": 57,
   "id": "911b4183-3d36-4bad-a7d1-d2ba46982a14",
   "metadata": {},
   "outputs": [
    {
     "name": "stdout",
     "output_type": "stream",
     "text": [
      "\n",
      "        Dear Rishabh,\n",
      "        You are selected\n",
      "        21st May, 2025\n",
      "        \n"
     ]
    }
   ],
   "source": [
    "#Chaining replace funtion\n",
    "letter='''\n",
    "        Dear <|Name|>,\n",
    "        You are selected\n",
    "        <|Date|>\n",
    "        '''\n",
    "print(letter.replace(\"<|Name|>\", \"Rishabh\").replace(\"<|Date|>\", \"21st May, 2025\"))"
   ]
  },
  {
   "cell_type": "markdown",
   "id": "3aee3d00-c7b2-4252-abbe-2424c13b174b",
   "metadata": {},
   "source": [
    "## Lists \n",
    "Python lists are containers to store a set of values of any data type."
   ]
  },
  {
   "cell_type": "markdown",
   "id": "1ac5785e-228e-4c4e-b8ae-ef199084cbd3",
   "metadata": {},
   "source": [
    "Also, they are mutable unlike strings."
   ]
  },
  {
   "cell_type": "code",
   "execution_count": 4,
   "id": "b4d75c2c-4da6-4e59-826c-d797982088ff",
   "metadata": {},
   "outputs": [
    {
     "name": "stdout",
     "output_type": "stream",
     "text": [
      "Rohan\n",
      "['Apple', 'Aakash', 'Rohan', 7]\n",
      "Grapes\n"
     ]
    }
   ],
   "source": [
    "friends=[\"Apple\", \"Aakash\", \"Rohan\", 7, False, 345.06]\n",
    "print(friends[2]) #Lists are indexed just like strings\n",
    "print(friends[0:4]) #Lists can be sliced too\n",
    "friends[0]=\"Grapes\" #Demonstrates mutability\n",
    "print(friends[0])"
   ]
  },
  {
   "cell_type": "markdown",
   "id": "bf722d44-9ff9-4b52-a29e-a6663bc00ef7",
   "metadata": {},
   "source": [
    "### Methods"
   ]
  },
  {
   "cell_type": "code",
   "execution_count": 8,
   "id": "46bc51e7-fa07-4fdf-b6e5-36e0b9cd6240",
   "metadata": {},
   "outputs": [
    {
     "name": "stdout",
     "output_type": "stream",
     "text": [
      "['Apple', 'Aakash', 'Rohan', 7, False, 345.06, 'Harry']\n"
     ]
    }
   ],
   "source": [
    "friends=[\"Apple\", \"Aakash\", \"Rohan\", 7, False, 345.06]\n",
    "friends.append(\"Harry\") #Adds \"Harry\" to the end of the of the list\n",
    "print(friends) "
   ]
  },
  {
   "cell_type": "code",
   "execution_count": 22,
   "id": "2ed12d37-72cb-4464-9295-247ad6af6ae3",
   "metadata": {},
   "outputs": [
    {
     "name": "stdout",
     "output_type": "stream",
     "text": [
      "[2, 8, 11, 41, 50, 65]\n",
      "[65, 50, 41, 11, 8, 2]\n",
      "[65, 50, 41, 15, 11, 8, 2]\n",
      "11\n",
      "[65, 50, 41, 15, 8, 2]\n",
      "[65, 50, 15, 8, 2]\n",
      "[65, 50, 15, 8, 2, 84, 33]\n"
     ]
    }
   ],
   "source": [
    "l1=[11, 65, 41, 8, 2, 50]\n",
    "l1.sort() # Arranges numbers in ascending order\n",
    "print(l1)\n",
    "l1.reverse() # Arranges numbers in the descending order\n",
    "print(l1)\n",
    "l1.insert(3,15) # Inserts an object somewhere in between the list. Syntax: insert(index, object)\n",
    "print(l1)\n",
    "value=l1.pop(4) # Removes the object at index=4\n",
    "print(value) # Pop function returns the removed value\n",
    "print(l1)\n",
    "l1.remove(41) #Directly removes that object from the list\n",
    "print(l1)\n",
    "l1.extend([84, 33]) # Adds all elements from another iterable (like a list or tuple) to the end of the list.\n",
    "print(l1)"
   ]
  },
  {
   "cell_type": "markdown",
   "id": "250a7ee3-e870-4752-b868-0fcfeee832bf",
   "metadata": {},
   "source": [
    "## Tuples\n",
    "It is is an immutable data type in python. Can store any data type just like lists."
   ]
  },
  {
   "cell_type": "code",
   "execution_count": 23,
   "id": "b4f70390-6724-45b8-b178-900e3c52fb1c",
   "metadata": {},
   "outputs": [],
   "source": [
    "a=() #Empty tuple\n",
    "b=(1,) #One element tuple; comma is necessary\n",
    "c=(1,7,2,False,\"Rohan\")"
   ]
  },
  {
   "cell_type": "markdown",
   "id": "f059ebdb-1d81-4c29-9a5b-2dba586dddac",
   "metadata": {},
   "source": [
    "### Methods "
   ]
  },
  {
   "cell_type": "code",
   "execution_count": 11,
   "id": "b221863d-0e72-499c-ad72-c319377ae9b0",
   "metadata": {},
   "outputs": [
    {
     "name": "stdout",
     "output_type": "stream",
     "text": [
      "8\n",
      "3\n",
      "6\n"
     ]
    }
   ],
   "source": [
    "a=(1,45,2,7.15,2,False,\"Rohan\",2)\n",
    "print(len(a)) # Length of tuple\n",
    "print(a.count(2)) # Number of occurences of 2 in the tuple\n",
    "i=a.index(\"Rohan\") # Index of Rohan\n",
    "print(i)"
   ]
  },
  {
   "cell_type": "code",
   "execution_count": 22,
   "id": "bb355b9f-43f4-4534-89f6-fb51fc9566ab",
   "metadata": {},
   "outputs": [
    {
     "name": "stdout",
     "output_type": "stream",
     "text": [
      "(1, 2, 3, 4, 5, 6)\n",
      "(1, 2, 3, 1, 2, 3, 1, 2, 3)\n"
     ]
    }
   ],
   "source": [
    "t1=(1,2,3)\n",
    "t2=(4,5,6)\n",
    "c=t1+t2 #Concatenation of tuples\n",
    "print(c)\n",
    "d=t1*3 #Repetition of tuples\n",
    "print(d)"
   ]
  },
  {
   "cell_type": "code",
   "execution_count": 21,
   "id": "ff288ec4-c4e1-47a3-834a-fcad72b05561",
   "metadata": {},
   "outputs": [
    {
     "name": "stdout",
     "output_type": "stream",
     "text": [
      "True\n",
      "False\n"
     ]
    }
   ],
   "source": [
    "print(2 in t1) #in checks the membership of a given object\n",
    "print(2 in t2) #return type of this is boolean"
   ]
  },
  {
   "cell_type": "code",
   "execution_count": 28,
   "id": "43d830ca-e639-44fb-9f63-16fa6e2d4650",
   "metadata": {},
   "outputs": [
    {
     "name": "stdout",
     "output_type": "stream",
     "text": [
      "16\n",
      "4\n",
      "(16, 4)\n"
     ]
    }
   ],
   "source": [
    "t=(5,16,4,12)\n",
    "print(max(t))\n",
    "print(min(t)) \n",
    "sliced=print(t[1:3]) #Slicing"
   ]
  },
  {
   "cell_type": "code",
   "execution_count": 31,
   "id": "d7521bf0-5cc0-48df-bf08-d7b88d3a63f3",
   "metadata": {},
   "outputs": [
    {
     "name": "stdout",
     "output_type": "stream",
     "text": [
      "5 16 4 12\n"
     ]
    }
   ],
   "source": [
    "t=(5,16,4,12) \n",
    "a,b,c,d=t #Unpacking\n",
    "print(a,b,c,d)"
   ]
  },
  {
   "cell_type": "markdown",
   "id": "3e4e23f5-0ca6-4504-ad26-b91cc8be24d4",
   "metadata": {},
   "source": [
    "Some Practice Exercises:"
   ]
  },
  {
   "cell_type": "code",
   "execution_count": 32,
   "id": "7eb72fe1-942a-480f-8d01-2f12606474ce",
   "metadata": {},
   "outputs": [
    {
     "name": "stdin",
     "output_type": "stream",
     "text": [
      "Enter the fruit name:  Banana\n",
      "Enter the fruit name:  Pineapple\n",
      "Enter the fruit name:  Watermelon\n",
      "Enter the fruit name:  Mango\n"
     ]
    },
    {
     "name": "stdout",
     "output_type": "stream",
     "text": [
      "['Banana', 'Pineapple', 'Watermelon', 'Mango']\n"
     ]
    }
   ],
   "source": [
    "#Write a program to store four fruits in a list entered by the user\n",
    "fruits=[]\n",
    "f1=input(\"Enter the fruit name: \")\n",
    "fruits.append(f1)\n",
    "f2=input(\"Enter the fruit name: \")\n",
    "fruits.append(f2)\n",
    "f3=input(\"Enter the fruit name: \")\n",
    "fruits.append(f3)\n",
    "f4=input(\"Enter the fruit name: \")\n",
    "fruits.append(f4)\n",
    "print(fruits)"
   ]
  },
  {
   "cell_type": "code",
   "execution_count": 39,
   "id": "ab8602b2-255c-4244-a124-8e491926705e",
   "metadata": {},
   "outputs": [
    {
     "name": "stdin",
     "output_type": "stream",
     "text": [
      "Enter marks:  45\n",
      "Enter marks:  88\n",
      "Enter marks:  25\n",
      "Enter marks:  79\n"
     ]
    },
    {
     "name": "stdout",
     "output_type": "stream",
     "text": [
      "[25, 45, 79, 88]\n"
     ]
    }
   ],
   "source": [
    "#Write a program to accept marks of 6 students and display them in a sorted manner.\n",
    "marks=[]\n",
    "m1=int(input(\"Enter marks: \"))\n",
    "marks.append(m1)\n",
    "m2=int(input(\"Enter marks: \"))\n",
    "marks.append(m2)\n",
    "m3=int(input(\"Enter marks: \"))\n",
    "marks.append(m3)\n",
    "m4=int(input(\"Enter marks: \"))\n",
    "marks.append(m4)\n",
    "marks.sort()\n",
    "print(marks)"
   ]
  },
  {
   "cell_type": "code",
   "execution_count": 41,
   "id": "ea90dc0c-3d68-4be5-8f36-2abaad785aad",
   "metadata": {},
   "outputs": [
    {
     "name": "stdout",
     "output_type": "stream",
     "text": [
      "21\n"
     ]
    }
   ],
   "source": [
    "#Write a program to sum a list with 4 numbers\n",
    "l=[2,6,9,4]\n",
    "print(sum(l)) #sum is in-built function in python"
   ]
  },
  {
   "cell_type": "markdown",
   "id": "a67faba8-a857-4c74-a9b6-2b6787562e59",
   "metadata": {},
   "source": [
    "## Dictionary\n",
    "Dictionary is a collection of keys-value pairs."
   ]
  },
  {
   "cell_type": "code",
   "execution_count": 11,
   "id": "920e7040-3cee-43ef-9564-d1c970520eb4",
   "metadata": {},
   "outputs": [
    {
     "name": "stdout",
     "output_type": "stream",
     "text": [
      "<class 'dict'>\n",
      "{'Harry': 88, 'Shubham': 70, 'Rohan': 50}\n"
     ]
    },
    {
     "data": {
      "text/plain": [
       "88"
      ]
     },
     "execution_count": 11,
     "metadata": {},
     "output_type": "execute_result"
    }
   ],
   "source": [
    "#Syntax\n",
    "marks={\n",
    "    # key:value\n",
    "    \"Harry\":88, #Such pairs are called Key-Value pairs\n",
    "    \"Shubham\":70,\n",
    "    \"Rohan\":50    \n",
    "        }\n",
    "print(type(marks))\n",
    "print(marks)\n",
    "marks[\"Harry\"] #Prints corresponding value of the key"
   ]
  },
  {
   "cell_type": "markdown",
   "id": "27263c30-0bbd-4863-9256-881fec012aa3",
   "metadata": {},
   "source": [
    "### Properties\n",
    "1. It is unordered.\n",
    "2. It is mutable.\n",
    "3. It is indexed.\n",
    "4. Cannot contain duplicate keys."
   ]
  },
  {
   "cell_type": "markdown",
   "id": "7fc14ffb-afb3-4b4d-959c-df4333e87721",
   "metadata": {},
   "source": [
    "### Methods"
   ]
  },
  {
   "cell_type": "code",
   "execution_count": 21,
   "id": "780366d4-5e15-443f-899b-a571446668f9",
   "metadata": {},
   "outputs": [
    {
     "name": "stdout",
     "output_type": "stream",
     "text": [
      "3\n",
      "dict_items([('Harry', 88), ('Shubham', 42), ('Rohan', 23)])\n",
      "dict_keys(['Harry', 'Shubham', 'Rohan'])\n",
      "dict_values([88, 42, 23])\n",
      "{'Harry': 75, 'Shubham': 42, 'Rohan': 23, 'Rishabh': 70}\n",
      "70\n",
      "None\n"
     ]
    },
    {
     "ename": "KeyError",
     "evalue": "'Rahul'",
     "output_type": "error",
     "traceback": [
      "\u001b[31m---------------------------------------------------------------------------\u001b[39m",
      "\u001b[31mKeyError\u001b[39m                                  Traceback (most recent call last)",
      "\u001b[36mCell\u001b[39m\u001b[36m \u001b[39m\u001b[32mIn[21]\u001b[39m\u001b[32m, line 15\u001b[39m\n\u001b[32m     13\u001b[39m \u001b[38;5;28mprint\u001b[39m(marks.get(\u001b[33m\"\u001b[39m\u001b[33mRishabh\u001b[39m\u001b[33m\"\u001b[39m)) \u001b[38;5;66;03m#Slightly different from print(marks[\"Rishabh\"])\u001b[39;00m\n\u001b[32m     14\u001b[39m \u001b[38;5;28mprint\u001b[39m(marks.get(\u001b[33m\"\u001b[39m\u001b[33mRahul\u001b[39m\u001b[33m\"\u001b[39m)) \u001b[38;5;66;03m#Prints none \u001b[39;00m\n\u001b[32m---> \u001b[39m\u001b[32m15\u001b[39m \u001b[38;5;28mprint\u001b[39m(\u001b[43mmarks\u001b[49m\u001b[43m[\u001b[49m\u001b[33;43m\"\u001b[39;49m\u001b[33;43mRahul\u001b[39;49m\u001b[33;43m\"\u001b[39;49m\u001b[43m]\u001b[49m) \u001b[38;5;66;03m#Throws an error\u001b[39;00m\n\u001b[32m     16\u001b[39m \u001b[38;5;66;03m#get method prints 'None' for non-existent keys whereas a[\"Key\"] throws an error \u001b[39;00m\n",
      "\u001b[31mKeyError\u001b[39m: 'Rahul'"
     ]
    }
   ],
   "source": [
    "marks={\n",
    "    \"Harry\":88, #Such pairs are called Key-Value pairs\n",
    "    \"Shubham\":42,\n",
    "    \"Rohan\":23   \n",
    "        }\n",
    "print(len(marks))\n",
    "print(marks.items()) #Returns a list of (key,value)tuples\n",
    "print(marks.keys()) #Returns a list containing keys\n",
    "print(marks.values()) #Returns a list of values\n",
    "marks.update({\"Harry\":75, \"Rishabh\":70}) \n",
    "#We can update existing dictionary as well as add new key-value pairs \n",
    "print(marks) #Printing the updated dictionary\n",
    "print(marks.get(\"Rishabh\")) #Slightly different from print(marks[\"Rishabh\"])\n",
    "print(marks.get(\"Rahul\")) #Prints none \n",
    "print(marks[\"Rahul\"]) #Throws an error\n",
    "#get method prints 'None' for non-existent keys whereas a[\"Key\"] throws an error \n"
   ]
  },
  {
   "cell_type": "markdown",
   "id": "d4912a81-fb00-479e-8428-c82dae8eaacd",
   "metadata": {},
   "source": [
    "Some additional methods:"
   ]
  },
  {
   "cell_type": "code",
   "execution_count": 7,
   "id": "c11c0ee8-5a4b-4fd9-9c85-5be6eb7c3b11",
   "metadata": {},
   "outputs": [
    {
     "name": "stdout",
     "output_type": "stream",
     "text": [
      "1\n",
      "{'b': 2, 'c': 3}\n"
     ]
    }
   ],
   "source": [
    "d = {\"a\": 1, \"b\": 2, \"c\":3}\n",
    "print(d.pop(\"a\")) #Removes the item with the given key and returns its value\n",
    "print(d)"
   ]
  },
  {
   "cell_type": "code",
   "execution_count": 11,
   "id": "747ecaab-a09a-4d10-bc03-c961f179b2b4",
   "metadata": {},
   "outputs": [
    {
     "name": "stdout",
     "output_type": "stream",
     "text": [
      "('c', 3)\n",
      "{'a': 1, 'b': 2}\n"
     ]
    }
   ],
   "source": [
    "d = {\"a\": 1, \"b\": 2, \"c\":3}\n",
    "print(d.popitem()) #Removes and returns the last inserted key-value pair as a tuple\n",
    "print(d)"
   ]
  },
  {
   "cell_type": "code",
   "execution_count": 49,
   "id": "1ebdc7dd-c6cb-4719-aec7-765440c6a6bf",
   "metadata": {},
   "outputs": [
    {
     "data": {
      "text/plain": [
       "1"
      ]
     },
     "execution_count": 49,
     "metadata": {},
     "output_type": "execute_result"
    }
   ],
   "source": [
    "dict = {\"a\": 1, \"b\": 2, \"c\":3}\n",
    "dict.setdefault(\"a\", 100) \n"
   ]
  },
  {
   "cell_type": "markdown",
   "id": "c197c303-ae94-4225-a624-de89e7de9877",
   "metadata": {},
   "source": [
    "## Sets\n",
    "Set is a collection of non-repetitive elements."
   ]
  },
  {
   "cell_type": "code",
   "execution_count": 19,
   "id": "67362776-6d5a-4c25-a6af-d885c47d3f7f",
   "metadata": {},
   "outputs": [
    {
     "name": "stdout",
     "output_type": "stream",
     "text": [
      "<class 'dict'> <class 'set'>\n"
     ]
    }
   ],
   "source": [
    "d={} #Empty dictionary\n",
    "e=set() #Empty set\n",
    "print(type(d), type(e))\n",
    "s={1,5,32,\"Rishabh\",82.34} #Non-empty set"
   ]
  },
  {
   "cell_type": "markdown",
   "id": "4b096826-cb37-4935-a107-2081d402c03e",
   "metadata": {},
   "source": [
    "### Properties\n",
    "1. Sets are unordered => Element’s order doesn’t matter\n",
    "2. Sets are unindexed => Cannot access elements by index\n",
    "3. There is no way to change items in sets.\n",
    "4. Sets cannot contain duplicate values."
   ]
  },
  {
   "cell_type": "markdown",
   "id": "cecaee04-6813-47cc-822a-7ff793503ad3",
   "metadata": {},
   "source": [
    "### Methods"
   ]
  },
  {
   "cell_type": "code",
   "execution_count": 46,
   "id": "5dd7c233-9170-4819-8969-4cd5588176cb",
   "metadata": {},
   "outputs": [
    {
     "name": "stdout",
     "output_type": "stream",
     "text": [
      "5\n",
      "{32, 1, 82.34, 5, 57, 'Rishabh'}\n",
      "{32, 82.34, 5, 57, 'Rishabh'}\n",
      "{82.34, 5, 57, 'Rishabh'}\n",
      "set()\n"
     ]
    }
   ],
   "source": [
    "s={1,5,32,\"Rishabh\",82.34}\n",
    "print(len(s))\n",
    "s.add(57) #Adds an element\n",
    "print(s)\n",
    "s.remove(1) #Removes a desired element\n",
    "print(s)\n",
    "s.pop() #Removes a random element\n",
    "print(s)\n",
    "s.clear() #empties the set\n",
    "print(s)"
   ]
  },
  {
   "cell_type": "code",
   "execution_count": 8,
   "id": "28d6c75d-c1bb-4886-b2ca-de38bedc6be7",
   "metadata": {},
   "outputs": [
    {
     "name": "stdout",
     "output_type": "stream",
     "text": [
      "{1, 2, 3, 8, 11}\n",
      "{8}\n",
      "{1, 2, 3}\n",
      "True\n",
      "False\n"
     ]
    }
   ],
   "source": [
    "s1={1,8,2,3}\n",
    "s2={8,11}\n",
    "s3={1,2,3}\n",
    "print(s1.union(s2))\n",
    "print(s1.intersection(s2))\n",
    "print(s1.difference(s2)) # s1-s2\n",
    "print(s3.issubset(s1)) #Checks whether s3 is subset of s1 or not\n",
    "print(s2.issuperset(s1)) ##Checks whether s2 is superset of s1 or not\n"
   ]
  },
  {
   "cell_type": "markdown",
   "id": "faf5aa18-0366-46b5-b4f4-a84d1b709620",
   "metadata": {},
   "source": [
    "Some exercises:"
   ]
  },
  {
   "cell_type": "code",
   "execution_count": 12,
   "id": "d2f08276-5f23-423e-bec3-fdfbd29a52b3",
   "metadata": {},
   "outputs": [
    {
     "name": "stdin",
     "output_type": "stream",
     "text": [
      "Please enter the word whose meaning u want:  Billi\n"
     ]
    },
    {
     "name": "stdout",
     "output_type": "stream",
     "text": [
      "Cat\n"
     ]
    }
   ],
   "source": [
    "#Write a program to create a dictionary of Hindi words with values \n",
    "#as their English translation. Provide user with an option to look it up!\n",
    "words={ \"Kutta\": \"Dog\",\n",
    "        \"Billi\":\"Cat\",\n",
    "        \"Kursi\": \"Chair\",\n",
    "        \"Gubbaraa\": \"Balloon\"      \n",
    "        }\n",
    "\n",
    "w=input(\"Please enter the word whose meaning u want: \") \n",
    "print(words[w])"
   ]
  },
  {
   "cell_type": "code",
   "execution_count": 14,
   "id": "0713ea0d-1366-49c6-9aee-5b6b20038a2f",
   "metadata": {},
   "outputs": [
    {
     "name": "stdin",
     "output_type": "stream",
     "text": [
      "Enter your name:  Rishabh\n",
      "Enter your favourite language:  Python\n",
      "Enter your name:  Shubham\n",
      "Enter your favourite language:  HTML\n",
      "Enter your name:  Harry\n",
      "Enter your favourite language:  C++\n",
      "Enter your name:  Rohan\n",
      "Enter your favourite language:  JS\n"
     ]
    },
    {
     "name": "stdout",
     "output_type": "stream",
     "text": [
      "{'Rishabh': 'Python', 'Shubham': 'HTML', 'Harry': 'C++', 'Rohan': 'JS'}\n"
     ]
    }
   ],
   "source": [
    "#Create an empty dictionary. Allow 4 friends to enter their \n",
    "# favorite language as value and use key as their names. \n",
    "# Assume that the names are unique\n",
    "d={}\n",
    "n1=input(\"Enter your name: \")\n",
    "l1=input(\"Enter your favourite language: \")\n",
    "\n",
    "n2=input(\"Enter your name: \")\n",
    "l2=input(\"Enter your favourite language: \")\n",
    "\n",
    "n3=input(\"Enter your name: \")\n",
    "l3=input(\"Enter your favourite language: \")\n",
    "\n",
    "n4=input(\"Enter your name: \")\n",
    "l4=input(\"Enter your favourite language: \")\n",
    "\n",
    "d.update({n1:l1, n2:l2, n3:l3, n4:l4})\n",
    "print(d)"
   ]
  },
  {
   "cell_type": "markdown",
   "id": "9682bf2f-98eb-491e-9947-d434abb89a43",
   "metadata": {},
   "source": [
    "#Can you change the values inside a list which is contained in set S?\n",
    "s = {8, 7, 12, \"Harry\", [1,2]}\n",
    "\n",
    "Python sets require all their elements to be hashable and immutable. Lists are mutable and not hashable, so trying to include a list inside a set will raise a TypeError."
   ]
  },
  {
   "cell_type": "markdown",
   "id": "5b8fcf93-901b-4a45-bbd3-b5f3e4050d50",
   "metadata": {},
   "source": [
    "## Conditional Expression"
   ]
  },
  {
   "cell_type": "markdown",
   "id": "e282fe44-9d69-4efb-a839-3179d7596c9c",
   "metadata": {},
   "source": [
    "### If-else example"
   ]
  },
  {
   "cell_type": "code",
   "execution_count": 20,
   "id": "8caa350c-484e-4cbb-8d46-4b2738ed697d",
   "metadata": {},
   "outputs": [
    {
     "name": "stdin",
     "output_type": "stream",
     "text": [
      "Enter your age:  28\n"
     ]
    },
    {
     "name": "stdout",
     "output_type": "stream",
     "text": [
      "You are a major\n"
     ]
    }
   ],
   "source": [
    "age=int(input(\"Enter your age: \"))\n",
    "if(age>=18):\n",
    "    print(\"You are a major\")\n",
    "else:\n",
    "    print(\"You are a minor\")"
   ]
  },
  {
   "cell_type": "markdown",
   "id": "84fcbff9-978d-4f1b-94c8-e17dc2555888",
   "metadata": {},
   "source": [
    "### If_elif_else ladder"
   ]
  },
  {
   "cell_type": "code",
   "execution_count": 21,
   "id": "10ca53f4-b408-4fac-ab0a-845aec3de932",
   "metadata": {},
   "outputs": [
    {
     "name": "stdin",
     "output_type": "stream",
     "text": [
      "Enter your age:  -56\n"
     ]
    },
    {
     "name": "stdout",
     "output_type": "stream",
     "text": [
      "You are entering a negative number; invalid\n"
     ]
    }
   ],
   "source": [
    "age=int(input(\"Enter your age: \"))\n",
    "if(age>=18):\n",
    "    print(\"You are a major\")\n",
    "elif(age<0):\n",
    "    print(\"You are entering a negative number; invalid\")\n",
    "elif(age==0):\n",
    "    print(\"You are entering zero\") \n",
    "else:\n",
    "    print(\"You are a minor\")"
   ]
  },
  {
   "cell_type": "markdown",
   "id": "6014d44c-8acf-4738-a19e-f37846c1f2bd",
   "metadata": {},
   "source": [
    "NOTE: There can be multiple ifs in the program. Determine carefully which one is linked to elif & else parts."
   ]
  },
  {
   "cell_type": "markdown",
   "id": "da9589a1-9ee7-42c5-8869-8fb0099e1783",
   "metadata": {},
   "source": [
    "Some Exercises:"
   ]
  },
  {
   "cell_type": "code",
   "execution_count": 12,
   "id": "29c55e9c-7470-4cac-ba7f-bc6f4f5b10b0",
   "metadata": {},
   "outputs": [
    {
     "name": "stdin",
     "output_type": "stream",
     "text": [
      "Enter your marks in Physics:  45\n",
      "Enter your marks in Chemistry:  80\n",
      "Enter your marks in Mathematics:  35\n"
     ]
    },
    {
     "name": "stdout",
     "output_type": "stream",
     "text": [
      "Passed 53.333333333333336\n"
     ]
    }
   ],
   "source": [
    "#Write a program to find out whether a student has passed or failed \n",
    "#if it requires atotal of 40% and at least 33% in each subject to pass. \n",
    "#Assume 3 subjects and take marks as an input from the user.\n",
    "P=int(input(\"Enter your marks in Physics: \"))\n",
    "C=int(input(\"Enter your marks in Chemistry: \"))\n",
    "M=int(input(\"Enter your marks in Mathematics: \"))\n",
    "if((P+C+M)/3>40 and P>33 and C>33 and M>33):\n",
    "      print(\"Passed\", (P+C+M)/3)\n",
    "else:\n",
    "      print(\"Failed\")"
   ]
  },
  {
   "cell_type": "markdown",
   "id": "04698d64-7c24-42e9-b2d5-78bbad931006",
   "metadata": {},
   "source": [
    "### Implementaion of in:"
   ]
  },
  {
   "cell_type": "code",
   "execution_count": 19,
   "id": "2b3b8a7d-e0cb-476b-94aa-3565658a0ab6",
   "metadata": {},
   "outputs": [
    {
     "name": "stdin",
     "output_type": "stream",
     "text": [
      "Enter your comment:  Here is the link, pls buy now\n"
     ]
    },
    {
     "name": "stdout",
     "output_type": "stream",
     "text": [
      "This is a spam\n"
     ]
    }
   ],
   "source": [
    "# A spam comment is defined as a text containing following keywords:\n",
    "# “Make a lot of money”, “buy now”, “subscribe this”, “click this”.\n",
    "# Write a program to detect these spams.\n",
    "p1=\"Make a lot of money\"\n",
    "p2=\"buy now\"\n",
    "p3=\"subscribe this\"\n",
    "p4=\"click this\"\n",
    "message=input(\"Enter your comment: \")\n",
    "if(p1 in message or p2 in message or p3 in message or p4 in message):\n",
    "    print(\"This is a spam\")\n",
    "else:\n",
    "    print(\"This is not a spam\")\n"
   ]
  },
  {
   "cell_type": "code",
   "execution_count": 24,
   "id": "5139530b-3d22-4579-a8ff-89b33d44735f",
   "metadata": {},
   "outputs": [
    {
     "name": "stdin",
     "output_type": "stream",
     "text": [
      "Enter your name:  Aarush\n"
     ]
    },
    {
     "name": "stdout",
     "output_type": "stream",
     "text": [
      "Your name is not present in the list\n"
     ]
    }
   ],
   "source": [
    "#Write a program which finds out whether \n",
    "#a given name is present in a list or not\n",
    "l=[\"Harry\",\"Rishabh\",\"Shubh\",\"Rohan\",\"Aryan\"]\n",
    "name=input(\"Enter your name: \")\n",
    "if(name in l):\n",
    "    print(\"Your name is in the list\")\n",
    "else:\n",
    "    print(\"Your name is not present in the list\")"
   ]
  },
  {
   "cell_type": "markdown",
   "id": "cc539ff3-f137-42b2-b0f1-b7dd2ad5abc5",
   "metadata": {},
   "source": [
    "## Loops"
   ]
  },
  {
   "cell_type": "markdown",
   "id": "2fbdbf14-701b-41d0-b353-dd9ddf2bace9",
   "metadata": {},
   "source": [
    "### While loop"
   ]
  },
  {
   "cell_type": "code",
   "execution_count": 26,
   "id": "735ccd7b-d8c0-4d7b-a35b-a701d44db774",
   "metadata": {},
   "outputs": [],
   "source": [
    "#Syntax:\n",
    "#while (condition): The block keeps executing until the condition is true\n",
    "#Body of the loop"
   ]
  },
  {
   "cell_type": "code",
   "execution_count": 28,
   "id": "d54eb009-2bdf-4ff1-bb12-e207a5e376fb",
   "metadata": {},
   "outputs": [
    {
     "name": "stdout",
     "output_type": "stream",
     "text": [
      "Harry\n",
      "Rishabh\n",
      "Shubham\n",
      "70\n",
      "56.25\n",
      "True\n",
      "Aryan\n"
     ]
    }
   ],
   "source": [
    "#Write a program to print the content of a list using while loops\n",
    "l=[\"Harry\",\"Rishabh\",\"Shubham\",70,56.25,True,\"Aryan\"]\n",
    "i=0\n",
    "while(i<len(l)):\n",
    "    print(l[i])\n",
    "    i=i+1"
   ]
  },
  {
   "cell_type": "markdown",
   "id": "af7a64b0-89fc-4a7a-b930-fbc7c6b1930a",
   "metadata": {},
   "source": [
    "### For loop\n",
    "It  is used to iterate through a sequence like list, tuple, or string (iterables)."
   ]
  },
  {
   "cell_type": "markdown",
   "id": "be1b7ff1-b210-44f7-95fc-73ff92c6adf2",
   "metadata": {},
   "source": [
    "Range function syntax:\n",
    "range(start, stop, step_size)"
   ]
  },
  {
   "cell_type": "code",
   "execution_count": 32,
   "id": "91680558-3957-4c37-bb67-f833bfebf5f0",
   "metadata": {},
   "outputs": [
    {
     "name": "stdout",
     "output_type": "stream",
     "text": [
      "0\n",
      "1\n",
      "2\n",
      "3\n"
     ]
    }
   ],
   "source": [
    "for i in range(4): #equivalent to (0,4)\n",
    "    print(i)"
   ]
  },
  {
   "cell_type": "markdown",
   "id": "39b7f4b9-e879-462e-bf1b-901d9a27bb18",
   "metadata": {},
   "source": [
    "Iteration examples"
   ]
  },
  {
   "cell_type": "code",
   "execution_count": 37,
   "id": "3ac45e36-8a84-4d44-8e00-3884e5ec71f0",
   "metadata": {},
   "outputs": [
    {
     "name": "stdout",
     "output_type": "stream",
     "text": [
      "1\n",
      "7\n",
      "81\n",
      "22\n",
      "54\n"
     ]
    }
   ],
   "source": [
    "l = [1,7,81,22,54]\n",
    "for i in l:\n",
    "    print(i)"
   ]
  },
  {
   "cell_type": "code",
   "execution_count": 38,
   "id": "788a5140-c4ff-4369-a010-cb4015244617",
   "metadata": {},
   "outputs": [],
   "source": [
    "#Similarly for tuple too"
   ]
  },
  {
   "cell_type": "code",
   "execution_count": 36,
   "id": "fd5d6ce6-bb11-481c-afda-28762e5a9c54",
   "metadata": {},
   "outputs": [
    {
     "name": "stdout",
     "output_type": "stream",
     "text": [
      "H\n",
      "a\n",
      "r\n",
      "r\n",
      "y\n"
     ]
    }
   ],
   "source": [
    "name=\"Harry\"\n",
    "for i in name:\n",
    "    print(i)"
   ]
  },
  {
   "cell_type": "markdown",
   "id": "128fcd82-2c05-4d84-8c72-f0f23003cfc0",
   "metadata": {},
   "source": [
    "### For loop with Else"
   ]
  },
  {
   "cell_type": "code",
   "execution_count": 39,
   "id": "8a73a558-88c9-4b17-8ba3-be5adeebd1c9",
   "metadata": {},
   "outputs": [
    {
     "name": "stdout",
     "output_type": "stream",
     "text": [
      "1\n",
      "7\n",
      "8\n",
      "done\n"
     ]
    }
   ],
   "source": [
    "l= [1,7,8]\n",
    "for item in l:\n",
    "    print(item)\n",
    "else:\n",
    "    print(\"done\")"
   ]
  },
  {
   "cell_type": "markdown",
   "id": "9df889d8-c9e4-4645-badc-00212f46e73c",
   "metadata": {},
   "source": [
    "### Break statement\n",
    "It is used to come out of the loop when encountered.\n",
    "It instructs the program to exit the loop now."
   ]
  },
  {
   "cell_type": "code",
   "execution_count": 48,
   "id": "b6e8242b-0ea8-4363-a891-345c587f2579",
   "metadata": {},
   "outputs": [
    {
     "name": "stdout",
     "output_type": "stream",
     "text": [
      "0\n",
      "1\n",
      "2\n",
      "3\n",
      "4\n",
      "5\n",
      "6\n",
      "7\n"
     ]
    }
   ],
   "source": [
    "for i in range (0,80):\n",
    "    if(i==8):\n",
    "        break\n",
    "    print(i)"
   ]
  },
  {
   "cell_type": "markdown",
   "id": "c30c6b5e-3c04-40bd-a65e-b00a638c1a48",
   "metadata": {},
   "source": [
    "### Continue statement\n",
    "It is used to stop the current iteration of the loop and continue with the next\n",
    "one. It instructs the Program to \"skip this iteration\"."
   ]
  },
  {
   "cell_type": "code",
   "execution_count": 62,
   "id": "b2c334d0-cec0-43d3-b2d3-a9f36a46e7af",
   "metadata": {},
   "outputs": [
    {
     "name": "stdout",
     "output_type": "stream",
     "text": [
      "0\n",
      "1\n",
      "3\n",
      "4\n",
      "5\n"
     ]
    }
   ],
   "source": [
    "for i in range(0,6):\n",
    "    if(i == 2): # if i is 2, the iteration is skipped\n",
    "        continue\n",
    "    print(i)"
   ]
  },
  {
   "cell_type": "markdown",
   "id": "6ad79a77-de94-4c8f-ad87-46a47fe06201",
   "metadata": {},
   "source": [
    "### Pass statement\n",
    "It is a null statement in python.\n",
    "It instructs to \"do nothing\"."
   ]
  },
  {
   "cell_type": "code",
   "execution_count": 63,
   "id": "86b41c86-f539-4b9d-bb1b-882bfd6b7bf9",
   "metadata": {},
   "outputs": [],
   "source": [
    "l = [1,7,8]\n",
    "for item in l:\n",
    "    pass # without pass, the program will throw an error"
   ]
  },
  {
   "cell_type": "markdown",
   "id": "f8e20b1e-d8f2-49d3-ad7e-f149ce58e933",
   "metadata": {},
   "source": [
    "Some exercises:"
   ]
  },
  {
   "cell_type": "code",
   "execution_count": 9,
   "id": "ffe66c13-ba0e-4f5e-b3ff-f48dcc085df8",
   "metadata": {},
   "outputs": [
    {
     "name": "stdin",
     "output_type": "stream",
     "text": [
      "Enter your number:  17\n"
     ]
    },
    {
     "name": "stdout",
     "output_type": "stream",
     "text": [
      "17x1=17\n",
      "17x2=34\n",
      "17x3=51\n",
      "17x4=68\n",
      "17x5=85\n",
      "17x6=102\n",
      "17x7=119\n",
      "17x8=136\n",
      "17x9=153\n",
      "17x10=170\n"
     ]
    }
   ],
   "source": [
    "#Write a program to print multiplication table of a given number using for loop\n",
    "n=int(input(\"Enter your number: \"))\n",
    "for i in range(1,11):\n",
    "    print(f\"{n}x{i}={n*i}\")\n",
    "    #print(n,\"x\",i,\"=\",(n*i)) Do this if u forget f strings"
   ]
  },
  {
   "cell_type": "code",
   "execution_count": 11,
   "id": "1e60b2b2-e162-40ec-9458-4cb9e79991b9",
   "metadata": {},
   "outputs": [
    {
     "name": "stdout",
     "output_type": "stream",
     "text": [
      "Hello Soham\n",
      "Hello Sachin\n"
     ]
    }
   ],
   "source": [
    "# Write a program to greet all the person names stored in a list ‘l’ and \n",
    "# which starts with S. l = [\"Harry\", \"Soham\", \"Sachin\", \"Rahul\"]\n",
    "l = [\"Harry\", \"Soham\", \"Sachin\", \"Rahul\"]\n",
    "for name in l:\n",
    "    if name.startswith(\"S\"):\n",
    "        print(f\"Hello {name}\")"
   ]
  },
  {
   "cell_type": "code",
   "execution_count": 1,
   "id": "b51e1ced-5055-4c19-b5db-8af2579c6a27",
   "metadata": {},
   "outputs": [
    {
     "name": "stdin",
     "output_type": "stream",
     "text": [
      "Enter your number:  57\n"
     ]
    },
    {
     "name": "stdout",
     "output_type": "stream",
     "text": [
      "Number is not prime\n"
     ]
    }
   ],
   "source": [
    "#Write a program to find whether a given number is prime or not\n",
    "n=int(input(\"Enter your number: \"))\n",
    "for i in range(2,n):\n",
    "    if(n%i==0):\n",
    "        print(\"Number is not prime\")\n",
    "        break\n",
    "else:\n",
    "    print(\"Number is prime\")"
   ]
  },
  {
   "cell_type": "code",
   "execution_count": 2,
   "id": "be59084f-88bb-4a9e-96fe-1da1e4f6dc69",
   "metadata": {},
   "outputs": [
    {
     "name": "stdin",
     "output_type": "stream",
     "text": [
      "Enter your number:  10\n"
     ]
    },
    {
     "name": "stdout",
     "output_type": "stream",
     "text": [
      "55\n"
     ]
    }
   ],
   "source": [
    "#Sum of natural numbers using while loops\n",
    "n=int(input(\"Enter your number: \"))\n",
    "sum=0\n",
    "i=1\n",
    "while(i<=n):\n",
    "    sum=sum+i\n",
    "    i=i+1\n",
    "    \n",
    "print(sum)"
   ]
  },
  {
   "cell_type": "code",
   "execution_count": 3,
   "id": "7ee88a15-7d25-4ecf-b019-97c2d8fbe26a",
   "metadata": {},
   "outputs": [
    {
     "name": "stdin",
     "output_type": "stream",
     "text": [
      "Enter your number:  4\n"
     ]
    },
    {
     "name": "stdout",
     "output_type": "stream",
     "text": [
      "24\n"
     ]
    }
   ],
   "source": [
    "#Write a program to calculate the factorial of a given number using for loop.\n",
    "n=int(input(\"Enter your number: \"))\n",
    "pdt=1\n",
    "for i in range(1,n+1):\n",
    "    pdt=pdt*i\n",
    "\n",
    "print(pdt)"
   ]
  },
  {
   "cell_type": "code",
   "execution_count": 14,
   "id": "e7f7e23b-fb67-4fd2-96c7-0b86626b7181",
   "metadata": {},
   "outputs": [
    {
     "name": "stdin",
     "output_type": "stream",
     "text": [
      "Enter your number:  3\n"
     ]
    },
    {
     "name": "stdout",
     "output_type": "stream",
     "text": [
      "  *\n",
      " ***\n",
      "*****\n"
     ]
    }
   ],
   "source": [
    "#Write a program to print the following star pattern.\n",
    " # *\n",
    "# ***\n",
    "# ***** for n = 3\n",
    "n=int(input(\"Enter your number: \"))\n",
    "for i in range(1,n+1):\n",
    "    print(\" \"*(n-i), end=\"\" )\n",
    "    print(\"*\"*(2*i-1), end=\"\") \n",
    "    print(\"\")"
   ]
  },
  {
   "cell_type": "code",
   "execution_count": 20,
   "id": "8bd3360d-57bc-40e4-8579-f40126e3431e",
   "metadata": {},
   "outputs": [
    {
     "name": "stdin",
     "output_type": "stream",
     "text": [
      "Enter your number:  3\n"
     ]
    },
    {
     "name": "stdout",
     "output_type": "stream",
     "text": [
      "***\n",
      "* *\n",
      "***\n"
     ]
    }
   ],
   "source": [
    "# Write a program to print the following star pattern.\n",
    "# * * *\n",
    "# *   * for n = 3\n",
    "# * * *\n",
    "n=int(input(\"Enter your number: \"))\n",
    "for i in range(1,n+1):\n",
    "    if (i==1 or i==n):\n",
    "        print(\"*\"*n, end=\"\" )\n",
    "    else:\n",
    "        print(\"*\", end=\"\")\n",
    "        print(\" \"*(n-2), end=\"\")\n",
    "        print(\"*\", end=\"\")\n",
    "    print(\"\")"
   ]
  },
  {
   "cell_type": "markdown",
   "id": "2517643b-ceb2-4aa2-916a-9e2e926ee937",
   "metadata": {},
   "source": [
    "## Functions & Recursions\n",
    "A function is a group of statements performing a specific task."
   ]
  },
  {
   "cell_type": "markdown",
   "id": "08d7f574-bbca-4529-acf0-820ac4dfe3c8",
   "metadata": {},
   "source": [
    "### Functions"
   ]
  },
  {
   "cell_type": "code",
   "execution_count": 24,
   "id": "2a15408b-74e3-43ac-8360-0bfe3fcd3320",
   "metadata": {},
   "outputs": [
    {
     "name": "stdin",
     "output_type": "stream",
     "text": [
      "Enter your number:  5\n",
      "Enter your number:  12\n",
      "Enter your number:  3\n"
     ]
    },
    {
     "name": "stdout",
     "output_type": "stream",
     "text": [
      "6.666666666666667\n"
     ]
    }
   ],
   "source": [
    "#Example & Syntax\n",
    "#Function definition\n",
    "def avg():\n",
    "    a=int(input(\"Enter your number: \"))\n",
    "    b=int(input(\"Enter your number: \"))\n",
    "    c=int(input(\"Enter your number: \"))\n",
    "    average=(a+b+c)/3\n",
    "    print(average)\n",
    "\n",
    "avg() #Function is called here"
   ]
  },
  {
   "cell_type": "code",
   "execution_count": 27,
   "id": "23cc4154-9eee-43fb-8cc4-d80a992c2a2e",
   "metadata": {},
   "outputs": [
    {
     "name": "stdout",
     "output_type": "stream",
     "text": [
      "Good Day, Rishabh\n",
      "Bye bye\n"
     ]
    }
   ],
   "source": [
    "#Functions with arguments\n",
    "def goodDay(name, end): #Here, name & end are arguments passed in the function\n",
    "    print(\"Good Day, \" + name)\n",
    "    print(end)\n",
    "\n",
    "goodDay(\"Rishabh\", \"Bye bye\") #Function called\n"
   ]
  },
  {
   "cell_type": "code",
   "execution_count": 30,
   "id": "acaf3536-005c-4c71-b3da-e74995c58020",
   "metadata": {},
   "outputs": [
    {
     "name": "stdout",
     "output_type": "stream",
     "text": [
      "hello harry\n"
     ]
    }
   ],
   "source": [
    "def greet(name):\n",
    "    gr = \"hello \"+ name\n",
    "    return gr #The return value is assigned to the variable a\n",
    "a = greet (\"harry\")\n",
    "print(a)\n",
    "# a will now contain \"hello harry\""
   ]
  },
  {
   "cell_type": "code",
   "execution_count": 3,
   "id": "85956e7c-de47-484c-bb5a-eb531725e9c1",
   "metadata": {},
   "outputs": [
    {
     "name": "stdout",
     "output_type": "stream",
     "text": [
      "Good Day, Rishabh\n",
      "See u soon\n"
     ]
    }
   ],
   "source": [
    "#Deafault Parameters\n",
    "def goodDay(name, end=\"See u soon\"): #Here, name & end are arguments passed in the function\n",
    "    print(\"Good Day, \" + name)\n",
    "    print(end)\n",
    "\n",
    "goodDay(\"Rishabh\") #Function just takes value of default parameter if not other specified"
   ]
  },
  {
   "cell_type": "markdown",
   "id": "a5b065a2-0248-4c7d-a135-12fb4c98589a",
   "metadata": {},
   "source": [
    "### Recursions\n",
    "Recursion is a function which calls itself.\n",
    "It is used to directly use a mathematical formula as function"
   ]
  },
  {
   "cell_type": "code",
   "execution_count": 6,
   "id": "13b6b218-1c14-44e5-9161-c9959c5b8ab0",
   "metadata": {},
   "outputs": [
    {
     "name": "stdin",
     "output_type": "stream",
     "text": [
      "Enter your number:  5\n"
     ]
    },
    {
     "name": "stdout",
     "output_type": "stream",
     "text": [
      "The factorial of this number is: 120\n"
     ]
    }
   ],
   "source": [
    "#Factorial example:\n",
    "def factorial(n):\n",
    "    if(n==0 or n==1):\n",
    "        return 1\n",
    "    else:\n",
    "        return n*factorial(n-1)\n",
    "\n",
    "n=int(input(\"Enter your number: \"))\n",
    "print(f\"The factorial of this number is: {factorial(n)}\")"
   ]
  },
  {
   "cell_type": "markdown",
   "id": "11992485-0f71-4c40-aca7-f28c5d432a8d",
   "metadata": {},
   "source": [
    "Some exercises:"
   ]
  },
  {
   "cell_type": "code",
   "execution_count": 8,
   "id": "a9aa5d19-c4b2-4e76-9cd8-6656ccbd1598",
   "metadata": {},
   "outputs": [
    {
     "name": "stdout",
     "output_type": "stream",
     "text": [
      "a\n",
      "b\n",
      "cd"
     ]
    }
   ],
   "source": [
    "#How do you prevent a python print() function to print a new line at the end.\n",
    "print(\"a\")\n",
    "print(\"b\")\n",
    "print(\"c\", end=\"\")\n",
    "print(\"d\", end=\"\")\n",
    "#end=\"\" is used inside the print function"
   ]
  },
  {
   "cell_type": "code",
   "execution_count": 12,
   "id": "484c2914-9427-44ad-9db9-facafb88cffb",
   "metadata": {},
   "outputs": [
    {
     "name": "stdout",
     "output_type": "stream",
     "text": [
      "***\n",
      "**\n",
      "*\n"
     ]
    }
   ],
   "source": [
    "# Write a python function to print first n lines of the following pattern:\n",
    "# ***\n",
    "# ** - for n = 3\n",
    "# *\n",
    "def pattern(n):\n",
    "    if(n==0):\n",
    "        return\n",
    "    print(\"*\"*n)\n",
    "    pattern(n-1)\n",
    "\n",
    "pattern(3)"
   ]
  },
  {
   "cell_type": "code",
   "execution_count": 17,
   "id": "22581f58-fddc-44b9-8179-0bde3dfea62c",
   "metadata": {},
   "outputs": [
    {
     "name": "stdin",
     "output_type": "stream",
     "text": [
      "Enter measurement in inches:  5\n"
     ]
    },
    {
     "name": "stdout",
     "output_type": "stream",
     "text": [
      "The corresponding measurement in cms is: 12.7\n"
     ]
    }
   ],
   "source": [
    "# Write a python function which converts inches to cms\n",
    "def i2c(i):\n",
    "    c=i*2.54\n",
    "    return c\n",
    "\n",
    "I=int(input(\"Enter measurement in inches: \"))\n",
    "print(f\"The corresponding measurement in cms is: {i2c(I)}\")"
   ]
  },
  {
   "cell_type": "code",
   "execution_count": 4,
   "id": "9e245c99-84f9-4713-bec6-3c1f4404f06c",
   "metadata": {},
   "outputs": [
    {
     "name": "stdout",
     "output_type": "stream",
     "text": [
      "['Harry', 'Roh', 'Rosh', 'Shabanam', 'Rishabh']\n"
     ]
    }
   ],
   "source": [
    "# Write a python function to remove a given word from a list \n",
    "# and strip it at the same time.\n",
    "def rem(l, word):\n",
    "    n=[]\n",
    "    for item in l:\n",
    "        if not(item==word):\n",
    "            n.append(item.strip(word))\n",
    "    return n\n",
    "\n",
    "l=[\"Harry\", \"Rohan\", \"Roshan\", \"Shabanam\", \"Rishabh\"]\n",
    "print(rem(l, \"an\"))"
   ]
  },
  {
   "cell_type": "markdown",
   "id": "de0e66d5-a115-46f5-a72f-8a120c431cd4",
   "metadata": {},
   "source": [
    "### Rock, Paper, Scissors Game in VS Code"
   ]
  },
  {
   "cell_type": "markdown",
   "id": "a1b95f72-bedf-4c97-8542-921a82ed36fd",
   "metadata": {},
   "source": [
    "## File I/O\n",
    "The random-access memory is volatile, and all its contents are lost once a program\n",
    "terminates. In order to persist the data forever, we use files.\n",
    "A file is data stored in a storage device. A python program can talk to the file by reading\n",
    "content from it and writing content to it."
   ]
  },
  {
   "cell_type": "markdown",
   "id": "b715ca9c-651d-4e66-b54c-7bc07efec402",
   "metadata": {},
   "source": [
    "### Types of files:\n",
    "1. Text files (.txt, .c, etc)\n",
    "2. Binary files (.jpg, .dat, etc)"
   ]
  },
  {
   "cell_type": "code",
   "execution_count": 21,
   "id": "6e661a12-84d1-4561-b41f-fc96677698a8",
   "metadata": {},
   "outputs": [
    {
     "name": "stdout",
     "output_type": "stream",
     "text": [
      "My name is Rishabh\n",
      "This is second line\n",
      "The text goes on\n",
      "And here it marks the end of it\n"
     ]
    }
   ],
   "source": [
    "f=open(\"file.txt\") #read is taken as default mode for open\n",
    "data=f.read()\n",
    "print(data)\n",
    "f.close()"
   ]
  },
  {
   "cell_type": "code",
   "execution_count": 6,
   "id": "0377864f-3364-4d08-a44c-1d6d691d2059",
   "metadata": {},
   "outputs": [],
   "source": [
    "st=\"Hey Harry, u are amazing\"\n",
    "f=open(\"myfile.txt\", \"w\")\n",
    "f.write(st)\n",
    "f.close()\n",
    "#File is created in the Jupyter waala folder on desktop"
   ]
  },
  {
   "cell_type": "code",
   "execution_count": 12,
   "id": "37449227-e94b-485c-b47b-023fe2e92e22",
   "metadata": {},
   "outputs": [
    {
     "name": "stdout",
     "output_type": "stream",
     "text": [
      "['My name is Rishabh\\n', 'This is second line\\n', 'The text goes on\\n', 'And here it marks the end of it'] <class 'list'>\n"
     ]
    }
   ],
   "source": [
    "f=open(\"file.txt\")\n",
    "lines=f.readlines()\n",
    "print(lines, type(lines))"
   ]
  },
  {
   "cell_type": "code",
   "execution_count": 20,
   "id": "1d22a497-1ec7-4c4a-a6ad-4226e4d3dbea",
   "metadata": {},
   "outputs": [
    {
     "name": "stdout",
     "output_type": "stream",
     "text": [
      "My name is Rishabh\n",
      " <class 'str'>\n",
      "This is second line\n",
      " <class 'str'>\n",
      "The text goes on\n",
      " <class 'str'>\n",
      "And here it marks the end of it <class 'str'>\n",
      "True\n"
     ]
    }
   ],
   "source": [
    "f=open(\"file.txt\")\n",
    "\n",
    "line1=f.readline()\n",
    "print(line1, type(line1))\n",
    "\n",
    "line2=f.readline()\n",
    "print(line2, type(line2))\n",
    "\n",
    "line3=f.readline()\n",
    "print(line3, type(line3))\n",
    "\n",
    "line4=f.readline()\n",
    "print(line4, type(line4))\n",
    "\n",
    "line5=f.readline()\n",
    "print(line5==\"\") #There's nothing in line5"
   ]
  },
  {
   "cell_type": "code",
   "execution_count": 19,
   "id": "3f1887e9-1d9b-4062-9263-12e628a8d702",
   "metadata": {},
   "outputs": [
    {
     "name": "stdout",
     "output_type": "stream",
     "text": [
      "My name is Rishabh\n",
      "\n",
      "This is second line\n",
      "\n",
      "The text goes on\n",
      "\n",
      "And here it marks the end of it\n"
     ]
    }
   ],
   "source": [
    "f=open(\"file.txt\")\n",
    "line=f.readline()\n",
    "while(line!=\"\"):\n",
    "    print(line)\n",
    "    line=f.readline()\n",
    "\n",
    "f.close()"
   ]
  },
  {
   "cell_type": "markdown",
   "id": "480bdc4b-751d-477e-8f68-dafda5036126",
   "metadata": {},
   "source": [
    "### Modes of opening a file\n",
    "r – open for reading\n",
    "\n",
    "w - open for writing\n",
    "\n",
    "a - open for appending\n",
    "\n",
    "\"+\" - open for updating.\n",
    "\n",
    "rb - will open for read in binary mode.\n",
    "\n",
    "rt - will open for read in text mode."
   ]
  },
  {
   "cell_type": "markdown",
   "id": "d142a341-0282-481c-a842-1b6b5ef30f95",
   "metadata": {},
   "source": [
    "### With Statement"
   ]
  },
  {
   "cell_type": "code",
   "execution_count": 24,
   "id": "a1506fef-b455-4076-8254-bf3de122c8ad",
   "metadata": {},
   "outputs": [
    {
     "name": "stdout",
     "output_type": "stream",
     "text": [
      "My name is Rishabh\n",
      "This is second line\n",
      "The text goes on\n",
      "And here it marks the end of it\n"
     ]
    }
   ],
   "source": [
    "with open(\"file.txt\", \"r\") as f:\n",
    "    text = f.read()\n",
    "print(text)\n",
    "#No need to close the file explicitly"
   ]
  },
  {
   "cell_type": "markdown",
   "id": "59664d69-57f4-4e6d-a48e-ea7b01adc75d",
   "metadata": {},
   "source": [
    "Some Exercises:"
   ]
  },
  {
   "cell_type": "code",
   "execution_count": 28,
   "id": "370566d1-ea4a-4c67-93b0-6e528e2fbe0c",
   "metadata": {},
   "outputs": [
    {
     "name": "stdout",
     "output_type": "stream",
     "text": [
      "You are playing the game..\n",
      "Your score: 50\n"
     ]
    },
    {
     "data": {
      "text/plain": [
       "50"
      ]
     },
     "execution_count": 28,
     "metadata": {},
     "output_type": "execute_result"
    }
   ],
   "source": [
    "# The game() function in a program lets a user play a game and returns the score\n",
    "# as an integer. You need to read a file ‘Hi-score.txt’ which is either blank or\n",
    "# contains the previous Hi-score. You need to write a program to update \n",
    "# the Hiscore whenever the game() function breaks the Hi-score.\n",
    "import random\n",
    "\n",
    "def game(): \n",
    "    print(\"You are playing the game..\")\n",
    "    score = random.randint(1, 62)\n",
    "    # Fetch the hiscore\n",
    "    with open(\"hiscore.txt\") as f:\n",
    "        hiscore = f.read()\n",
    "        if(hiscore!=\"\"):\n",
    "            hiscore = int(hiscore)\n",
    "        else:\n",
    "            hiscore = 0\n",
    "\n",
    "    print(f\"Your score: {score}\")\n",
    "    if(score>hiscore):\n",
    "        # write this hiscore to the file\n",
    "        with open(\"hiscore.txt\", \"w\") as f:\n",
    "            f.write(str(score))\n",
    "\n",
    "    return score\n",
    "\n",
    "game()"
   ]
  },
  {
   "cell_type": "code",
   "execution_count": 30,
   "id": "31a12d27-cbf6-4821-b4ba-810b57fcb9c4",
   "metadata": {},
   "outputs": [],
   "source": [
    "def generateTable(n):\n",
    "    table = \"\"\n",
    "    for i in range(1, 11):\n",
    "        table += f\"{n} X {i} = {n*i}\\n\"\n",
    "    \n",
    "    with open(f\"tables/table_{n}.txt\", \"w\") as f:\n",
    "        f.write(table)\n",
    "        \n",
    "for i in range(2, 21):\n",
    "    generateTable(i)"
   ]
  },
  {
   "cell_type": "code",
   "execution_count": 34,
   "id": "17b3da55-5b64-4d90-a2e7-a6634b4c7d85",
   "metadata": {},
   "outputs": [],
   "source": [
    "# A file contains a word “Donkey” multiple times. You need to write a program\n",
    "# which replace this word with ##### by updating the same file. \n",
    "word = \"donkey\"\n",
    "\n",
    "with open(\"donkey.txt\", \"r\") as f:\n",
    "    content = f.read()\n",
    "\n",
    "contentNew = content.replace(word, \"######\")\n",
    "\n",
    "with open(\"donkey.txt\", \"w\") as f:\n",
    "    f.write(contentNew)"
   ]
  },
  {
   "cell_type": "markdown",
   "id": "8bbf69b7-c7d9-4a01-991c-e60da0763808",
   "metadata": {},
   "source": [
    "## OOPS (I)\n",
    "Solving a problem by creating object is one of the most popular approaches in\n",
    "programming. This is called object-oriented programming.\n",
    "This concept focuses on using reusable code (DRY Principle)."
   ]
  },
  {
   "cell_type": "markdown",
   "id": "e584c594-82e8-477b-b6fd-d1f04de5f730",
   "metadata": {},
   "source": [
    "### Class\n",
    "It is a blueprint for creating an object.\n",
    "### Object\n",
    "It is an instantiation of a class. When class is defined, a template (info) is\n",
    "defined. Memory is allocated only after object instantiation."
   ]
  },
  {
   "cell_type": "code",
   "execution_count": 7,
   "id": "962362b6-e6b2-45c5-b3e4-ffc6b5d92e6b",
   "metadata": {},
   "outputs": [
    {
     "name": "stdout",
     "output_type": "stream",
     "text": [
      "Python 1200000\n"
     ]
    }
   ],
   "source": [
    "class Employee:\n",
    "    language=\"Python\" # This is a class attribute\n",
    "    salary=1200000\n",
    "\n",
    "harry=Employee()\n",
    "harry.name=\"Harry\" # This is an instance (object) attribute\n",
    "print(harry.language, harry.salary)"
   ]
  },
  {
   "cell_type": "markdown",
   "id": "3fc69cbe-98ec-4a54-b9c1-d008cc9afc59",
   "metadata": {},
   "source": [
    "NOTE: Instance attributes, take preference over class attributes \n",
    "during assignment & retrieval.\n",
    "When looking up for harry.attribute it checks for the following:\n",
    "1) Is attribute present in object?\n",
    "2) Is attribute present in class?"
   ]
  },
  {
   "cell_type": "code",
   "execution_count": 9,
   "id": "42538967-2f59-46c3-9555-c16e50480d25",
   "metadata": {},
   "outputs": [
    {
     "name": "stdout",
     "output_type": "stream",
     "text": [
      "JavaScript 1200000\n"
     ]
    }
   ],
   "source": [
    "class Employee:\n",
    "    language=\"Python\" \n",
    "    salary=1200000\n",
    "\n",
    "harry=Employee()\n",
    "harry.language=\"JavaScript\"\n",
    "harry.name=\"Harry\" \n",
    "print(harry.language, harry.salary)\n"
   ]
  },
  {
   "cell_type": "markdown",
   "id": "081373b1-90db-43a6-ae48-c06adce5ed12",
   "metadata": {},
   "source": [
    "### Self Parameter"
   ]
  },
  {
   "cell_type": "markdown",
   "id": "3a1c333f-c518-4dd2-914f-c0b85f82bdea",
   "metadata": {},
   "source": [
    "Self refers to the instance of the class. It is automatically passed with a function call from an object. Therefore, it always needs be mentioned."
   ]
  },
  {
   "cell_type": "code",
   "execution_count": 15,
   "id": "b38458e5-6266-4295-95a9-66929f8f380e",
   "metadata": {},
   "outputs": [
    {
     "name": "stdout",
     "output_type": "stream",
     "text": [
      "The language is Python. The salary is 1200000.\n",
      "Good Morning\n"
     ]
    }
   ],
   "source": [
    "class Employee:\n",
    "    language=\"Python\" \n",
    "    salary=1200000\n",
    "\n",
    "    def getInfo(self):\n",
    "        print(f\"The language is {self.language}. The salary is {self.salary}.\")\n",
    "\n",
    "    def greet(self):\n",
    "        print(\"Good Morning\")\n",
    "\n",
    "harry=Employee()\n",
    "harry.getInfo() # This is equivalent to Employee.getInfo(harry)\n",
    "harry.greet()"
   ]
  },
  {
   "cell_type": "markdown",
   "id": "5fd68faa-08b7-43a6-81b0-a39a23c2fdbd",
   "metadata": {},
   "source": [
    "### Static Method\n",
    "Sometimes we need a function that does not use the self-parameter. We can define a static method like this:"
   ]
  },
  {
   "cell_type": "code",
   "execution_count": 17,
   "id": "a9ad1971-add9-4f1e-b4d3-7adfdf9d4a2b",
   "metadata": {},
   "outputs": [
    {
     "name": "stdout",
     "output_type": "stream",
     "text": [
      "Good Morning\n"
     ]
    }
   ],
   "source": [
    "class Employee:\n",
    "    language=\"Python\" \n",
    "    salary=1200000\n",
    "\n",
    "    @staticmethod\n",
    "    def greet():\n",
    "        print(\"Good Morning\")\n",
    "\n",
    "harry=Employee()\n",
    "harry.greet()"
   ]
  },
  {
   "cell_type": "markdown",
   "id": "2c2e1580-7e2a-4c19-8097-37be986acb9c",
   "metadata": {},
   "source": [
    "### Constructor\n",
    "__init__() is a special method which is first run as soon as the object is created. It takes ‘self’ argument and can also take further arguments."
   ]
  },
  {
   "cell_type": "code",
   "execution_count": 43,
   "id": "313440b2-606a-4cf3-9172-903a8c300418",
   "metadata": {},
   "outputs": [
    {
     "name": "stdout",
     "output_type": "stream",
     "text": [
      "I am creating an object.\n"
     ]
    }
   ],
   "source": [
    "class Employee:\n",
    "    language=\"Python\" \n",
    "    salary=2000000\n",
    "\n",
    "    def __init__(self): #dunder method which is automatically called.\n",
    "        print(\"I am creating an object.\")\n",
    "\n",
    "harry=Employee() #Constructor gets invoked merely by object creation alone."
   ]
  },
  {
   "cell_type": "code",
   "execution_count": 30,
   "id": "40d22ac7-ba63-47b5-9b09-b1d1d0743b0a",
   "metadata": {},
   "outputs": [
    {
     "name": "stdout",
     "output_type": "stream",
     "text": [
      "I am creating an object.\n",
      "Harry 1300000 JavaScript\n"
     ]
    }
   ],
   "source": [
    "class Employee:\n",
    "    language=\"Python\" \n",
    "    salary=1200000\n",
    "\n",
    "    def __init__(self, name, salary, language):\n",
    "        self.name=name\n",
    "        self.salary=salary\n",
    "        self.language=language\n",
    "        print(\"I am creating an object.\")\n",
    "\n",
    "harry=Employee(\"Harry\",1300000,\"JavaScript\")\n",
    "print(harry.name, harry.salary, harry.language)"
   ]
  },
  {
   "cell_type": "markdown",
   "id": "afc923d0-f415-4286-8894-363dab731328",
   "metadata": {},
   "source": [
    "Some Exercises:"
   ]
  },
  {
   "cell_type": "code",
   "execution_count": 33,
   "id": "309db79f-7bc3-42bb-bc44-c11e1780b8a2",
   "metadata": {},
   "outputs": [
    {
     "name": "stdout",
     "output_type": "stream",
     "text": [
      "Hello there!\n",
      "The square is 16\n",
      "The cube is 64\n",
      "The squareroot is 2.0\n"
     ]
    }
   ],
   "source": [
    "# Write a class “Calculator” capable of finding square, \n",
    "# cube and square root of a number. Also add a static method to greet the user.\n",
    "class Calculator:\n",
    "    def __init__(self, n):\n",
    "        self.n = n \n",
    "    \n",
    "    @staticmethod\n",
    "    def hello():\n",
    "        print(\"Hello there!\")\n",
    "    \n",
    "    def square(self):\n",
    "        print(f\"The square is {self.n*self.n}\")\n",
    "\n",
    "    def cube(self):\n",
    "        print(f\"The cube is {self.n*self.n*self.n}\")\n",
    "\n",
    "    def squareroot(self):\n",
    "        print(f\"The squareroot is {self.n**1/2}\")\n",
    "\n",
    "a = Calculator(4)\n",
    "a.hello()\n",
    "a.square()\n",
    "a.cube()\n",
    "a.squareroot()"
   ]
  },
  {
   "cell_type": "code",
   "execution_count": 34,
   "id": "6304c79f-71ef-4ba4-8618-546887549856",
   "metadata": {},
   "outputs": [
    {
     "name": "stdout",
     "output_type": "stream",
     "text": [
      "Ticket is booked in train no: 12399 from Rampur to Delhi\n",
      "Train no: 12399 is running on time\n",
      "Ticket fare in train no: 12399 from Rampur to Delhi is 4057\n"
     ]
    }
   ],
   "source": [
    "# Write a Class ‘Train’ which has methods to book a ticket, \n",
    "# get status (no of seats) & get fare information of train.\n",
    "from random import randint\n",
    "\n",
    "class Train:\n",
    "\n",
    "    def __init__(self, trainNo):\n",
    "        self.trainNo = trainNo\n",
    "\n",
    "    def book(self, fro, to):\n",
    "        print(f\"Ticket is booked in train no: {self.trainNo} from {fro} to {to}\") \n",
    "\n",
    "    def getStatus(self):\n",
    "        print(f\"Train no: {self.trainNo} is running on time\") \n",
    "\n",
    "    def getFare(self, fro, to):\n",
    "        print(f\"Ticket fare in train no: {self.trainNo} from {fro} to {to} is {randint(222, 5555)}\")  \n",
    "\n",
    "\n",
    "t = Train(12399)\n",
    "t.book(\"Rampur\", \"Delhi\")\n",
    "t.getStatus()\n",
    "t.getFare(\"Rampur\", \"Delhi\")"
   ]
  },
  {
   "cell_type": "markdown",
   "id": "8f339ca3-e1f5-4c6f-89c6-d1a7dd84fd20",
   "metadata": {},
   "source": [
    "## Inheritance & More on OOPS\n",
    "It is a way of creating a class from an existing class.\n",
    "We can use the method and attributes of base class in derived object.\n",
    "Also, we can overwrite or add new attributes and methods in derived class."
   ]
  },
  {
   "cell_type": "code",
   "execution_count": 49,
   "id": "c53900f2-f604-43b5-a6f6-cc3233041dab",
   "metadata": {},
   "outputs": [
    {
     "name": "stdout",
     "output_type": "stream",
     "text": [
      "The name of programmer is Rishabh and he is good with Python language\n",
      "ITC ITC Infotech\n"
     ]
    }
   ],
   "source": [
    "# Example of single Inheritance:\n",
    "class Employee:\n",
    "    company = \"ITC\"\n",
    "    def show(self):\n",
    "        print(f\"The name of the Employee is {self.name} and the salary is {self.salary}\")\n",
    "\n",
    "\n",
    "class Programmer(Employee):\n",
    "    company = \"ITC Infotech\"\n",
    "    def showLanguage(self):\n",
    "        print(f\"The name of programmer is {self.name} and he is good with {self.language} language\")\n",
    "\n",
    "a = Employee()\n",
    "\n",
    "b = Programmer()\n",
    "b.name=\"Rishabh\"\n",
    "b.salary=2000000\n",
    "b.language=\"Python\"\n",
    "\n",
    "b.showLanguage()\n",
    "\n",
    "print(a.company, b.company)"
   ]
  },
  {
   "cell_type": "markdown",
   "id": "5cde77e4-6347-4573-aa2b-9a79a319d33e",
   "metadata": {},
   "source": [
    "### Types of Inheritance\n",
    "1. Single inheritance\n",
    "2. Multiple inheritance\n",
    "3. Multilevel inheritance"
   ]
  },
  {
   "cell_type": "code",
   "execution_count": 47,
   "id": "5c01f739-148f-4721-8b43-a7dd88395092",
   "metadata": {},
   "outputs": [
    {
     "name": "stdout",
     "output_type": "stream",
     "text": [
      "The name of the Employee is Default name and the company is ITC Infotech\n",
      "Out of all the languages here is your language: Python\n",
      "The name is ITC Infotech and he is good with Python language\n"
     ]
    }
   ],
   "source": [
    "#Example for Multiple inheritance:\n",
    "class Employee:\n",
    "    company = \"ITC\"\n",
    "    name = \"Default name\"\n",
    "    def show(self):\n",
    "        print(f\"The name of the Employee is {self.name} and the company is {self.company}\")\n",
    "\n",
    "class Coder:\n",
    "    language = \"Python\"\n",
    "    def printLanguages(self):\n",
    "        print(f\"Out of all the languages here is your language: {self.language}\")\n",
    "     \n",
    "class Programmer(Employee, Coder):\n",
    "    company = \"ITC Infotech\"\n",
    "    def showLanguage(self):\n",
    "        print(f\"The name is {self.company} and he is good with {self.language} language\")\n",
    "\n",
    "b = Programmer()\n",
    "\n",
    "b.show()\n",
    "b.printLanguages()\n",
    "b.showLanguage()"
   ]
  },
  {
   "cell_type": "code",
   "execution_count": 48,
   "id": "4de9c2f5-f3d2-4f07-ac6d-c15c006857b4",
   "metadata": {},
   "outputs": [
    {
     "name": "stdout",
     "output_type": "stream",
     "text": [
      "1\n",
      "1 2\n",
      "1 2 3\n"
     ]
    }
   ],
   "source": [
    "# Example for Multilevel inheritance\n",
    "class Employee:\n",
    "    a = 1 \n",
    "\n",
    "class Programmer(Employee):\n",
    "    b = 2 \n",
    "\n",
    "class Manager(Programmer):\n",
    "    c = 3\n",
    "\n",
    "o = Employee()\n",
    "print(o.a) # Prints the a attribute\n",
    "# print(o.b) # Shows an error as there is no b attribute in Employee class\n",
    "\n",
    "o = Programmer()\n",
    "print(o.a, o.b)\n",
    "\n",
    "\n",
    "o = Manager()\n",
    "print(o.a, o.b, o.c)"
   ]
  },
  {
   "cell_type": "markdown",
   "id": "dc139439-457d-462e-9da9-5f83da15ef4b",
   "metadata": {},
   "source": [
    "### Super() Method\n",
    "This method is used to access the methods of a super class in the derived class."
   ]
  },
  {
   "cell_type": "code",
   "execution_count": 50,
   "id": "83779c47-0b9d-423e-b243-d4ade7ec315b",
   "metadata": {},
   "outputs": [
    {
     "name": "stdout",
     "output_type": "stream",
     "text": [
      "Constructor of Programmer\n",
      "Constructor of Manager\n",
      "1 2 3\n"
     ]
    }
   ],
   "source": [
    "class Employee:\n",
    "    def __init__(self):\n",
    "        print(\"Constructor of Employee\")\n",
    "    a = 1 \n",
    "\n",
    "class Programmer(Employee):\n",
    "    def __init__(self):\n",
    "        print(\"Constructor of Programmer\")\n",
    "    b = 2 \n",
    "\n",
    "class Manager(Programmer):\n",
    "    def __init__(self):\n",
    "        super().__init__()\n",
    "        print(\"Constructor of Manager\")\n",
    "    c = 3\n",
    "\n",
    "# o = Employee()\n",
    "# print(o.a) # Prints the a attribute \n",
    "\n",
    "# o = Programmer()\n",
    "# print(o.a, o.b)\n",
    "\n",
    "\n",
    "o = Manager()\n",
    "print(o.a, o.b, o.c)"
   ]
  },
  {
   "cell_type": "markdown",
   "id": "2cb80465-0309-444a-897a-23a59ca57f16",
   "metadata": {},
   "source": [
    "### Class method\n",
    "It is a method which is bound to the class and not the object of the class."
   ]
  },
  {
   "cell_type": "code",
   "execution_count": 51,
   "id": "146cd129-baec-4d10-9e1d-f38a48bd302f",
   "metadata": {},
   "outputs": [
    {
     "name": "stdout",
     "output_type": "stream",
     "text": [
      "The class attribute of a is 1\n"
     ]
    }
   ],
   "source": [
    "class Employee:\n",
    "    a = 1\n",
    "    \n",
    "    @classmethod\n",
    "    def show(cls):\n",
    "        print(f\"The class attribute of a is {cls.a}\")\n",
    "\n",
    "e = Employee()\n",
    "e.a = 45\n",
    "\n",
    "e.show()"
   ]
  },
  {
   "cell_type": "markdown",
   "id": "51066efd-f65b-4161-aec6-83dd9df97e76",
   "metadata": {},
   "source": [
    "### Property decorator"
   ]
  },
  {
   "cell_type": "code",
   "execution_count": 52,
   "id": "de395521-205c-4fc0-8a8a-ea506ea4afb2",
   "metadata": {},
   "outputs": [
    {
     "name": "stdout",
     "output_type": "stream",
     "text": [
      "Harry Khan\n",
      "The class attribute of a is 1\n"
     ]
    }
   ],
   "source": [
    "class Employee:\n",
    "    a = 1\n",
    "    \n",
    "    @classmethod\n",
    "    def show(cls):\n",
    "        print(f\"The class attribute of a is {cls.a}\")\n",
    "\n",
    "    @property \n",
    "    def name(self):\n",
    "        return f\"{self.fname} {self.lname}\"\n",
    "    \n",
    "    @name.setter\n",
    "    def name (self,value):\n",
    "        self.fname = value.split(\" \")[0]\n",
    "        self.lname = value.split(\" \")[1]\n",
    "\n",
    "e = Employee()\n",
    "e.a = 45\n",
    "\n",
    "e.name = \"Harry Khan\"\n",
    "print(e.fname, e.lname)\n",
    "\n",
    "e.show()"
   ]
  },
  {
   "cell_type": "markdown",
   "id": "e8dae92c-a0a4-4ba0-89f1-c4aecd9bf45e",
   "metadata": {},
   "source": [
    "### Operator Overloading\n",
    "Operators in Python can be overloaded using dunder methods.\n",
    "These methods are called when a given operator is used on the objects."
   ]
  },
  {
   "cell_type": "code",
   "execution_count": 53,
   "id": "58a2f55c-e162-4452-b98d-8f282d495221",
   "metadata": {},
   "outputs": [
    {
     "name": "stdout",
     "output_type": "stream",
     "text": [
      "3\n"
     ]
    }
   ],
   "source": [
    "class Number:\n",
    "    def __init__(self, n):\n",
    "        self.n = n\n",
    "\n",
    "    def __add__(self, num):\n",
    "        return self.n + num.n\n",
    "\n",
    "n = Number(1)\n",
    "m = Number(2)\n",
    "\n",
    "print(n + m)"
   ]
  },
  {
   "cell_type": "markdown",
   "id": "cf4c30c0-8ee8-4ec9-983c-32e527a98247",
   "metadata": {},
   "source": [
    "Some Exercises:"
   ]
  },
  {
   "cell_type": "code",
   "execution_count": 54,
   "id": "66b774a4-63b6-4d91-ac1f-a98731e10b4b",
   "metadata": {},
   "outputs": [
    {
     "name": "stdout",
     "output_type": "stream",
     "text": [
      "The vector is 1i + 2j \n",
      "The vector is 5i + 2j + 3k\n"
     ]
    }
   ],
   "source": [
    "# Create a class (2-D vector) and use it to \n",
    "# create another class representing a 3-D vector.\n",
    "class TwoDVector:\n",
    "    def __init__(self, i, j):\n",
    "        self.i = i\n",
    "        self.j = j\n",
    "    \n",
    "    def show(self):\n",
    "        print(f\"The vector is {self.i}i + {self.j}j \")\n",
    "        \n",
    "\n",
    "class ThreeDVector(TwoDVector):\n",
    "    def __init__(self, i, j, k):\n",
    "        super().__init__(i, j)\n",
    "        self.k = k\n",
    "\n",
    "    def show(self):\n",
    "        print(f\"The vector is {self.i}i + {self.j}j + {self.k}k\")\n",
    "\n",
    "a = TwoDVector(1, 2)\n",
    "a.show()\n",
    "b = ThreeDVector(5, 2, 3)\n",
    "b.show()"
   ]
  },
  {
   "cell_type": "code",
   "execution_count": 55,
   "id": "1de38414-8a22-41e2-ba71-ed2270bfa17f",
   "metadata": {},
   "outputs": [
    {
     "name": "stdout",
     "output_type": "stream",
     "text": [
      "19.999999999999996\n"
     ]
    }
   ],
   "source": [
    "# Create a class ‘Employee’ and add salary and increment properties to it.\n",
    "# Write a method ‘salaryAfterIncrement’ method with a @property decorator \n",
    "# with a setter which changes the value of increment based on the salary.\n",
    "class Employee:\n",
    "    salary = 234\n",
    "    increment = 20 \n",
    "    \n",
    "    @property\n",
    "    def salaryAfterIncrement(self):\n",
    "        return (self.salary + self.salary * (self.increment/100))\n",
    "\n",
    "    @salaryAfterIncrement.setter \n",
    "    def salaryAfterIncrement(self, salary):\n",
    "        self.increment =  ((salary/self.salary) -1)*100 \n",
    "\n",
    "\n",
    "\n",
    "\n",
    "e = Employee()\n",
    "# print(e.salaryAfterIncrement)\n",
    "e.salaryAfterIncrement = 280.8\n",
    "print(e.increment)"
   ]
  },
  {
   "cell_type": "code",
   "execution_count": 56,
   "id": "5a0729ae-72e1-4529-8bc8-bb004fc9db16",
   "metadata": {},
   "outputs": [
    {
     "name": "stdout",
     "output_type": "stream",
     "text": [
      "4 + 6i\n",
      "-5 + 10i\n"
     ]
    }
   ],
   "source": [
    "# Write a class ‘Complex’ to represent complex numbers, along with overloaded\n",
    "# operators ‘+’ and ‘*’ which adds and multiplies them.\n",
    "class Complex:\n",
    "    def __init__(self, r, i):\n",
    "        self.r = r\n",
    "        self.i = i\n",
    "\n",
    "    def __add__(self, c2):\n",
    "        return Complex(self.r + c2.r, self.i + c2.i)\n",
    "    \n",
    "    def __mul__(self, c2):\n",
    "        real_part = self.r * c2.r - self.i * c2.i\n",
    "        imag_part = self.r * c2.i + self.i * c2.r\n",
    "        return Complex(real_part, imag_part)\n",
    "    \n",
    "    def __str__(self):\n",
    "        return f\"{self.r} + {self.i}i\"\n",
    "        \n",
    "    \n",
    "\n",
    "c1 = Complex(1, 2)\n",
    "c2 = Complex(3, 4)\n",
    "print(c1 + c2)\n",
    "print(c1*c2)"
   ]
  },
  {
   "cell_type": "code",
   "execution_count": 57,
   "id": "2578e40d-56bb-4c60-b1b9-e7b4c682e3cf",
   "metadata": {},
   "outputs": [
    {
     "name": "stdout",
     "output_type": "stream",
     "text": [
      "Vector(5, 7, 9)\n",
      "32\n",
      "Vector(8, 10, 12)\n",
      "50\n"
     ]
    }
   ],
   "source": [
    "# Write a class vector representing a vector of n dimensions. Overload the \n",
    "# + and * operator which calculates the sum and the dot(.) product of them.\n",
    "class Vector:\n",
    "    def __init__(self, x, y, z):\n",
    "        self.x = x\n",
    "        self.y = y\n",
    "        self.z = z\n",
    "\n",
    "    def __add__(self, other):\n",
    "        result = Vector(self.x + other.x, self.y + other.y, self.z + other.z)\n",
    "        return result\n",
    "\n",
    "    def __mul__(self, other):\n",
    "        result = self.x * other.x + self.y * other.y + self.z * other.z\n",
    "        return result\n",
    "\n",
    "    def __str__(self):\n",
    "        return f\"Vector({self.x}, {self.y}, {self.z})\"\n",
    "\n",
    "# Test the implementation\n",
    "v1 = Vector(1, 2, 3)\n",
    "v2 = Vector(4, 5, 6)\n",
    "v3 = Vector(7, 8, 9)  # Same dimension vector\n",
    "\n",
    "print(v1 + v2)  # Output: Vector(5, 7, 9)\n",
    "print(v1 * v2)  # Output: 32\n",
    "\n",
    "print(v1 + v3)  # Output: Vector(8, 10, 12)\n",
    "print(v1 * v3)  # Output: 50"
   ]
  },
  {
   "cell_type": "code",
   "execution_count": 59,
   "id": "1170f573-b54c-4fb1-9f48-b79212aea019",
   "metadata": {},
   "outputs": [
    {
     "name": "stdout",
     "output_type": "stream",
     "text": [
      "3\n"
     ]
    }
   ],
   "source": [
    "# Override the __len__() method on vector of previous problem \n",
    "# to display the dimension of the vector.\n",
    "class Vector:\n",
    "    def __init__(self, l): \n",
    "        self.l = l\n",
    "    \n",
    "    def __len__(self):\n",
    "        return len(self.l)\n",
    "\n",
    "# Test the implementation\n",
    "v1 = Vector([1, 2, 3]) \n",
    "print(len(v1))"
   ]
  },
  {
   "cell_type": "markdown",
   "id": "c70c86e4-be4d-48a6-a616-3648c0dd679f",
   "metadata": {},
   "source": [
    "##"
   ]
  }
 ],
 "metadata": {
  "kernelspec": {
   "display_name": "Python 3 (ipykernel)",
   "language": "python",
   "name": "python3"
  },
  "language_info": {
   "codemirror_mode": {
    "name": "ipython",
    "version": 3
   },
   "file_extension": ".py",
   "mimetype": "text/x-python",
   "name": "python",
   "nbconvert_exporter": "python",
   "pygments_lexer": "ipython3",
   "version": "3.13.3"
  }
 },
 "nbformat": 4,
 "nbformat_minor": 5
}
