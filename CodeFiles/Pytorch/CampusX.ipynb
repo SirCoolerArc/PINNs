{
 "cells": [
  {
   "cell_type": "code",
   "execution_count": 1,
   "id": "1ff86617-d650-405f-bdec-1bc656758485",
   "metadata": {},
   "outputs": [
    {
     "name": "stdout",
     "output_type": "stream",
     "text": [
      "2.7.1+cpu\n"
     ]
    }
   ],
   "source": [
    "import torch\n",
    "print(torch.__version__)"
   ]
  },
  {
   "cell_type": "code",
   "execution_count": 3,
   "id": "01ae2501-d970-48de-83d2-4b1495e7d601",
   "metadata": {},
   "outputs": [
    {
     "name": "stdout",
     "output_type": "stream",
     "text": [
      "CPU is available\n"
     ]
    }
   ],
   "source": [
    "if torch.cuda.is_available():\n",
    "    print(\"GPU is available\")\n",
    "else:\n",
    "    print(\"CPU is available\")"
   ]
  },
  {
   "cell_type": "markdown",
   "id": "c6a799af-57c4-4b03-84a5-bc3d2b3d7125",
   "metadata": {},
   "source": [
    "# Creating a Tensor"
   ]
  },
  {
   "cell_type": "code",
   "execution_count": 13,
   "id": "ba0c0643-0803-4c82-be50-2b38e23d0fe4",
   "metadata": {},
   "outputs": [
    {
     "name": "stdout",
     "output_type": "stream",
     "text": [
      "tensor([[0., 0., 0.],\n",
      "        [0., 0., 0.]])\n",
      "<class 'torch.Tensor'>\n"
     ]
    }
   ],
   "source": [
    "#Creates space for it, \n",
    "# assigns already existing values in the memory\n",
    "a=torch.empty(2,3) \n",
    "print(a)\n",
    "print(type(a))"
   ]
  },
  {
   "cell_type": "code",
   "execution_count": 10,
   "id": "1cf42b6a-4d7d-4818-859f-0f0a78fc11d0",
   "metadata": {},
   "outputs": [
    {
     "name": "stdout",
     "output_type": "stream",
     "text": [
      "tensor([[0., 0., 0.],\n",
      "        [0., 0., 0.]])\n",
      "tensor([[1., 1., 1.],\n",
      "        [1., 1., 1.]])\n"
     ]
    }
   ],
   "source": [
    "a=torch.zeros(2,3)\n",
    "b=torch.ones(2,3)\n",
    "print(a)\n",
    "print(b)"
   ]
  },
  {
   "cell_type": "code",
   "execution_count": 14,
   "id": "9c90c8b6-48e4-41c2-a767-de5dcfe1df59",
   "metadata": {},
   "outputs": [
    {
     "data": {
      "text/plain": [
       "tensor([[0.0611, 0.3994, 0.9054],\n",
       "        [0.2545, 0.5907, 0.1022]])"
      ]
     },
     "execution_count": 14,
     "metadata": {},
     "output_type": "execute_result"
    }
   ],
   "source": [
    "torch.rand(2,3)"
   ]
  },
  {
   "cell_type": "code",
   "execution_count": 15,
   "id": "fc4c320b-8c72-4293-a75a-715036d9d4a4",
   "metadata": {},
   "outputs": [
    {
     "data": {
      "text/plain": [
       "tensor([[0.1117, 0.8158, 0.2626],\n",
       "        [0.4839, 0.6765, 0.7539]])"
      ]
     },
     "execution_count": 15,
     "metadata": {},
     "output_type": "execute_result"
    }
   ],
   "source": [
    "# Manual seed is used fro reproducibility \n",
    "torch.manual_seed(100)\n",
    "torch.rand(2,3)"
   ]
  },
  {
   "cell_type": "code",
   "execution_count": 18,
   "id": "d7c8008e-4ecd-476f-985f-339e3305a754",
   "metadata": {},
   "outputs": [
    {
     "data": {
      "text/plain": [
       "tensor([[1, 2, 3],\n",
       "        [4, 5, 6]])"
      ]
     },
     "execution_count": 18,
     "metadata": {},
     "output_type": "execute_result"
    }
   ],
   "source": [
    "# Making a custom tensor\n",
    "torch.tensor([[1,2,3],[4,5,6]])"
   ]
  },
  {
   "cell_type": "code",
   "execution_count": 39,
   "id": "0351fb06-6f66-4d52-b793-49e918b764b0",
   "metadata": {},
   "outputs": [
    {
     "name": "stdout",
     "output_type": "stream",
     "text": [
      "Using arange: tensor([0, 2, 4, 6, 8])\n",
      "Using linspace: tensor([ 0.0000,  1.1111,  2.2222,  3.3333,  4.4444,  5.5556,  6.6667,  7.7778,\n",
      "         8.8889, 10.0000])\n",
      "tensor([[1., 0., 0., 0., 0.],\n",
      "        [0., 1., 0., 0., 0.],\n",
      "        [0., 0., 1., 0., 0.],\n",
      "        [0., 0., 0., 1., 0.],\n",
      "        [0., 0., 0., 0., 1.]])\n",
      "tensor([[5, 5, 5],\n",
      "        [5, 5, 5],\n",
      "        [5, 5, 5]])\n"
     ]
    }
   ],
   "source": [
    "# Other methods\n",
    "print(\"Using arange:\", torch.arange(0,10,2)) #0-9, step=2\n",
    "print(\"Using linspace:\", torch.linspace(0,10,10)) #0-9, linearly spaced values between 0-10\n",
    "print(torch.eye(5)) # Creates identity matrix\n",
    "print(torch.full((3,3),5)) # Creates a matrix with all elements as a desired value"
   ]
  },
  {
   "cell_type": "markdown",
   "id": "137b5c01-df8b-4a0b-b887-8b2658fc302a",
   "metadata": {},
   "source": [
    "# Tensor Shapes"
   ]
  },
  {
   "cell_type": "code",
   "execution_count": 5,
   "id": "539a5cfa-72c1-4328-ad72-e51590d7d45b",
   "metadata": {},
   "outputs": [
    {
     "data": {
      "text/plain": [
       "torch.Size([2, 3])"
      ]
     },
     "execution_count": 5,
     "metadata": {},
     "output_type": "execute_result"
    }
   ],
   "source": [
    "import torch\n",
    "x=torch.tensor([[1,2,3],[4,5,6]])\n",
    "x.shape"
   ]
  },
  {
   "cell_type": "code",
   "execution_count": 24,
   "id": "db258f68-61ae-44c2-a9ba-e163811bb4d1",
   "metadata": {},
   "outputs": [
    {
     "name": "stdout",
     "output_type": "stream",
     "text": [
      "tensor([[0, 0, 0],\n",
      "        [0, 0, 0]])\n",
      "tensor([[0, 0, 0],\n",
      "        [0, 0, 0]])\n",
      "tensor([[1, 1, 1],\n",
      "        [1, 1, 1]])\n",
      "tensor([[0.0839, 0.2853, 0.2997],\n",
      "        [0.4604, 0.5977, 0.6602]])\n"
     ]
    }
   ],
   "source": [
    "print(torch.empty_like(x)) \n",
    "# Creates an empty tensor having same shape as x\n",
    "# All elements need not be zero\n",
    "print(torch.zeros_like(x))\n",
    "print(torch.ones_like(x))\n",
    "# torch.rand_like(x) not working\n",
    "# because values in x are all integers & rand function \n",
    "# initialises all elements to floats between 0-1\n",
    "print(torch.rand_like(x,dtype=torch.float32))"
   ]
  },
  {
   "cell_type": "markdown",
   "id": "306c2f09-65ab-4b87-bd42-1df8f4755791",
   "metadata": {},
   "source": [
    "# Tensor Data Types"
   ]
  },
  {
   "cell_type": "code",
   "execution_count": 16,
   "id": "f6db9487-9ae5-4626-9d89-83aea40a6a09",
   "metadata": {},
   "outputs": [
    {
     "data": {
      "text/plain": [
       "torch.int64"
      ]
     },
     "execution_count": 16,
     "metadata": {},
     "output_type": "execute_result"
    }
   ],
   "source": [
    "# Find data types\n",
    "x.dtype"
   ]
  },
  {
   "cell_type": "code",
   "execution_count": 15,
   "id": "6734b1ba-1076-4438-b8b4-e3098eb7119d",
   "metadata": {},
   "outputs": [
    {
     "name": "stdout",
     "output_type": "stream",
     "text": [
      "tensor([1, 2, 3], dtype=torch.int32)\n",
      "tensor([1., 2., 3.], dtype=torch.float64)\n"
     ]
    }
   ],
   "source": [
    "# Assign data types\n",
    "print(torch.tensor([1.0,2.0,3.0], dtype=torch.int32))\n",
    "print(torch.tensor([1,2,3], dtype=torch.float64))"
   ]
  },
  {
   "cell_type": "code",
   "execution_count": 19,
   "id": "d9a0f71f-1c08-4f4d-a579-71e004a539c0",
   "metadata": {},
   "outputs": [
    {
     "name": "stdout",
     "output_type": "stream",
     "text": [
      "tensor([[1, 2, 3],\n",
      "        [4, 5, 6]])\n"
     ]
    },
    {
     "data": {
      "text/plain": [
       "tensor([[1., 2., 3.],\n",
       "        [4., 5., 6.]])"
      ]
     },
     "execution_count": 19,
     "metadata": {},
     "output_type": "execute_result"
    }
   ],
   "source": [
    "print(x)\n",
    "x.to(torch.float32) # Convert an existing tensor"
   ]
  },
  {
   "cell_type": "markdown",
   "id": "b7a8601c-15b7-46f9-905b-c15becb436c1",
   "metadata": {},
   "source": [
    "# Mathematical operations\n",
    "## Scalar operations"
   ]
  },
  {
   "cell_type": "code",
   "execution_count": 26,
   "id": "c8a41b19-aa3b-40bd-b81c-e30da96c665f",
   "metadata": {},
   "outputs": [
    {
     "data": {
      "text/plain": [
       "tensor([[0.9168, 0.7618],\n",
       "        [0.2511, 0.2503]])"
      ]
     },
     "execution_count": 26,
     "metadata": {},
     "output_type": "execute_result"
    }
   ],
   "source": [
    "x=torch.rand(2,2)\n",
    "x"
   ]
  },
  {
   "cell_type": "code",
   "execution_count": 30,
   "id": "d09d16b1-eab0-492a-b9b9-2e8bc7f3011e",
   "metadata": {},
   "outputs": [
    {
     "name": "stdout",
     "output_type": "stream",
     "text": [
      "tensor([[2.9168, 2.7618],\n",
      "        [2.2511, 2.2503]])\n",
      "tensor([[-1.0832, -1.2382],\n",
      "        [-1.7489, -1.7497]])\n",
      "tensor([[2.7504, 2.2855],\n",
      "        [0.7533, 0.7509]])\n",
      "tensor([[0.3056, 0.2539],\n",
      "        [0.0837, 0.0834]])\n",
      "tensor([[30., 25.],\n",
      "        [ 8.,  8.]])\n",
      "tensor([[0., 1.],\n",
      "        [0., 0.]])\n",
      "tensor([[0.8405, 0.5804],\n",
      "        [0.0631, 0.0626]])\n"
     ]
    }
   ],
   "source": [
    "print(x+2)\n",
    "print(x-2)\n",
    "print(x*3)\n",
    "print(x/3)\n",
    "print((x*100)//3) # Integer division\n",
    "print(((x*100)//3)%2) # Remainder\n",
    "print(x**2)"
   ]
  },
  {
   "cell_type": "markdown",
   "id": "23024a3e-0263-4685-af26-2d47fb1497d3",
   "metadata": {},
   "source": [
    "## Element wise operations"
   ]
  },
  {
   "cell_type": "code",
   "execution_count": 31,
   "id": "46f402f5-6f58-4517-8c66-5c74991a80e3",
   "metadata": {},
   "outputs": [
    {
     "name": "stdout",
     "output_type": "stream",
     "text": [
      "tensor([[0.0861, 0.9664, 0.1839],\n",
      "        [0.2417, 0.3533, 0.5686]])\n",
      "tensor([[0.6366, 0.9329, 0.8258],\n",
      "        [0.8322, 0.0996, 0.2356]])\n"
     ]
    }
   ],
   "source": [
    "a=torch.rand(2,3)\n",
    "b=torch.rand(2,3)\n",
    "print(a)\n",
    "print(b)"
   ]
  },
  {
   "cell_type": "code",
   "execution_count": 34,
   "id": "bbe54e1a-7f7e-4df5-bece-1b36275ad363",
   "metadata": {},
   "outputs": [
    {
     "name": "stdout",
     "output_type": "stream",
     "text": [
      "tensor([[0.7227, 1.8993, 1.0097],\n",
      "        [1.0738, 0.4530, 0.8042]])\n",
      "tensor([[-0.5505,  0.0336, -0.6419],\n",
      "        [-0.5905,  0.2537,  0.3330]])\n",
      "tensor([[0.0548, 0.9015, 0.1519],\n",
      "        [0.2011, 0.0352, 0.1340]])\n",
      "tensor([[0.1352, 1.0360, 0.2227],\n",
      "        [0.2904, 3.5472, 2.4132]])\n",
      "tensor([[0.2099, 0.9686, 0.2470],\n",
      "        [0.3067, 0.9016, 0.8754]])\n",
      "tensor([[0.0861, 0.0336, 0.1839],\n",
      "        [0.2417, 0.0545, 0.0974]])\n"
     ]
    }
   ],
   "source": [
    "print(a+b)\n",
    "print(a-b)\n",
    "print(a*b)\n",
    "print(a/b)\n",
    "print(a**b)\n",
    "print(a%b)"
   ]
  },
  {
   "cell_type": "code",
   "execution_count": 37,
   "id": "f6e5b8e5-7567-4d02-aac1-c04fea4a0d80",
   "metadata": {},
   "outputs": [
    {
     "name": "stdout",
     "output_type": "stream",
     "text": [
      "tensor([1, 2, 3, 4])\n",
      "tensor([-1,  2, -3,  4])\n"
     ]
    }
   ],
   "source": [
    "c=torch.tensor([1,-2,3,-4])\n",
    "print(torch.abs(c))\n",
    "print(torch.neg(c))"
   ]
  },
  {
   "cell_type": "code",
   "execution_count": 40,
   "id": "10b43028-132a-452a-b7e4-de082ded2786",
   "metadata": {},
   "outputs": [
    {
     "name": "stdout",
     "output_type": "stream",
     "text": [
      "tensor([2., 2., 4., 4.])\n",
      "tensor([2., 3., 4., 5.])\n",
      "tensor([1., 2., 3., 4.])\n",
      "tensor([2.0000, 2.3000, 3.0000, 3.0000])\n"
     ]
    }
   ],
   "source": [
    "d=torch.tensor([1.9,2.3,3.7,4.4])\n",
    "print(torch.round(d))\n",
    "print(torch.ceil(d))\n",
    "print(torch.floor(d))\n",
    "print(torch.clamp(d, min=2, max=3))"
   ]
  },
  {
   "cell_type": "markdown",
   "id": "dccdbfe3-8637-4d1e-bcc3-8b95dbddfe8f",
   "metadata": {},
   "source": [
    "## Reduction Operations"
   ]
  },
  {
   "cell_type": "code",
   "execution_count": 44,
   "id": "df36b103-cff3-48c9-aa45-2524397a98d1",
   "metadata": {},
   "outputs": [
    {
     "data": {
      "text/plain": [
       "tensor([[4., 4., 8.],\n",
       "        [7., 5., 3.]])"
      ]
     },
     "execution_count": 44,
     "metadata": {},
     "output_type": "execute_result"
    }
   ],
   "source": [
    "e=torch.randint(size=(2,3),low=0,high=10, \n",
    "                dtype=torch.float32)\n",
    "e"
   ]
  },
  {
   "cell_type": "code",
   "execution_count": 51,
   "id": "7fbe9fd3-0517-4494-b1ed-096486ce209d",
   "metadata": {},
   "outputs": [
    {
     "name": "stdout",
     "output_type": "stream",
     "text": [
      "tensor(31.)\n",
      "tensor([11.,  9., 11.])\n",
      "tensor([16., 15.])\n",
      "tensor(5.1667)\n",
      "tensor([5.5000, 4.5000, 5.5000])\n",
      "tensor(4.)\n",
      "tensor(3.)\n",
      "tensor(8.)\n",
      "tensor(13440.)\n",
      "tensor(1.9408)\n",
      "tensor(3.7667)\n",
      "tensor(2)\n",
      "tensor(5)\n"
     ]
    }
   ],
   "source": [
    "# sum\n",
    "print(torch.sum(e))\n",
    "# sum along columns\n",
    "print(torch.sum(e, dim=0))\n",
    "# sum along rows\n",
    "print(torch.sum(e, dim=1))\n",
    "print(torch.mean(e))\n",
    "print(torch.mean(e, dim=0)) # mean along column\n",
    "print(torch.median(e))\n",
    "print(torch.min(e))\n",
    "print(torch.max(e))\n",
    "print(torch.prod(e)) # product\n",
    "print(torch.std(e)) # standard deviation\n",
    "print(torch.var(e)) # variance\n",
    "print(torch.argmax(e)) # position of the largest element\n",
    "print(torch.argmin(e)) # position of the smallest element"
   ]
  },
  {
   "cell_type": "markdown",
   "id": "5b6233af-aa10-4563-a9fd-5f84ff94379d",
   "metadata": {},
   "source": [
    "## Matrix operations"
   ]
  },
  {
   "cell_type": "code",
   "execution_count": 60,
   "id": "35b2aa6c-ba10-4c45-a25d-82b8bbfd287a",
   "metadata": {},
   "outputs": [
    {
     "name": "stdout",
     "output_type": "stream",
     "text": [
      "tensor([[8, 1, 7],\n",
      "        [4, 9, 0]])\n",
      "tensor([[4, 2],\n",
      "        [8, 1],\n",
      "        [8, 7]])\n",
      "tensor([[96, 66],\n",
      "        [88, 17]])\n"
     ]
    }
   ],
   "source": [
    "f=torch.randint(size=(2,3),low=0,high=10)\n",
    "g=torch.randint(size=(3,2),low=0,high=10)\n",
    "print(f)\n",
    "print(g)\n",
    "print(torch.matmul(f,g)) #matrix multiplication"
   ]
  },
  {
   "cell_type": "code",
   "execution_count": 62,
   "id": "160d92c4-af1e-483f-9272-b9cabe95bc9d",
   "metadata": {},
   "outputs": [
    {
     "data": {
      "text/plain": [
       "tensor(11)"
      ]
     },
     "execution_count": 62,
     "metadata": {},
     "output_type": "execute_result"
    }
   ],
   "source": [
    "v1=torch.tensor([1,2])\n",
    "v2=torch.tensor([3,4])\n",
    "torch.dot(v1,v2)"
   ]
  },
  {
   "cell_type": "code",
   "execution_count": 73,
   "id": "3f929707-f806-4892-9b0f-04e801a0dd72",
   "metadata": {},
   "outputs": [
    {
     "name": "stdout",
     "output_type": "stream",
     "text": [
      "tensor([[3, 4, 1],\n",
      "        [6, 6, 2]])\n",
      "tensor([[3, 6],\n",
      "        [4, 6],\n",
      "        [1, 2]])\n"
     ]
    }
   ],
   "source": [
    "A=torch.randint(size=(2,3),low=0,high=10)\n",
    "print(A)\n",
    "print(torch.transpose(A,0,1))"
   ]
  },
  {
   "cell_type": "code",
   "execution_count": 78,
   "id": "8d45e836-e0f0-4f37-b567-d04835fcb60f",
   "metadata": {},
   "outputs": [
    {
     "name": "stdout",
     "output_type": "stream",
     "text": [
      "tensor([[7., 6., 4.],\n",
      "        [1., 0., 8.],\n",
      "        [0., 5., 2.]])\n",
      "tensor(-272.)\n",
      "tensor([[ 0.1471, -0.0294, -0.1765],\n",
      "        [ 0.0074, -0.0515,  0.1912],\n",
      "        [-0.0184,  0.1287,  0.0221]])\n"
     ]
    }
   ],
   "source": [
    "h=torch.randint(size=(3,3),low=0,high=10,dtype=torch.float32)\n",
    "print(h)\n",
    "print(torch.det(h))\n",
    "print(torch.inverse(h))"
   ]
  },
  {
   "cell_type": "markdown",
   "id": "4655475a-6c3d-4885-a616-e89417aae6cd",
   "metadata": {},
   "source": [
    "## Comparison Operations"
   ]
  },
  {
   "cell_type": "code",
   "execution_count": 79,
   "id": "f57a4451-099d-4ef2-afa8-147f542ec535",
   "metadata": {},
   "outputs": [
    {
     "name": "stdout",
     "output_type": "stream",
     "text": [
      "tensor([[5, 0, 0],\n",
      "        [7, 2, 2]])\n",
      "tensor([[4, 6, 4],\n",
      "        [9, 9, 0]])\n"
     ]
    }
   ],
   "source": [
    "i=torch.randint(size=(2,3),low=0,high=10)\n",
    "j=torch.randint(size=(2,3),low=0,high=10)\n",
    "print(i)\n",
    "print(j)"
   ]
  },
  {
   "cell_type": "code",
   "execution_count": 82,
   "id": "24dd7b83-bdc9-460d-baee-c2c1cf375370",
   "metadata": {},
   "outputs": [
    {
     "name": "stdout",
     "output_type": "stream",
     "text": [
      "tensor([[ True, False, False],\n",
      "        [False, False,  True]])\n",
      "tensor([[False,  True,  True],\n",
      "        [ True,  True, False]])\n",
      "tensor([[False, False, False],\n",
      "        [False, False, False]])\n",
      "tensor([[True, True, True],\n",
      "        [True, True, True]])\n",
      "tensor([[False,  True,  True],\n",
      "        [ True,  True, False]])\n",
      "tensor([[ True, False, False],\n",
      "        [False, False,  True]])\n"
     ]
    }
   ],
   "source": [
    "print(i>j)\n",
    "print(i<j)\n",
    "print(i==j)\n",
    "print(i!=j)\n",
    "print(i<=j)\n",
    "print(i>=j)"
   ]
  },
  {
   "cell_type": "markdown",
   "id": "2bcf7cda-19b0-469e-a784-b5a9f0d218be",
   "metadata": {},
   "source": [
    "## Special functions"
   ]
  },
  {
   "cell_type": "code",
   "execution_count": 90,
   "id": "0d017efe-d821-4768-9467-eca1db1ea58f",
   "metadata": {},
   "outputs": [
    {
     "name": "stdout",
     "output_type": "stream",
     "text": [
      "tensor([[2., 4., 5.],\n",
      "        [4., 6., 9.]])\n"
     ]
    }
   ],
   "source": [
    "k=torch.randint(size=(2,3),low=0,high=10, dtype=torch.float32)\n",
    "print(k)"
   ]
  },
  {
   "cell_type": "code",
   "execution_count": 91,
   "id": "1d7f8b0f-46ac-44bd-8071-e9db342812dc",
   "metadata": {},
   "outputs": [
    {
     "name": "stdout",
     "output_type": "stream",
     "text": [
      "tensor([[0.6931, 1.3863, 1.6094],\n",
      "        [1.3863, 1.7918, 2.1972]])\n",
      "tensor([[7.3891e+00, 5.4598e+01, 1.4841e+02],\n",
      "        [5.4598e+01, 4.0343e+02, 8.1031e+03]])\n",
      "tensor([[1.4142, 2.0000, 2.2361],\n",
      "        [2.0000, 2.4495, 3.0000]])\n",
      "tensor([[0.8808, 0.9820, 0.9933],\n",
      "        [0.9820, 0.9975, 0.9999]])\n",
      "tensor([[0.1192, 0.1192, 0.0180],\n",
      "        [0.8808, 0.8808, 0.9820]])\n",
      "tensor([[2., 4., 5.],\n",
      "        [4., 6., 9.]])\n"
     ]
    }
   ],
   "source": [
    "print(torch.log(k))\n",
    "print(torch.exp(k))\n",
    "print(torch.sqrt(k))\n",
    "print(torch.sigmoid(k))\n",
    "print(torch.softmax(k, dim=0))\n",
    "print(torch.relu(k))"
   ]
  },
  {
   "cell_type": "markdown",
   "id": "df3fe61d-752a-4def-98e8-94ed271a83da",
   "metadata": {},
   "source": [
    "## Inplace Operattions\n",
    "Makes changes in the existing tensor without creating a new one & thereby not occupying extra memory for each simple operation.\n",
    "It can be achieved by just putting an underscore after the function name."
   ]
  },
  {
   "cell_type": "code",
   "execution_count": 92,
   "id": "90193ed8-6b45-40aa-ba5e-93fedfd162ff",
   "metadata": {},
   "outputs": [
    {
     "name": "stdout",
     "output_type": "stream",
     "text": [
      "tensor([[0.8068, 0.1770, 0.3479],\n",
      "        [0.1735, 0.5253, 0.0910]])\n",
      "tensor([[0.9471, 0.9906, 0.3506],\n",
      "        [0.5143, 0.1314, 0.5857]])\n"
     ]
    }
   ],
   "source": [
    "m=torch.rand(2,3)\n",
    "n=torch.rand(2,3)\n",
    "print(m)\n",
    "print(n)"
   ]
  },
  {
   "cell_type": "code",
   "execution_count": 94,
   "id": "f087a91d-2507-4cb5-be8a-d1c82590a1bf",
   "metadata": {},
   "outputs": [
    {
     "name": "stdout",
     "output_type": "stream",
     "text": [
      "tensor([[2.7009, 2.1582, 1.0491],\n",
      "        [1.2021, 0.7881, 1.2623]])\n",
      "tensor([[0.9471, 0.9906, 0.3506],\n",
      "        [0.5143, 0.1314, 0.5857]])\n"
     ]
    }
   ],
   "source": [
    "m.add_(n)\n",
    "print(m)\n",
    "print(n)"
   ]
  },
  {
   "cell_type": "markdown",
   "id": "d43e4555-6bc5-41fb-8cd4-bf5c4ef32542",
   "metadata": {},
   "source": [
    "# Copying a tensor"
   ]
  },
  {
   "cell_type": "code",
   "execution_count": 107,
   "id": "35edd978-fe04-486b-aa83-8523ebdde95f",
   "metadata": {},
   "outputs": [
    {
     "data": {
      "text/plain": [
       "tensor([[0.0721, 0.0408, 0.6237],\n",
       "        [0.7990, 0.4897, 0.9312]])"
      ]
     },
     "execution_count": 107,
     "metadata": {},
     "output_type": "execute_result"
    }
   ],
   "source": [
    "a=torch.rand(2,3)\n",
    "a"
   ]
  },
  {
   "cell_type": "code",
   "execution_count": 108,
   "id": "c0cd2c23-4e97-4b06-9378-558b045f0365",
   "metadata": {},
   "outputs": [
    {
     "name": "stdout",
     "output_type": "stream",
     "text": [
      "tensor([[1.0000, 0.0408, 0.6237],\n",
      "        [0.7990, 0.4897, 0.9312]])\n",
      "tensor([[0.0721, 0.0408, 0.6237],\n",
      "        [0.7990, 0.4897, 0.9312]])\n"
     ]
    }
   ],
   "source": [
    "b=a.clone() # Forms a clone at new memory location\n",
    "a[0][0]=1\n",
    "print(a)\n",
    "print(b)"
   ]
  },
  {
   "cell_type": "markdown",
   "id": "3de6f755-f622-4960-a991-dc8db3d6f181",
   "metadata": {},
   "source": [
    "# Tesnor Operations on GPU"
   ]
  },
  {
   "cell_type": "code",
   "execution_count": 109,
   "id": "da19ef3b-40dc-409d-9bec-ee254f5adbcc",
   "metadata": {},
   "outputs": [
    {
     "data": {
      "text/plain": [
       "False"
      ]
     },
     "execution_count": 109,
     "metadata": {},
     "output_type": "execute_result"
    }
   ],
   "source": [
    "torch.cuda.is_available()"
   ]
  },
  {
   "cell_type": "markdown",
   "id": "0542fb8d-d542-4bc8-bc3b-afef81413b53",
   "metadata": {},
   "source": [
    "# Reshaping Tensors"
   ]
  },
  {
   "cell_type": "code",
   "execution_count": 110,
   "id": "b83064d8-743a-4c35-ba9a-c04113377d9e",
   "metadata": {},
   "outputs": [
    {
     "data": {
      "text/plain": [
       "tensor([[1., 1., 1., 1.],\n",
       "        [1., 1., 1., 1.],\n",
       "        [1., 1., 1., 1.],\n",
       "        [1., 1., 1., 1.]])"
      ]
     },
     "execution_count": 110,
     "metadata": {},
     "output_type": "execute_result"
    }
   ],
   "source": [
    "a=torch.ones(4,4)\n",
    "a"
   ]
  },
  {
   "cell_type": "code",
   "execution_count": 111,
   "id": "9a730842-04c7-4f34-beb1-fd42c1f30747",
   "metadata": {},
   "outputs": [
    {
     "data": {
      "text/plain": [
       "tensor([[[[1., 1.],\n",
       "          [1., 1.]],\n",
       "\n",
       "         [[1., 1.],\n",
       "          [1., 1.]]],\n",
       "\n",
       "\n",
       "        [[[1., 1.],\n",
       "          [1., 1.]],\n",
       "\n",
       "         [[1., 1.],\n",
       "          [1., 1.]]]])"
      ]
     },
     "execution_count": 111,
     "metadata": {},
     "output_type": "execute_result"
    }
   ],
   "source": [
    "a.reshape(2,2,2,2)"
   ]
  },
  {
   "cell_type": "code",
   "execution_count": 112,
   "id": "cbbcdf5a-eddc-4d05-bd1e-3694df9c96f0",
   "metadata": {},
   "outputs": [
    {
     "data": {
      "text/plain": [
       "tensor([1., 1., 1., 1., 1., 1., 1., 1., 1., 1., 1., 1., 1., 1., 1., 1.])"
      ]
     },
     "execution_count": 112,
     "metadata": {},
     "output_type": "execute_result"
    }
   ],
   "source": [
    "a.flatten()"
   ]
  },
  {
   "cell_type": "code",
   "execution_count": 113,
   "id": "29bd0cf9-b732-4106-ae70-402188187b83",
   "metadata": {},
   "outputs": [
    {
     "data": {
      "text/plain": [
       "tensor([[[0.0614, 0.3468, 0.7133, 0.3868],\n",
       "         [0.7816, 0.8005, 0.3011, 0.9744],\n",
       "         [0.9520, 0.5579, 0.9522, 0.7523]],\n",
       "\n",
       "        [[0.3403, 0.4381, 0.1202, 0.9815],\n",
       "         [0.3996, 0.2926, 0.1090, 0.4209],\n",
       "         [0.1095, 0.4564, 0.8049, 0.1937]]])"
      ]
     },
     "execution_count": 113,
     "metadata": {},
     "output_type": "execute_result"
    }
   ],
   "source": [
    "b=torch.rand(2,3,4)\n",
    "b"
   ]
  },
  {
   "cell_type": "code",
   "execution_count": 117,
   "id": "578cfa2a-70fc-41c4-82da-8297ce66ea8d",
   "metadata": {},
   "outputs": [
    {
     "data": {
      "text/plain": [
       "torch.Size([4, 2, 3])"
      ]
     },
     "execution_count": 117,
     "metadata": {},
     "output_type": "execute_result"
    }
   ],
   "source": [
    "b.permute(2,0,1).shape"
   ]
  },
  {
   "cell_type": "code",
   "execution_count": 123,
   "id": "0a1dd1d4-9c47-4120-9cb8-657cf3721ff6",
   "metadata": {},
   "outputs": [
    {
     "data": {
      "text/plain": [
       "torch.Size([1, 226, 226, 3])"
      ]
     },
     "execution_count": 123,
     "metadata": {},
     "output_type": "execute_result"
    }
   ],
   "source": [
    "c=torch.rand(226,226,3)\n",
    "c.unsqueeze(0).shape"
   ]
  },
  {
   "cell_type": "code",
   "execution_count": 124,
   "id": "42bde2cd-8b38-4620-9d3d-811a35344ffa",
   "metadata": {},
   "outputs": [
    {
     "data": {
      "text/plain": [
       "torch.Size([20])"
      ]
     },
     "execution_count": 124,
     "metadata": {},
     "output_type": "execute_result"
    }
   ],
   "source": [
    "d=torch.rand(1,20)\n",
    "d.squeeze(0).shape"
   ]
  },
  {
   "cell_type": "markdown",
   "id": "4711a564-252f-4ba4-be6a-6e5f858faedb",
   "metadata": {},
   "source": [
    "# Numpy & PyTorch"
   ]
  },
  {
   "cell_type": "code",
   "execution_count": 125,
   "id": "634b2584-c130-4bbe-9314-c74dc40eb64e",
   "metadata": {},
   "outputs": [],
   "source": [
    "import numpy as np"
   ]
  },
  {
   "cell_type": "code",
   "execution_count": 133,
   "id": "c18835cc-cb71-4f59-8b8f-18852c183bb8",
   "metadata": {},
   "outputs": [
    {
     "data": {
      "text/plain": [
       "torch.Tensor"
      ]
     },
     "execution_count": 133,
     "metadata": {},
     "output_type": "execute_result"
    }
   ],
   "source": [
    "a=torch.tensor([1,2,3])\n",
    "type(a)"
   ]
  },
  {
   "cell_type": "code",
   "execution_count": 132,
   "id": "aa3b2985-f520-4ced-8787-991fb544c292",
   "metadata": {},
   "outputs": [
    {
     "data": {
      "text/plain": [
       "numpy.ndarray"
      ]
     },
     "execution_count": 132,
     "metadata": {},
     "output_type": "execute_result"
    }
   ],
   "source": [
    "b=a.numpy()\n",
    "type(b)"
   ]
  },
  {
   "cell_type": "code",
   "execution_count": 137,
   "id": "509e93fa-73a9-4832-9a1c-b2a998778c6e",
   "metadata": {},
   "outputs": [
    {
     "name": "stdout",
     "output_type": "stream",
     "text": [
      "[4 5 6]\n"
     ]
    },
    {
     "data": {
      "text/plain": [
       "numpy.ndarray"
      ]
     },
     "execution_count": 137,
     "metadata": {},
     "output_type": "execute_result"
    }
   ],
   "source": [
    "c=np.array([4,5,6])\n",
    "print(c)\n",
    "type(c)"
   ]
  },
  {
   "cell_type": "code",
   "execution_count": 136,
   "id": "7de575a4-c93e-42d7-91aa-052c677d2cf4",
   "metadata": {},
   "outputs": [
    {
     "name": "stdout",
     "output_type": "stream",
     "text": [
      "tensor([4, 5, 6])\n"
     ]
    },
    {
     "data": {
      "text/plain": [
       "torch.Tensor"
      ]
     },
     "execution_count": 136,
     "metadata": {},
     "output_type": "execute_result"
    }
   ],
   "source": [
    "d=torch.from_numpy(c)\n",
    "print(d)\n",
    "type(d)"
   ]
  },
  {
   "cell_type": "markdown",
   "id": "d19feb71-1cdd-4bcc-8ec1-8a19c371ea9e",
   "metadata": {},
   "source": [
    "# Autograd\n",
    "It is a core component of PyTorch that provides automatic diffferentiation for tensor operations. It enables gradient computation, which is essential for training machine learning models using optimisation algorithms like gradient descent."
   ]
  },
  {
   "cell_type": "markdown",
   "id": "62dd619f-1a10-4f53-8f78-357d9b2d29df",
   "metadata": {},
   "source": [
    "## Example 1: y=x^2"
   ]
  },
  {
   "cell_type": "code",
   "execution_count": 1,
   "id": "a80dc351-4078-426f-a0ca-8c0d48d382d2",
   "metadata": {},
   "outputs": [],
   "source": [
    "import torch"
   ]
  },
  {
   "cell_type": "code",
   "execution_count": 2,
   "id": "4815bba3-0a42-4aa1-aa67-ef0f7ea09ce9",
   "metadata": {},
   "outputs": [],
   "source": [
    "x=torch.tensor(3.0, requires_grad=True)\n",
    "y=x**2"
   ]
  },
  {
   "cell_type": "code",
   "execution_count": 3,
   "id": "f124487c-8f94-4c34-9b8f-ac700cba2f7f",
   "metadata": {},
   "outputs": [
    {
     "name": "stdout",
     "output_type": "stream",
     "text": [
      "tensor(3., requires_grad=True)\n",
      "tensor(9., grad_fn=<PowBackward0>)\n"
     ]
    }
   ],
   "source": [
    "print(x)\n",
    "print(y)"
   ]
  },
  {
   "cell_type": "code",
   "execution_count": 4,
   "id": "2b9c60ba-2a27-4e82-a5e4-894fe465033a",
   "metadata": {},
   "outputs": [],
   "source": [
    "y.backward()"
   ]
  },
  {
   "cell_type": "code",
   "execution_count": 5,
   "id": "c1917311-ebf2-4447-9a35-8d8560d4a322",
   "metadata": {},
   "outputs": [
    {
     "data": {
      "text/plain": [
       "tensor(6.)"
      ]
     },
     "execution_count": 5,
     "metadata": {},
     "output_type": "execute_result"
    }
   ],
   "source": [
    "x.grad"
   ]
  },
  {
   "cell_type": "markdown",
   "id": "67bc08a4-41ba-4263-b73f-ff24b170f4ab",
   "metadata": {},
   "source": [
    "## Example 2: y=x^2, z=sin(y)"
   ]
  },
  {
   "cell_type": "code",
   "execution_count": 6,
   "id": "d969a03b-06b9-474e-87b9-df0aa2953573",
   "metadata": {},
   "outputs": [],
   "source": [
    "x=torch.tensor(3.0, requires_grad=True)\n",
    "y=x**2\n",
    "z=torch.sin(y)"
   ]
  },
  {
   "cell_type": "code",
   "execution_count": 7,
   "id": "09e1dce5-55cf-4d35-8a78-c3583dbaf6fc",
   "metadata": {},
   "outputs": [
    {
     "name": "stdout",
     "output_type": "stream",
     "text": [
      "tensor(3., requires_grad=True)\n",
      "tensor(9., grad_fn=<PowBackward0>)\n",
      "tensor(0.4121, grad_fn=<SinBackward0>)\n"
     ]
    }
   ],
   "source": [
    "print(x)\n",
    "print(y)\n",
    "print(z)"
   ]
  },
  {
   "cell_type": "code",
   "execution_count": 8,
   "id": "93f5250e-2a7d-41a3-8bd7-e7ed1ada635a",
   "metadata": {},
   "outputs": [],
   "source": [
    "z.backward()"
   ]
  },
  {
   "cell_type": "code",
   "execution_count": 9,
   "id": "ded4cfee-c3af-4abf-9c8d-d5a6834e005c",
   "metadata": {},
   "outputs": [
    {
     "data": {
      "text/plain": [
       "tensor(-5.4668)"
      ]
     },
     "execution_count": 9,
     "metadata": {},
     "output_type": "execute_result"
    }
   ],
   "source": [
    "x.grad"
   ]
  },
  {
   "cell_type": "markdown",
   "id": "ab946531-38bb-4fe4-aebb-6f5139af38b3",
   "metadata": {},
   "source": [
    "Input is called leaf tensor & output is called root tensor. In backward pass the derivative of root tensor with respect to the leaf tensor is calculated."
   ]
  },
  {
   "cell_type": "markdown",
   "id": "db975aaf-6d21-4b12-a079-50841ec2d69c",
   "metadata": {},
   "source": [
    "## Example 3: Placement & CGPA NN"
   ]
  },
  {
   "cell_type": "markdown",
   "id": "18c0105c-ac2b-4c46-a784-bd6bf07f6160",
   "metadata": {},
   "source": [
    "### Manually doing without Autograd:"
   ]
  },
  {
   "cell_type": "code",
   "execution_count": 1,
   "id": "28dab1c4-97e1-43bb-8dc2-0d33143770a0",
   "metadata": {},
   "outputs": [],
   "source": [
    "import torch\n",
    "\n",
    "# Inputs\n",
    "x=torch.tensor(6.7) # Input feature\n",
    "y=torch.tensor(0.0) # True label (binary)\n",
    "\n",
    "w=torch.tensor(1.0) # weight\n",
    "b=torch.tensor(0.0) # bias"
   ]
  },
  {
   "cell_type": "code",
   "execution_count": 8,
   "id": "18316a93-c52c-4d43-9b31-2eac7b08e734",
   "metadata": {},
   "outputs": [],
   "source": [
    "# Binary Cross-Entropy Loss for scalar\n",
    "def binary_cross_entropy_loss(prediction, target):\n",
    "    epsilon=1e-8 # To prevent log(0)\n",
    "    prediction=torch.clamp(prediction, epsilon, 1-epsilon)\n",
    "    return -(target*torch.log(prediction)+(1-target)*torch.log(1-prediction))\n",
    "\n",
    "# Forward pass\n",
    "z=w*x+b # Weighteed sum (linear part)\n",
    "y_pred=torch.sigmoid(z) # Predicited probability\n",
    "\n",
    "# Compute binary cross entropy loss\n",
    "loss=binary_cross_entropy_loss(y_pred, y)"
   ]
  },
  {
   "cell_type": "code",
   "execution_count": 9,
   "id": "e48d9e19-65c7-4a64-8a3b-d4ffa3139cb3",
   "metadata": {},
   "outputs": [
    {
     "data": {
      "text/plain": [
       "tensor(6.7012)"
      ]
     },
     "execution_count": 9,
     "metadata": {},
     "output_type": "execute_result"
    }
   ],
   "source": [
    "loss"
   ]
  },
  {
   "cell_type": "code",
   "execution_count": 10,
   "id": "eb19913f-ea8a-4b05-b8b1-074555c82ff6",
   "metadata": {},
   "outputs": [],
   "source": [
    "# Derivatives\n",
    "# 1. \n",
    "dloss_dy_pred=(y_pred-y)/(y_pred*(1-y_pred))\n",
    "# 2.\n",
    "dy_pred_dz=y_pred*(1-y_pred)\n",
    "# 3.\n",
    "dz_dw=x\n",
    "dz_db=1\n",
    "\n",
    "dL_dw=dloss_dy_pred*dy_pred_dz*dz_dw\n",
    "dL_db=dloss_dy_pred*dy_pred_dz*dz_db"
   ]
  },
  {
   "cell_type": "code",
   "execution_count": 11,
   "id": "f048666e-b1ab-45a5-9bd9-d4b377ecddef",
   "metadata": {},
   "outputs": [
    {
     "name": "stdout",
     "output_type": "stream",
     "text": [
      "Manual gradient of loss w.r.t. weight (dw): 6.691762447357178\n",
      "Manual gradient of loss w.r.t. bias (db): 0.998770534992218\n"
     ]
    }
   ],
   "source": [
    "print(f\"Manual gradient of loss w.r.t. weight (dw): {dL_dw}\")\n",
    "print(f\"Manual gradient of loss w.r.t. bias (db): {dL_db}\")"
   ]
  },
  {
   "cell_type": "markdown",
   "id": "800b6f95-f167-45ae-992a-e4ed9f4c7a5e",
   "metadata": {},
   "source": [
    "### Using Autograd:"
   ]
  },
  {
   "cell_type": "code",
   "execution_count": 13,
   "id": "52810487-995c-4c23-b517-a6406868ddca",
   "metadata": {},
   "outputs": [],
   "source": [
    "x=torch.tensor(6.7)\n",
    "y=torch.tensor(0.0)\n",
    "w=torch.tensor(1.0, requires_grad=True)\n",
    "b=torch.tensor(0.0, requires_grad=True)"
   ]
  },
  {
   "cell_type": "code",
   "execution_count": 14,
   "id": "b3f32607-4f71-44dd-bb49-eb8630140c42",
   "metadata": {},
   "outputs": [
    {
     "name": "stdout",
     "output_type": "stream",
     "text": [
      "tensor(1., requires_grad=True) tensor(0., requires_grad=True)\n"
     ]
    }
   ],
   "source": [
    "print(w,b)"
   ]
  },
  {
   "cell_type": "code",
   "execution_count": 15,
   "id": "2792e6d8-8555-4b25-9d08-255c85ea5635",
   "metadata": {},
   "outputs": [
    {
     "name": "stdout",
     "output_type": "stream",
     "text": [
      "tensor(6.7000, grad_fn=<AddBackward0>)\n"
     ]
    }
   ],
   "source": [
    "z=w*x+b\n",
    "print(z)"
   ]
  },
  {
   "cell_type": "code",
   "execution_count": 16,
   "id": "1d0f7183-6a3f-484d-88b0-189e1480f16a",
   "metadata": {},
   "outputs": [
    {
     "name": "stdout",
     "output_type": "stream",
     "text": [
      "tensor(0.9988, grad_fn=<SigmoidBackward0>)\n"
     ]
    }
   ],
   "source": [
    "y_pred=torch.sigmoid(z)\n",
    "print(y_pred)"
   ]
  },
  {
   "cell_type": "code",
   "execution_count": 18,
   "id": "679433d3-198d-4ac8-bee2-c00d39ee4ed2",
   "metadata": {},
   "outputs": [
    {
     "name": "stdout",
     "output_type": "stream",
     "text": [
      "tensor(6.7012, grad_fn=<NegBackward0>)\n"
     ]
    }
   ],
   "source": [
    "loss=binary_cross_entropy_loss(y_pred, y)\n",
    "print(loss)"
   ]
  },
  {
   "cell_type": "code",
   "execution_count": 19,
   "id": "e000987d-aad9-4921-96ae-96fc59977075",
   "metadata": {},
   "outputs": [],
   "source": [
    "loss.backward()"
   ]
  },
  {
   "cell_type": "code",
   "execution_count": 21,
   "id": "e4021cda-7536-4b6e-a17f-c277e9f71f16",
   "metadata": {},
   "outputs": [
    {
     "name": "stdout",
     "output_type": "stream",
     "text": [
      "tensor(6.6918)\n",
      "tensor(0.9988)\n"
     ]
    }
   ],
   "source": [
    "print(w.grad)\n",
    "print(b.grad)"
   ]
  },
  {
   "cell_type": "markdown",
   "id": "df18ad40-b637-4919-8bc9-170d7b2c51f0",
   "metadata": {},
   "source": [
    "## Using vector inputs\n",
    "It is like creating a multi variable function."
   ]
  },
  {
   "cell_type": "code",
   "execution_count": 22,
   "id": "ba6ec1cd-a8e5-45c4-9b2c-a79a195a272b",
   "metadata": {},
   "outputs": [
    {
     "data": {
      "text/plain": [
       "tensor([1., 2., 3.], requires_grad=True)"
      ]
     },
     "execution_count": 22,
     "metadata": {},
     "output_type": "execute_result"
    }
   ],
   "source": [
    "x=torch.tensor([1.0,2.0,3.0], requires_grad=True)\n",
    "x"
   ]
  },
  {
   "cell_type": "code",
   "execution_count": 23,
   "id": "faa7abba-a107-4f9e-979e-e8697e51af4e",
   "metadata": {},
   "outputs": [
    {
     "data": {
      "text/plain": [
       "tensor(4.6667, grad_fn=<MeanBackward0>)"
      ]
     },
     "execution_count": 23,
     "metadata": {},
     "output_type": "execute_result"
    }
   ],
   "source": [
    "y=(x**2).mean()\n",
    "y"
   ]
  },
  {
   "cell_type": "code",
   "execution_count": 24,
   "id": "1137f33c-e3cb-4071-aeb2-89f134d41167",
   "metadata": {},
   "outputs": [],
   "source": [
    "y.backward()"
   ]
  },
  {
   "cell_type": "code",
   "execution_count": 25,
   "id": "9f98287e-fcb1-4ea2-b629-e0e44748cbb4",
   "metadata": {},
   "outputs": [
    {
     "data": {
      "text/plain": [
       "tensor([0.6667, 1.3333, 2.0000])"
      ]
     },
     "execution_count": 25,
     "metadata": {},
     "output_type": "execute_result"
    }
   ],
   "source": [
    "x.grad"
   ]
  },
  {
   "cell_type": "markdown",
   "id": "6f648fe5-578a-4d8f-928e-ce3e0b7d2c03",
   "metadata": {},
   "source": [
    "## Clearing gradients"
   ]
  },
  {
   "cell_type": "code",
   "execution_count": 48,
   "id": "e6f7e563-c864-4763-a9c3-d1ed3419a951",
   "metadata": {},
   "outputs": [
    {
     "data": {
      "text/plain": [
       "tensor(2., requires_grad=True)"
      ]
     },
     "execution_count": 48,
     "metadata": {},
     "output_type": "execute_result"
    }
   ],
   "source": [
    "x=torch.tensor(2.0, requires_grad=True)\n",
    "x"
   ]
  },
  {
   "cell_type": "code",
   "execution_count": 49,
   "id": "fa36b032-17bf-4e5e-8dfe-589ab6cbf166",
   "metadata": {},
   "outputs": [
    {
     "data": {
      "text/plain": [
       "tensor(4., grad_fn=<PowBackward0>)"
      ]
     },
     "execution_count": 49,
     "metadata": {},
     "output_type": "execute_result"
    }
   ],
   "source": [
    "y=x**2\n",
    "y"
   ]
  },
  {
   "cell_type": "code",
   "execution_count": 50,
   "id": "66bfe3c5-f6c9-43a8-89b5-dca12c0269f3",
   "metadata": {},
   "outputs": [],
   "source": [
    "y.backward()"
   ]
  },
  {
   "cell_type": "code",
   "execution_count": 51,
   "id": "06822de3-f9fc-4460-b79e-07ccdf469f4c",
   "metadata": {},
   "outputs": [
    {
     "data": {
      "text/plain": [
       "tensor(4.)"
      ]
     },
     "execution_count": 51,
     "metadata": {},
     "output_type": "execute_result"
    }
   ],
   "source": [
    "x.grad"
   ]
  },
  {
   "cell_type": "code",
   "execution_count": 53,
   "id": "1a6db76a-6ee1-4bd7-888e-47e088703de7",
   "metadata": {},
   "outputs": [
    {
     "data": {
      "text/plain": [
       "tensor(0.)"
      ]
     },
     "execution_count": 53,
     "metadata": {},
     "output_type": "execute_result"
    }
   ],
   "source": [
    "x.grad.zero_() \n",
    "# This function clears the gradient after each pass \n",
    "# and doesn't let it accumulate"
   ]
  },
  {
   "cell_type": "markdown",
   "id": "e77bc527-5276-468e-a085-cc3e05828a70",
   "metadata": {},
   "source": [
    "## Disable gradient tracking\n",
    "Used to reduce unnecessary memory consumption when gradient tracking is not required."
   ]
  },
  {
   "cell_type": "markdown",
   "id": "e393ff26-cc08-47c6-94b4-426f7ef3fa32",
   "metadata": {},
   "source": [
    "### Method 1"
   ]
  },
  {
   "cell_type": "code",
   "execution_count": 55,
   "id": "e2d66b51-9a1f-4fbf-9f0f-b2c01f241eec",
   "metadata": {},
   "outputs": [
    {
     "data": {
      "text/plain": [
       "tensor(2.)"
      ]
     },
     "execution_count": 55,
     "metadata": {},
     "output_type": "execute_result"
    }
   ],
   "source": [
    "x.requires_grad_(False)\n",
    "x"
   ]
  },
  {
   "cell_type": "code",
   "execution_count": 56,
   "id": "a444c504-aae1-466e-bfa7-d731a53325ff",
   "metadata": {},
   "outputs": [
    {
     "data": {
      "text/plain": [
       "tensor(4.)"
      ]
     },
     "execution_count": 56,
     "metadata": {},
     "output_type": "execute_result"
    }
   ],
   "source": [
    "y=x**2\n",
    "y"
   ]
  },
  {
   "cell_type": "code",
   "execution_count": 58,
   "id": "9e3d4869-dd5a-4e47-a441-75a825112899",
   "metadata": {},
   "outputs": [],
   "source": [
    "# y.backward() \n",
    "# This doesn't work now"
   ]
  },
  {
   "cell_type": "markdown",
   "id": "a613b169-0830-4c45-9886-5ebd44455df7",
   "metadata": {},
   "source": [
    "### Method 2"
   ]
  },
  {
   "cell_type": "code",
   "execution_count": 5,
   "id": "4dede9a5-c301-4b39-92b6-050a59abb6c4",
   "metadata": {},
   "outputs": [
    {
     "data": {
      "text/plain": [
       "tensor(2., requires_grad=True)"
      ]
     },
     "execution_count": 5,
     "metadata": {},
     "output_type": "execute_result"
    }
   ],
   "source": [
    "x=torch.tensor(2.0, requires_grad=True)\n",
    "x"
   ]
  },
  {
   "cell_type": "code",
   "execution_count": 6,
   "id": "6986f1bd-442e-485e-bca1-98811aea5f8a",
   "metadata": {},
   "outputs": [
    {
     "data": {
      "text/plain": [
       "tensor(2.)"
      ]
     },
     "execution_count": 6,
     "metadata": {},
     "output_type": "execute_result"
    }
   ],
   "source": [
    "z=x.detach()\n",
    "z"
   ]
  },
  {
   "cell_type": "code",
   "execution_count": 7,
   "id": "b6c0520c-a46a-4dd2-95c5-73117ffc14dc",
   "metadata": {},
   "outputs": [
    {
     "data": {
      "text/plain": [
       "tensor(4., grad_fn=<PowBackward0>)"
      ]
     },
     "execution_count": 7,
     "metadata": {},
     "output_type": "execute_result"
    }
   ],
   "source": [
    "y=x**2\n",
    "y"
   ]
  },
  {
   "cell_type": "code",
   "execution_count": 8,
   "id": "16b36215-db16-401c-a4c0-f3ef18292dd4",
   "metadata": {},
   "outputs": [
    {
     "data": {
      "text/plain": [
       "tensor(4.)"
      ]
     },
     "execution_count": 8,
     "metadata": {},
     "output_type": "execute_result"
    }
   ],
   "source": [
    "y1=z**2\n",
    "y1"
   ]
  },
  {
   "cell_type": "code",
   "execution_count": 23,
   "id": "6064ce84-df21-49fd-8749-765b1145eb6b",
   "metadata": {},
   "outputs": [
    {
     "ename": "RuntimeError",
     "evalue": "Trying to backward through the graph a second time (or directly access saved tensors after they have already been freed). Saved intermediate values of the graph are freed when you call .backward() or autograd.grad(). Specify retain_graph=True if you need to backward through the graph a second time or if you need to access saved tensors after calling backward.",
     "output_type": "error",
     "traceback": [
      "\u001b[31m---------------------------------------------------------------------------\u001b[39m",
      "\u001b[31mRuntimeError\u001b[39m                              Traceback (most recent call last)",
      "\u001b[36mCell\u001b[39m\u001b[36m \u001b[39m\u001b[32mIn[23]\u001b[39m\u001b[32m, line 1\u001b[39m\n\u001b[32m----> \u001b[39m\u001b[32m1\u001b[39m \u001b[43my\u001b[49m\u001b[43m.\u001b[49m\u001b[43mbackward\u001b[49m\u001b[43m(\u001b[49m\u001b[43m)\u001b[49m\n",
      "\u001b[36mFile \u001b[39m\u001b[32m~\\AppData\\Local\\Programs\\Python\\Python313\\Lib\\site-packages\\torch\\_tensor.py:648\u001b[39m, in \u001b[36mTensor.backward\u001b[39m\u001b[34m(self, gradient, retain_graph, create_graph, inputs)\u001b[39m\n\u001b[32m    638\u001b[39m \u001b[38;5;28;01mif\u001b[39;00m has_torch_function_unary(\u001b[38;5;28mself\u001b[39m):\n\u001b[32m    639\u001b[39m     \u001b[38;5;28;01mreturn\u001b[39;00m handle_torch_function(\n\u001b[32m    640\u001b[39m         Tensor.backward,\n\u001b[32m    641\u001b[39m         (\u001b[38;5;28mself\u001b[39m,),\n\u001b[32m   (...)\u001b[39m\u001b[32m    646\u001b[39m         inputs=inputs,\n\u001b[32m    647\u001b[39m     )\n\u001b[32m--> \u001b[39m\u001b[32m648\u001b[39m \u001b[43mtorch\u001b[49m\u001b[43m.\u001b[49m\u001b[43mautograd\u001b[49m\u001b[43m.\u001b[49m\u001b[43mbackward\u001b[49m\u001b[43m(\u001b[49m\n\u001b[32m    649\u001b[39m \u001b[43m    \u001b[49m\u001b[38;5;28;43mself\u001b[39;49m\u001b[43m,\u001b[49m\u001b[43m \u001b[49m\u001b[43mgradient\u001b[49m\u001b[43m,\u001b[49m\u001b[43m \u001b[49m\u001b[43mretain_graph\u001b[49m\u001b[43m,\u001b[49m\u001b[43m \u001b[49m\u001b[43mcreate_graph\u001b[49m\u001b[43m,\u001b[49m\u001b[43m \u001b[49m\u001b[43minputs\u001b[49m\u001b[43m=\u001b[49m\u001b[43minputs\u001b[49m\n\u001b[32m    650\u001b[39m \u001b[43m\u001b[49m\u001b[43m)\u001b[49m\n",
      "\u001b[36mFile \u001b[39m\u001b[32m~\\AppData\\Local\\Programs\\Python\\Python313\\Lib\\site-packages\\torch\\autograd\\__init__.py:353\u001b[39m, in \u001b[36mbackward\u001b[39m\u001b[34m(tensors, grad_tensors, retain_graph, create_graph, grad_variables, inputs)\u001b[39m\n\u001b[32m    348\u001b[39m     retain_graph = create_graph\n\u001b[32m    350\u001b[39m \u001b[38;5;66;03m# The reason we repeat the same comment below is that\u001b[39;00m\n\u001b[32m    351\u001b[39m \u001b[38;5;66;03m# some Python versions print out the first line of a multi-line function\u001b[39;00m\n\u001b[32m    352\u001b[39m \u001b[38;5;66;03m# calls in the traceback and some print out the last line\u001b[39;00m\n\u001b[32m--> \u001b[39m\u001b[32m353\u001b[39m \u001b[43m_engine_run_backward\u001b[49m\u001b[43m(\u001b[49m\n\u001b[32m    354\u001b[39m \u001b[43m    \u001b[49m\u001b[43mtensors\u001b[49m\u001b[43m,\u001b[49m\n\u001b[32m    355\u001b[39m \u001b[43m    \u001b[49m\u001b[43mgrad_tensors_\u001b[49m\u001b[43m,\u001b[49m\n\u001b[32m    356\u001b[39m \u001b[43m    \u001b[49m\u001b[43mretain_graph\u001b[49m\u001b[43m,\u001b[49m\n\u001b[32m    357\u001b[39m \u001b[43m    \u001b[49m\u001b[43mcreate_graph\u001b[49m\u001b[43m,\u001b[49m\n\u001b[32m    358\u001b[39m \u001b[43m    \u001b[49m\u001b[43minputs\u001b[49m\u001b[43m,\u001b[49m\n\u001b[32m    359\u001b[39m \u001b[43m    \u001b[49m\u001b[43mallow_unreachable\u001b[49m\u001b[43m=\u001b[49m\u001b[38;5;28;43;01mTrue\u001b[39;49;00m\u001b[43m,\u001b[49m\n\u001b[32m    360\u001b[39m \u001b[43m    \u001b[49m\u001b[43maccumulate_grad\u001b[49m\u001b[43m=\u001b[49m\u001b[38;5;28;43;01mTrue\u001b[39;49;00m\u001b[43m,\u001b[49m\n\u001b[32m    361\u001b[39m \u001b[43m\u001b[49m\u001b[43m)\u001b[49m\n",
      "\u001b[36mFile \u001b[39m\u001b[32m~\\AppData\\Local\\Programs\\Python\\Python313\\Lib\\site-packages\\torch\\autograd\\graph.py:824\u001b[39m, in \u001b[36m_engine_run_backward\u001b[39m\u001b[34m(t_outputs, *args, **kwargs)\u001b[39m\n\u001b[32m    822\u001b[39m     unregister_hooks = _register_logging_hooks_on_whole_graph(t_outputs)\n\u001b[32m    823\u001b[39m \u001b[38;5;28;01mtry\u001b[39;00m:\n\u001b[32m--> \u001b[39m\u001b[32m824\u001b[39m     \u001b[38;5;28;01mreturn\u001b[39;00m \u001b[43mVariable\u001b[49m\u001b[43m.\u001b[49m\u001b[43m_execution_engine\u001b[49m\u001b[43m.\u001b[49m\u001b[43mrun_backward\u001b[49m\u001b[43m(\u001b[49m\u001b[43m  \u001b[49m\u001b[38;5;66;43;03m# Calls into the C++ engine to run the backward pass\u001b[39;49;00m\n\u001b[32m    825\u001b[39m \u001b[43m        \u001b[49m\u001b[43mt_outputs\u001b[49m\u001b[43m,\u001b[49m\u001b[43m \u001b[49m\u001b[43m*\u001b[49m\u001b[43margs\u001b[49m\u001b[43m,\u001b[49m\u001b[43m \u001b[49m\u001b[43m*\u001b[49m\u001b[43m*\u001b[49m\u001b[43mkwargs\u001b[49m\n\u001b[32m    826\u001b[39m \u001b[43m    \u001b[49m\u001b[43m)\u001b[49m  \u001b[38;5;66;03m# Calls into the C++ engine to run the backward pass\u001b[39;00m\n\u001b[32m    827\u001b[39m \u001b[38;5;28;01mfinally\u001b[39;00m:\n\u001b[32m    828\u001b[39m     \u001b[38;5;28;01mif\u001b[39;00m attach_logging_hooks:\n",
      "\u001b[31mRuntimeError\u001b[39m: Trying to backward through the graph a second time (or directly access saved tensors after they have already been freed). Saved intermediate values of the graph are freed when you call .backward() or autograd.grad(). Specify retain_graph=True if you need to backward through the graph a second time or if you need to access saved tensors after calling backward."
     ]
    }
   ],
   "source": [
    "y.backward()"
   ]
  },
  {
   "cell_type": "code",
   "execution_count": 25,
   "id": "4822a632-1f11-44df-86fe-ff6e9de9b596",
   "metadata": {},
   "outputs": [],
   "source": [
    "# y1.backward() is NOT feasible"
   ]
  },
  {
   "cell_type": "markdown",
   "id": "d6efaf7f-611e-474d-bf4e-b3937fbf2a26",
   "metadata": {},
   "source": [
    "## Method 3"
   ]
  },
  {
   "cell_type": "code",
   "execution_count": 26,
   "id": "125623c6-60ab-4f64-85ea-651fb7e6fe49",
   "metadata": {},
   "outputs": [
    {
     "data": {
      "text/plain": [
       "tensor(2., requires_grad=True)"
      ]
     },
     "execution_count": 26,
     "metadata": {},
     "output_type": "execute_result"
    }
   ],
   "source": [
    "x=torch.tensor(2.0, requires_grad=True)\n",
    "x"
   ]
  },
  {
   "cell_type": "code",
   "execution_count": 28,
   "id": "188fff49-0760-4a11-9b94-7fdd9de12177",
   "metadata": {},
   "outputs": [
    {
     "data": {
      "text/plain": [
       "tensor(4.)"
      ]
     },
     "execution_count": 28,
     "metadata": {},
     "output_type": "execute_result"
    }
   ],
   "source": [
    "with torch.no_grad():\n",
    "    y=x**2\n",
    "\n",
    "y"
   ]
  },
  {
   "cell_type": "code",
   "execution_count": 30,
   "id": "8aee7174-1af2-4e70-84ba-1401668ed918",
   "metadata": {},
   "outputs": [],
   "source": [
    "# y.backward() does NOT work"
   ]
  },
  {
   "cell_type": "markdown",
   "id": "76681aa0-7983-4eaf-9516-c719d15ac55e",
   "metadata": {},
   "source": [
    "# Training Pipeline"
   ]
  },
  {
   "cell_type": "code",
   "execution_count": 6,
   "id": "5fbd4fee-20d7-4168-b511-ac644a6aecae",
   "metadata": {},
   "outputs": [],
   "source": [
    "import numpy as np\n",
    "import pandas as pd\n",
    "import torch\n",
    "from sklearn.model_selection import train_test_split\n",
    "from sklearn.preprocessing import StandardScaler\n",
    "from sklearn.preprocessing import LabelEncoder"
   ]
  },
  {
   "cell_type": "code",
   "execution_count": 8,
   "id": "b54c5438-f468-4d34-a759-6cb31003ac7d",
   "metadata": {},
   "outputs": [
    {
     "data": {
      "text/html": [
       "<div>\n",
       "<style scoped>\n",
       "    .dataframe tbody tr th:only-of-type {\n",
       "        vertical-align: middle;\n",
       "    }\n",
       "\n",
       "    .dataframe tbody tr th {\n",
       "        vertical-align: top;\n",
       "    }\n",
       "\n",
       "    .dataframe thead th {\n",
       "        text-align: right;\n",
       "    }\n",
       "</style>\n",
       "<table border=\"1\" class=\"dataframe\">\n",
       "  <thead>\n",
       "    <tr style=\"text-align: right;\">\n",
       "      <th></th>\n",
       "      <th>id</th>\n",
       "      <th>diagnosis</th>\n",
       "      <th>radius_mean</th>\n",
       "      <th>texture_mean</th>\n",
       "      <th>perimeter_mean</th>\n",
       "      <th>area_mean</th>\n",
       "      <th>smoothness_mean</th>\n",
       "      <th>compactness_mean</th>\n",
       "      <th>concavity_mean</th>\n",
       "      <th>concave points_mean</th>\n",
       "      <th>...</th>\n",
       "      <th>texture_worst</th>\n",
       "      <th>perimeter_worst</th>\n",
       "      <th>area_worst</th>\n",
       "      <th>smoothness_worst</th>\n",
       "      <th>compactness_worst</th>\n",
       "      <th>concavity_worst</th>\n",
       "      <th>concave points_worst</th>\n",
       "      <th>symmetry_worst</th>\n",
       "      <th>fractal_dimension_worst</th>\n",
       "      <th>Unnamed: 32</th>\n",
       "    </tr>\n",
       "  </thead>\n",
       "  <tbody>\n",
       "    <tr>\n",
       "      <th>0</th>\n",
       "      <td>842302</td>\n",
       "      <td>M</td>\n",
       "      <td>17.99</td>\n",
       "      <td>10.38</td>\n",
       "      <td>122.80</td>\n",
       "      <td>1001.0</td>\n",
       "      <td>0.11840</td>\n",
       "      <td>0.27760</td>\n",
       "      <td>0.3001</td>\n",
       "      <td>0.14710</td>\n",
       "      <td>...</td>\n",
       "      <td>17.33</td>\n",
       "      <td>184.60</td>\n",
       "      <td>2019.0</td>\n",
       "      <td>0.1622</td>\n",
       "      <td>0.6656</td>\n",
       "      <td>0.7119</td>\n",
       "      <td>0.2654</td>\n",
       "      <td>0.4601</td>\n",
       "      <td>0.11890</td>\n",
       "      <td>NaN</td>\n",
       "    </tr>\n",
       "    <tr>\n",
       "      <th>1</th>\n",
       "      <td>842517</td>\n",
       "      <td>M</td>\n",
       "      <td>20.57</td>\n",
       "      <td>17.77</td>\n",
       "      <td>132.90</td>\n",
       "      <td>1326.0</td>\n",
       "      <td>0.08474</td>\n",
       "      <td>0.07864</td>\n",
       "      <td>0.0869</td>\n",
       "      <td>0.07017</td>\n",
       "      <td>...</td>\n",
       "      <td>23.41</td>\n",
       "      <td>158.80</td>\n",
       "      <td>1956.0</td>\n",
       "      <td>0.1238</td>\n",
       "      <td>0.1866</td>\n",
       "      <td>0.2416</td>\n",
       "      <td>0.1860</td>\n",
       "      <td>0.2750</td>\n",
       "      <td>0.08902</td>\n",
       "      <td>NaN</td>\n",
       "    </tr>\n",
       "    <tr>\n",
       "      <th>2</th>\n",
       "      <td>84300903</td>\n",
       "      <td>M</td>\n",
       "      <td>19.69</td>\n",
       "      <td>21.25</td>\n",
       "      <td>130.00</td>\n",
       "      <td>1203.0</td>\n",
       "      <td>0.10960</td>\n",
       "      <td>0.15990</td>\n",
       "      <td>0.1974</td>\n",
       "      <td>0.12790</td>\n",
       "      <td>...</td>\n",
       "      <td>25.53</td>\n",
       "      <td>152.50</td>\n",
       "      <td>1709.0</td>\n",
       "      <td>0.1444</td>\n",
       "      <td>0.4245</td>\n",
       "      <td>0.4504</td>\n",
       "      <td>0.2430</td>\n",
       "      <td>0.3613</td>\n",
       "      <td>0.08758</td>\n",
       "      <td>NaN</td>\n",
       "    </tr>\n",
       "    <tr>\n",
       "      <th>3</th>\n",
       "      <td>84348301</td>\n",
       "      <td>M</td>\n",
       "      <td>11.42</td>\n",
       "      <td>20.38</td>\n",
       "      <td>77.58</td>\n",
       "      <td>386.1</td>\n",
       "      <td>0.14250</td>\n",
       "      <td>0.28390</td>\n",
       "      <td>0.2414</td>\n",
       "      <td>0.10520</td>\n",
       "      <td>...</td>\n",
       "      <td>26.50</td>\n",
       "      <td>98.87</td>\n",
       "      <td>567.7</td>\n",
       "      <td>0.2098</td>\n",
       "      <td>0.8663</td>\n",
       "      <td>0.6869</td>\n",
       "      <td>0.2575</td>\n",
       "      <td>0.6638</td>\n",
       "      <td>0.17300</td>\n",
       "      <td>NaN</td>\n",
       "    </tr>\n",
       "    <tr>\n",
       "      <th>4</th>\n",
       "      <td>84358402</td>\n",
       "      <td>M</td>\n",
       "      <td>20.29</td>\n",
       "      <td>14.34</td>\n",
       "      <td>135.10</td>\n",
       "      <td>1297.0</td>\n",
       "      <td>0.10030</td>\n",
       "      <td>0.13280</td>\n",
       "      <td>0.1980</td>\n",
       "      <td>0.10430</td>\n",
       "      <td>...</td>\n",
       "      <td>16.67</td>\n",
       "      <td>152.20</td>\n",
       "      <td>1575.0</td>\n",
       "      <td>0.1374</td>\n",
       "      <td>0.2050</td>\n",
       "      <td>0.4000</td>\n",
       "      <td>0.1625</td>\n",
       "      <td>0.2364</td>\n",
       "      <td>0.07678</td>\n",
       "      <td>NaN</td>\n",
       "    </tr>\n",
       "  </tbody>\n",
       "</table>\n",
       "<p>5 rows × 33 columns</p>\n",
       "</div>"
      ],
      "text/plain": [
       "         id diagnosis  radius_mean  texture_mean  perimeter_mean  area_mean  \\\n",
       "0    842302         M        17.99         10.38          122.80     1001.0   \n",
       "1    842517         M        20.57         17.77          132.90     1326.0   \n",
       "2  84300903         M        19.69         21.25          130.00     1203.0   \n",
       "3  84348301         M        11.42         20.38           77.58      386.1   \n",
       "4  84358402         M        20.29         14.34          135.10     1297.0   \n",
       "\n",
       "   smoothness_mean  compactness_mean  concavity_mean  concave points_mean  \\\n",
       "0          0.11840           0.27760          0.3001              0.14710   \n",
       "1          0.08474           0.07864          0.0869              0.07017   \n",
       "2          0.10960           0.15990          0.1974              0.12790   \n",
       "3          0.14250           0.28390          0.2414              0.10520   \n",
       "4          0.10030           0.13280          0.1980              0.10430   \n",
       "\n",
       "   ...  texture_worst  perimeter_worst  area_worst  smoothness_worst  \\\n",
       "0  ...          17.33           184.60      2019.0            0.1622   \n",
       "1  ...          23.41           158.80      1956.0            0.1238   \n",
       "2  ...          25.53           152.50      1709.0            0.1444   \n",
       "3  ...          26.50            98.87       567.7            0.2098   \n",
       "4  ...          16.67           152.20      1575.0            0.1374   \n",
       "\n",
       "   compactness_worst  concavity_worst  concave points_worst  symmetry_worst  \\\n",
       "0             0.6656           0.7119                0.2654          0.4601   \n",
       "1             0.1866           0.2416                0.1860          0.2750   \n",
       "2             0.4245           0.4504                0.2430          0.3613   \n",
       "3             0.8663           0.6869                0.2575          0.6638   \n",
       "4             0.2050           0.4000                0.1625          0.2364   \n",
       "\n",
       "   fractal_dimension_worst  Unnamed: 32  \n",
       "0                  0.11890          NaN  \n",
       "1                  0.08902          NaN  \n",
       "2                  0.08758          NaN  \n",
       "3                  0.17300          NaN  \n",
       "4                  0.07678          NaN  \n",
       "\n",
       "[5 rows x 33 columns]"
      ]
     },
     "execution_count": 8,
     "metadata": {},
     "output_type": "execute_result"
    }
   ],
   "source": [
    "df=pd.read_csv('https://raw.githubusercontent.com/gscdit/Breast-Cancer-Detection/refs/heads/master/data.csv')\n",
    "df.head()"
   ]
  },
  {
   "cell_type": "code",
   "execution_count": 10,
   "id": "ed2f6eb1-6305-4926-a09c-ed70b7e2490a",
   "metadata": {},
   "outputs": [
    {
     "data": {
      "text/plain": [
       "(569, 33)"
      ]
     },
     "execution_count": 10,
     "metadata": {},
     "output_type": "execute_result"
    }
   ],
   "source": [
    "df.shape"
   ]
  },
  {
   "cell_type": "code",
   "execution_count": 11,
   "id": "3046b432-8d79-46bb-963e-33eb089bfec9",
   "metadata": {},
   "outputs": [],
   "source": [
    "df.drop(columns=['id','Unnamed: 32'], inplace=True)"
   ]
  },
  {
   "cell_type": "code",
   "execution_count": 12,
   "id": "58c0344d-e3ed-403d-8fa5-6c03ad344312",
   "metadata": {},
   "outputs": [
    {
     "data": {
      "text/html": [
       "<div>\n",
       "<style scoped>\n",
       "    .dataframe tbody tr th:only-of-type {\n",
       "        vertical-align: middle;\n",
       "    }\n",
       "\n",
       "    .dataframe tbody tr th {\n",
       "        vertical-align: top;\n",
       "    }\n",
       "\n",
       "    .dataframe thead th {\n",
       "        text-align: right;\n",
       "    }\n",
       "</style>\n",
       "<table border=\"1\" class=\"dataframe\">\n",
       "  <thead>\n",
       "    <tr style=\"text-align: right;\">\n",
       "      <th></th>\n",
       "      <th>diagnosis</th>\n",
       "      <th>radius_mean</th>\n",
       "      <th>texture_mean</th>\n",
       "      <th>perimeter_mean</th>\n",
       "      <th>area_mean</th>\n",
       "      <th>smoothness_mean</th>\n",
       "      <th>compactness_mean</th>\n",
       "      <th>concavity_mean</th>\n",
       "      <th>concave points_mean</th>\n",
       "      <th>symmetry_mean</th>\n",
       "      <th>...</th>\n",
       "      <th>radius_worst</th>\n",
       "      <th>texture_worst</th>\n",
       "      <th>perimeter_worst</th>\n",
       "      <th>area_worst</th>\n",
       "      <th>smoothness_worst</th>\n",
       "      <th>compactness_worst</th>\n",
       "      <th>concavity_worst</th>\n",
       "      <th>concave points_worst</th>\n",
       "      <th>symmetry_worst</th>\n",
       "      <th>fractal_dimension_worst</th>\n",
       "    </tr>\n",
       "  </thead>\n",
       "  <tbody>\n",
       "    <tr>\n",
       "      <th>0</th>\n",
       "      <td>M</td>\n",
       "      <td>17.99</td>\n",
       "      <td>10.38</td>\n",
       "      <td>122.80</td>\n",
       "      <td>1001.0</td>\n",
       "      <td>0.11840</td>\n",
       "      <td>0.27760</td>\n",
       "      <td>0.3001</td>\n",
       "      <td>0.14710</td>\n",
       "      <td>0.2419</td>\n",
       "      <td>...</td>\n",
       "      <td>25.38</td>\n",
       "      <td>17.33</td>\n",
       "      <td>184.60</td>\n",
       "      <td>2019.0</td>\n",
       "      <td>0.1622</td>\n",
       "      <td>0.6656</td>\n",
       "      <td>0.7119</td>\n",
       "      <td>0.2654</td>\n",
       "      <td>0.4601</td>\n",
       "      <td>0.11890</td>\n",
       "    </tr>\n",
       "    <tr>\n",
       "      <th>1</th>\n",
       "      <td>M</td>\n",
       "      <td>20.57</td>\n",
       "      <td>17.77</td>\n",
       "      <td>132.90</td>\n",
       "      <td>1326.0</td>\n",
       "      <td>0.08474</td>\n",
       "      <td>0.07864</td>\n",
       "      <td>0.0869</td>\n",
       "      <td>0.07017</td>\n",
       "      <td>0.1812</td>\n",
       "      <td>...</td>\n",
       "      <td>24.99</td>\n",
       "      <td>23.41</td>\n",
       "      <td>158.80</td>\n",
       "      <td>1956.0</td>\n",
       "      <td>0.1238</td>\n",
       "      <td>0.1866</td>\n",
       "      <td>0.2416</td>\n",
       "      <td>0.1860</td>\n",
       "      <td>0.2750</td>\n",
       "      <td>0.08902</td>\n",
       "    </tr>\n",
       "    <tr>\n",
       "      <th>2</th>\n",
       "      <td>M</td>\n",
       "      <td>19.69</td>\n",
       "      <td>21.25</td>\n",
       "      <td>130.00</td>\n",
       "      <td>1203.0</td>\n",
       "      <td>0.10960</td>\n",
       "      <td>0.15990</td>\n",
       "      <td>0.1974</td>\n",
       "      <td>0.12790</td>\n",
       "      <td>0.2069</td>\n",
       "      <td>...</td>\n",
       "      <td>23.57</td>\n",
       "      <td>25.53</td>\n",
       "      <td>152.50</td>\n",
       "      <td>1709.0</td>\n",
       "      <td>0.1444</td>\n",
       "      <td>0.4245</td>\n",
       "      <td>0.4504</td>\n",
       "      <td>0.2430</td>\n",
       "      <td>0.3613</td>\n",
       "      <td>0.08758</td>\n",
       "    </tr>\n",
       "    <tr>\n",
       "      <th>3</th>\n",
       "      <td>M</td>\n",
       "      <td>11.42</td>\n",
       "      <td>20.38</td>\n",
       "      <td>77.58</td>\n",
       "      <td>386.1</td>\n",
       "      <td>0.14250</td>\n",
       "      <td>0.28390</td>\n",
       "      <td>0.2414</td>\n",
       "      <td>0.10520</td>\n",
       "      <td>0.2597</td>\n",
       "      <td>...</td>\n",
       "      <td>14.91</td>\n",
       "      <td>26.50</td>\n",
       "      <td>98.87</td>\n",
       "      <td>567.7</td>\n",
       "      <td>0.2098</td>\n",
       "      <td>0.8663</td>\n",
       "      <td>0.6869</td>\n",
       "      <td>0.2575</td>\n",
       "      <td>0.6638</td>\n",
       "      <td>0.17300</td>\n",
       "    </tr>\n",
       "    <tr>\n",
       "      <th>4</th>\n",
       "      <td>M</td>\n",
       "      <td>20.29</td>\n",
       "      <td>14.34</td>\n",
       "      <td>135.10</td>\n",
       "      <td>1297.0</td>\n",
       "      <td>0.10030</td>\n",
       "      <td>0.13280</td>\n",
       "      <td>0.1980</td>\n",
       "      <td>0.10430</td>\n",
       "      <td>0.1809</td>\n",
       "      <td>...</td>\n",
       "      <td>22.54</td>\n",
       "      <td>16.67</td>\n",
       "      <td>152.20</td>\n",
       "      <td>1575.0</td>\n",
       "      <td>0.1374</td>\n",
       "      <td>0.2050</td>\n",
       "      <td>0.4000</td>\n",
       "      <td>0.1625</td>\n",
       "      <td>0.2364</td>\n",
       "      <td>0.07678</td>\n",
       "    </tr>\n",
       "  </tbody>\n",
       "</table>\n",
       "<p>5 rows × 31 columns</p>\n",
       "</div>"
      ],
      "text/plain": [
       "  diagnosis  radius_mean  texture_mean  perimeter_mean  area_mean  \\\n",
       "0         M        17.99         10.38          122.80     1001.0   \n",
       "1         M        20.57         17.77          132.90     1326.0   \n",
       "2         M        19.69         21.25          130.00     1203.0   \n",
       "3         M        11.42         20.38           77.58      386.1   \n",
       "4         M        20.29         14.34          135.10     1297.0   \n",
       "\n",
       "   smoothness_mean  compactness_mean  concavity_mean  concave points_mean  \\\n",
       "0          0.11840           0.27760          0.3001              0.14710   \n",
       "1          0.08474           0.07864          0.0869              0.07017   \n",
       "2          0.10960           0.15990          0.1974              0.12790   \n",
       "3          0.14250           0.28390          0.2414              0.10520   \n",
       "4          0.10030           0.13280          0.1980              0.10430   \n",
       "\n",
       "   symmetry_mean  ...  radius_worst  texture_worst  perimeter_worst  \\\n",
       "0         0.2419  ...         25.38          17.33           184.60   \n",
       "1         0.1812  ...         24.99          23.41           158.80   \n",
       "2         0.2069  ...         23.57          25.53           152.50   \n",
       "3         0.2597  ...         14.91          26.50            98.87   \n",
       "4         0.1809  ...         22.54          16.67           152.20   \n",
       "\n",
       "   area_worst  smoothness_worst  compactness_worst  concavity_worst  \\\n",
       "0      2019.0            0.1622             0.6656           0.7119   \n",
       "1      1956.0            0.1238             0.1866           0.2416   \n",
       "2      1709.0            0.1444             0.4245           0.4504   \n",
       "3       567.7            0.2098             0.8663           0.6869   \n",
       "4      1575.0            0.1374             0.2050           0.4000   \n",
       "\n",
       "   concave points_worst  symmetry_worst  fractal_dimension_worst  \n",
       "0                0.2654          0.4601                  0.11890  \n",
       "1                0.1860          0.2750                  0.08902  \n",
       "2                0.2430          0.3613                  0.08758  \n",
       "3                0.2575          0.6638                  0.17300  \n",
       "4                0.1625          0.2364                  0.07678  \n",
       "\n",
       "[5 rows x 31 columns]"
      ]
     },
     "execution_count": 12,
     "metadata": {},
     "output_type": "execute_result"
    }
   ],
   "source": [
    "df.head()"
   ]
  },
  {
   "cell_type": "markdown",
   "id": "996af2a4-2cd8-4395-b7e7-6490a073ee3d",
   "metadata": {},
   "source": [
    "Train, test, split"
   ]
  },
  {
   "cell_type": "code",
   "execution_count": 13,
   "id": "cc771098-dd01-47fb-9a03-6e2c70d614b9",
   "metadata": {},
   "outputs": [],
   "source": [
    "X_train, X_test, y_train, y_test=train_test_split(df.iloc[:, 1:], df.iloc[:, 0], test_size=0.2)"
   ]
  },
  {
   "cell_type": "markdown",
   "id": "ef624333-33ff-48a9-92a3-2c07839e75c3",
   "metadata": {},
   "source": [
    "Scaling"
   ]
  },
  {
   "cell_type": "code",
   "execution_count": 14,
   "id": "9c2613de-6758-4207-bbe4-21be93159d9e",
   "metadata": {},
   "outputs": [],
   "source": [
    "scaler=StandardScaler()\n",
    "X_train=scaler.fit_transform(X_train)\n",
    "X_test=scaler.transform(X_test)"
   ]
  },
  {
   "cell_type": "code",
   "execution_count": 15,
   "id": "982d7dc0-1485-4299-957d-45939a14c34a",
   "metadata": {},
   "outputs": [
    {
     "data": {
      "text/plain": [
       "array([[ 1.15004913,  0.18687843,  1.11783855, ...,  1.20640787,\n",
       "         0.2953048 ,  0.00733342],\n",
       "       [ 1.50836359, -0.07408966,  1.51968395, ...,  1.27962342,\n",
       "         0.13935809,  0.86457473],\n",
       "       [ 0.56778814, -0.75792268,  0.57798563, ...,  0.16766224,\n",
       "         0.44304378,  0.33243711],\n",
       "       ...,\n",
       "       [ 0.53979482,  0.10713818,  0.48868665, ...,  0.57797439,\n",
       "        -0.38265299, -1.08055578],\n",
       "       [ 1.08846384, -0.56944574,  1.03259861, ...,  0.60085425,\n",
       "        -0.06747649, -0.07119669],\n",
       "       [-0.77869041, -0.39546702, -0.79437731, ..., -0.41379127,\n",
       "         0.14756581, -0.33479428]], shape=(455, 30))"
      ]
     },
     "execution_count": 15,
     "metadata": {},
     "output_type": "execute_result"
    }
   ],
   "source": [
    "X_train"
   ]
  },
  {
   "cell_type": "code",
   "execution_count": 16,
   "id": "2f327185-66fd-4f1c-b289-bcf553c2df76",
   "metadata": {},
   "outputs": [
    {
     "data": {
      "text/plain": [
       "6      M\n",
       "300    M\n",
       "375    B\n",
       "4      M\n",
       "204    B\n",
       "      ..\n",
       "180    M\n",
       "216    B\n",
       "75     M\n",
       "444    M\n",
       "410    B\n",
       "Name: diagnosis, Length: 455, dtype: object"
      ]
     },
     "execution_count": 16,
     "metadata": {},
     "output_type": "execute_result"
    }
   ],
   "source": [
    "y_train"
   ]
  },
  {
   "cell_type": "markdown",
   "id": "4e607910-7de6-46d2-8ebb-9c813b8ef02e",
   "metadata": {},
   "source": [
    "Label Encoding"
   ]
  },
  {
   "cell_type": "code",
   "execution_count": 17,
   "id": "06701b98-aee5-4d8a-bbe7-5c3f944cd8fe",
   "metadata": {},
   "outputs": [],
   "source": [
    "encoder=LabelEncoder()\n",
    "y_train=encoder.fit_transform(y_train)\n",
    "y_test=encoder.transform(y_test)"
   ]
  },
  {
   "cell_type": "code",
   "execution_count": 18,
   "id": "fbb854e5-a835-44e3-8651-9b2a8bfea74e",
   "metadata": {},
   "outputs": [
    {
     "data": {
      "text/plain": [
       "array([1, 1, 0, 1, 0, 1, 1, 0, 1, 0, 1, 1, 0, 0, 1, 1, 1, 1, 1, 0, 1, 0,\n",
       "       1, 1, 0, 1, 0, 0, 1, 0, 0, 1, 0, 1, 0, 0, 0, 0, 0, 0, 0, 0, 0, 0,\n",
       "       0, 1, 0, 1, 0, 0, 1, 0, 0, 0, 1, 0, 1, 0, 1, 0, 1, 1, 1, 1, 1, 0,\n",
       "       0, 0, 0, 0, 0, 1, 0, 0, 1, 0, 0, 1, 1, 1, 1, 0, 0, 1, 0, 0, 0, 0,\n",
       "       1, 1, 1, 0, 0, 0, 1, 1, 1, 1, 0, 1, 0, 0, 0, 0, 1, 0, 0, 0, 0, 0,\n",
       "       0, 1, 1, 0, 1, 0, 0, 0, 1, 0, 0, 0, 0, 0, 1, 1, 1, 0, 0, 1, 0, 0,\n",
       "       0, 0, 0, 0, 0, 0, 1, 0, 0, 0, 0, 1, 0, 1, 0, 0, 1, 1, 1, 0, 0, 0,\n",
       "       0, 0, 1, 1, 1, 1, 1, 0, 1, 0, 0, 0, 0, 0, 1, 0, 1, 0, 1, 0, 1, 0,\n",
       "       1, 1, 1, 1, 0, 1, 0, 0, 0, 0, 1, 0, 0, 0, 0, 1, 0, 0, 0, 0, 0, 0,\n",
       "       0, 0, 1, 1, 1, 1, 0, 0, 1, 0, 0, 1, 0, 1, 0, 1, 1, 1, 0, 0, 0, 0,\n",
       "       0, 0, 0, 0, 0, 0, 0, 0, 1, 0, 0, 0, 1, 1, 0, 0, 1, 1, 0, 0, 1, 0,\n",
       "       0, 1, 1, 0, 1, 0, 1, 0, 0, 0, 0, 0, 0, 0, 0, 0, 0, 1, 1, 0, 1, 1,\n",
       "       1, 1, 0, 0, 0, 0, 0, 0, 0, 0, 1, 0, 0, 0, 1, 0, 0, 0, 1, 0, 0, 1,\n",
       "       0, 0, 1, 1, 0, 0, 1, 1, 1, 0, 0, 0, 1, 0, 0, 0, 0, 1, 1, 0, 1, 0,\n",
       "       0, 0, 0, 0, 1, 0, 0, 0, 1, 0, 1, 0, 1, 0, 1, 1, 1, 1, 0, 0, 0, 0,\n",
       "       1, 0, 0, 1, 0, 1, 0, 1, 0, 0, 0, 0, 1, 0, 1, 0, 0, 1, 0, 0, 0, 0,\n",
       "       0, 0, 1, 1, 0, 1, 0, 1, 1, 0, 1, 1, 1, 1, 0, 0, 0, 1, 0, 0, 0, 1,\n",
       "       0, 0, 0, 1, 0, 0, 0, 0, 1, 0, 0, 0, 1, 0, 0, 0, 1, 1, 0, 1, 0, 0,\n",
       "       1, 0, 0, 0, 0, 0, 1, 1, 1, 0, 1, 0, 0, 0, 1, 0, 1, 0, 0, 0, 0, 0,\n",
       "       1, 0, 1, 0, 0, 0, 0, 0, 0, 0, 0, 0, 1, 0, 0, 0, 0, 0, 0, 0, 0, 1,\n",
       "       1, 1, 0, 0, 0, 0, 1, 0, 0, 0, 1, 0, 1, 1, 0])"
      ]
     },
     "execution_count": 18,
     "metadata": {},
     "output_type": "execute_result"
    }
   ],
   "source": [
    "y_train"
   ]
  },
  {
   "cell_type": "markdown",
   "id": "267b91e0-dcce-4606-980c-a089ea1ffedc",
   "metadata": {},
   "source": [
    "Numpy arrays to PyTorch tensors"
   ]
  },
  {
   "cell_type": "code",
   "execution_count": 22,
   "id": "5bd3c30e-a096-49f5-bc48-9cc5425c5e63",
   "metadata": {},
   "outputs": [],
   "source": [
    "X_train_tensor=torch.from_numpy(X_train)\n",
    "X_test_tensor=torch.from_numpy(X_test)\n",
    "y_train_tensor=torch.from_numpy(y_train)\n",
    "y_test_tensor=torch.from_numpy(y_test)"
   ]
  },
  {
   "cell_type": "code",
   "execution_count": 26,
   "id": "af538f78-f43c-4ba0-8a74-b63895a88f70",
   "metadata": {},
   "outputs": [
    {
     "data": {
      "text/plain": [
       "torch.Size([455, 30])"
      ]
     },
     "execution_count": 26,
     "metadata": {},
     "output_type": "execute_result"
    }
   ],
   "source": [
    "X_train_tensor.shape"
   ]
  },
  {
   "cell_type": "code",
   "execution_count": 24,
   "id": "6d89a60a-8a7f-4999-9a88-d2a3c8c86b99",
   "metadata": {},
   "outputs": [
    {
     "data": {
      "text/plain": [
       "torch.Size([455])"
      ]
     },
     "execution_count": 24,
     "metadata": {},
     "output_type": "execute_result"
    }
   ],
   "source": [
    "y_train_tensor.shape"
   ]
  },
  {
   "cell_type": "markdown",
   "id": "2e1fb90c-7b53-4c84-91be-c603517d1da9",
   "metadata": {},
   "source": [
    "Defining the model"
   ]
  },
  {
   "cell_type": "code",
   "execution_count": 34,
   "id": "0b69fbb6-3869-4d76-912c-fb61c1f2ed9c",
   "metadata": {},
   "outputs": [],
   "source": [
    "class MySimpleNN():\n",
    "    def __init__(self,X):\n",
    "        \n",
    "        self.weights=torch.rand(X.shape[1],1,dtype=torch.float64, requires_grad=True) \n",
    "        self.bias=torch.zeros(1,dtype=torch.float64, requires_grad=True) \n",
    "\n",
    "    def forward(self,X):\n",
    "        z=torch.matmul(X,self.weights)+self.bias\n",
    "        y_pred=torch.sigmoid(z)\n",
    "        return y_pred\n",
    "\n",
    "    def loss_function(self, y_pred, y):\n",
    "        # Clamp predictions to avoid log(0)\n",
    "        epsilon=1e-7\n",
    "        y_pred=torch.clamp(y_pred,epsilon,1-epsilon)\n",
    "\n",
    "        # Calculate loss\n",
    "        loss=-(y_train_tensor*torch.log(y_pred)+(1-y_train_tensor)*torch.log(1-y_pred)).mean()\n",
    "        return loss"
   ]
  },
  {
   "cell_type": "markdown",
   "id": "645bf7b1-347e-4f07-9ecc-ef0d88c20f1a",
   "metadata": {},
   "source": [
    "Important Parameters"
   ]
  },
  {
   "cell_type": "code",
   "execution_count": 29,
   "id": "0e8749d8-f155-4cdc-be06-893b5741365f",
   "metadata": {},
   "outputs": [],
   "source": [
    "learning_rate=0.1\n",
    "epochs=25"
   ]
  },
  {
   "cell_type": "markdown",
   "id": "f6eba576-e121-4a31-afe6-33d0e4936a3c",
   "metadata": {},
   "source": [
    "Training Pipeline"
   ]
  },
  {
   "cell_type": "code",
   "execution_count": 36,
   "id": "7df61fff-1c7f-4b22-8256-16364bc6c4f8",
   "metadata": {},
   "outputs": [
    {
     "name": "stdout",
     "output_type": "stream",
     "text": [
      "Epoch:1, Loss:3.6712012537005134\n",
      "Epoch:2, Loss:3.5497589704549206\n",
      "Epoch:3, Loss:3.4226307540113026\n",
      "Epoch:4, Loss:3.291172831725925\n",
      "Epoch:5, Loss:3.1577042294362863\n",
      "Epoch:6, Loss:3.020434964124836\n",
      "Epoch:7, Loss:2.8795490593367408\n",
      "Epoch:8, Loss:2.7331618130224364\n",
      "Epoch:9, Loss:2.5825500301677238\n",
      "Epoch:10, Loss:2.4294229333857102\n",
      "Epoch:11, Loss:2.265089153891582\n",
      "Epoch:12, Loss:2.1020579156429844\n",
      "Epoch:13, Loss:1.9411761693159475\n",
      "Epoch:14, Loss:1.7781429865746272\n",
      "Epoch:15, Loss:1.6181811759299705\n",
      "Epoch:16, Loss:1.466240475820269\n",
      "Epoch:17, Loss:1.32403009806631\n",
      "Epoch:18, Loss:1.1972946262056128\n",
      "Epoch:19, Loss:1.0879000070149991\n",
      "Epoch:20, Loss:0.9969500818398143\n",
      "Epoch:21, Loss:0.9244461107881833\n",
      "Epoch:22, Loss:0.8691568192431701\n",
      "Epoch:23, Loss:0.8287436683704242\n",
      "Epoch:24, Loss:0.8001576173948709\n",
      "Epoch:25, Loss:0.7802262175269037\n"
     ]
    }
   ],
   "source": [
    "# Create  model\n",
    "model=MySimpleNN(X_train_tensor)\n",
    "# define loop\n",
    "for epoch in range(epochs):\n",
    "    # forward pass\n",
    "    y_pred=model.forward(X_train_tensor)\n",
    "  \n",
    "    # loss calculation\n",
    "    loss=model.loss_function(y_pred, y_train_tensor)\n",
    "  \n",
    "    # backward pass\n",
    "    loss.backward()\n",
    "  \n",
    "    # parameters updation\n",
    "    with torch.no_grad():\n",
    "        model.weights-=learning_rate*model.weights.grad\n",
    "        model.bias-=learning_rate*model.bias.grad\n",
    "\n",
    "    # zero gradients\n",
    "    model.weights.grad.zero_()\n",
    "    model.bias.grad.zero_()\n",
    "\n",
    "    #print loss in each epoch\n",
    "    print(f\"Epoch:{epoch+1}, Loss:{loss.item()}\")\n"
   ]
  },
  {
   "cell_type": "code",
   "execution_count": 37,
   "id": "46ac2ac0-832a-434e-9f1b-1cacab9c5560",
   "metadata": {},
   "outputs": [
    {
     "data": {
      "text/plain": [
       "tensor([[-0.0529],\n",
       "        [-0.1018],\n",
       "        [ 0.2438],\n",
       "        [ 0.3384],\n",
       "        [ 0.1038],\n",
       "        [-0.3074],\n",
       "        [-0.2784],\n",
       "        [ 0.1603],\n",
       "        [-0.0094],\n",
       "        [ 0.6117],\n",
       "        [ 0.2841],\n",
       "        [ 0.5893],\n",
       "        [ 0.0850],\n",
       "        [-0.2781],\n",
       "        [-0.1504],\n",
       "        [ 0.1265],\n",
       "        [ 0.3230],\n",
       "        [-0.4202],\n",
       "        [-0.1496],\n",
       "        [ 0.3919],\n",
       "        [-0.1169],\n",
       "        [-0.1109],\n",
       "        [ 0.0168],\n",
       "        [ 0.2460],\n",
       "        [ 0.3943],\n",
       "        [-0.2457],\n",
       "        [-0.2925],\n",
       "        [ 0.0629],\n",
       "        [ 0.2323],\n",
       "        [-0.2554]], dtype=torch.float64, requires_grad=True)"
      ]
     },
     "execution_count": 37,
     "metadata": {},
     "output_type": "execute_result"
    }
   ],
   "source": [
    "model.weights"
   ]
  },
  {
   "cell_type": "code",
   "execution_count": 38,
   "id": "c0b4da44-1831-4272-bbd9-965b80072fdb",
   "metadata": {},
   "outputs": [
    {
     "data": {
      "text/plain": [
       "tensor([-0.1307], dtype=torch.float64, requires_grad=True)"
      ]
     },
     "execution_count": 38,
     "metadata": {},
     "output_type": "execute_result"
    }
   ],
   "source": [
    "model.bias"
   ]
  },
  {
   "cell_type": "markdown",
   "id": "4c580f4f-9b28-43ee-a7f1-4e1f43ba596d",
   "metadata": {},
   "source": [
    "Evaluation"
   ]
  },
  {
   "cell_type": "code",
   "execution_count": 46,
   "id": "d283e269-585e-43ca-afe5-5e963a44546b",
   "metadata": {},
   "outputs": [
    {
     "name": "stdout",
     "output_type": "stream",
     "text": [
      "Accuracy: 0.5964912176132202\n"
     ]
    }
   ],
   "source": [
    "# model evaluation\n",
    "with torch.no_grad():\n",
    "    y_pred=model.forward(X_test_tensor)\n",
    "    y_pred=(y_pred>0.99).float()\n",
    "    accuracy=(y_pred==y_test_tensor).float().mean()\n",
    "    print(f\"Accuracy: {accuracy.item()}\")"
   ]
  },
  {
   "cell_type": "code",
   "execution_count": null,
   "id": "ec01ee9f-25f3-493f-9f20-ffc4978d4de0",
   "metadata": {},
   "outputs": [],
   "source": []
  }
 ],
 "metadata": {
  "kernelspec": {
   "display_name": "Python 3 (ipykernel)",
   "language": "python",
   "name": "python3"
  },
  "language_info": {
   "codemirror_mode": {
    "name": "ipython",
    "version": 3
   },
   "file_extension": ".py",
   "mimetype": "text/x-python",
   "name": "python",
   "nbconvert_exporter": "python",
   "pygments_lexer": "ipython3",
   "version": "3.13.3"
  }
 },
 "nbformat": 4,
 "nbformat_minor": 5
}
