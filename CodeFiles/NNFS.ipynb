{
 "cells": [
  {
   "cell_type": "markdown",
   "id": "6ecc4fb1-96d4-4686-8876-588cb4ceb19a",
   "metadata": {},
   "source": [
    "# Chapter 1\n",
    "output = sum(inputs * weights) + bias"
   ]
  },
  {
   "cell_type": "markdown",
   "id": "6d4b2cb0-306d-4e3b-98a9-ca7f94aa7726",
   "metadata": {},
   "source": [
    "# Chapter 2\n",
    "## Single Neuron"
   ]
  },
  {
   "cell_type": "code",
   "execution_count": 3,
   "id": "4e6e0c11-ed83-4153-a218-cc7f74456a67",
   "metadata": {},
   "outputs": [
    {
     "name": "stdout",
     "output_type": "stream",
     "text": [
      "4.8\n"
     ]
    }
   ],
   "source": [
    "inputs = [1.0, 2.0, 3.0, 2.5] \n",
    "weights = [0.2, 0.8, -0.5, 1.0] \n",
    "bias = 2.0 \n",
    "output = (inputs[0]*weights[0] + \n",
    "inputs[1]*weights[1] + \n",
    "inputs[2]*weights[2] + \n",
    "inputs[3]*weights[3] + bias) \n",
    "print(output)"
   ]
  },
  {
   "cell_type": "markdown",
   "id": "795d46c7-043e-49fe-9b16-388e9b8506fc",
   "metadata": {},
   "source": [
    "## A layer of Neurons"
   ]
  },
  {
   "cell_type": "markdown",
   "id": "d18144b6-e3ea-43bc-a2d7-7f85f0055616",
   "metadata": {},
   "source": [
    "1. Layers are nothing more than groups of neurons. \n",
    "2. Each neuron in a layer takes exactly the same input which is either the training data or the output from the previous layer.\n",
    "3. Each neuron contains its own set of weights and its own bias, producing its own unique output.\n",
    "4. The layer’s output is a set of each of these outputs — one per each neuron."
   ]
  },
  {
   "cell_type": "code",
   "execution_count": 4,
   "id": "da4d3b52-c517-45e4-9f6c-1a9aa352fae6",
   "metadata": {},
   "outputs": [
    {
     "name": "stdout",
     "output_type": "stream",
     "text": [
      "[4.8, 1.21, 2.385]\n"
     ]
    }
   ],
   "source": [
    "inputs = [1, 2, 3, 2.5] \n",
    " \n",
    "weights1 = [0.2, 0.8, -0.5, 1] \n",
    "weights2 = [0.5, -0.91, 0.26, -0.5] \n",
    "weights3 = [-0.26, -0.27, 0.17, 0.87] \n",
    " \n",
    "bias1 = 2 \n",
    "bias2 = 3 \n",
    "bias3 = 0.5 \n",
    " \n",
    "outputs = [ \n",
    "        # Neuron 1: \n",
    "        inputs[0]*weights1[0] + \n",
    "        inputs[1]*weights1[1] + \n",
    "        inputs[2]*weights1[2] + \n",
    "        inputs[3]*weights1[3] + bias1, \n",
    " \n",
    "        # Neuron 2: \n",
    "        inputs[0]*weights2[0] + \n",
    "        inputs[1]*weights2[1] + \n",
    "        inputs[2]*weights2[2] + \n",
    "        inputs[3]*weights2[3] + bias2, \n",
    " \n",
    "        # Neuron 3: \n",
    "        inputs[0]*weights3[0] + \n",
    "        inputs[1]*weights3[1] + \n",
    "        inputs[2]*weights3[2] + \n",
    "        inputs[3]*weights3[3] + bias3] \n",
    " \n",
    "print(outputs)"
   ]
  },
  {
   "cell_type": "markdown",
   "id": "67807c92-a429-4231-9a6f-3f1caab31bf7",
   "metadata": {},
   "source": [
    "1. Fully Connected Neural Network — Every neuron in the current layer has connections to every neuron from the previous layer.\n",
    "2. It should be noted that there is no requirement to \n",
    "fully connect everything like this."
   ]
  },
  {
   "cell_type": "markdown",
   "id": "80046b1a-db4f-4b0f-8cf3-598733eba39d",
   "metadata": {},
   "source": [
    "The following code does the same thing as before, just in a more dynamic and scalable way."
   ]
  },
  {
   "cell_type": "code",
   "execution_count": 6,
   "id": "d4b14462-cdee-4925-a802-a18be1cdad93",
   "metadata": {},
   "outputs": [
    {
     "name": "stdout",
     "output_type": "stream",
     "text": [
      "[4.8, 1.21, 2.385]\n"
     ]
    }
   ],
   "source": [
    "inputs = [1, 2, 3, 2.5] \n",
    "weights = [[0.2, 0.8, -0.5, 1], \n",
    "           [0.5, -0.91, 0.26, -0.5], \n",
    "           [-0.26, -0.27, 0.17, 0.87]] \n",
    "biases = [2, 3, 0.5] \n",
    " \n",
    "# Output of current layer \n",
    "layer_outputs = [] \n",
    "# For each neuron \n",
    "for neuron_weights, neuron_bias in zip(weights, biases): \n",
    "    # Zeroed output of given neuron \n",
    "    neuron_output = 0 \n",
    "    # For each input and weight to the neuron \n",
    "    for n_input, weight in zip(inputs, neuron_weights): \n",
    "        # Multiply this input by associated weight \n",
    "        # and add to the neuron’s output variable \n",
    "        neuron_output += n_input*weight \n",
    "    # Add bias \n",
    "    neuron_output += neuron_bias \n",
    "    # Put neuron’s result to the layer’s output list \n",
    "    layer_outputs.append(neuron_output) \n",
    " \n",
    "print(layer_outputs) "
   ]
  },
  {
   "cell_type": "markdown",
   "id": "865f1010-43bd-4a11-8654-180f78dbd980",
   "metadata": {},
   "source": [
    "The zip() function lets us iterate over multiple iterables (lists in this case) simultaneously."
   ]
  },
  {
   "cell_type": "markdown",
   "id": "d5dd8efe-300d-44d3-bdaf-9dd18fcb5741",
   "metadata": {},
   "source": [
    "## Tensors, Arrays and Vectors"
   ]
  },
  {
   "cell_type": "markdown",
   "id": "3eeaf064-68d1-4968-9dda-1b1762c71958",
   "metadata": {},
   "source": [
    "An array is as an ordered homologous container for \n",
    "numbers."
   ]
  },
  {
   "cell_type": "code",
   "execution_count": 7,
   "id": "3952f77c-135f-407c-a853-6414b63f2c57",
   "metadata": {},
   "outputs": [],
   "source": [
    "another_list_of_lists = [[4,2,3], \n",
    "                         [5,1]]"
   ]
  },
  {
   "cell_type": "markdown",
   "id": "e26c1690-5c6c-4055-a26b-3833ed24ce7b",
   "metadata": {},
   "source": [
    "The above list of lists cannot be an array because it is not homologous. A list of lists is \n",
    "homologous if each list along a dimension is identically long, and this must be true for each \n",
    "dimension. "
   ]
  },
  {
   "cell_type": "markdown",
   "id": "41f831ee-2caf-4bb0-aabc-e77f2e8662df",
   "metadata": {},
   "source": [
    "Matrix is a 2D Array. Though, an array can be far \n",
    "more than just columns and rows, as it could have four dimensions, twenty dimensions, and so on."
   ]
  },
  {
   "cell_type": "code",
   "execution_count": 9,
   "id": "c7614194-cd56-4e5a-8ba9-4cb00343d5db",
   "metadata": {},
   "outputs": [],
   "source": [
    "list_matrix_array = [[4,2], \n",
    "                     [5,1], \n",
    "                     [8,2]] \n",
    "#Shape = (3,2)"
   ]
  },
  {
   "cell_type": "markdown",
   "id": "6c1ab3dd-69a1-461e-ac20-244517f870ba",
   "metadata": {},
   "source": [
    "As programmers, we will treat tensors as arrays in the context of \n",
    "deep learning,"
   ]
  },
  {
   "cell_type": "markdown",
   "id": "b7b41a3a-e061-4bce-a44e-9cbf328eaf0f",
   "metadata": {},
   "source": [
    "## A Single Neuron with NumPy\n",
    "Using the dot product and the addition of the vectors with NumPy makes the code much simpler to read and write (and faster to run)"
   ]
  },
  {
   "cell_type": "code",
   "execution_count": 10,
   "id": "9a5f602c-d556-4ec5-ab80-6349bedddade",
   "metadata": {},
   "outputs": [
    {
     "name": "stdout",
     "output_type": "stream",
     "text": [
      "4.8\n"
     ]
    }
   ],
   "source": [
    "import numpy as np \n",
    "inputs = [1.0, 2.0, 3.0, 2.5] \n",
    "weights = [0.2, 0.8, -0.5, 1.0] \n",
    "bias = 2.0 \n",
    "outputs = np.dot(weights, inputs) + bias \n",
    "print(outputs)"
   ]
  },
  {
   "cell_type": "markdown",
   "id": "12741441-6c21-4504-8990-4a2efb046848",
   "metadata": {},
   "source": [
    "## A Layer of Neurons with NumPy\n",
    "1. Weights are now a matrix, and we need to perform a dot product of them and the input vector. NumPy makes this very easy for us—treating this matrix as a list of vectors and performing the dot product one by one with the vector of inputs, returning a list of dot products.\n",
    "2. The biases can be easily added to the result of the dot product operation as they are a vector of the \n",
    "same size. "
   ]
  },
  {
   "cell_type": "code",
   "execution_count": 12,
   "id": "c8f71035-ee67-449c-a4fc-39f77a23fe58",
   "metadata": {},
   "outputs": [
    {
     "name": "stdout",
     "output_type": "stream",
     "text": [
      "[4.8   1.21  2.385]\n"
     ]
    }
   ],
   "source": [
    "import numpy as np \n",
    "inputs = [1.0, 2.0, 3.0, 2.5] \n",
    "\n",
    "weights = [[0.2, 0.8, -0.5, 1], \n",
    "           [0.5, -0.91, 0.26, -0.5], \n",
    "           [-0.26, -0.27, 0.17, 0.87]] \n",
    "\n",
    "biases = [2.0, 3.0, 0.5] \n",
    "\n",
    "layer_outputs = np.dot(weights, inputs) + biases \n",
    "\n",
    "print(layer_outputs) "
   ]
  },
  {
   "cell_type": "markdown",
   "id": "95acee51-d090-4be6-900e-f1c01314f6d4",
   "metadata": {},
   "source": [
    "NOTE: To explain the order of parameters we are passing into np.dot(), we should think of it as whatever comes first will decide the output shape. \n",
    "Here, we are passing a list of neuron weights first and then the inputs, as our goal is to get a list of neuron outputs."
   ]
  },
  {
   "cell_type": "markdown",
   "id": "d351b1f2-f8ae-4544-b314-5d2209424224",
   "metadata": {},
   "source": [
    "## A Batch of Data "
   ]
  },
  {
   "cell_type": "markdown",
   "id": "fe5f99b0-2de6-44c0-a72c-5c1f3a7e658b",
   "metadata": {},
   "source": [
    "To train, neural networks tend to receive data in batches. So far, the example input data have  been only one sample (or observation) of various features called feature set:"
   ]
  },
  {
   "cell_type": "code",
   "execution_count": 14,
   "id": "c6e8d169-80d2-4525-a7c3-6ef666522082",
   "metadata": {},
   "outputs": [],
   "source": [
    "inputs=[1, 2, 3, 2.5]\n",
    "# Shape = (4,)\n",
    "# Type = 1D Array, Vetor"
   ]
  },
  {
   "cell_type": "markdown",
   "id": "7d995f38-4411-4b2e-9c08-54122e39476a",
   "metadata": {},
   "source": [
    "Each of these values is a feature observation datum, and together they form a \n",
    "feature set instance, also called an observation, or most commonly, a sample."
   ]
  },
  {
   "cell_type": "markdown",
   "id": "2ccd074b-dc3c-4d3d-9a22-ce80a5f76a77",
   "metadata": {},
   "source": [
    "Often, neural networks expect to take in many samples at a time for two reasons. One reason is that it’s faster to train in batches in parallel processing, and the other reason is that batches help with generalization during training."
   ]
  },
  {
   "cell_type": "code",
   "execution_count": 16,
   "id": "06134d9f-d891-4055-aee1-466302ab4cc6",
   "metadata": {},
   "outputs": [],
   "source": [
    "# Example of a batch of data\n",
    "batch=[[1,5,6,2],\n",
    "       [3,2,1,3],\n",
    "       [5,2,1,2],\n",
    "       [6,4,8,4],\n",
    "       [2,8,5,3],\n",
    "       [1,1,9,4],\n",
    "       [6,6,0,4],\n",
    "       [8,7,6,4]]  \n",
    "\n",
    "# Shape = (8,4)\n",
    "# Type = 2D Array, Matrix\n",
    "# Each line represents a sample and are also referred to as \n",
    "# feature set instances observations"
   ]
  },
  {
   "cell_type": "markdown",
   "id": "75572f39-eb10-409d-9d5e-2db5cbec07a0",
   "metadata": {},
   "source": [
    "This list of lists could be made into an array since it is homologous. Note that each “list” in this larger list is a sample representing a feature set."
   ]
  },
  {
   "cell_type": "markdown",
   "id": "baeaf497-e5d1-429b-9473-1fab2f52bec5",
   "metadata": {},
   "source": [
    "Each sub-list represents a sample and they are also referred to as feature set instances or observations."
   ]
  },
  {
   "cell_type": "markdown",
   "id": "fff8e41b-dc26-4e6f-a8ef-44b23b23f914",
   "metadata": {},
   "source": [
    "Now, how do we have perform a dot product on matrix of inputs and a matrix of weights?\n",
    "1. We need to manage both matrices as lists of vectors and perform dot \n",
    "products on all of them in all combinations\n",
    "2. This operation of matrix product results in a list of lists of outputs, or a matrix."
   ]
  },
  {
   "cell_type": "markdown",
   "id": "4468f064-0469-478b-9f55-b1b5daa6c7b6",
   "metadata": {},
   "source": [
    "## Matrix product & Transposition"
   ]
  },
  {
   "cell_type": "markdown",
   "id": "de8689be-f451-4f19-ad3c-db77f8acf94d",
   "metadata": {},
   "source": [
    "* Row vector shape: (1,n)\n",
    "* Column vector shape: (n,1)"
   ]
  },
  {
   "cell_type": "code",
   "execution_count": 25,
   "id": "58da9c4b-2fd0-485f-aa22-03e9a974e15c",
   "metadata": {},
   "outputs": [
    {
     "name": "stdout",
     "output_type": "stream",
     "text": [
      "[1 2 3]\n",
      "[[1 2 3]]\n"
     ]
    }
   ],
   "source": [
    "a = [1, 2, 3] \n",
    "print(np.array(a)) # Prints a 1D array of shape (3,)\n",
    "print(np.array([a])) # Prints a 2D Row Vector of shape (1,3)"
   ]
  },
  {
   "cell_type": "markdown",
   "id": "48fae040-cbb5-4338-9fa0-522a3428d2c0",
   "metadata": {},
   "source": [
    "\"a\" needs to be encased in square brackets so as to transform a list into a matrix."
   ]
  },
  {
   "cell_type": "markdown",
   "id": "b5008da6-e8a8-4567-8466-32a77399bfbc",
   "metadata": {},
   "source": [
    "Alternatively, we can turn it into a 1D array and expand dimensions using one of the NumPy abilities"
   ]
  },
  {
   "cell_type": "code",
   "execution_count": 33,
   "id": "67d45dc4-67a1-47f0-bbfc-499217cd3cba",
   "metadata": {},
   "outputs": [
    {
     "data": {
      "text/plain": [
       "array([[1, 2, 3]])"
      ]
     },
     "execution_count": 33,
     "metadata": {},
     "output_type": "execute_result"
    }
   ],
   "source": [
    "a = [1, 2, 3] \n",
    "np.expand_dims(np.array(a), axis=0) \n",
    "# np.expand_dims() adds a new dimension at the index of the axis."
   ]
  },
  {
   "cell_type": "markdown",
   "id": "5d532234-b82a-4155-a889-e87396e88aed",
   "metadata": {},
   "source": [
    "### Distinguishing between axis=0 & axis=1 operations"
   ]
  },
  {
   "cell_type": "markdown",
   "id": "6c41d88c-f644-408b-b232-be4d9193a7f7",
   "metadata": {},
   "source": [
    "* axis=0 Rows; operations act column-wise\n",
    "* axis=1 Columns; operations act row-wise"
   ]
  },
  {
   "cell_type": "code",
   "execution_count": 32,
   "id": "e96f9c19-5248-4040-aa5b-f6400c4bfc79",
   "metadata": {},
   "outputs": [
    {
     "name": "stdout",
     "output_type": "stream",
     "text": [
      "[5 7 9]\n",
      "[ 6 15]\n"
     ]
    }
   ],
   "source": [
    "array = [[1, 2, 3],\n",
    "         [4, 5, 6]]\n",
    "# shape=(2,3)\n",
    "print(np.sum(array, axis=0))\n",
    "print(np.sum(array, axis=1))"
   ]
  },
  {
   "cell_type": "code",
   "execution_count": 39,
   "id": "a837f8c9-b1b1-44a6-80a1-1e9678b73928",
   "metadata": {},
   "outputs": [
    {
     "name": "stdout",
     "output_type": "stream",
     "text": [
      "Original a: [10 20 30]\n",
      "Shape: (3,)\n",
      "\n",
      "After axis=0:\n",
      " [[10 20 30]]\n",
      "Shape: (1, 3)\n",
      "\n",
      "After axis=1:\n",
      " [[10]\n",
      " [20]\n",
      " [30]]\n",
      "Shape: (3, 1)\n"
     ]
    }
   ],
   "source": [
    "import numpy as np\n",
    "\n",
    "a = np.array([10, 20, 30])\n",
    "print(\"Original a:\", a)\n",
    "print(\"Shape:\", a.shape)\n",
    "\n",
    "print(\"\")\n",
    "\n",
    "a_row = np.expand_dims(a, axis=0)\n",
    "print(\"After axis=0:\\n\", a_row)\n",
    "print(\"Shape:\", a_row.shape)\n",
    "\n",
    "print(\"\")\n",
    "\n",
    "a_col = np.expand_dims(a, axis=1)\n",
    "print(\"After axis=1:\\n\", a_col)\n",
    "print(\"Shape:\", a_col.shape)\n"
   ]
  },
  {
   "cell_type": "markdown",
   "id": "ba5e3708-a162-4d4c-a8e6-b54eb85f41f5",
   "metadata": {},
   "source": [
    "For matrix product to be valid: (m,n) & (n,r) should be the shape. Transposition may be used to achieve this."
   ]
  },
  {
   "cell_type": "code",
   "execution_count": 28,
   "id": "5545618e-bc40-4a13-b35d-487f46085341",
   "metadata": {},
   "outputs": [
    {
     "data": {
      "text/plain": [
       "array([[20]])"
      ]
     },
     "execution_count": 28,
     "metadata": {},
     "output_type": "execute_result"
    }
   ],
   "source": [
    "import numpy as np \n",
    "a = [1, 2, 3] \n",
    "b = [2, 3, 4] \n",
    "a = np.array([a]) \n",
    "b = np.array([b]).T \n",
    "np.dot(a, b) # Outputs a 2D Array or a Matrix"
   ]
  },
  {
   "cell_type": "markdown",
   "id": "d4283dea-44e4-4ef7-9c9c-128b21b1160f",
   "metadata": {},
   "source": [
    "## A Layer of Neurons & Batch of Data w/ NumPy"
   ]
  },
  {
   "cell_type": "markdown",
   "id": "8bc22c59-7315-44d8-af41-24013b8e3859",
   "metadata": {},
   "source": [
    "It’s more useful to have a result consisting of a list of layer outputs per each sample than a list of neurons and their outputs sample-wise. We want the \n",
    "resulting array to be sample-related and not neuron-related as we’ll pass those samples further through the network, and the next layer will expect a batch of inputs. "
   ]
  },
  {
   "cell_type": "markdown",
   "id": "c0bc9b73-67ae-4d18-9793-42454fd0c1ca",
   "metadata": {},
   "source": [
    "* We can perform np.dot() on a plain Python list of \n",
    "lists as NumPy will convert them to matrices internally\n",
    "* We are converting weights ourselves though to perform transposition operation first, T in the code, as plain Python list of lists does not \n",
    "support it.\n",
    "* Speaking of biases, we do not need to make it a NumPy array for the same reason — NumPy is going to do that internally.\n",
    "* The bias vector will be added to each row vector of the matrix. Since each column of the matrix product result is an output of one neuron, and the vector is going to be added to each row vector,\n"
   ]
  },
  {
   "cell_type": "code",
   "execution_count": 3,
   "id": "829f66c0-f80e-410a-b9dd-357304dc48f7",
   "metadata": {},
   "outputs": [
    {
     "name": "stdout",
     "output_type": "stream",
     "text": [
      "[[ 4.8    1.21   2.385]\n",
      " [ 8.9   -1.81   0.2  ]\n",
      " [ 1.41   1.051  0.026]]\n"
     ]
    }
   ],
   "source": [
    "import numpy as np\n",
    "\n",
    "inputs = [[1.0, 2.0, 3.0, 2.5], \n",
    "          [2.0, 5.0, -1.0, 2.0], \n",
    "          [-1.5, 2.7, 3.3, -0.8]] \n",
    "\n",
    "weights = [[0.2, 0.8, -0.5, 1.0], \n",
    "           [0.5, -0.91, 0.26, -0.5], \n",
    "           [-0.26, -0.27, 0.17, 0.87]] \n",
    "\n",
    "biases = [2.0, 3.0, 0.5] \n",
    "\n",
    "layer_outputs = np.dot(inputs, np.array(weights).T) + biases \n",
    "\n",
    "print(layer_outputs) "
   ]
  },
  {
   "cell_type": "markdown",
   "id": "77c8eebb-e4a1-4820-b2ff-be29ff40952a",
   "metadata": {},
   "source": [
    "# Chapter 3\n",
    "Neural networks become “deep” when they have 2 or more hidden layers."
   ]
  },
  {
   "cell_type": "markdown",
   "id": "2f8288b6-d358-4d1e-b352-58df9304578a",
   "metadata": {},
   "source": [
    "## Adding Layers\n"
   ]
  },
  {
   "cell_type": "markdown",
   "id": "3be9cf30-d8fa-4cdc-b338-b575b1c61f60",
   "metadata": {},
   "source": [
    "In the following example, we have 4 inputs, 3 neurons in hidden layer 1 & 3 neurons in hidden layer 2."
   ]
  },
  {
   "cell_type": "code",
   "execution_count": 4,
   "id": "e5108ae7-d342-46e3-9b28-2749f957e1f7",
   "metadata": {},
   "outputs": [
    {
     "name": "stdout",
     "output_type": "stream",
     "text": [
      "[[ 4.8    1.21   2.385]\n",
      " [ 8.9   -1.81   0.2  ]\n",
      " [ 1.41   1.051  0.026]]\n",
      "[[ 0.5031  -1.04185 -2.03875]\n",
      " [ 0.2434  -2.7332  -5.7633 ]\n",
      " [-0.99314  1.41254 -0.35655]]\n"
     ]
    }
   ],
   "source": [
    "import numpy as np \n",
    " \n",
    "inputs = [[1, 2, 3, 2.5], [2., 5., -1., 2], [-1.5, 2.7, 3.3, -0.8]] \n",
    "weights = [[0.2, 0.8, -0.5, 1], \n",
    "           [0.5, -0.91, 0.26, -0.5], \n",
    "           [-0.26, -0.27, 0.17, 0.87]] \n",
    "biases = [2, 3, 0.5] \n",
    "weights2 = [[0.1, -0.14, 0.5], \n",
    "            [-0.5, 0.12, -0.33], \n",
    "            [-0.44, 0.73, -0.13]] \n",
    "biases2 = [-1, 2, -0.5] \n",
    " \n",
    "layer1_outputs = np.dot(inputs, np.array(weights).T) + biases \n",
    "layer2_outputs = np.dot(layer1_outputs, np.array(weights2).T) + biases2 \n",
    " \n",
    "print(layer1_outputs) \n",
    "print(layer2_outputs) "
   ]
  },
  {
   "cell_type": "markdown",
   "id": "102a83b6-072c-4cbc-8461-223878c5d49f",
   "metadata": {
    "jp-MarkdownHeadingCollapsed": true
   },
   "source": [
    "## Training Data"
   ]
  },
  {
   "cell_type": "code",
   "execution_count": 18,
   "id": "028312e8-454d-44e7-a238-e2d51cbb7c97",
   "metadata": {},
   "outputs": [
    {
     "data": {
      "image/png": "[encoded data removed]",
      "text/plain": [
       "<Figure size 640x480 with 1 Axes>"
      ]
     },
     "metadata": {},
     "output_type": "display_data"
    }
   ],
   "source": [
    "import matplotlib.pyplot as plt \n",
    "from nnfs.datasets import spiral_data \n",
    "X, y = spiral_data(samples=100, classes=3) \n",
    "# X: A 2D array of shape (300, 2) → each row is [x, y] \n",
    "#                                   coordinate of a point on a spiral.\n",
    "#y: A 1D array of shape (300,) → contains the class label (0, 1, or 2) \n",
    "#                                of each point.\n",
    "plt.scatter(X[:, 0], X[:, 1], c=y, cmap='brg') \n",
    "plt.show()"
   ]
  },
  {
   "cell_type": "markdown",
   "id": "170d3241-859c-4646-8dab-1fd6a9c2e71b",
   "metadata": {},
   "source": [
    "## Dense Layer Class"
   ]
  },
  {
   "cell_type": "code",
   "execution_count": 33,
   "id": "fa2cfff1-ca08-4775-ae95-b62585b8c068",
   "metadata": {},
   "outputs": [
    {
     "name": "stdout",
     "output_type": "stream",
     "text": [
      "[[ 0.0000000e+00  0.0000000e+00  0.0000000e+00]\n",
      " [-7.7418568e-05  1.6988265e-04 -2.3721926e-05]\n",
      " [-1.5148932e-04  3.2704059e-04 -5.9890870e-05]\n",
      " [-1.5407844e-04  2.9329231e-04 -1.5945356e-04]\n",
      " [-1.6083459e-04  2.8241976e-04 -2.2589539e-04]]\n"
     ]
    }
   ],
   "source": [
    "class Layer_Dense:\n",
    "    def __init__(self, n_inputs, n_neurons):\n",
    "        self.weights = 0.01 * np.random.randn(n_inputs, n_neurons)\n",
    "        self.biases = np.zeros((1, n_neurons))\n",
    "    def forward(self, inputs):\n",
    "        self.output = np.dot(inputs, self.weights) + self.biases\n",
    "\n",
    "# Create dataset\n",
    "X, y = spiral_data(samples=100, classes=3)\n",
    "# Create Dense layer with 2 input features and 3 output values\n",
    "dense1 = Layer_Dense(2, 3)\n",
    "# Perform a forward pass of our training data through this layer\n",
    "dense1.forward(X)\n",
    "# Let's see output of the first few samples:\n",
    "print(dense1.output[:5])"
   ]
  },
  {
   "cell_type": "markdown",
   "id": "0843fcbf-8031-4e86-b382-3904dac1fa11",
   "metadata": {},
   "source": [
    "# Chapter 4\n",
    "We use activation functions because if the activation function itself is nonlinear, it allows for neural networks with usually two or more hidden layers to map nonlinear functions. "
   ]
  },
  {
   "cell_type": "code",
   "execution_count": 4,
   "id": "8d49397a-e17f-413e-b4c5-0334547e2a7b",
   "metadata": {},
   "outputs": [
    {
     "name": "stdout",
     "output_type": "stream",
     "text": [
      "[[0.00000000e+00 0.00000000e+00 0.00000000e+00]\n",
      " [1.01221243e-05 9.36161465e-05 2.03409439e-04]\n",
      " [0.00000000e+00 6.55596510e-06 4.40148070e-04]\n",
      " [0.00000000e+00 2.01402392e-04 6.58030519e-04]\n",
      " [0.00000000e+00 0.00000000e+00 3.29859331e-04]]\n"
     ]
    }
   ],
   "source": [
    "import numpy as np\n",
    "from nnfs.datasets import spiral_data\n",
    "class Layer_Dense:\n",
    "    def __init__(self, n_inputs, n_neurons):\n",
    "        self.weights = 0.01 * np.random.randn(n_inputs, n_neurons)\n",
    "        self.biases = np.zeros((1, n_neurons))\n",
    "    def forward(self, inputs):\n",
    "        self.output = np.dot(inputs, self.weights) + self.biases\n",
    "\n",
    "# ReLU activation\n",
    "class Activation_ReLU:\n",
    "    def forward(self, inputs):\n",
    "        self.output = np.maximum(0, inputs)\n",
    "\n",
    "\n",
    "X, y = spiral_data(samples=100, classes=3)\n",
    "\n",
    "dense1 = Layer_Dense(2, 3)\n",
    "\n",
    "activation1 = Activation_ReLU()\n",
    "\n",
    "dense1.forward(X)\n",
    "\n",
    "activation1.forward(dense1.output)\n",
    "print(activation1.output[:5])"
   ]
  },
  {
   "cell_type": "code",
   "execution_count": null,
   "id": "2f3e7199-3659-4cdf-ac4b-26aad354ad6b",
   "metadata": {},
   "outputs": [],
   "source": []
  }
 ],
 "metadata": {
  "kernelspec": {
   "display_name": "Python 3 (ipykernel)",
   "language": "python",
   "name": "python3"
  },
  "language_info": {
   "codemirror_mode": {
    "name": "ipython",
    "version": 3
   },
   "file_extension": ".py",
   "mimetype": "text/x-python",
   "name": "python",
   "nbconvert_exporter": "python",
   "pygments_lexer": "ipython3",
   "version": "3.13.3"
  }
 },
 "nbformat": 4,
 "nbformat_minor": 5
}
