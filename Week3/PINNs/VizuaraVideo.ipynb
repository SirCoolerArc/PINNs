{
 "cells": [
  {
   "cell_type": "markdown",
   "id": "1771e290-43b4-4b2a-b5bd-789502567887",
   "metadata": {},
   "source": [
    "# Vizuara Video"
   ]
  },
  {
   "cell_type": "markdown",
   "id": "76aeb0cd-a177-47fd-87ed-6ff3d0cf0d5e",
   "metadata": {},
   "source": [
    "Consider a hypothetical experiment of throwing a ball up (or at an angle), and noting down the height of the ball at different points of time. When we plot height v/s time graph, we see near about a downward facing parabola. <p>\n",
    "It is easy to train the neural network merely on this datasey so that we can predict the height of the ball even at time points where we did not note down the height. <p>\n",
    "We can construct a nerual network with few or multiple  hidden layers. The input is time (t) & the output predicted by the neural network is height of the ball (h). <p>\n",
    "The neural network will be initialized with random weights. This means the predictions of h(t) made by the neural network will be very bad initially. We can penalise the neural network for making these bad predictions using loss functions. <p>"
   ]
  },
  {
   "cell_type": "markdown",
   "id": "9f899248-50d3-4a93-a215-04d42620bc2f",
   "metadata": {},
   "source": [
    "## Loss functions\n",
    "Mean squared error (MSE) is the best simplistic working loss function. It is minimum when the predictions are very close to experimental data. <p>\n",
    "But the problem with this approach is that if the experimental data is not good, meaning it consists of outliers or noise in a dataset. <p>\n",
    "Knowing that real life data may have noise and outliers, it will not be wise if we train a neural network to exactly mimic this dataset. It results in something called as overfitting. <p>"
   ]
  },
  {
   "cell_type": "markdown",
   "id": "ad81b68a-5cad-47b7-92f6-7d556ce3d11b",
   "metadata": {},
   "source": [
    "## Bring physics into the picture\n",
    "If we are throwing a ball and observing its physics, then you already have some knowledge about the trajectory of the ball, based on Newton’s laws of motion. <p>\n",
    "The physics may not be in perfect agreement with the experimental data, but it makes sense to think that the experiments will not deviate too much from physics. <p>\n",
    "So if one of our experimental data points deviate too much from what physics says, there is probably something wrong with that data point. Here, we can teach physics to the neural network: PINN. <p>\n",
    "The goal of PINNs is to solve (or learn solutions to) differential equations by embedding the known physics (or governing differential equations) directly into the neural network’s training objective (loss function). <p>\n",
    "The basic idea in PINN is to have a neural network is trained to minimize a loss function that includes:\n",
    "1. A data mismatch term (if observational data are available).\n",
    "2. A physics loss term enforcing the differential equation itself (and initial/boundary conditions)."
   ]
  },
  {
   "cell_type": "markdown",
   "id": "927330bc-f54b-46bf-85ae-777fd002f49a",
   "metadata": {},
   "source": [
    "## Implementing PINN on our example\n",
    "dh/dt=u0=gt <p>\n",
    "u0: Initial velocity <br>\n",
    "g: Acceleration due to gravity <br>\n",
    "However this ODE alone cannot fully describe h(t) uniquely. We also need an initial condition.\n",
    "\n",
    "### Loss due to dh/dt (ODE Loss)\n",
    "dh^/dt=d/dt(NN(@)): Predicted <br>\n",
    "dh/dt=u0-gt: Physics based <br>\n",
    "\n",
    "ODE Loss= MSE(dh/dt, dh^/dt)\n",
    "\n",
    "### Initial condition loss\n",
    "h(0): Initial condition <br>\n",
    "h^(0): Predicted initial condition <br>\n",
    "\n",
    "IC loss = MSE(h(0), h^(0)) <p>"
   ]
  },
  {
   "cell_type": "markdown",
   "id": "7fc3a5e9-edbb-4f60-b721-e8ddaaebf584",
   "metadata": {},
   "source": [
    "## The modified loss term\n",
    "So, eventually there are 3 things to consider in a loss function:\n",
    "1. We cannot throw away the experimental data.\n",
    "2. We cannot neglect the physics described by the ODEs or PDEs.\n",
    "3. We cannot neglect the initial and/or boundary conditions. <p> <p>\n",
    "Loss=lambda1*Loss_data + lambda2*Loss_ODE + lambda3*Loss_IC <p>\n",
    "If there are boundary conditions in addition to initial conditions, you can add an additional term based on the difference between predicted boundary conditions and actual boundary conditions. <p>\n",
    "In short, in Physics Informed Neural Networks (PINN), you are “informing” the neural network that some physics is there behind the data in the form of modified loss function."
   ]
  },
  {
   "cell_type": "markdown",
   "id": "a975ab29-bf59-44da-bb9b-9e9686a37816",
   "metadata": {},
   "source": [
    "## Python implementation"
   ]
  },
  {
   "cell_type": "markdown",
   "id": "37a8ae4f-4aa1-4523-aa11-3458fd389260",
   "metadata": {},
   "source": [
    "Import required libraries"
   ]
  },
  {
   "cell_type": "code",
   "execution_count": 1,
   "id": "39370317-c39d-48d2-ad29-683aaad0d530",
   "metadata": {},
   "outputs": [],
   "source": [
    "import torch\n",
    "import torch.nn as nn\n",
    "import numpy as np\n",
    "import matplotlib.pyplot as plt"
   ]
  },
  {
   "cell_type": "markdown",
   "id": "3eb70412-3817-4433-ae90-b6725d983590",
   "metadata": {},
   "source": [
    "Generate Synthetic Data"
   ]
  },
  {
   "cell_type": "code",
   "execution_count": 2,
   "id": "6c19a86c-2d50-4602-bd91-bf420134045b",
   "metadata": {},
   "outputs": [],
   "source": [
    "# Physics parameters\n",
    "g = 9.8        # acceleration due to gravity\n",
    "h0 = 1.0       # initial height\n",
    "v0 = 10.0      # initial velocity\n",
    "\n",
    "# True (analytical) solution h(t) = h0 + v0*t - 0.5*g*t^2\n",
    "def true_solution(t):\n",
    "    return h0 + v0*t - 0.5*g*(t**2)\n",
    "\n",
    "# Generate some time points\n",
    "t_min, t_max = 0.0, 2.0\n",
    "N_data = 10\n",
    "t_data = np.linspace(t_min, t_max, N_data)\n",
    "\n",
    "# Generate synthetic \"experimental\" heights with noise\n",
    "np.random.seed(0)\n",
    "noise_level = 0.7\n",
    "h_data_exact = true_solution(t_data)\n",
    "h_data_noisy = h_data_exact + noise_level*np.random.randn(N_data)\n",
    "\n",
    "# Convert to PyTorch tensors\n",
    "t_data_tensor = torch.tensor(t_data, dtype=torch.float32).view(-1, 1)\n",
    "h_data_tensor = torch.tensor(h_data_noisy, dtype=torch.float32).view(-1, 1)"
   ]
  },
  {
   "cell_type": "markdown",
   "id": "843a5776-cdf4-4fce-9cf3-c15ab3edd484",
   "metadata": {},
   "source": [
    "Define a small feed-forward neural network for h(t)"
   ]
  },
  {
   "cell_type": "code",
   "execution_count": 3,
   "id": "da7e45bc-2e3b-45d5-8afd-55aa67d8fe41",
   "metadata": {},
   "outputs": [],
   "source": [
    "class PINN(nn.Module):\n",
    "    def __init__(self, n_hidden=20):\n",
    "        super(PINN, self).__init__()\n",
    "        # A simple MLP with 2 hidden layers\n",
    "        self.net = nn.Sequential(\n",
    "            nn.Linear(1, n_hidden),\n",
    "            nn.Tanh(),\n",
    "            nn.Linear(n_hidden, n_hidden),\n",
    "            nn.Tanh(),\n",
    "            nn.Linear(n_hidden, 1)\n",
    "        )\n",
    "\n",
    "    def forward(self, t):\n",
    "        \"\"\"\n",
    "        Forward pass: input shape (batch_size, 1) -> output shape (batch_size, 1)\n",
    "        \"\"\"\n",
    "        return self.net(t)\n",
    "\n",
    "# Instantiate the model\n",
    "model = PINN(n_hidden=20)"
   ]
  },
  {
   "cell_type": "markdown",
   "id": "4606ef6d-48de-416b-a079-64dc4a4630c9",
   "metadata": {},
   "source": [
    "Helper for Automatic Differentiation"
   ]
  },
  {
   "cell_type": "code",
   "execution_count": 4,
   "id": "1275e5d9-b028-47dd-bdda-dcb05dc7d2bc",
   "metadata": {},
   "outputs": [],
   "source": [
    "def derivative(y, x):\n",
    "    \"\"\"\n",
    "    Computes dy/dx using PyTorch's autograd.\n",
    "    y and x must be tensors with requires_grad=True for x.\n",
    "    \"\"\"\n",
    "    return torch.autograd.grad(\n",
    "        y, x,\n",
    "        grad_outputs=torch.ones_like(y),\n",
    "        create_graph=True\n",
    "    )[0]"
   ]
  },
  {
   "cell_type": "markdown",
   "id": "5a9daa88-3a8b-494b-8b47-32c56c512749",
   "metadata": {},
   "source": [
    "Define the Loss Components (PINN)"
   ]
  },
  {
   "cell_type": "code",
   "execution_count": 5,
   "id": "ce6ed0e2-7aab-4324-9a2f-95df0bcf2529",
   "metadata": {},
   "outputs": [],
   "source": [
    "def physics_loss(model, t):\n",
    "    \"\"\"\n",
    "    Compare d(h_pred)/dt with the known expression (v0 - g t).\n",
    "    \"\"\"\n",
    "    # t must have requires_grad = True for autograd to work\n",
    "    t.requires_grad_(True)\n",
    "\n",
    "    h_pred = model(t)\n",
    "    dh_dt_pred = derivative(h_pred, t)\n",
    "\n",
    "    # For each t, physics says dh/dt = v0 - g * t\n",
    "    dh_dt_true = v0 - g * t\n",
    "\n",
    "    loss_ode = torch.mean((dh_dt_pred - dh_dt_true)**2)\n",
    "    return loss_ode\n",
    "\n",
    "def initial_condition_loss(model):\n",
    "    \"\"\"\n",
    "    Enforce h(0) = h0.\n",
    "    \"\"\"\n",
    "    # Evaluate at t=0\n",
    "    t0 = torch.zeros(1, 1, dtype=torch.float32, requires_grad=False)\n",
    "    h0_pred = model(t0)\n",
    "    return (h0_pred - h0).pow(2).mean()\n",
    "\n",
    "def data_loss(model, t_data, h_data):\n",
    "    \"\"\"\n",
    "    MSE between predicted h(t_i) and noisy measurements h_data.\n",
    "    \"\"\"\n",
    "    h_pred = model(t_data)\n",
    "    return torch.mean((h_pred - h_data)**2)"
   ]
  },
  {
   "cell_type": "markdown",
   "id": "7946ba0e-57a5-42f0-8f9a-b37e3a33c2c9",
   "metadata": {},
   "source": [
    "Training Setup"
   ]
  },
  {
   "cell_type": "code",
   "execution_count": 6,
   "id": "82d9c3bd-eb5e-4187-a321-457d4bb05600",
   "metadata": {},
   "outputs": [],
   "source": [
    "optimizer = torch.optim.Adam(model.parameters(), lr=0.01)\n",
    "\n",
    "# Hyperparameters for weighting the loss terms\n",
    "lambda_data = 2.0\n",
    "lambda_ode  = 2.0\n",
    "lambda_ic   = 2.0\n",
    "\n",
    "# For logging\n",
    "num_epochs = 4000\n",
    "print_every = 200"
   ]
  },
  {
   "cell_type": "markdown",
   "id": "f2f3e9a1-ec8c-4195-b0d4-66c86cd608d5",
   "metadata": {},
   "source": [
    "Training Loop"
   ]
  },
  {
   "cell_type": "code",
   "execution_count": 7,
   "id": "3557ab3d-c346-426b-b847-4a4541b65791",
   "metadata": {},
   "outputs": [
    {
     "name": "stdout",
     "output_type": "stream",
     "text": [
      "Epoch 200/4000, Total Loss = 1.073887, Data Loss = 0.481902, ODE Loss = 0.022120, IC Loss = 0.032921\n",
      "Epoch 400/4000, Total Loss = 1.045507, Data Loss = 0.476268, ODE Loss = 0.022485, IC Loss = 0.024001\n",
      "Epoch 600/4000, Total Loss = 1.029651, Data Loss = 0.477497, ODE Loss = 0.021668, IC Loss = 0.015661\n",
      "Epoch 800/4000, Total Loss = 1.025487, Data Loss = 0.477529, ODE Loss = 0.021272, IC Loss = 0.013942\n",
      "Epoch 1000/4000, Total Loss = 1.022023, Data Loss = 0.475564, ODE Loss = 0.021718, IC Loss = 0.013729\n",
      "Epoch 1200/4000, Total Loss = 1.019229, Data Loss = 0.473978, ODE Loss = 0.022205, IC Loss = 0.013431\n",
      "Epoch 1400/4000, Total Loss = 1.016379, Data Loss = 0.472475, ODE Loss = 0.022478, IC Loss = 0.013237\n",
      "Epoch 1600/4000, Total Loss = 1.012721, Data Loss = 0.470380, ODE Loss = 0.022904, IC Loss = 0.013077\n",
      "Epoch 1800/4000, Total Loss = 1.007484, Data Loss = 0.467180, ODE Loss = 0.023655, IC Loss = 0.012907\n",
      "Epoch 2000/4000, Total Loss = 1.019765, Data Loss = 0.476886, ODE Loss = 0.023189, IC Loss = 0.009808\n",
      "Epoch 2200/4000, Total Loss = 0.991577, Data Loss = 0.458990, ODE Loss = 0.024245, IC Loss = 0.012553\n",
      "Epoch 2400/4000, Total Loss = 0.981292, Data Loss = 0.451395, ODE Loss = 0.026073, IC Loss = 0.013178\n",
      "Epoch 2600/4000, Total Loss = 0.970645, Data Loss = 0.451900, ODE Loss = 0.020625, IC Loss = 0.012797\n",
      "Epoch 2800/4000, Total Loss = 0.966315, Data Loss = 0.449711, ODE Loss = 0.020662, IC Loss = 0.012785\n",
      "Epoch 3000/4000, Total Loss = 0.963160, Data Loss = 0.449605, ODE Loss = 0.019404, IC Loss = 0.012571\n",
      "Epoch 3200/4000, Total Loss = 0.965483, Data Loss = 0.452866, ODE Loss = 0.018044, IC Loss = 0.011832\n",
      "Epoch 3400/4000, Total Loss = 0.954873, Data Loss = 0.445798, ODE Loss = 0.019027, IC Loss = 0.012611\n",
      "Epoch 3600/4000, Total Loss = 0.937000, Data Loss = 0.437135, ODE Loss = 0.018963, IC Loss = 0.012402\n",
      "Epoch 3800/4000, Total Loss = 0.834010, Data Loss = 0.387070, ODE Loss = 0.020962, IC Loss = 0.008973\n",
      "Epoch 4000/4000, Total Loss = 0.542030, Data Loss = 0.237750, ODE Loss = 0.020367, IC Loss = 0.012899\n"
     ]
    }
   ],
   "source": [
    "model.train()\n",
    "for epoch in range(num_epochs):\n",
    "    optimizer.zero_grad()\n",
    "\n",
    "    # Compute losses\n",
    "    l_data = data_loss(model, t_data_tensor, h_data_tensor)\n",
    "    l_ode  = physics_loss(model, t_data_tensor)\n",
    "    l_ic   = initial_condition_loss(model)\n",
    "\n",
    "    # Combined loss\n",
    "    loss = lambda_data * l_data + lambda_ode * l_ode + lambda_ic * l_ic\n",
    "\n",
    "    # Backprop\n",
    "    loss.backward()\n",
    "    optimizer.step()\n",
    "\n",
    "    # Print progress\n",
    "    if (epoch+1) % print_every == 0:\n",
    "        print(f\"Epoch {epoch+1}/{num_epochs}, \"\n",
    "              f\"Total Loss = {loss.item():.6f}, \"\n",
    "              f\"Data Loss = {l_data.item():.6f}, \"\n",
    "              f\"ODE Loss = {l_ode.item():.6f}, \"\n",
    "              f\"IC Loss = {l_ic.item():.6f}\")"
   ]
  },
  {
   "cell_type": "markdown",
   "id": "cf916a5f-d4da-4e42-bffb-c21be79aab9b",
   "metadata": {},
   "source": [
    "Evaluate the Trained Model"
   ]
  },
  {
   "cell_type": "code",
   "execution_count": 8,
   "id": "af97eb25-32cb-4772-8a00-33476f364472",
   "metadata": {},
   "outputs": [
    {
     "data": {
      "image/png": "[encoded data removed]",
      "text/plain": [
       "<Figure size 800x500 with 1 Axes>"
      ]
     },
     "metadata": {},
     "output_type": "display_data"
    }
   ],
   "source": [
    "model.eval()\n",
    "t_plot = np.linspace(t_min, t_max, 100).reshape(-1, 1).astype(np.float32)\n",
    "t_plot_tensor = torch.tensor(t_plot, requires_grad=True)\n",
    "h_pred_plot = model(t_plot_tensor).detach().numpy()\n",
    "\n",
    "# True solution (for comparison)\n",
    "h_true_plot = true_solution(t_plot)\n",
    "\n",
    "# Plot results\n",
    "plt.figure(figsize=(8, 5))\n",
    "plt.scatter(t_data, h_data_noisy, color='red', label='Noisy Data')\n",
    "plt.plot(t_plot, h_true_plot, 'k--', label='Exact Solution')\n",
    "plt.plot(t_plot, h_pred_plot, 'b', label='PINN Prediction')\n",
    "plt.xlabel('t')\n",
    "plt.ylabel('h(t)')\n",
    "plt.legend()\n",
    "plt.title('PINN for Ball Trajectory')\n",
    "plt.grid(True)\n",
    "plt.show()"
   ]
  },
  {
   "cell_type": "code",
   "execution_count": null,
   "id": "3b0297be-4139-4df8-a4ee-1a780aaeca73",
   "metadata": {},
   "outputs": [],
   "source": []
  }
 ],
 "metadata": {
  "kernelspec": {
   "display_name": "Python 3 (ipykernel)",
   "language": "python",
   "name": "python3"
  },
  "language_info": {
   "codemirror_mode": {
    "name": "ipython",
    "version": 3
   },
   "file_extension": ".py",
   "mimetype": "text/x-python",
   "name": "python",
   "nbconvert_exporter": "python",
   "pygments_lexer": "ipython3",
   "version": "3.13.3"
  }
 },
 "nbformat": 4,
 "nbformat_minor": 5
}
