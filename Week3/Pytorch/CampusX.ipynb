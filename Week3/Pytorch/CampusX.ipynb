{
 "cells": [
  {
   "cell_type": "code",
   "execution_count": 1,
   "id": "1ff86617-d650-405f-bdec-1bc656758485",
   "metadata": {},
   "outputs": [
    {
     "name": "stdout",
     "output_type": "stream",
     "text": [
      "2.7.1+cpu\n"
     ]
    }
   ],
   "source": [
    "import torch\n",
    "print(torch.__version__)"
   ]
  },
  {
   "cell_type": "code",
   "execution_count": 3,
   "id": "01ae2501-d970-48de-83d2-4b1495e7d601",
   "metadata": {},
   "outputs": [
    {
     "name": "stdout",
     "output_type": "stream",
     "text": [
      "CPU is available\n"
     ]
    }
   ],
   "source": [
    "if torch.cuda.is_available():\n",
    "    print(\"GPU is available\")\n",
    "else:\n",
    "    print(\"CPU is available\")"
   ]
  },
  {
   "cell_type": "markdown",
   "id": "c6a799af-57c4-4b03-84a5-bc3d2b3d7125",
   "metadata": {},
   "source": [
    "# Creating a Tensor"
   ]
  },
  {
   "cell_type": "code",
   "execution_count": 13,
   "id": "ba0c0643-0803-4c82-be50-2b38e23d0fe4",
   "metadata": {},
   "outputs": [
    {
     "name": "stdout",
     "output_type": "stream",
     "text": [
      "tensor([[0., 0., 0.],\n",
      "        [0., 0., 0.]])\n",
      "<class 'torch.Tensor'>\n"
     ]
    }
   ],
   "source": [
    "#Creates space for it, \n",
    "# assigns already existing values in the memory\n",
    "a=torch.empty(2,3) \n",
    "print(a)\n",
    "print(type(a))"
   ]
  },
  {
   "cell_type": "code",
   "execution_count": 10,
   "id": "1cf42b6a-4d7d-4818-859f-0f0a78fc11d0",
   "metadata": {},
   "outputs": [
    {
     "name": "stdout",
     "output_type": "stream",
     "text": [
      "tensor([[0., 0., 0.],\n",
      "        [0., 0., 0.]])\n",
      "tensor([[1., 1., 1.],\n",
      "        [1., 1., 1.]])\n"
     ]
    }
   ],
   "source": [
    "a=torch.zeros(2,3)\n",
    "b=torch.ones(2,3)\n",
    "print(a)\n",
    "print(b)"
   ]
  },
  {
   "cell_type": "code",
   "execution_count": 14,
   "id": "9c90c8b6-48e4-41c2-a767-de5dcfe1df59",
   "metadata": {},
   "outputs": [
    {
     "data": {
      "text/plain": [
       "tensor([[0.0611, 0.3994, 0.9054],\n",
       "        [0.2545, 0.5907, 0.1022]])"
      ]
     },
     "execution_count": 14,
     "metadata": {},
     "output_type": "execute_result"
    }
   ],
   "source": [
    "torch.rand(2,3)"
   ]
  },
  {
   "cell_type": "code",
   "execution_count": 15,
   "id": "fc4c320b-8c72-4293-a75a-715036d9d4a4",
   "metadata": {},
   "outputs": [
    {
     "data": {
      "text/plain": [
       "tensor([[0.1117, 0.8158, 0.2626],\n",
       "        [0.4839, 0.6765, 0.7539]])"
      ]
     },
     "execution_count": 15,
     "metadata": {},
     "output_type": "execute_result"
    }
   ],
   "source": [
    "# Manual seed is used fro reproducibility \n",
    "torch.manual_seed(100)\n",
    "torch.rand(2,3)"
   ]
  },
  {
   "cell_type": "code",
   "execution_count": 18,
   "id": "d7c8008e-4ecd-476f-985f-339e3305a754",
   "metadata": {},
   "outputs": [
    {
     "data": {
      "text/plain": [
       "tensor([[1, 2, 3],\n",
       "        [4, 5, 6]])"
      ]
     },
     "execution_count": 18,
     "metadata": {},
     "output_type": "execute_result"
    }
   ],
   "source": [
    "# Making a custom tensor\n",
    "torch.tensor([[1,2,3],[4,5,6]])"
   ]
  },
  {
   "cell_type": "code",
   "execution_count": 39,
   "id": "0351fb06-6f66-4d52-b793-49e918b764b0",
   "metadata": {},
   "outputs": [
    {
     "name": "stdout",
     "output_type": "stream",
     "text": [
      "Using arange: tensor([0, 2, 4, 6, 8])\n",
      "Using linspace: tensor([ 0.0000,  1.1111,  2.2222,  3.3333,  4.4444,  5.5556,  6.6667,  7.7778,\n",
      "         8.8889, 10.0000])\n",
      "tensor([[1., 0., 0., 0., 0.],\n",
      "        [0., 1., 0., 0., 0.],\n",
      "        [0., 0., 1., 0., 0.],\n",
      "        [0., 0., 0., 1., 0.],\n",
      "        [0., 0., 0., 0., 1.]])\n",
      "tensor([[5, 5, 5],\n",
      "        [5, 5, 5],\n",
      "        [5, 5, 5]])\n"
     ]
    }
   ],
   "source": [
    "# Other methods\n",
    "print(\"Using arange:\", torch.arange(0,10,2)) #0-9, step=2\n",
    "print(\"Using linspace:\", torch.linspace(0,10,10)) #0-9, linearly spaced values between 0-10\n",
    "print(torch.eye(5)) # Creates identity matrix\n",
    "print(torch.full((3,3),5)) # Creates a matrix with all elements as a desired value"
   ]
  },
  {
   "cell_type": "markdown",
   "id": "137b5c01-df8b-4a0b-b887-8b2658fc302a",
   "metadata": {},
   "source": [
    "# Tensor Shapes"
   ]
  },
  {
   "cell_type": "code",
   "execution_count": 5,
   "id": "539a5cfa-72c1-4328-ad72-e51590d7d45b",
   "metadata": {},
   "outputs": [
    {
     "data": {
      "text/plain": [
       "torch.Size([2, 3])"
      ]
     },
     "execution_count": 5,
     "metadata": {},
     "output_type": "execute_result"
    }
   ],
   "source": [
    "import torch\n",
    "x=torch.tensor([[1,2,3],[4,5,6]])\n",
    "x.shape"
   ]
  },
  {
   "cell_type": "code",
   "execution_count": 24,
   "id": "db258f68-61ae-44c2-a9ba-e163811bb4d1",
   "metadata": {},
   "outputs": [
    {
     "name": "stdout",
     "output_type": "stream",
     "text": [
      "tensor([[0, 0, 0],\n",
      "        [0, 0, 0]])\n",
      "tensor([[0, 0, 0],\n",
      "        [0, 0, 0]])\n",
      "tensor([[1, 1, 1],\n",
      "        [1, 1, 1]])\n",
      "tensor([[0.0839, 0.2853, 0.2997],\n",
      "        [0.4604, 0.5977, 0.6602]])\n"
     ]
    }
   ],
   "source": [
    "print(torch.empty_like(x)) \n",
    "# Creates an empty tensor having same shape as x\n",
    "# All elements need not be zero\n",
    "print(torch.zeros_like(x))\n",
    "print(torch.ones_like(x))\n",
    "# torch.rand_like(x) not working\n",
    "# because values in x are all integers & rand function \n",
    "# initialises all elements to floats between 0-1\n",
    "print(torch.rand_like(x,dtype=torch.float32))"
   ]
  },
  {
   "cell_type": "markdown",
   "id": "306c2f09-65ab-4b87-bd42-1df8f4755791",
   "metadata": {},
   "source": [
    "# Tensor Data Types"
   ]
  },
  {
   "cell_type": "code",
   "execution_count": 16,
   "id": "f6db9487-9ae5-4626-9d89-83aea40a6a09",
   "metadata": {},
   "outputs": [
    {
     "data": {
      "text/plain": [
       "torch.int64"
      ]
     },
     "execution_count": 16,
     "metadata": {},
     "output_type": "execute_result"
    }
   ],
   "source": [
    "# Find data types\n",
    "x.dtype"
   ]
  },
  {
   "cell_type": "code",
   "execution_count": 15,
   "id": "6734b1ba-1076-4438-b8b4-e3098eb7119d",
   "metadata": {},
   "outputs": [
    {
     "name": "stdout",
     "output_type": "stream",
     "text": [
      "tensor([1, 2, 3], dtype=torch.int32)\n",
      "tensor([1., 2., 3.], dtype=torch.float64)\n"
     ]
    }
   ],
   "source": [
    "# Assign data types\n",
    "print(torch.tensor([1.0,2.0,3.0], dtype=torch.int32))\n",
    "print(torch.tensor([1,2,3], dtype=torch.float64))"
   ]
  },
  {
   "cell_type": "code",
   "execution_count": 19,
   "id": "d9a0f71f-1c08-4f4d-a579-71e004a539c0",
   "metadata": {},
   "outputs": [
    {
     "name": "stdout",
     "output_type": "stream",
     "text": [
      "tensor([[1, 2, 3],\n",
      "        [4, 5, 6]])\n"
     ]
    },
    {
     "data": {
      "text/plain": [
       "tensor([[1., 2., 3.],\n",
       "        [4., 5., 6.]])"
      ]
     },
     "execution_count": 19,
     "metadata": {},
     "output_type": "execute_result"
    }
   ],
   "source": [
    "print(x)\n",
    "x.to(torch.float32) # Convert an existing tensor"
   ]
  },
  {
   "cell_type": "markdown",
   "id": "b7a8601c-15b7-46f9-905b-c15becb436c1",
   "metadata": {},
   "source": [
    "# Mathematical operations\n",
    "## Scalar operations"
   ]
  },
  {
   "cell_type": "code",
   "execution_count": 26,
   "id": "c8a41b19-aa3b-40bd-b81c-e30da96c665f",
   "metadata": {},
   "outputs": [
    {
     "data": {
      "text/plain": [
       "tensor([[0.9168, 0.7618],\n",
       "        [0.2511, 0.2503]])"
      ]
     },
     "execution_count": 26,
     "metadata": {},
     "output_type": "execute_result"
    }
   ],
   "source": [
    "x=torch.rand(2,2)\n",
    "x"
   ]
  },
  {
   "cell_type": "code",
   "execution_count": 30,
   "id": "d09d16b1-eab0-492a-b9b9-2e8bc7f3011e",
   "metadata": {},
   "outputs": [
    {
     "name": "stdout",
     "output_type": "stream",
     "text": [
      "tensor([[2.9168, 2.7618],\n",
      "        [2.2511, 2.2503]])\n",
      "tensor([[-1.0832, -1.2382],\n",
      "        [-1.7489, -1.7497]])\n",
      "tensor([[2.7504, 2.2855],\n",
      "        [0.7533, 0.7509]])\n",
      "tensor([[0.3056, 0.2539],\n",
      "        [0.0837, 0.0834]])\n",
      "tensor([[30., 25.],\n",
      "        [ 8.,  8.]])\n",
      "tensor([[0., 1.],\n",
      "        [0., 0.]])\n",
      "tensor([[0.8405, 0.5804],\n",
      "        [0.0631, 0.0626]])\n"
     ]
    }
   ],
   "source": [
    "print(x+2)\n",
    "print(x-2)\n",
    "print(x*3)\n",
    "print(x/3)\n",
    "print((x*100)//3) # Integer division\n",
    "print(((x*100)//3)%2) # Remainder\n",
    "print(x**2)"
   ]
  },
  {
   "cell_type": "markdown",
   "id": "23024a3e-0263-4685-af26-2d47fb1497d3",
   "metadata": {},
   "source": [
    "## Element wise operations"
   ]
  },
  {
   "cell_type": "code",
   "execution_count": 31,
   "id": "46f402f5-6f58-4517-8c66-5c74991a80e3",
   "metadata": {},
   "outputs": [
    {
     "name": "stdout",
     "output_type": "stream",
     "text": [
      "tensor([[0.0861, 0.9664, 0.1839],\n",
      "        [0.2417, 0.3533, 0.5686]])\n",
      "tensor([[0.6366, 0.9329, 0.8258],\n",
      "        [0.8322, 0.0996, 0.2356]])\n"
     ]
    }
   ],
   "source": [
    "a=torch.rand(2,3)\n",
    "b=torch.rand(2,3)\n",
    "print(a)\n",
    "print(b)"
   ]
  },
  {
   "cell_type": "code",
   "execution_count": 34,
   "id": "bbe54e1a-7f7e-4df5-bece-1b36275ad363",
   "metadata": {},
   "outputs": [
    {
     "name": "stdout",
     "output_type": "stream",
     "text": [
      "tensor([[0.7227, 1.8993, 1.0097],\n",
      "        [1.0738, 0.4530, 0.8042]])\n",
      "tensor([[-0.5505,  0.0336, -0.6419],\n",
      "        [-0.5905,  0.2537,  0.3330]])\n",
      "tensor([[0.0548, 0.9015, 0.1519],\n",
      "        [0.2011, 0.0352, 0.1340]])\n",
      "tensor([[0.1352, 1.0360, 0.2227],\n",
      "        [0.2904, 3.5472, 2.4132]])\n",
      "tensor([[0.2099, 0.9686, 0.2470],\n",
      "        [0.3067, 0.9016, 0.8754]])\n",
      "tensor([[0.0861, 0.0336, 0.1839],\n",
      "        [0.2417, 0.0545, 0.0974]])\n"
     ]
    }
   ],
   "source": [
    "print(a+b)\n",
    "print(a-b)\n",
    "print(a*b)\n",
    "print(a/b)\n",
    "print(a**b)\n",
    "print(a%b)"
   ]
  },
  {
   "cell_type": "code",
   "execution_count": 37,
   "id": "f6e5b8e5-7567-4d02-aac1-c04fea4a0d80",
   "metadata": {},
   "outputs": [
    {
     "name": "stdout",
     "output_type": "stream",
     "text": [
      "tensor([1, 2, 3, 4])\n",
      "tensor([-1,  2, -3,  4])\n"
     ]
    }
   ],
   "source": [
    "c=torch.tensor([1,-2,3,-4])\n",
    "print(torch.abs(c))\n",
    "print(torch.neg(c))"
   ]
  },
  {
   "cell_type": "code",
   "execution_count": 40,
   "id": "10b43028-132a-452a-b7e4-de082ded2786",
   "metadata": {},
   "outputs": [
    {
     "name": "stdout",
     "output_type": "stream",
     "text": [
      "tensor([2., 2., 4., 4.])\n",
      "tensor([2., 3., 4., 5.])\n",
      "tensor([1., 2., 3., 4.])\n",
      "tensor([2.0000, 2.3000, 3.0000, 3.0000])\n"
     ]
    }
   ],
   "source": [
    "d=torch.tensor([1.9,2.3,3.7,4.4])\n",
    "print(torch.round(d))\n",
    "print(torch.ceil(d))\n",
    "print(torch.floor(d))\n",
    "print(torch.clamp(d, min=2, max=3))"
   ]
  },
  {
   "cell_type": "markdown",
   "id": "dccdbfe3-8637-4d1e-bcc3-8b95dbddfe8f",
   "metadata": {},
   "source": [
    "## Reduction Operations"
   ]
  },
  {
   "cell_type": "code",
   "execution_count": 44,
   "id": "df36b103-cff3-48c9-aa45-2524397a98d1",
   "metadata": {},
   "outputs": [
    {
     "data": {
      "text/plain": [
       "tensor([[4., 4., 8.],\n",
       "        [7., 5., 3.]])"
      ]
     },
     "execution_count": 44,
     "metadata": {},
     "output_type": "execute_result"
    }
   ],
   "source": [
    "e=torch.randint(size=(2,3),low=0,high=10, \n",
    "                dtype=torch.float32)\n",
    "e"
   ]
  },
  {
   "cell_type": "code",
   "execution_count": 51,
   "id": "7fbe9fd3-0517-4494-b1ed-096486ce209d",
   "metadata": {},
   "outputs": [
    {
     "name": "stdout",
     "output_type": "stream",
     "text": [
      "tensor(31.)\n",
      "tensor([11.,  9., 11.])\n",
      "tensor([16., 15.])\n",
      "tensor(5.1667)\n",
      "tensor([5.5000, 4.5000, 5.5000])\n",
      "tensor(4.)\n",
      "tensor(3.)\n",
      "tensor(8.)\n",
      "tensor(13440.)\n",
      "tensor(1.9408)\n",
      "tensor(3.7667)\n",
      "tensor(2)\n",
      "tensor(5)\n"
     ]
    }
   ],
   "source": [
    "# sum\n",
    "print(torch.sum(e))\n",
    "# sum along columns\n",
    "print(torch.sum(e, dim=0))\n",
    "# sum along rows\n",
    "print(torch.sum(e, dim=1))\n",
    "print(torch.mean(e))\n",
    "print(torch.mean(e, dim=0)) # mean along column\n",
    "print(torch.median(e))\n",
    "print(torch.min(e))\n",
    "print(torch.max(e))\n",
    "print(torch.prod(e)) # product\n",
    "print(torch.std(e)) # standard deviation\n",
    "print(torch.var(e)) # variance\n",
    "print(torch.argmax(e)) # position of the largest element\n",
    "print(torch.argmin(e)) # position of the smallest element"
   ]
  },
  {
   "cell_type": "markdown",
   "id": "5b6233af-aa10-4563-a9fd-5f84ff94379d",
   "metadata": {},
   "source": [
    "## Matrix operations"
   ]
  },
  {
   "cell_type": "code",
   "execution_count": 60,
   "id": "35b2aa6c-ba10-4c45-a25d-82b8bbfd287a",
   "metadata": {},
   "outputs": [
    {
     "name": "stdout",
     "output_type": "stream",
     "text": [
      "tensor([[8, 1, 7],\n",
      "        [4, 9, 0]])\n",
      "tensor([[4, 2],\n",
      "        [8, 1],\n",
      "        [8, 7]])\n",
      "tensor([[96, 66],\n",
      "        [88, 17]])\n"
     ]
    }
   ],
   "source": [
    "f=torch.randint(size=(2,3),low=0,high=10)\n",
    "g=torch.randint(size=(3,2),low=0,high=10)\n",
    "print(f)\n",
    "print(g)\n",
    "print(torch.matmul(f,g)) #matrix multiplication"
   ]
  },
  {
   "cell_type": "code",
   "execution_count": 62,
   "id": "160d92c4-af1e-483f-9272-b9cabe95bc9d",
   "metadata": {},
   "outputs": [
    {
     "data": {
      "text/plain": [
       "tensor(11)"
      ]
     },
     "execution_count": 62,
     "metadata": {},
     "output_type": "execute_result"
    }
   ],
   "source": [
    "v1=torch.tensor([1,2])\n",
    "v2=torch.tensor([3,4])\n",
    "torch.dot(v1,v2)"
   ]
  },
  {
   "cell_type": "code",
   "execution_count": 73,
   "id": "3f929707-f806-4892-9b0f-04e801a0dd72",
   "metadata": {},
   "outputs": [
    {
     "name": "stdout",
     "output_type": "stream",
     "text": [
      "tensor([[3, 4, 1],\n",
      "        [6, 6, 2]])\n",
      "tensor([[3, 6],\n",
      "        [4, 6],\n",
      "        [1, 2]])\n"
     ]
    }
   ],
   "source": [
    "A=torch.randint(size=(2,3),low=0,high=10)\n",
    "print(A)\n",
    "print(torch.transpose(A,0,1))"
   ]
  },
  {
   "cell_type": "code",
   "execution_count": 78,
   "id": "8d45e836-e0f0-4f37-b567-d04835fcb60f",
   "metadata": {},
   "outputs": [
    {
     "name": "stdout",
     "output_type": "stream",
     "text": [
      "tensor([[7., 6., 4.],\n",
      "        [1., 0., 8.],\n",
      "        [0., 5., 2.]])\n",
      "tensor(-272.)\n",
      "tensor([[ 0.1471, -0.0294, -0.1765],\n",
      "        [ 0.0074, -0.0515,  0.1912],\n",
      "        [-0.0184,  0.1287,  0.0221]])\n"
     ]
    }
   ],
   "source": [
    "h=torch.randint(size=(3,3),low=0,high=10,dtype=torch.float32)\n",
    "print(h)\n",
    "print(torch.det(h))\n",
    "print(torch.inverse(h))"
   ]
  },
  {
   "cell_type": "markdown",
   "id": "4655475a-6c3d-4885-a616-e89417aae6cd",
   "metadata": {},
   "source": [
    "## Comparison Operations"
   ]
  },
  {
   "cell_type": "code",
   "execution_count": 79,
   "id": "f57a4451-099d-4ef2-afa8-147f542ec535",
   "metadata": {},
   "outputs": [
    {
     "name": "stdout",
     "output_type": "stream",
     "text": [
      "tensor([[5, 0, 0],\n",
      "        [7, 2, 2]])\n",
      "tensor([[4, 6, 4],\n",
      "        [9, 9, 0]])\n"
     ]
    }
   ],
   "source": [
    "i=torch.randint(size=(2,3),low=0,high=10)\n",
    "j=torch.randint(size=(2,3),low=0,high=10)\n",
    "print(i)\n",
    "print(j)"
   ]
  },
  {
   "cell_type": "code",
   "execution_count": 82,
   "id": "24dd7b83-bdc9-460d-baee-c2c1cf375370",
   "metadata": {},
   "outputs": [
    {
     "name": "stdout",
     "output_type": "stream",
     "text": [
      "tensor([[ True, False, False],\n",
      "        [False, False,  True]])\n",
      "tensor([[False,  True,  True],\n",
      "        [ True,  True, False]])\n",
      "tensor([[False, False, False],\n",
      "        [False, False, False]])\n",
      "tensor([[True, True, True],\n",
      "        [True, True, True]])\n",
      "tensor([[False,  True,  True],\n",
      "        [ True,  True, False]])\n",
      "tensor([[ True, False, False],\n",
      "        [False, False,  True]])\n"
     ]
    }
   ],
   "source": [
    "print(i>j)\n",
    "print(i<j)\n",
    "print(i==j)\n",
    "print(i!=j)\n",
    "print(i<=j)\n",
    "print(i>=j)"
   ]
  },
  {
   "cell_type": "markdown",
   "id": "2bcf7cda-19b0-469e-a784-b5a9f0d218be",
   "metadata": {},
   "source": [
    "## Special functions"
   ]
  },
  {
   "cell_type": "code",
   "execution_count": 90,
   "id": "0d017efe-d821-4768-9467-eca1db1ea58f",
   "metadata": {},
   "outputs": [
    {
     "name": "stdout",
     "output_type": "stream",
     "text": [
      "tensor([[2., 4., 5.],\n",
      "        [4., 6., 9.]])\n"
     ]
    }
   ],
   "source": [
    "k=torch.randint(size=(2,3),low=0,high=10, dtype=torch.float32)\n",
    "print(k)"
   ]
  },
  {
   "cell_type": "code",
   "execution_count": 91,
   "id": "1d7f8b0f-46ac-44bd-8071-e9db342812dc",
   "metadata": {},
   "outputs": [
    {
     "name": "stdout",
     "output_type": "stream",
     "text": [
      "tensor([[0.6931, 1.3863, 1.6094],\n",
      "        [1.3863, 1.7918, 2.1972]])\n",
      "tensor([[7.3891e+00, 5.4598e+01, 1.4841e+02],\n",
      "        [5.4598e+01, 4.0343e+02, 8.1031e+03]])\n",
      "tensor([[1.4142, 2.0000, 2.2361],\n",
      "        [2.0000, 2.4495, 3.0000]])\n",
      "tensor([[0.8808, 0.9820, 0.9933],\n",
      "        [0.9820, 0.9975, 0.9999]])\n",
      "tensor([[0.1192, 0.1192, 0.0180],\n",
      "        [0.8808, 0.8808, 0.9820]])\n",
      "tensor([[2., 4., 5.],\n",
      "        [4., 6., 9.]])\n"
     ]
    }
   ],
   "source": [
    "print(torch.log(k))\n",
    "print(torch.exp(k))\n",
    "print(torch.sqrt(k))\n",
    "print(torch.sigmoid(k))\n",
    "print(torch.softmax(k, dim=0))\n",
    "print(torch.relu(k))"
   ]
  },
  {
   "cell_type": "markdown",
   "id": "df3fe61d-752a-4def-98e8-94ed271a83da",
   "metadata": {},
   "source": [
    "## Inplace Operattions\n",
    "Makes changes in the existing tensor without creating a new one & thereby not occupying extra memory for each simple operation.\n",
    "It can be achieved by just putting an underscore after the function name."
   ]
  },
  {
   "cell_type": "code",
   "execution_count": 92,
   "id": "90193ed8-6b45-40aa-ba5e-93fedfd162ff",
   "metadata": {},
   "outputs": [
    {
     "name": "stdout",
     "output_type": "stream",
     "text": [
      "tensor([[0.8068, 0.1770, 0.3479],\n",
      "        [0.1735, 0.5253, 0.0910]])\n",
      "tensor([[0.9471, 0.9906, 0.3506],\n",
      "        [0.5143, 0.1314, 0.5857]])\n"
     ]
    }
   ],
   "source": [
    "m=torch.rand(2,3)\n",
    "n=torch.rand(2,3)\n",
    "print(m)\n",
    "print(n)"
   ]
  },
  {
   "cell_type": "code",
   "execution_count": 94,
   "id": "f087a91d-2507-4cb5-be8a-d1c82590a1bf",
   "metadata": {},
   "outputs": [
    {
     "name": "stdout",
     "output_type": "stream",
     "text": [
      "tensor([[2.7009, 2.1582, 1.0491],\n",
      "        [1.2021, 0.7881, 1.2623]])\n",
      "tensor([[0.9471, 0.9906, 0.3506],\n",
      "        [0.5143, 0.1314, 0.5857]])\n"
     ]
    }
   ],
   "source": [
    "m.add_(n)\n",
    "print(m)\n",
    "print(n)"
   ]
  },
  {
   "cell_type": "markdown",
   "id": "d43e4555-6bc5-41fb-8cd4-bf5c4ef32542",
   "metadata": {},
   "source": [
    "# Copying a tensor"
   ]
  },
  {
   "cell_type": "code",
   "execution_count": 107,
   "id": "35edd978-fe04-486b-aa83-8523ebdde95f",
   "metadata": {},
   "outputs": [
    {
     "data": {
      "text/plain": [
       "tensor([[0.0721, 0.0408, 0.6237],\n",
       "        [0.7990, 0.4897, 0.9312]])"
      ]
     },
     "execution_count": 107,
     "metadata": {},
     "output_type": "execute_result"
    }
   ],
   "source": [
    "a=torch.rand(2,3)\n",
    "a"
   ]
  },
  {
   "cell_type": "code",
   "execution_count": 108,
   "id": "c0cd2c23-4e97-4b06-9378-558b045f0365",
   "metadata": {},
   "outputs": [
    {
     "name": "stdout",
     "output_type": "stream",
     "text": [
      "tensor([[1.0000, 0.0408, 0.6237],\n",
      "        [0.7990, 0.4897, 0.9312]])\n",
      "tensor([[0.0721, 0.0408, 0.6237],\n",
      "        [0.7990, 0.4897, 0.9312]])\n"
     ]
    }
   ],
   "source": [
    "b=a.clone() # Forms a clone at new memory location\n",
    "a[0][0]=1\n",
    "print(a)\n",
    "print(b)"
   ]
  },
  {
   "cell_type": "markdown",
   "id": "3de6f755-f622-4960-a991-dc8db3d6f181",
   "metadata": {},
   "source": [
    "# Tesnor Operations on GPU"
   ]
  },
  {
   "cell_type": "code",
   "execution_count": 109,
   "id": "da19ef3b-40dc-409d-9bec-ee254f5adbcc",
   "metadata": {},
   "outputs": [
    {
     "data": {
      "text/plain": [
       "False"
      ]
     },
     "execution_count": 109,
     "metadata": {},
     "output_type": "execute_result"
    }
   ],
   "source": [
    "torch.cuda.is_available()"
   ]
  },
  {
   "cell_type": "markdown",
   "id": "0542fb8d-d542-4bc8-bc3b-afef81413b53",
   "metadata": {},
   "source": [
    "# Reshaping Tensors"
   ]
  },
  {
   "cell_type": "code",
   "execution_count": 110,
   "id": "b83064d8-743a-4c35-ba9a-c04113377d9e",
   "metadata": {},
   "outputs": [
    {
     "data": {
      "text/plain": [
       "tensor([[1., 1., 1., 1.],\n",
       "        [1., 1., 1., 1.],\n",
       "        [1., 1., 1., 1.],\n",
       "        [1., 1., 1., 1.]])"
      ]
     },
     "execution_count": 110,
     "metadata": {},
     "output_type": "execute_result"
    }
   ],
   "source": [
    "a=torch.ones(4,4)\n",
    "a"
   ]
  },
  {
   "cell_type": "code",
   "execution_count": 111,
   "id": "9a730842-04c7-4f34-beb1-fd42c1f30747",
   "metadata": {},
   "outputs": [
    {
     "data": {
      "text/plain": [
       "tensor([[[[1., 1.],\n",
       "          [1., 1.]],\n",
       "\n",
       "         [[1., 1.],\n",
       "          [1., 1.]]],\n",
       "\n",
       "\n",
       "        [[[1., 1.],\n",
       "          [1., 1.]],\n",
       "\n",
       "         [[1., 1.],\n",
       "          [1., 1.]]]])"
      ]
     },
     "execution_count": 111,
     "metadata": {},
     "output_type": "execute_result"
    }
   ],
   "source": [
    "a.reshape(2,2,2,2)"
   ]
  },
  {
   "cell_type": "code",
   "execution_count": 112,
   "id": "cbbcdf5a-eddc-4d05-bd1e-3694df9c96f0",
   "metadata": {},
   "outputs": [
    {
     "data": {
      "text/plain": [
       "tensor([1., 1., 1., 1., 1., 1., 1., 1., 1., 1., 1., 1., 1., 1., 1., 1.])"
      ]
     },
     "execution_count": 112,
     "metadata": {},
     "output_type": "execute_result"
    }
   ],
   "source": [
    "a.flatten()"
   ]
  },
  {
   "cell_type": "code",
   "execution_count": 113,
   "id": "29bd0cf9-b732-4106-ae70-402188187b83",
   "metadata": {},
   "outputs": [
    {
     "data": {
      "text/plain": [
       "tensor([[[0.0614, 0.3468, 0.7133, 0.3868],\n",
       "         [0.7816, 0.8005, 0.3011, 0.9744],\n",
       "         [0.9520, 0.5579, 0.9522, 0.7523]],\n",
       "\n",
       "        [[0.3403, 0.4381, 0.1202, 0.9815],\n",
       "         [0.3996, 0.2926, 0.1090, 0.4209],\n",
       "         [0.1095, 0.4564, 0.8049, 0.1937]]])"
      ]
     },
     "execution_count": 113,
     "metadata": {},
     "output_type": "execute_result"
    }
   ],
   "source": [
    "b=torch.rand(2,3,4)\n",
    "b"
   ]
  },
  {
   "cell_type": "code",
   "execution_count": 117,
   "id": "578cfa2a-70fc-41c4-82da-8297ce66ea8d",
   "metadata": {},
   "outputs": [
    {
     "data": {
      "text/plain": [
       "torch.Size([4, 2, 3])"
      ]
     },
     "execution_count": 117,
     "metadata": {},
     "output_type": "execute_result"
    }
   ],
   "source": [
    "b.permute(2,0,1).shape"
   ]
  },
  {
   "cell_type": "code",
   "execution_count": 123,
   "id": "0a1dd1d4-9c47-4120-9cb8-657cf3721ff6",
   "metadata": {},
   "outputs": [
    {
     "data": {
      "text/plain": [
       "torch.Size([1, 226, 226, 3])"
      ]
     },
     "execution_count": 123,
     "metadata": {},
     "output_type": "execute_result"
    }
   ],
   "source": [
    "c=torch.rand(226,226,3)\n",
    "c.unsqueeze(0).shape"
   ]
  },
  {
   "cell_type": "code",
   "execution_count": 124,
   "id": "42bde2cd-8b38-4620-9d3d-811a35344ffa",
   "metadata": {},
   "outputs": [
    {
     "data": {
      "text/plain": [
       "torch.Size([20])"
      ]
     },
     "execution_count": 124,
     "metadata": {},
     "output_type": "execute_result"
    }
   ],
   "source": [
    "d=torch.rand(1,20)\n",
    "d.squeeze(0).shape"
   ]
  },
  {
   "cell_type": "markdown",
   "id": "4711a564-252f-4ba4-be6a-6e5f858faedb",
   "metadata": {},
   "source": [
    "# Numpy & PyTorch"
   ]
  },
  {
   "cell_type": "code",
   "execution_count": 125,
   "id": "634b2584-c130-4bbe-9314-c74dc40eb64e",
   "metadata": {},
   "outputs": [],
   "source": [
    "import numpy as np"
   ]
  },
  {
   "cell_type": "code",
   "execution_count": 133,
   "id": "c18835cc-cb71-4f59-8b8f-18852c183bb8",
   "metadata": {},
   "outputs": [
    {
     "data": {
      "text/plain": [
       "torch.Tensor"
      ]
     },
     "execution_count": 133,
     "metadata": {},
     "output_type": "execute_result"
    }
   ],
   "source": [
    "a=torch.tensor([1,2,3])\n",
    "type(a)"
   ]
  },
  {
   "cell_type": "code",
   "execution_count": 132,
   "id": "aa3b2985-f520-4ced-8787-991fb544c292",
   "metadata": {},
   "outputs": [
    {
     "data": {
      "text/plain": [
       "numpy.ndarray"
      ]
     },
     "execution_count": 132,
     "metadata": {},
     "output_type": "execute_result"
    }
   ],
   "source": [
    "b=a.numpy()\n",
    "type(b)"
   ]
  },
  {
   "cell_type": "code",
   "execution_count": 137,
   "id": "509e93fa-73a9-4832-9a1c-b2a998778c6e",
   "metadata": {},
   "outputs": [
    {
     "name": "stdout",
     "output_type": "stream",
     "text": [
      "[4 5 6]\n"
     ]
    },
    {
     "data": {
      "text/plain": [
       "numpy.ndarray"
      ]
     },
     "execution_count": 137,
     "metadata": {},
     "output_type": "execute_result"
    }
   ],
   "source": [
    "c=np.array([4,5,6])\n",
    "print(c)\n",
    "type(c)"
   ]
  },
  {
   "cell_type": "code",
   "execution_count": 136,
   "id": "7de575a4-c93e-42d7-91aa-052c677d2cf4",
   "metadata": {},
   "outputs": [
    {
     "name": "stdout",
     "output_type": "stream",
     "text": [
      "tensor([4, 5, 6])\n"
     ]
    },
    {
     "data": {
      "text/plain": [
       "torch.Tensor"
      ]
     },
     "execution_count": 136,
     "metadata": {},
     "output_type": "execute_result"
    }
   ],
   "source": [
    "d=torch.from_numpy(c)\n",
    "print(d)\n",
    "type(d)"
   ]
  },
  {
   "cell_type": "markdown",
   "id": "d19feb71-1cdd-4bcc-8ec1-8a19c371ea9e",
   "metadata": {},
   "source": [
    "# Autograd\n",
    "It is a core component of PyTorch that provides automatic diffferentiation for tensor operations. It enables gradient computation, which is essential for training machine learning models using optimisation algorithms like gradient descent."
   ]
  },
  {
   "cell_type": "markdown",
   "id": "62dd619f-1a10-4f53-8f78-357d9b2d29df",
   "metadata": {},
   "source": [
    "## Example 1: y=x^2"
   ]
  },
  {
   "cell_type": "code",
   "execution_count": 1,
   "id": "a80dc351-4078-426f-a0ca-8c0d48d382d2",
   "metadata": {},
   "outputs": [],
   "source": [
    "import torch"
   ]
  },
  {
   "cell_type": "code",
   "execution_count": 2,
   "id": "4815bba3-0a42-4aa1-aa67-ef0f7ea09ce9",
   "metadata": {},
   "outputs": [],
   "source": [
    "x=torch.tensor(3.0, requires_grad=True)\n",
    "y=x**2"
   ]
  },
  {
   "cell_type": "code",
   "execution_count": 3,
   "id": "f124487c-8f94-4c34-9b8f-ac700cba2f7f",
   "metadata": {},
   "outputs": [
    {
     "name": "stdout",
     "output_type": "stream",
     "text": [
      "tensor(3., requires_grad=True)\n",
      "tensor(9., grad_fn=<PowBackward0>)\n"
     ]
    }
   ],
   "source": [
    "print(x)\n",
    "print(y)"
   ]
  },
  {
   "cell_type": "code",
   "execution_count": 4,
   "id": "2b9c60ba-2a27-4e82-a5e4-894fe465033a",
   "metadata": {},
   "outputs": [],
   "source": [
    "y.backward()"
   ]
  },
  {
   "cell_type": "code",
   "execution_count": 5,
   "id": "c1917311-ebf2-4447-9a35-8d8560d4a322",
   "metadata": {},
   "outputs": [
    {
     "data": {
      "text/plain": [
       "tensor(6.)"
      ]
     },
     "execution_count": 5,
     "metadata": {},
     "output_type": "execute_result"
    }
   ],
   "source": [
    "x.grad"
   ]
  },
  {
   "cell_type": "markdown",
   "id": "67bc08a4-41ba-4263-b73f-ff24b170f4ab",
   "metadata": {},
   "source": [
    "## Example 2: y=x^2, z=sin(y)"
   ]
  },
  {
   "cell_type": "code",
   "execution_count": 6,
   "id": "d969a03b-06b9-474e-87b9-df0aa2953573",
   "metadata": {},
   "outputs": [],
   "source": [
    "x=torch.tensor(3.0, requires_grad=True)\n",
    "y=x**2\n",
    "z=torch.sin(y)"
   ]
  },
  {
   "cell_type": "code",
   "execution_count": 7,
   "id": "09e1dce5-55cf-4d35-8a78-c3583dbaf6fc",
   "metadata": {},
   "outputs": [
    {
     "name": "stdout",
     "output_type": "stream",
     "text": [
      "tensor(3., requires_grad=True)\n",
      "tensor(9., grad_fn=<PowBackward0>)\n",
      "tensor(0.4121, grad_fn=<SinBackward0>)\n"
     ]
    }
   ],
   "source": [
    "print(x)\n",
    "print(y)\n",
    "print(z)"
   ]
  },
  {
   "cell_type": "code",
   "execution_count": 8,
   "id": "93f5250e-2a7d-41a3-8bd7-e7ed1ada635a",
   "metadata": {},
   "outputs": [],
   "source": [
    "z.backward()"
   ]
  },
  {
   "cell_type": "code",
   "execution_count": 9,
   "id": "ded4cfee-c3af-4abf-9c8d-d5a6834e005c",
   "metadata": {},
   "outputs": [
    {
     "data": {
      "text/plain": [
       "tensor(-5.4668)"
      ]
     },
     "execution_count": 9,
     "metadata": {},
     "output_type": "execute_result"
    }
   ],
   "source": [
    "x.grad"
   ]
  },
  {
   "cell_type": "markdown",
   "id": "ab946531-38bb-4fe4-aebb-6f5139af38b3",
   "metadata": {},
   "source": [
    "Input is called leaf tensor & output is called root tensor. In backward pass the derivative of root tensor with respect to the leaf tensor is calculated."
   ]
  },
  {
   "cell_type": "markdown",
   "id": "db975aaf-6d21-4b12-a079-50841ec2d69c",
   "metadata": {},
   "source": [
    "## Example 3: Placement & CGPA NN"
   ]
  },
  {
   "cell_type": "markdown",
   "id": "18c0105c-ac2b-4c46-a784-bd6bf07f6160",
   "metadata": {},
   "source": [
    "### Manually doing without Autograd:"
   ]
  },
  {
   "cell_type": "code",
   "execution_count": 1,
   "id": "28dab1c4-97e1-43bb-8dc2-0d33143770a0",
   "metadata": {},
   "outputs": [],
   "source": [
    "import torch\n",
    "\n",
    "# Inputs\n",
    "x=torch.tensor(6.7) # Input feature\n",
    "y=torch.tensor(0.0) # True label (binary)\n",
    "\n",
    "w=torch.tensor(1.0) # weight\n",
    "b=torch.tensor(0.0) # bias"
   ]
  },
  {
   "cell_type": "code",
   "execution_count": 8,
   "id": "18316a93-c52c-4d43-9b31-2eac7b08e734",
   "metadata": {},
   "outputs": [],
   "source": [
    "# Binary Cross-Entropy Loss for scalar\n",
    "def binary_cross_entropy_loss(prediction, target):\n",
    "    epsilon=1e-8 # To prevent log(0)\n",
    "    prediction=torch.clamp(prediction, epsilon, 1-epsilon)\n",
    "    return -(target*torch.log(prediction)+(1-target)*torch.log(1-prediction))\n",
    "\n",
    "# Forward pass\n",
    "z=w*x+b # Weighteed sum (linear part)\n",
    "y_pred=torch.sigmoid(z) # Predicited probability\n",
    "\n",
    "# Compute binary cross entropy loss\n",
    "loss=binary_cross_entropy_loss(y_pred, y)"
   ]
  },
  {
   "cell_type": "code",
   "execution_count": 9,
   "id": "e48d9e19-65c7-4a64-8a3b-d4ffa3139cb3",
   "metadata": {},
   "outputs": [
    {
     "data": {
      "text/plain": [
       "tensor(6.7012)"
      ]
     },
     "execution_count": 9,
     "metadata": {},
     "output_type": "execute_result"
    }
   ],
   "source": [
    "loss"
   ]
  },
  {
   "cell_type": "code",
   "execution_count": 10,
   "id": "eb19913f-ea8a-4b05-b8b1-074555c82ff6",
   "metadata": {},
   "outputs": [],
   "source": [
    "# Derivatives\n",
    "# 1. \n",
    "dloss_dy_pred=(y_pred-y)/(y_pred*(1-y_pred))\n",
    "# 2.\n",
    "dy_pred_dz=y_pred*(1-y_pred)\n",
    "# 3.\n",
    "dz_dw=x\n",
    "dz_db=1\n",
    "\n",
    "dL_dw=dloss_dy_pred*dy_pred_dz*dz_dw\n",
    "dL_db=dloss_dy_pred*dy_pred_dz*dz_db"
   ]
  },
  {
   "cell_type": "code",
   "execution_count": 11,
   "id": "f048666e-b1ab-45a5-9bd9-d4b377ecddef",
   "metadata": {},
   "outputs": [
    {
     "name": "stdout",
     "output_type": "stream",
     "text": [
      "Manual gradient of loss w.r.t. weight (dw): 6.691762447357178\n",
      "Manual gradient of loss w.r.t. bias (db): 0.998770534992218\n"
     ]
    }
   ],
   "source": [
    "print(f\"Manual gradient of loss w.r.t. weight (dw): {dL_dw}\")\n",
    "print(f\"Manual gradient of loss w.r.t. bias (db): {dL_db}\")"
   ]
  },
  {
   "cell_type": "markdown",
   "id": "800b6f95-f167-45ae-992a-e4ed9f4c7a5e",
   "metadata": {},
   "source": [
    "### Using Autograd:"
   ]
  },
  {
   "cell_type": "code",
   "execution_count": 13,
   "id": "52810487-995c-4c23-b517-a6406868ddca",
   "metadata": {},
   "outputs": [],
   "source": [
    "x=torch.tensor(6.7)\n",
    "y=torch.tensor(0.0)\n",
    "w=torch.tensor(1.0, requires_grad=True)\n",
    "b=torch.tensor(0.0, requires_grad=True)"
   ]
  },
  {
   "cell_type": "code",
   "execution_count": 14,
   "id": "b3f32607-4f71-44dd-bb49-eb8630140c42",
   "metadata": {},
   "outputs": [
    {
     "name": "stdout",
     "output_type": "stream",
     "text": [
      "tensor(1., requires_grad=True) tensor(0., requires_grad=True)\n"
     ]
    }
   ],
   "source": [
    "print(w,b)"
   ]
  },
  {
   "cell_type": "code",
   "execution_count": 15,
   "id": "2792e6d8-8555-4b25-9d08-255c85ea5635",
   "metadata": {},
   "outputs": [
    {
     "name": "stdout",
     "output_type": "stream",
     "text": [
      "tensor(6.7000, grad_fn=<AddBackward0>)\n"
     ]
    }
   ],
   "source": [
    "z=w*x+b\n",
    "print(z)"
   ]
  },
  {
   "cell_type": "code",
   "execution_count": 16,
   "id": "1d0f7183-6a3f-484d-88b0-189e1480f16a",
   "metadata": {},
   "outputs": [
    {
     "name": "stdout",
     "output_type": "stream",
     "text": [
      "tensor(0.9988, grad_fn=<SigmoidBackward0>)\n"
     ]
    }
   ],
   "source": [
    "y_pred=torch.sigmoid(z)\n",
    "print(y_pred)"
   ]
  },
  {
   "cell_type": "code",
   "execution_count": 18,
   "id": "679433d3-198d-4ac8-bee2-c00d39ee4ed2",
   "metadata": {},
   "outputs": [
    {
     "name": "stdout",
     "output_type": "stream",
     "text": [
      "tensor(6.7012, grad_fn=<NegBackward0>)\n"
     ]
    }
   ],
   "source": [
    "loss=binary_cross_entropy_loss(y_pred, y)\n",
    "print(loss)"
   ]
  },
  {
   "cell_type": "code",
   "execution_count": 19,
   "id": "e000987d-aad9-4921-96ae-96fc59977075",
   "metadata": {},
   "outputs": [],
   "source": [
    "loss.backward()"
   ]
  },
  {
   "cell_type": "code",
   "execution_count": 21,
   "id": "e4021cda-7536-4b6e-a17f-c277e9f71f16",
   "metadata": {},
   "outputs": [
    {
     "name": "stdout",
     "output_type": "stream",
     "text": [
      "tensor(6.6918)\n",
      "tensor(0.9988)\n"
     ]
    }
   ],
   "source": [
    "print(w.grad)\n",
    "print(b.grad)"
   ]
  },
  {
   "cell_type": "markdown",
   "id": "df18ad40-b637-4919-8bc9-170d7b2c51f0",
   "metadata": {},
   "source": [
    "## Using vector inputs\n",
    "It is like creating a multi variable function."
   ]
  },
  {
   "cell_type": "code",
   "execution_count": 22,
   "id": "ba6ec1cd-a8e5-45c4-9b2c-a79a195a272b",
   "metadata": {},
   "outputs": [
    {
     "data": {
      "text/plain": [
       "tensor([1., 2., 3.], requires_grad=True)"
      ]
     },
     "execution_count": 22,
     "metadata": {},
     "output_type": "execute_result"
    }
   ],
   "source": [
    "x=torch.tensor([1.0,2.0,3.0], requires_grad=True)\n",
    "x"
   ]
  },
  {
   "cell_type": "code",
   "execution_count": 23,
   "id": "faa7abba-a107-4f9e-979e-e8697e51af4e",
   "metadata": {},
   "outputs": [
    {
     "data": {
      "text/plain": [
       "tensor(4.6667, grad_fn=<MeanBackward0>)"
      ]
     },
     "execution_count": 23,
     "metadata": {},
     "output_type": "execute_result"
    }
   ],
   "source": [
    "y=(x**2).mean()\n",
    "y"
   ]
  },
  {
   "cell_type": "code",
   "execution_count": 24,
   "id": "1137f33c-e3cb-4071-aeb2-89f134d41167",
   "metadata": {},
   "outputs": [],
   "source": [
    "y.backward()"
   ]
  },
  {
   "cell_type": "code",
   "execution_count": 25,
   "id": "9f98287e-fcb1-4ea2-b629-e0e44748cbb4",
   "metadata": {},
   "outputs": [
    {
     "data": {
      "text/plain": [
       "tensor([0.6667, 1.3333, 2.0000])"
      ]
     },
     "execution_count": 25,
     "metadata": {},
     "output_type": "execute_result"
    }
   ],
   "source": [
    "x.grad"
   ]
  },
  {
   "cell_type": "markdown",
   "id": "6f648fe5-578a-4d8f-928e-ce3e0b7d2c03",
   "metadata": {},
   "source": [
    "## Clearing gradients"
   ]
  },
  {
   "cell_type": "code",
   "execution_count": 48,
   "id": "e6f7e563-c864-4763-a9c3-d1ed3419a951",
   "metadata": {},
   "outputs": [
    {
     "data": {
      "text/plain": [
       "tensor(2., requires_grad=True)"
      ]
     },
     "execution_count": 48,
     "metadata": {},
     "output_type": "execute_result"
    }
   ],
   "source": [
    "x=torch.tensor(2.0, requires_grad=True)\n",
    "x"
   ]
  },
  {
   "cell_type": "code",
   "execution_count": 49,
   "id": "fa36b032-17bf-4e5e-8dfe-589ab6cbf166",
   "metadata": {},
   "outputs": [
    {
     "data": {
      "text/plain": [
       "tensor(4., grad_fn=<PowBackward0>)"
      ]
     },
     "execution_count": 49,
     "metadata": {},
     "output_type": "execute_result"
    }
   ],
   "source": [
    "y=x**2\n",
    "y"
   ]
  },
  {
   "cell_type": "code",
   "execution_count": 50,
   "id": "66bfe3c5-f6c9-43a8-89b5-dca12c0269f3",
   "metadata": {},
   "outputs": [],
   "source": [
    "y.backward()"
   ]
  },
  {
   "cell_type": "code",
   "execution_count": 51,
   "id": "06822de3-f9fc-4460-b79e-07ccdf469f4c",
   "metadata": {},
   "outputs": [
    {
     "data": {
      "text/plain": [
       "tensor(4.)"
      ]
     },
     "execution_count": 51,
     "metadata": {},
     "output_type": "execute_result"
    }
   ],
   "source": [
    "x.grad"
   ]
  },
  {
   "cell_type": "code",
   "execution_count": 53,
   "id": "1a6db76a-6ee1-4bd7-888e-47e088703de7",
   "metadata": {},
   "outputs": [
    {
     "data": {
      "text/plain": [
       "tensor(0.)"
      ]
     },
     "execution_count": 53,
     "metadata": {},
     "output_type": "execute_result"
    }
   ],
   "source": [
    "x.grad.zero_() \n",
    "# This function clears the gradient after each pass \n",
    "# and doesn't let it accumulate"
   ]
  },
  {
   "cell_type": "markdown",
   "id": "e77bc527-5276-468e-a085-cc3e05828a70",
   "metadata": {},
   "source": [
    "## Disable gradient tracking\n",
    "Used to reduce unnecessary memory consumption when gradient tracking is not required."
   ]
  },
  {
   "cell_type": "markdown",
   "id": "e393ff26-cc08-47c6-94b4-426f7ef3fa32",
   "metadata": {},
   "source": [
    "### Method 1"
   ]
  },
  {
   "cell_type": "code",
   "execution_count": 55,
   "id": "e2d66b51-9a1f-4fbf-9f0f-b2c01f241eec",
   "metadata": {},
   "outputs": [
    {
     "data": {
      "text/plain": [
       "tensor(2.)"
      ]
     },
     "execution_count": 55,
     "metadata": {},
     "output_type": "execute_result"
    }
   ],
   "source": [
    "x.requires_grad_(False)\n",
    "x"
   ]
  },
  {
   "cell_type": "code",
   "execution_count": 56,
   "id": "a444c504-aae1-466e-bfa7-d731a53325ff",
   "metadata": {},
   "outputs": [
    {
     "data": {
      "text/plain": [
       "tensor(4.)"
      ]
     },
     "execution_count": 56,
     "metadata": {},
     "output_type": "execute_result"
    }
   ],
   "source": [
    "y=x**2\n",
    "y"
   ]
  },
  {
   "cell_type": "code",
   "execution_count": 58,
   "id": "9e3d4869-dd5a-4e47-a441-75a825112899",
   "metadata": {},
   "outputs": [],
   "source": [
    "# y.backward() \n",
    "# This doesn't work now"
   ]
  },
  {
   "cell_type": "markdown",
   "id": "a613b169-0830-4c45-9886-5ebd44455df7",
   "metadata": {},
   "source": [
    "### Method 2"
   ]
  },
  {
   "cell_type": "code",
   "execution_count": 5,
   "id": "4dede9a5-c301-4b39-92b6-050a59abb6c4",
   "metadata": {},
   "outputs": [
    {
     "data": {
      "text/plain": [
       "tensor(2., requires_grad=True)"
      ]
     },
     "execution_count": 5,
     "metadata": {},
     "output_type": "execute_result"
    }
   ],
   "source": [
    "x=torch.tensor(2.0, requires_grad=True)\n",
    "x"
   ]
  },
  {
   "cell_type": "code",
   "execution_count": 6,
   "id": "6986f1bd-442e-485e-bca1-98811aea5f8a",
   "metadata": {},
   "outputs": [
    {
     "data": {
      "text/plain": [
       "tensor(2.)"
      ]
     },
     "execution_count": 6,
     "metadata": {},
     "output_type": "execute_result"
    }
   ],
   "source": [
    "z=x.detach()\n",
    "z"
   ]
  },
  {
   "cell_type": "code",
   "execution_count": 7,
   "id": "b6c0520c-a46a-4dd2-95c5-73117ffc14dc",
   "metadata": {},
   "outputs": [
    {
     "data": {
      "text/plain": [
       "tensor(4., grad_fn=<PowBackward0>)"
      ]
     },
     "execution_count": 7,
     "metadata": {},
     "output_type": "execute_result"
    }
   ],
   "source": [
    "y=x**2\n",
    "y"
   ]
  },
  {
   "cell_type": "code",
   "execution_count": 8,
   "id": "16b36215-db16-401c-a4c0-f3ef18292dd4",
   "metadata": {},
   "outputs": [
    {
     "data": {
      "text/plain": [
       "tensor(4.)"
      ]
     },
     "execution_count": 8,
     "metadata": {},
     "output_type": "execute_result"
    }
   ],
   "source": [
    "y1=z**2\n",
    "y1"
   ]
  },
  {
   "cell_type": "code",
   "execution_count": 23,
   "id": "6064ce84-df21-49fd-8749-765b1145eb6b",
   "metadata": {},
   "outputs": [
    {
     "ename": "RuntimeError",
     "evalue": "Trying to backward through the graph a second time (or directly access saved tensors after they have already been freed). Saved intermediate values of the graph are freed when you call .backward() or autograd.grad(). Specify retain_graph=True if you need to backward through the graph a second time or if you need to access saved tensors after calling backward.",
     "output_type": "error",
     "traceback": [
      "\u001b[31m---------------------------------------------------------------------------\u001b[39m",
      "\u001b[31mRuntimeError\u001b[39m                              Traceback (most recent call last)",
      "\u001b[36mCell\u001b[39m\u001b[36m \u001b[39m\u001b[32mIn[23]\u001b[39m\u001b[32m, line 1\u001b[39m\n\u001b[32m----> \u001b[39m\u001b[32m1\u001b[39m \u001b[43my\u001b[49m\u001b[43m.\u001b[49m\u001b[43mbackward\u001b[49m\u001b[43m(\u001b[49m\u001b[43m)\u001b[49m\n",
      "\u001b[36mFile \u001b[39m\u001b[32m~\\AppData\\Local\\Programs\\Python\\Python313\\Lib\\site-packages\\torch\\_tensor.py:648\u001b[39m, in \u001b[36mTensor.backward\u001b[39m\u001b[34m(self, gradient, retain_graph, create_graph, inputs)\u001b[39m\n\u001b[32m    638\u001b[39m \u001b[38;5;28;01mif\u001b[39;00m has_torch_function_unary(\u001b[38;5;28mself\u001b[39m):\n\u001b[32m    639\u001b[39m     \u001b[38;5;28;01mreturn\u001b[39;00m handle_torch_function(\n\u001b[32m    640\u001b[39m         Tensor.backward,\n\u001b[32m    641\u001b[39m         (\u001b[38;5;28mself\u001b[39m,),\n\u001b[32m   (...)\u001b[39m\u001b[32m    646\u001b[39m         inputs=inputs,\n\u001b[32m    647\u001b[39m     )\n\u001b[32m--> \u001b[39m\u001b[32m648\u001b[39m \u001b[43mtorch\u001b[49m\u001b[43m.\u001b[49m\u001b[43mautograd\u001b[49m\u001b[43m.\u001b[49m\u001b[43mbackward\u001b[49m\u001b[43m(\u001b[49m\n\u001b[32m    649\u001b[39m \u001b[43m    \u001b[49m\u001b[38;5;28;43mself\u001b[39;49m\u001b[43m,\u001b[49m\u001b[43m \u001b[49m\u001b[43mgradient\u001b[49m\u001b[43m,\u001b[49m\u001b[43m \u001b[49m\u001b[43mretain_graph\u001b[49m\u001b[43m,\u001b[49m\u001b[43m \u001b[49m\u001b[43mcreate_graph\u001b[49m\u001b[43m,\u001b[49m\u001b[43m \u001b[49m\u001b[43minputs\u001b[49m\u001b[43m=\u001b[49m\u001b[43minputs\u001b[49m\n\u001b[32m    650\u001b[39m \u001b[43m\u001b[49m\u001b[43m)\u001b[49m\n",
      "\u001b[36mFile \u001b[39m\u001b[32m~\\AppData\\Local\\Programs\\Python\\Python313\\Lib\\site-packages\\torch\\autograd\\__init__.py:353\u001b[39m, in \u001b[36mbackward\u001b[39m\u001b[34m(tensors, grad_tensors, retain_graph, create_graph, grad_variables, inputs)\u001b[39m\n\u001b[32m    348\u001b[39m     retain_graph = create_graph\n\u001b[32m    350\u001b[39m \u001b[38;5;66;03m# The reason we repeat the same comment below is that\u001b[39;00m\n\u001b[32m    351\u001b[39m \u001b[38;5;66;03m# some Python versions print out the first line of a multi-line function\u001b[39;00m\n\u001b[32m    352\u001b[39m \u001b[38;5;66;03m# calls in the traceback and some print out the last line\u001b[39;00m\n\u001b[32m--> \u001b[39m\u001b[32m353\u001b[39m \u001b[43m_engine_run_backward\u001b[49m\u001b[43m(\u001b[49m\n\u001b[32m    354\u001b[39m \u001b[43m    \u001b[49m\u001b[43mtensors\u001b[49m\u001b[43m,\u001b[49m\n\u001b[32m    355\u001b[39m \u001b[43m    \u001b[49m\u001b[43mgrad_tensors_\u001b[49m\u001b[43m,\u001b[49m\n\u001b[32m    356\u001b[39m \u001b[43m    \u001b[49m\u001b[43mretain_graph\u001b[49m\u001b[43m,\u001b[49m\n\u001b[32m    357\u001b[39m \u001b[43m    \u001b[49m\u001b[43mcreate_graph\u001b[49m\u001b[43m,\u001b[49m\n\u001b[32m    358\u001b[39m \u001b[43m    \u001b[49m\u001b[43minputs\u001b[49m\u001b[43m,\u001b[49m\n\u001b[32m    359\u001b[39m \u001b[43m    \u001b[49m\u001b[43mallow_unreachable\u001b[49m\u001b[43m=\u001b[49m\u001b[38;5;28;43;01mTrue\u001b[39;49;00m\u001b[43m,\u001b[49m\n\u001b[32m    360\u001b[39m \u001b[43m    \u001b[49m\u001b[43maccumulate_grad\u001b[49m\u001b[43m=\u001b[49m\u001b[38;5;28;43;01mTrue\u001b[39;49;00m\u001b[43m,\u001b[49m\n\u001b[32m    361\u001b[39m \u001b[43m\u001b[49m\u001b[43m)\u001b[49m\n",
      "\u001b[36mFile \u001b[39m\u001b[32m~\\AppData\\Local\\Programs\\Python\\Python313\\Lib\\site-packages\\torch\\autograd\\graph.py:824\u001b[39m, in \u001b[36m_engine_run_backward\u001b[39m\u001b[34m(t_outputs, *args, **kwargs)\u001b[39m\n\u001b[32m    822\u001b[39m     unregister_hooks = _register_logging_hooks_on_whole_graph(t_outputs)\n\u001b[32m    823\u001b[39m \u001b[38;5;28;01mtry\u001b[39;00m:\n\u001b[32m--> \u001b[39m\u001b[32m824\u001b[39m     \u001b[38;5;28;01mreturn\u001b[39;00m \u001b[43mVariable\u001b[49m\u001b[43m.\u001b[49m\u001b[43m_execution_engine\u001b[49m\u001b[43m.\u001b[49m\u001b[43mrun_backward\u001b[49m\u001b[43m(\u001b[49m\u001b[43m  \u001b[49m\u001b[38;5;66;43;03m# Calls into the C++ engine to run the backward pass\u001b[39;49;00m\n\u001b[32m    825\u001b[39m \u001b[43m        \u001b[49m\u001b[43mt_outputs\u001b[49m\u001b[43m,\u001b[49m\u001b[43m \u001b[49m\u001b[43m*\u001b[49m\u001b[43margs\u001b[49m\u001b[43m,\u001b[49m\u001b[43m \u001b[49m\u001b[43m*\u001b[49m\u001b[43m*\u001b[49m\u001b[43mkwargs\u001b[49m\n\u001b[32m    826\u001b[39m \u001b[43m    \u001b[49m\u001b[43m)\u001b[49m  \u001b[38;5;66;03m# Calls into the C++ engine to run the backward pass\u001b[39;00m\n\u001b[32m    827\u001b[39m \u001b[38;5;28;01mfinally\u001b[39;00m:\n\u001b[32m    828\u001b[39m     \u001b[38;5;28;01mif\u001b[39;00m attach_logging_hooks:\n",
      "\u001b[31mRuntimeError\u001b[39m: Trying to backward through the graph a second time (or directly access saved tensors after they have already been freed). Saved intermediate values of the graph are freed when you call .backward() or autograd.grad(). Specify retain_graph=True if you need to backward through the graph a second time or if you need to access saved tensors after calling backward."
     ]
    }
   ],
   "source": [
    "y.backward()"
   ]
  },
  {
   "cell_type": "code",
   "execution_count": 25,
   "id": "4822a632-1f11-44df-86fe-ff6e9de9b596",
   "metadata": {},
   "outputs": [],
   "source": [
    "# y1.backward() is NOT feasible"
   ]
  },
  {
   "cell_type": "markdown",
   "id": "d6efaf7f-611e-474d-bf4e-b3937fbf2a26",
   "metadata": {},
   "source": [
    "## Method 3"
   ]
  },
  {
   "cell_type": "code",
   "execution_count": 26,
   "id": "125623c6-60ab-4f64-85ea-651fb7e6fe49",
   "metadata": {},
   "outputs": [
    {
     "data": {
      "text/plain": [
       "tensor(2., requires_grad=True)"
      ]
     },
     "execution_count": 26,
     "metadata": {},
     "output_type": "execute_result"
    }
   ],
   "source": [
    "x=torch.tensor(2.0, requires_grad=True)\n",
    "x"
   ]
  },
  {
   "cell_type": "code",
   "execution_count": 28,
   "id": "188fff49-0760-4a11-9b94-7fdd9de12177",
   "metadata": {},
   "outputs": [
    {
     "data": {
      "text/plain": [
       "tensor(4.)"
      ]
     },
     "execution_count": 28,
     "metadata": {},
     "output_type": "execute_result"
    }
   ],
   "source": [
    "with torch.no_grad():\n",
    "    y=x**2\n",
    "\n",
    "y"
   ]
  },
  {
   "cell_type": "code",
   "execution_count": 30,
   "id": "8aee7174-1af2-4e70-84ba-1401668ed918",
   "metadata": {},
   "outputs": [],
   "source": [
    "# y.backward() does NOT work"
   ]
  },
  {
   "cell_type": "markdown",
   "id": "76681aa0-7983-4eaf-9516-c719d15ac55e",
   "metadata": {},
   "source": [
    "# Training Pipeline"
   ]
  },
  {
   "cell_type": "code",
   "execution_count": 6,
   "id": "5fbd4fee-20d7-4168-b511-ac644a6aecae",
   "metadata": {},
   "outputs": [],
   "source": [
    "import numpy as np\n",
    "import pandas as pd\n",
    "import torch\n",
    "from sklearn.model_selection import train_test_split\n",
    "from sklearn.preprocessing import StandardScaler\n",
    "from sklearn.preprocessing import LabelEncoder"
   ]
  },
  {
   "cell_type": "code",
   "execution_count": 8,
   "id": "b54c5438-f468-4d34-a759-6cb31003ac7d",
   "metadata": {},
   "outputs": [
    {
     "data": {
      "text/html": [
       "<div>\n",
       "<style scoped>\n",
       "    .dataframe tbody tr th:only-of-type {\n",
       "        vertical-align: middle;\n",
       "    }\n",
       "\n",
       "    .dataframe tbody tr th {\n",
       "        vertical-align: top;\n",
       "    }\n",
       "\n",
       "    .dataframe thead th {\n",
       "        text-align: right;\n",
       "    }\n",
       "</style>\n",
       "<table border=\"1\" class=\"dataframe\">\n",
       "  <thead>\n",
       "    <tr style=\"text-align: right;\">\n",
       "      <th></th>\n",
       "      <th>id</th>\n",
       "      <th>diagnosis</th>\n",
       "      <th>radius_mean</th>\n",
       "      <th>texture_mean</th>\n",
       "      <th>perimeter_mean</th>\n",
       "      <th>area_mean</th>\n",
       "      <th>smoothness_mean</th>\n",
       "      <th>compactness_mean</th>\n",
       "      <th>concavity_mean</th>\n",
       "      <th>concave points_mean</th>\n",
       "      <th>...</th>\n",
       "      <th>texture_worst</th>\n",
       "      <th>perimeter_worst</th>\n",
       "      <th>area_worst</th>\n",
       "      <th>smoothness_worst</th>\n",
       "      <th>compactness_worst</th>\n",
       "      <th>concavity_worst</th>\n",
       "      <th>concave points_worst</th>\n",
       "      <th>symmetry_worst</th>\n",
       "      <th>fractal_dimension_worst</th>\n",
       "      <th>Unnamed: 32</th>\n",
       "    </tr>\n",
       "  </thead>\n",
       "  <tbody>\n",
       "    <tr>\n",
       "      <th>0</th>\n",
       "      <td>842302</td>\n",
       "      <td>M</td>\n",
       "      <td>17.99</td>\n",
       "      <td>10.38</td>\n",
       "      <td>122.80</td>\n",
       "      <td>1001.0</td>\n",
       "      <td>0.11840</td>\n",
       "      <td>0.27760</td>\n",
       "      <td>0.3001</td>\n",
       "      <td>0.14710</td>\n",
       "      <td>...</td>\n",
       "      <td>17.33</td>\n",
       "      <td>184.60</td>\n",
       "      <td>2019.0</td>\n",
       "      <td>0.1622</td>\n",
       "      <td>0.6656</td>\n",
       "      <td>0.7119</td>\n",
       "      <td>0.2654</td>\n",
       "      <td>0.4601</td>\n",
       "      <td>0.11890</td>\n",
       "      <td>NaN</td>\n",
       "    </tr>\n",
       "    <tr>\n",
       "      <th>1</th>\n",
       "      <td>842517</td>\n",
       "      <td>M</td>\n",
       "      <td>20.57</td>\n",
       "      <td>17.77</td>\n",
       "      <td>132.90</td>\n",
       "      <td>1326.0</td>\n",
       "      <td>0.08474</td>\n",
       "      <td>0.07864</td>\n",
       "      <td>0.0869</td>\n",
       "      <td>0.07017</td>\n",
       "      <td>...</td>\n",
       "      <td>23.41</td>\n",
       "      <td>158.80</td>\n",
       "      <td>1956.0</td>\n",
       "      <td>0.1238</td>\n",
       "      <td>0.1866</td>\n",
       "      <td>0.2416</td>\n",
       "      <td>0.1860</td>\n",
       "      <td>0.2750</td>\n",
       "      <td>0.08902</td>\n",
       "      <td>NaN</td>\n",
       "    </tr>\n",
       "    <tr>\n",
       "      <th>2</th>\n",
       "      <td>84300903</td>\n",
       "      <td>M</td>\n",
       "      <td>19.69</td>\n",
       "      <td>21.25</td>\n",
       "      <td>130.00</td>\n",
       "      <td>1203.0</td>\n",
       "      <td>0.10960</td>\n",
       "      <td>0.15990</td>\n",
       "      <td>0.1974</td>\n",
       "      <td>0.12790</td>\n",
       "      <td>...</td>\n",
       "      <td>25.53</td>\n",
       "      <td>152.50</td>\n",
       "      <td>1709.0</td>\n",
       "      <td>0.1444</td>\n",
       "      <td>0.4245</td>\n",
       "      <td>0.4504</td>\n",
       "      <td>0.2430</td>\n",
       "      <td>0.3613</td>\n",
       "      <td>0.08758</td>\n",
       "      <td>NaN</td>\n",
       "    </tr>\n",
       "    <tr>\n",
       "      <th>3</th>\n",
       "      <td>84348301</td>\n",
       "      <td>M</td>\n",
       "      <td>11.42</td>\n",
       "      <td>20.38</td>\n",
       "      <td>77.58</td>\n",
       "      <td>386.1</td>\n",
       "      <td>0.14250</td>\n",
       "      <td>0.28390</td>\n",
       "      <td>0.2414</td>\n",
       "      <td>0.10520</td>\n",
       "      <td>...</td>\n",
       "      <td>26.50</td>\n",
       "      <td>98.87</td>\n",
       "      <td>567.7</td>\n",
       "      <td>0.2098</td>\n",
       "      <td>0.8663</td>\n",
       "      <td>0.6869</td>\n",
       "      <td>0.2575</td>\n",
       "      <td>0.6638</td>\n",
       "      <td>0.17300</td>\n",
       "      <td>NaN</td>\n",
       "    </tr>\n",
       "    <tr>\n",
       "      <th>4</th>\n",
       "      <td>84358402</td>\n",
       "      <td>M</td>\n",
       "      <td>20.29</td>\n",
       "      <td>14.34</td>\n",
       "      <td>135.10</td>\n",
       "      <td>1297.0</td>\n",
       "      <td>0.10030</td>\n",
       "      <td>0.13280</td>\n",
       "      <td>0.1980</td>\n",
       "      <td>0.10430</td>\n",
       "      <td>...</td>\n",
       "      <td>16.67</td>\n",
       "      <td>152.20</td>\n",
       "      <td>1575.0</td>\n",
       "      <td>0.1374</td>\n",
       "      <td>0.2050</td>\n",
       "      <td>0.4000</td>\n",
       "      <td>0.1625</td>\n",
       "      <td>0.2364</td>\n",
       "      <td>0.07678</td>\n",
       "      <td>NaN</td>\n",
       "    </tr>\n",
       "  </tbody>\n",
       "</table>\n",
       "<p>5 rows × 33 columns</p>\n",
       "</div>"
      ],
      "text/plain": [
       "         id diagnosis  radius_mean  texture_mean  perimeter_mean  area_mean  \\\n",
       "0    842302         M        17.99         10.38          122.80     1001.0   \n",
       "1    842517         M        20.57         17.77          132.90     1326.0   \n",
       "2  84300903         M        19.69         21.25          130.00     1203.0   \n",
       "3  84348301         M        11.42         20.38           77.58      386.1   \n",
       "4  84358402         M        20.29         14.34          135.10     1297.0   \n",
       "\n",
       "   smoothness_mean  compactness_mean  concavity_mean  concave points_mean  \\\n",
       "0          0.11840           0.27760          0.3001              0.14710   \n",
       "1          0.08474           0.07864          0.0869              0.07017   \n",
       "2          0.10960           0.15990          0.1974              0.12790   \n",
       "3          0.14250           0.28390          0.2414              0.10520   \n",
       "4          0.10030           0.13280          0.1980              0.10430   \n",
       "\n",
       "   ...  texture_worst  perimeter_worst  area_worst  smoothness_worst  \\\n",
       "0  ...          17.33           184.60      2019.0            0.1622   \n",
       "1  ...          23.41           158.80      1956.0            0.1238   \n",
       "2  ...          25.53           152.50      1709.0            0.1444   \n",
       "3  ...          26.50            98.87       567.7            0.2098   \n",
       "4  ...          16.67           152.20      1575.0            0.1374   \n",
       "\n",
       "   compactness_worst  concavity_worst  concave points_worst  symmetry_worst  \\\n",
       "0             0.6656           0.7119                0.2654          0.4601   \n",
       "1             0.1866           0.2416                0.1860          0.2750   \n",
       "2             0.4245           0.4504                0.2430          0.3613   \n",
       "3             0.8663           0.6869                0.2575          0.6638   \n",
       "4             0.2050           0.4000                0.1625          0.2364   \n",
       "\n",
       "   fractal_dimension_worst  Unnamed: 32  \n",
       "0                  0.11890          NaN  \n",
       "1                  0.08902          NaN  \n",
       "2                  0.08758          NaN  \n",
       "3                  0.17300          NaN  \n",
       "4                  0.07678          NaN  \n",
       "\n",
       "[5 rows x 33 columns]"
      ]
     },
     "execution_count": 8,
     "metadata": {},
     "output_type": "execute_result"
    }
   ],
   "source": [
    "df=pd.read_csv('https://raw.githubusercontent.com/gscdit/Breast-Cancer-Detection/refs/heads/master/data.csv')\n",
    "df.head()"
   ]
  },
  {
   "cell_type": "code",
   "execution_count": 10,
   "id": "ed2f6eb1-6305-4926-a09c-ed70b7e2490a",
   "metadata": {},
   "outputs": [
    {
     "data": {
      "text/plain": [
       "(569, 33)"
      ]
     },
     "execution_count": 10,
     "metadata": {},
     "output_type": "execute_result"
    }
   ],
   "source": [
    "df.shape"
   ]
  },
  {
   "cell_type": "code",
   "execution_count": 11,
   "id": "3046b432-8d79-46bb-963e-33eb089bfec9",
   "metadata": {},
   "outputs": [],
   "source": [
    "df.drop(columns=['id','Unnamed: 32'], inplace=True)"
   ]
  },
  {
   "cell_type": "code",
   "execution_count": 12,
   "id": "58c0344d-e3ed-403d-8fa5-6c03ad344312",
   "metadata": {},
   "outputs": [
    {
     "data": {
      "text/html": [
       "<div>\n",
       "<style scoped>\n",
       "    .dataframe tbody tr th:only-of-type {\n",
       "        vertical-align: middle;\n",
       "    }\n",
       "\n",
       "    .dataframe tbody tr th {\n",
       "        vertical-align: top;\n",
       "    }\n",
       "\n",
       "    .dataframe thead th {\n",
       "        text-align: right;\n",
       "    }\n",
       "</style>\n",
       "<table border=\"1\" class=\"dataframe\">\n",
       "  <thead>\n",
       "    <tr style=\"text-align: right;\">\n",
       "      <th></th>\n",
       "      <th>diagnosis</th>\n",
       "      <th>radius_mean</th>\n",
       "      <th>texture_mean</th>\n",
       "      <th>perimeter_mean</th>\n",
       "      <th>area_mean</th>\n",
       "      <th>smoothness_mean</th>\n",
       "      <th>compactness_mean</th>\n",
       "      <th>concavity_mean</th>\n",
       "      <th>concave points_mean</th>\n",
       "      <th>symmetry_mean</th>\n",
       "      <th>...</th>\n",
       "      <th>radius_worst</th>\n",
       "      <th>texture_worst</th>\n",
       "      <th>perimeter_worst</th>\n",
       "      <th>area_worst</th>\n",
       "      <th>smoothness_worst</th>\n",
       "      <th>compactness_worst</th>\n",
       "      <th>concavity_worst</th>\n",
       "      <th>concave points_worst</th>\n",
       "      <th>symmetry_worst</th>\n",
       "      <th>fractal_dimension_worst</th>\n",
       "    </tr>\n",
       "  </thead>\n",
       "  <tbody>\n",
       "    <tr>\n",
       "      <th>0</th>\n",
       "      <td>M</td>\n",
       "      <td>17.99</td>\n",
       "      <td>10.38</td>\n",
       "      <td>122.80</td>\n",
       "      <td>1001.0</td>\n",
       "      <td>0.11840</td>\n",
       "      <td>0.27760</td>\n",
       "      <td>0.3001</td>\n",
       "      <td>0.14710</td>\n",
       "      <td>0.2419</td>\n",
       "      <td>...</td>\n",
       "      <td>25.38</td>\n",
       "      <td>17.33</td>\n",
       "      <td>184.60</td>\n",
       "      <td>2019.0</td>\n",
       "      <td>0.1622</td>\n",
       "      <td>0.6656</td>\n",
       "      <td>0.7119</td>\n",
       "      <td>0.2654</td>\n",
       "      <td>0.4601</td>\n",
       "      <td>0.11890</td>\n",
       "    </tr>\n",
       "    <tr>\n",
       "      <th>1</th>\n",
       "      <td>M</td>\n",
       "      <td>20.57</td>\n",
       "      <td>17.77</td>\n",
       "      <td>132.90</td>\n",
       "      <td>1326.0</td>\n",
       "      <td>0.08474</td>\n",
       "      <td>0.07864</td>\n",
       "      <td>0.0869</td>\n",
       "      <td>0.07017</td>\n",
       "      <td>0.1812</td>\n",
       "      <td>...</td>\n",
       "      <td>24.99</td>\n",
       "      <td>23.41</td>\n",
       "      <td>158.80</td>\n",
       "      <td>1956.0</td>\n",
       "      <td>0.1238</td>\n",
       "      <td>0.1866</td>\n",
       "      <td>0.2416</td>\n",
       "      <td>0.1860</td>\n",
       "      <td>0.2750</td>\n",
       "      <td>0.08902</td>\n",
       "    </tr>\n",
       "    <tr>\n",
       "      <th>2</th>\n",
       "      <td>M</td>\n",
       "      <td>19.69</td>\n",
       "      <td>21.25</td>\n",
       "      <td>130.00</td>\n",
       "      <td>1203.0</td>\n",
       "      <td>0.10960</td>\n",
       "      <td>0.15990</td>\n",
       "      <td>0.1974</td>\n",
       "      <td>0.12790</td>\n",
       "      <td>0.2069</td>\n",
       "      <td>...</td>\n",
       "      <td>23.57</td>\n",
       "      <td>25.53</td>\n",
       "      <td>152.50</td>\n",
       "      <td>1709.0</td>\n",
       "      <td>0.1444</td>\n",
       "      <td>0.4245</td>\n",
       "      <td>0.4504</td>\n",
       "      <td>0.2430</td>\n",
       "      <td>0.3613</td>\n",
       "      <td>0.08758</td>\n",
       "    </tr>\n",
       "    <tr>\n",
       "      <th>3</th>\n",
       "      <td>M</td>\n",
       "      <td>11.42</td>\n",
       "      <td>20.38</td>\n",
       "      <td>77.58</td>\n",
       "      <td>386.1</td>\n",
       "      <td>0.14250</td>\n",
       "      <td>0.28390</td>\n",
       "      <td>0.2414</td>\n",
       "      <td>0.10520</td>\n",
       "      <td>0.2597</td>\n",
       "      <td>...</td>\n",
       "      <td>14.91</td>\n",
       "      <td>26.50</td>\n",
       "      <td>98.87</td>\n",
       "      <td>567.7</td>\n",
       "      <td>0.2098</td>\n",
       "      <td>0.8663</td>\n",
       "      <td>0.6869</td>\n",
       "      <td>0.2575</td>\n",
       "      <td>0.6638</td>\n",
       "      <td>0.17300</td>\n",
       "    </tr>\n",
       "    <tr>\n",
       "      <th>4</th>\n",
       "      <td>M</td>\n",
       "      <td>20.29</td>\n",
       "      <td>14.34</td>\n",
       "      <td>135.10</td>\n",
       "      <td>1297.0</td>\n",
       "      <td>0.10030</td>\n",
       "      <td>0.13280</td>\n",
       "      <td>0.1980</td>\n",
       "      <td>0.10430</td>\n",
       "      <td>0.1809</td>\n",
       "      <td>...</td>\n",
       "      <td>22.54</td>\n",
       "      <td>16.67</td>\n",
       "      <td>152.20</td>\n",
       "      <td>1575.0</td>\n",
       "      <td>0.1374</td>\n",
       "      <td>0.2050</td>\n",
       "      <td>0.4000</td>\n",
       "      <td>0.1625</td>\n",
       "      <td>0.2364</td>\n",
       "      <td>0.07678</td>\n",
       "    </tr>\n",
       "  </tbody>\n",
       "</table>\n",
       "<p>5 rows × 31 columns</p>\n",
       "</div>"
      ],
      "text/plain": [
       "  diagnosis  radius_mean  texture_mean  perimeter_mean  area_mean  \\\n",
       "0         M        17.99         10.38          122.80     1001.0   \n",
       "1         M        20.57         17.77          132.90     1326.0   \n",
       "2         M        19.69         21.25          130.00     1203.0   \n",
       "3         M        11.42         20.38           77.58      386.1   \n",
       "4         M        20.29         14.34          135.10     1297.0   \n",
       "\n",
       "   smoothness_mean  compactness_mean  concavity_mean  concave points_mean  \\\n",
       "0          0.11840           0.27760          0.3001              0.14710   \n",
       "1          0.08474           0.07864          0.0869              0.07017   \n",
       "2          0.10960           0.15990          0.1974              0.12790   \n",
       "3          0.14250           0.28390          0.2414              0.10520   \n",
       "4          0.10030           0.13280          0.1980              0.10430   \n",
       "\n",
       "   symmetry_mean  ...  radius_worst  texture_worst  perimeter_worst  \\\n",
       "0         0.2419  ...         25.38          17.33           184.60   \n",
       "1         0.1812  ...         24.99          23.41           158.80   \n",
       "2         0.2069  ...         23.57          25.53           152.50   \n",
       "3         0.2597  ...         14.91          26.50            98.87   \n",
       "4         0.1809  ...         22.54          16.67           152.20   \n",
       "\n",
       "   area_worst  smoothness_worst  compactness_worst  concavity_worst  \\\n",
       "0      2019.0            0.1622             0.6656           0.7119   \n",
       "1      1956.0            0.1238             0.1866           0.2416   \n",
       "2      1709.0            0.1444             0.4245           0.4504   \n",
       "3       567.7            0.2098             0.8663           0.6869   \n",
       "4      1575.0            0.1374             0.2050           0.4000   \n",
       "\n",
       "   concave points_worst  symmetry_worst  fractal_dimension_worst  \n",
       "0                0.2654          0.4601                  0.11890  \n",
       "1                0.1860          0.2750                  0.08902  \n",
       "2                0.2430          0.3613                  0.08758  \n",
       "3                0.2575          0.6638                  0.17300  \n",
       "4                0.1625          0.2364                  0.07678  \n",
       "\n",
       "[5 rows x 31 columns]"
      ]
     },
     "execution_count": 12,
     "metadata": {},
     "output_type": "execute_result"
    }
   ],
   "source": [
    "df.head()"
   ]
  },
  {
   "cell_type": "markdown",
   "id": "996af2a4-2cd8-4395-b7e7-6490a073ee3d",
   "metadata": {},
   "source": [
    "Train, test, split"
   ]
  },
  {
   "cell_type": "code",
   "execution_count": 13,
   "id": "cc771098-dd01-47fb-9a03-6e2c70d614b9",
   "metadata": {},
   "outputs": [],
   "source": [
    "X_train, X_test, y_train, y_test=train_test_split(df.iloc[:, 1:], df.iloc[:, 0], test_size=0.2)"
   ]
  },
  {
   "cell_type": "markdown",
   "id": "ef624333-33ff-48a9-92a3-2c07839e75c3",
   "metadata": {},
   "source": [
    "Scaling"
   ]
  },
  {
   "cell_type": "code",
   "execution_count": 14,
   "id": "9c2613de-6758-4207-bbe4-21be93159d9e",
   "metadata": {},
   "outputs": [],
   "source": [
    "scaler=StandardScaler()\n",
    "X_train=scaler.fit_transform(X_train)\n",
    "X_test=scaler.transform(X_test)"
   ]
  },
  {
   "cell_type": "code",
   "execution_count": 15,
   "id": "982d7dc0-1485-4299-957d-45939a14c34a",
   "metadata": {},
   "outputs": [
    {
     "data": {
      "text/plain": [
       "array([[ 1.15004913,  0.18687843,  1.11783855, ...,  1.20640787,\n",
       "         0.2953048 ,  0.00733342],\n",
       "       [ 1.50836359, -0.07408966,  1.51968395, ...,  1.27962342,\n",
       "         0.13935809,  0.86457473],\n",
       "       [ 0.56778814, -0.75792268,  0.57798563, ...,  0.16766224,\n",
       "         0.44304378,  0.33243711],\n",
       "       ...,\n",
       "       [ 0.53979482,  0.10713818,  0.48868665, ...,  0.57797439,\n",
       "        -0.38265299, -1.08055578],\n",
       "       [ 1.08846384, -0.56944574,  1.03259861, ...,  0.60085425,\n",
       "        -0.06747649, -0.07119669],\n",
       "       [-0.77869041, -0.39546702, -0.79437731, ..., -0.41379127,\n",
       "         0.14756581, -0.33479428]], shape=(455, 30))"
      ]
     },
     "execution_count": 15,
     "metadata": {},
     "output_type": "execute_result"
    }
   ],
   "source": [
    "X_train"
   ]
  },
  {
   "cell_type": "code",
   "execution_count": 16,
   "id": "2f327185-66fd-4f1c-b289-bcf553c2df76",
   "metadata": {},
   "outputs": [
    {
     "data": {
      "text/plain": [
       "6      M\n",
       "300    M\n",
       "375    B\n",
       "4      M\n",
       "204    B\n",
       "      ..\n",
       "180    M\n",
       "216    B\n",
       "75     M\n",
       "444    M\n",
       "410    B\n",
       "Name: diagnosis, Length: 455, dtype: object"
      ]
     },
     "execution_count": 16,
     "metadata": {},
     "output_type": "execute_result"
    }
   ],
   "source": [
    "y_train"
   ]
  },
  {
   "cell_type": "markdown",
   "id": "4e607910-7de6-46d2-8ebb-9c813b8ef02e",
   "metadata": {},
   "source": [
    "Label Encoding"
   ]
  },
  {
   "cell_type": "code",
   "execution_count": 17,
   "id": "06701b98-aee5-4d8a-bbe7-5c3f944cd8fe",
   "metadata": {},
   "outputs": [],
   "source": [
    "encoder=LabelEncoder()\n",
    "y_train=encoder.fit_transform(y_train)\n",
    "y_test=encoder.transform(y_test)"
   ]
  },
  {
   "cell_type": "code",
   "execution_count": 18,
   "id": "fbb854e5-a835-44e3-8651-9b2a8bfea74e",
   "metadata": {},
   "outputs": [
    {
     "data": {
      "text/plain": [
       "array([1, 1, 0, 1, 0, 1, 1, 0, 1, 0, 1, 1, 0, 0, 1, 1, 1, 1, 1, 0, 1, 0,\n",
       "       1, 1, 0, 1, 0, 0, 1, 0, 0, 1, 0, 1, 0, 0, 0, 0, 0, 0, 0, 0, 0, 0,\n",
       "       0, 1, 0, 1, 0, 0, 1, 0, 0, 0, 1, 0, 1, 0, 1, 0, 1, 1, 1, 1, 1, 0,\n",
       "       0, 0, 0, 0, 0, 1, 0, 0, 1, 0, 0, 1, 1, 1, 1, 0, 0, 1, 0, 0, 0, 0,\n",
       "       1, 1, 1, 0, 0, 0, 1, 1, 1, 1, 0, 1, 0, 0, 0, 0, 1, 0, 0, 0, 0, 0,\n",
       "       0, 1, 1, 0, 1, 0, 0, 0, 1, 0, 0, 0, 0, 0, 1, 1, 1, 0, 0, 1, 0, 0,\n",
       "       0, 0, 0, 0, 0, 0, 1, 0, 0, 0, 0, 1, 0, 1, 0, 0, 1, 1, 1, 0, 0, 0,\n",
       "       0, 0, 1, 1, 1, 1, 1, 0, 1, 0, 0, 0, 0, 0, 1, 0, 1, 0, 1, 0, 1, 0,\n",
       "       1, 1, 1, 1, 0, 1, 0, 0, 0, 0, 1, 0, 0, 0, 0, 1, 0, 0, 0, 0, 0, 0,\n",
       "       0, 0, 1, 1, 1, 1, 0, 0, 1, 0, 0, 1, 0, 1, 0, 1, 1, 1, 0, 0, 0, 0,\n",
       "       0, 0, 0, 0, 0, 0, 0, 0, 1, 0, 0, 0, 1, 1, 0, 0, 1, 1, 0, 0, 1, 0,\n",
       "       0, 1, 1, 0, 1, 0, 1, 0, 0, 0, 0, 0, 0, 0, 0, 0, 0, 1, 1, 0, 1, 1,\n",
       "       1, 1, 0, 0, 0, 0, 0, 0, 0, 0, 1, 0, 0, 0, 1, 0, 0, 0, 1, 0, 0, 1,\n",
       "       0, 0, 1, 1, 0, 0, 1, 1, 1, 0, 0, 0, 1, 0, 0, 0, 0, 1, 1, 0, 1, 0,\n",
       "       0, 0, 0, 0, 1, 0, 0, 0, 1, 0, 1, 0, 1, 0, 1, 1, 1, 1, 0, 0, 0, 0,\n",
       "       1, 0, 0, 1, 0, 1, 0, 1, 0, 0, 0, 0, 1, 0, 1, 0, 0, 1, 0, 0, 0, 0,\n",
       "       0, 0, 1, 1, 0, 1, 0, 1, 1, 0, 1, 1, 1, 1, 0, 0, 0, 1, 0, 0, 0, 1,\n",
       "       0, 0, 0, 1, 0, 0, 0, 0, 1, 0, 0, 0, 1, 0, 0, 0, 1, 1, 0, 1, 0, 0,\n",
       "       1, 0, 0, 0, 0, 0, 1, 1, 1, 0, 1, 0, 0, 0, 1, 0, 1, 0, 0, 0, 0, 0,\n",
       "       1, 0, 1, 0, 0, 0, 0, 0, 0, 0, 0, 0, 1, 0, 0, 0, 0, 0, 0, 0, 0, 1,\n",
       "       1, 1, 0, 0, 0, 0, 1, 0, 0, 0, 1, 0, 1, 1, 0])"
      ]
     },
     "execution_count": 18,
     "metadata": {},
     "output_type": "execute_result"
    }
   ],
   "source": [
    "y_train"
   ]
  },
  {
   "cell_type": "markdown",
   "id": "267b91e0-dcce-4606-980c-a089ea1ffedc",
   "metadata": {},
   "source": [
    "Numpy arrays to PyTorch tensors"
   ]
  },
  {
   "cell_type": "code",
   "execution_count": 22,
   "id": "5bd3c30e-a096-49f5-bc48-9cc5425c5e63",
   "metadata": {},
   "outputs": [],
   "source": [
    "X_train_tensor=torch.from_numpy(X_train)\n",
    "X_test_tensor=torch.from_numpy(X_test)\n",
    "y_train_tensor=torch.from_numpy(y_train)\n",
    "y_test_tensor=torch.from_numpy(y_test)"
   ]
  },
  {
   "cell_type": "code",
   "execution_count": 26,
   "id": "af538f78-f43c-4ba0-8a74-b63895a88f70",
   "metadata": {},
   "outputs": [
    {
     "data": {
      "text/plain": [
       "torch.Size([455, 30])"
      ]
     },
     "execution_count": 26,
     "metadata": {},
     "output_type": "execute_result"
    }
   ],
   "source": [
    "X_train_tensor.shape"
   ]
  },
  {
   "cell_type": "code",
   "execution_count": 24,
   "id": "6d89a60a-8a7f-4999-9a88-d2a3c8c86b99",
   "metadata": {},
   "outputs": [
    {
     "data": {
      "text/plain": [
       "torch.Size([455])"
      ]
     },
     "execution_count": 24,
     "metadata": {},
     "output_type": "execute_result"
    }
   ],
   "source": [
    "y_train_tensor.shape"
   ]
  },
  {
   "cell_type": "markdown",
   "id": "2e1fb90c-7b53-4c84-91be-c603517d1da9",
   "metadata": {},
   "source": [
    "Defining the model"
   ]
  },
  {
   "cell_type": "code",
   "execution_count": 34,
   "id": "0b69fbb6-3869-4d76-912c-fb61c1f2ed9c",
   "metadata": {},
   "outputs": [],
   "source": [
    "class MySimpleNN():\n",
    "    def __init__(self,X):\n",
    "        \n",
    "        self.weights=torch.rand(X.shape[1],1,dtype=torch.float64, requires_grad=True) \n",
    "        self.bias=torch.zeros(1,dtype=torch.float64, requires_grad=True) \n",
    "\n",
    "    def forward(self,X):\n",
    "        z=torch.matmul(X,self.weights)+self.bias\n",
    "        y_pred=torch.sigmoid(z)\n",
    "        return y_pred\n",
    "\n",
    "    def loss_function(self, y_pred, y):\n",
    "        # Clamp predictions to avoid log(0)\n",
    "        epsilon=1e-7\n",
    "        y_pred=torch.clamp(y_pred,epsilon,1-epsilon)\n",
    "\n",
    "        # Calculate loss\n",
    "        loss=-(y_train_tensor*torch.log(y_pred)+(1-y_train_tensor)*torch.log(1-y_pred)).mean()\n",
    "        return loss"
   ]
  },
  {
   "cell_type": "markdown",
   "id": "645bf7b1-347e-4f07-9ecc-ef0d88c20f1a",
   "metadata": {},
   "source": [
    "Important Parameters"
   ]
  },
  {
   "cell_type": "code",
   "execution_count": 29,
   "id": "0e8749d8-f155-4cdc-be06-893b5741365f",
   "metadata": {},
   "outputs": [],
   "source": [
    "learning_rate=0.1\n",
    "epochs=25"
   ]
  },
  {
   "cell_type": "markdown",
   "id": "f6eba576-e121-4a31-afe6-33d0e4936a3c",
   "metadata": {},
   "source": [
    "Training Pipeline"
   ]
  },
  {
   "cell_type": "code",
   "execution_count": 36,
   "id": "7df61fff-1c7f-4b22-8256-16364bc6c4f8",
   "metadata": {},
   "outputs": [
    {
     "name": "stdout",
     "output_type": "stream",
     "text": [
      "Epoch:1, Loss:3.6712012537005134\n",
      "Epoch:2, Loss:3.5497589704549206\n",
      "Epoch:3, Loss:3.4226307540113026\n",
      "Epoch:4, Loss:3.291172831725925\n",
      "Epoch:5, Loss:3.1577042294362863\n",
      "Epoch:6, Loss:3.020434964124836\n",
      "Epoch:7, Loss:2.8795490593367408\n",
      "Epoch:8, Loss:2.7331618130224364\n",
      "Epoch:9, Loss:2.5825500301677238\n",
      "Epoch:10, Loss:2.4294229333857102\n",
      "Epoch:11, Loss:2.265089153891582\n",
      "Epoch:12, Loss:2.1020579156429844\n",
      "Epoch:13, Loss:1.9411761693159475\n",
      "Epoch:14, Loss:1.7781429865746272\n",
      "Epoch:15, Loss:1.6181811759299705\n",
      "Epoch:16, Loss:1.466240475820269\n",
      "Epoch:17, Loss:1.32403009806631\n",
      "Epoch:18, Loss:1.1972946262056128\n",
      "Epoch:19, Loss:1.0879000070149991\n",
      "Epoch:20, Loss:0.9969500818398143\n",
      "Epoch:21, Loss:0.9244461107881833\n",
      "Epoch:22, Loss:0.8691568192431701\n",
      "Epoch:23, Loss:0.8287436683704242\n",
      "Epoch:24, Loss:0.8001576173948709\n",
      "Epoch:25, Loss:0.7802262175269037\n"
     ]
    }
   ],
   "source": [
    "# Create  model\n",
    "model=MySimpleNN(X_train_tensor)\n",
    "# define loop\n",
    "for epoch in range(epochs):\n",
    "    # forward pass\n",
    "    y_pred=model.forward(X_train_tensor)\n",
    "  \n",
    "    # loss calculation\n",
    "    loss=model.loss_function(y_pred, y_train_tensor)\n",
    "  \n",
    "    # backward pass\n",
    "    loss.backward()\n",
    "  \n",
    "    # parameters updation\n",
    "    with torch.no_grad():\n",
    "        model.weights-=learning_rate*model.weights.grad\n",
    "        model.bias-=learning_rate*model.bias.grad\n",
    "\n",
    "    # zero gradients\n",
    "    model.weights.grad.zero_()\n",
    "    model.bias.grad.zero_()\n",
    "\n",
    "    #print loss in each epoch\n",
    "    print(f\"Epoch:{epoch+1}, Loss:{loss.item()}\")\n"
   ]
  },
  {
   "cell_type": "code",
   "execution_count": 37,
   "id": "46ac2ac0-832a-434e-9f1b-1cacab9c5560",
   "metadata": {},
   "outputs": [
    {
     "data": {
      "text/plain": [
       "tensor([[-0.0529],\n",
       "        [-0.1018],\n",
       "        [ 0.2438],\n",
       "        [ 0.3384],\n",
       "        [ 0.1038],\n",
       "        [-0.3074],\n",
       "        [-0.2784],\n",
       "        [ 0.1603],\n",
       "        [-0.0094],\n",
       "        [ 0.6117],\n",
       "        [ 0.2841],\n",
       "        [ 0.5893],\n",
       "        [ 0.0850],\n",
       "        [-0.2781],\n",
       "        [-0.1504],\n",
       "        [ 0.1265],\n",
       "        [ 0.3230],\n",
       "        [-0.4202],\n",
       "        [-0.1496],\n",
       "        [ 0.3919],\n",
       "        [-0.1169],\n",
       "        [-0.1109],\n",
       "        [ 0.0168],\n",
       "        [ 0.2460],\n",
       "        [ 0.3943],\n",
       "        [-0.2457],\n",
       "        [-0.2925],\n",
       "        [ 0.0629],\n",
       "        [ 0.2323],\n",
       "        [-0.2554]], dtype=torch.float64, requires_grad=True)"
      ]
     },
     "execution_count": 37,
     "metadata": {},
     "output_type": "execute_result"
    }
   ],
   "source": [
    "model.weights"
   ]
  },
  {
   "cell_type": "code",
   "execution_count": 38,
   "id": "c0b4da44-1831-4272-bbd9-965b80072fdb",
   "metadata": {},
   "outputs": [
    {
     "data": {
      "text/plain": [
       "tensor([-0.1307], dtype=torch.float64, requires_grad=True)"
      ]
     },
     "execution_count": 38,
     "metadata": {},
     "output_type": "execute_result"
    }
   ],
   "source": [
    "model.bias"
   ]
  },
  {
   "cell_type": "markdown",
   "id": "4c580f4f-9b28-43ee-a7f1-4e1f43ba596d",
   "metadata": {},
   "source": [
    "Evaluation"
   ]
  },
  {
   "cell_type": "code",
   "execution_count": 46,
   "id": "d283e269-585e-43ca-afe5-5e963a44546b",
   "metadata": {},
   "outputs": [
    {
     "name": "stdout",
     "output_type": "stream",
     "text": [
      "Accuracy: 0.5964912176132202\n"
     ]
    }
   ],
   "source": [
    "# model evaluation\n",
    "with torch.no_grad():\n",
    "    y_pred=model.forward(X_test_tensor)\n",
    "    y_pred=(y_pred>0.99).float()\n",
    "    accuracy=(y_pred==y_test_tensor).float().mean()\n",
    "    print(f\"Accuracy: {accuracy.item()}\")"
   ]
  },
  {
   "cell_type": "markdown",
   "id": "78df5d91-5057-4e38-814f-cd858fd201aa",
   "metadata": {},
   "source": [
    "# The NN Module"
   ]
  },
  {
   "cell_type": "markdown",
   "id": "4a48a788-4f43-486d-9ca9-59608209df4d",
   "metadata": {},
   "source": [
    "## Without hidden layer\n",
    "The following model has 5 features & 1 neuron which directly gives the output"
   ]
  },
  {
   "cell_type": "code",
   "execution_count": 2,
   "id": "4012d720-5c87-4483-b66c-2f640d0e8ffa",
   "metadata": {},
   "outputs": [],
   "source": [
    "# create model class\n",
    "import torch\n",
    "import torch.nn as nn\n",
    "\n",
    "class Model(nn.Module):\n",
    "\n",
    "    def __init__(self, num_features):\n",
    "\n",
    "        super().__init__()\n",
    "        self.linear=nn.Linear(num_features, 1)\n",
    "        self.sigmoid=nn.Sigmoid()\n",
    "   \n",
    "    def forward(self, features):\n",
    "\n",
    "        out=self.linear(features)\n",
    "        out=self.sigmoid(out)\n",
    "\n",
    "        return out\n",
    "        "
   ]
  },
  {
   "cell_type": "code",
   "execution_count": 3,
   "id": "887171f6-c992-4cbf-8087-4756452a540c",
   "metadata": {},
   "outputs": [
    {
     "data": {
      "text/plain": [
       "tensor([[0.5407],\n",
       "        [0.4117],\n",
       "        [0.3713],\n",
       "        [0.4641],\n",
       "        [0.4364],\n",
       "        [0.4820],\n",
       "        [0.3793],\n",
       "        [0.4816],\n",
       "        [0.4443],\n",
       "        [0.4004]], grad_fn=<SigmoidBackward0>)"
      ]
     },
     "execution_count": 3,
     "metadata": {},
     "output_type": "execute_result"
    }
   ],
   "source": [
    "# create dataset\n",
    "features=torch.rand(10,5)\n",
    "\n",
    "#create model\n",
    "model=Model(features.shape[1])\n",
    "\n",
    "# call model for forward pass\n",
    "model(features)"
   ]
  },
  {
   "cell_type": "code",
   "execution_count": 8,
   "id": "62d1d076-d547-4f06-af83-81a65f85b68d",
   "metadata": {},
   "outputs": [
    {
     "data": {
      "text/plain": [
       "Parameter containing:\n",
       "tensor([[ 0.1758,  0.4038, -0.3657, -0.3404,  0.2075]], requires_grad=True)"
      ]
     },
     "execution_count": 8,
     "metadata": {},
     "output_type": "execute_result"
    }
   ],
   "source": [
    "# show model weights\n",
    "model.linear.weight"
   ]
  },
  {
   "cell_type": "code",
   "execution_count": 9,
   "id": "9559b693-c02b-4ed7-836d-a663f3ae2420",
   "metadata": {},
   "outputs": [
    {
     "data": {
      "text/plain": [
       "Parameter containing:\n",
       "tensor([-0.2368], requires_grad=True)"
      ]
     },
     "execution_count": 9,
     "metadata": {},
     "output_type": "execute_result"
    }
   ],
   "source": [
    "# show model bias\n",
    "model.linear.bias"
   ]
  },
  {
   "cell_type": "code",
   "execution_count": 10,
   "id": "d4046746-2bdf-4153-b433-bd65442e4350",
   "metadata": {},
   "outputs": [
    {
     "data": {
      "text/plain": [
       "==========================================================================================\n",
       "Layer (type:depth-idx)                   Output Shape              Param #\n",
       "==========================================================================================\n",
       "Model                                    [10, 1]                   --\n",
       "├─Linear: 1-1                            [10, 1]                   6\n",
       "├─Sigmoid: 1-2                           [10, 1]                   --\n",
       "==========================================================================================\n",
       "Total params: 6\n",
       "Trainable params: 6\n",
       "Non-trainable params: 0\n",
       "Total mult-adds (Units.MEGABYTES): 0.00\n",
       "==========================================================================================\n",
       "Input size (MB): 0.00\n",
       "Forward/backward pass size (MB): 0.00\n",
       "Params size (MB): 0.00\n",
       "Estimated Total Size (MB): 0.00\n",
       "=========================================================================================="
      ]
     },
     "execution_count": 10,
     "metadata": {},
     "output_type": "execute_result"
    }
   ],
   "source": [
    "from torchinfo import summary\n",
    "\n",
    "summary(model, input_size=(10,5))"
   ]
  },
  {
   "cell_type": "markdown",
   "id": "2f1b33be-bf73-4d29-98c7-0bf42826933f",
   "metadata": {},
   "source": [
    "## With hidden layer\n",
    "The following model has 5 features, a hidden layer having 3 neurons & a single output neuron"
   ]
  },
  {
   "cell_type": "code",
   "execution_count": 15,
   "id": "9e893eed-8183-4580-851d-f58aef2d33b1",
   "metadata": {},
   "outputs": [],
   "source": [
    "# create model class\n",
    "import torch\n",
    "import torch.nn as nn\n",
    "\n",
    "class Model(nn.Module):\n",
    "\n",
    "    def __init__(self, num_features):\n",
    "\n",
    "        super().__init__()\n",
    "        self.linear1=nn.Linear(num_features, 3)\n",
    "        self.relu=nn.ReLU()\n",
    "        self.linear2=nn.Linear(3,1)\n",
    "        self.sigmoid=nn.Sigmoid()\n",
    "        \n",
    "    def forward(self, features):\n",
    "\n",
    "        out=self.linear1(features)\n",
    "        out=self.relu(out)\n",
    "        out=self.linear2(out)\n",
    "        out=self.sigmoid(out)\n",
    "       \n",
    "        return out"
   ]
  },
  {
   "cell_type": "code",
   "execution_count": 16,
   "id": "19009f91-e630-4da6-a938-bca1a667380b",
   "metadata": {},
   "outputs": [
    {
     "data": {
      "text/plain": [
       "tensor([[0.4217],\n",
       "        [0.4234],\n",
       "        [0.4199],\n",
       "        [0.4184],\n",
       "        [0.4174],\n",
       "        [0.4175],\n",
       "        [0.4159],\n",
       "        [0.4033],\n",
       "        [0.4196],\n",
       "        [0.4054]], grad_fn=<SigmoidBackward0>)"
      ]
     },
     "execution_count": 16,
     "metadata": {},
     "output_type": "execute_result"
    }
   ],
   "source": [
    "# create dataset\n",
    "features=torch.rand(10,5)\n",
    "\n",
    "#create model\n",
    "model=Model(features.shape[1])\n",
    "\n",
    "# call model for forward pass\n",
    "model(features)"
   ]
  },
  {
   "cell_type": "code",
   "execution_count": 17,
   "id": "6208e634-64c7-44a0-9753-3d690dde663b",
   "metadata": {},
   "outputs": [
    {
     "data": {
      "text/plain": [
       "Parameter containing:\n",
       "tensor([[-0.3062, -0.1636, -0.2745,  0.0683,  0.3153],\n",
       "        [ 0.0450,  0.2983,  0.0117, -0.2605,  0.1943],\n",
       "        [ 0.2467,  0.1025, -0.0663, -0.3506,  0.1859]], requires_grad=True)"
      ]
     },
     "execution_count": 17,
     "metadata": {},
     "output_type": "execute_result"
    }
   ],
   "source": [
    "model.linear1.weight"
   ]
  },
  {
   "cell_type": "code",
   "execution_count": 18,
   "id": "8d6afb8e-b606-4621-8bf1-6f89855d99ca",
   "metadata": {},
   "outputs": [
    {
     "data": {
      "text/plain": [
       "Parameter containing:\n",
       "tensor([[-0.3539,  0.4119, -0.2899]], requires_grad=True)"
      ]
     },
     "execution_count": 18,
     "metadata": {},
     "output_type": "execute_result"
    }
   ],
   "source": [
    "model.linear2.weight"
   ]
  },
  {
   "cell_type": "code",
   "execution_count": 20,
   "id": "6ca94fca-faa6-4eb3-9387-c9ad9cecc5bd",
   "metadata": {},
   "outputs": [
    {
     "data": {
      "text/plain": [
       "Parameter containing:\n",
       "tensor([-0.1963, -0.0145, -0.1407], requires_grad=True)"
      ]
     },
     "execution_count": 20,
     "metadata": {},
     "output_type": "execute_result"
    }
   ],
   "source": [
    "model.linear1.bias"
   ]
  },
  {
   "cell_type": "code",
   "execution_count": 21,
   "id": "b48a9668-c906-4a78-9bc9-1d9464915ee9",
   "metadata": {},
   "outputs": [
    {
     "data": {
      "text/plain": [
       "Parameter containing:\n",
       "tensor([-0.3918], requires_grad=True)"
      ]
     },
     "execution_count": 21,
     "metadata": {},
     "output_type": "execute_result"
    }
   ],
   "source": [
    "model.linear2.bias"
   ]
  },
  {
   "cell_type": "code",
   "execution_count": 22,
   "id": "dcb0b3f6-6099-4fa1-a1c0-6b8303be7d4a",
   "metadata": {},
   "outputs": [
    {
     "data": {
      "text/plain": [
       "==========================================================================================\n",
       "Layer (type:depth-idx)                   Output Shape              Param #\n",
       "==========================================================================================\n",
       "Model                                    [10, 1]                   --\n",
       "├─Linear: 1-1                            [10, 3]                   18\n",
       "├─ReLU: 1-2                              [10, 3]                   --\n",
       "├─Linear: 1-3                            [10, 1]                   4\n",
       "├─Sigmoid: 1-4                           [10, 1]                   --\n",
       "==========================================================================================\n",
       "Total params: 22\n",
       "Trainable params: 22\n",
       "Non-trainable params: 0\n",
       "Total mult-adds (Units.MEGABYTES): 0.00\n",
       "==========================================================================================\n",
       "Input size (MB): 0.00\n",
       "Forward/backward pass size (MB): 0.00\n",
       "Params size (MB): 0.00\n",
       "Estimated Total Size (MB): 0.00\n",
       "=========================================================================================="
      ]
     },
     "execution_count": 22,
     "metadata": {},
     "output_type": "execute_result"
    }
   ],
   "source": [
    "summary(model, input_size=(10,5))"
   ]
  },
  {
   "cell_type": "markdown",
   "id": "1e9379dd-09b3-4e11-8812-fe6024773cfa",
   "metadata": {},
   "source": [
    "### Sequential Container"
   ]
  },
  {
   "cell_type": "code",
   "execution_count": 25,
   "id": "4d6a1627-3fff-409d-ad1d-5dd0c1789d74",
   "metadata": {},
   "outputs": [],
   "source": [
    "class Model(nn.Module):\n",
    "\n",
    "    def __init__(self, num_features):\n",
    "\n",
    "        super().__init__()\n",
    "        self.network=nn.Sequential(nn.Linear(num_features, 3),\n",
    "                                   nn.ReLU(),\n",
    "                                   nn.Linear(3,1),\n",
    "                                   nn.Sigmoid()\n",
    "                                   )\n",
    "        \n",
    "    def forward(self, features):\n",
    "\n",
    "       out=self.network(features)\n",
    "       return out"
   ]
  },
  {
   "cell_type": "code",
   "execution_count": 26,
   "id": "c57f9dc6-4b45-4a17-b0fc-aa905b49c98d",
   "metadata": {},
   "outputs": [
    {
     "data": {
      "text/plain": [
       "tensor([[0.5203],\n",
       "        [0.5487],\n",
       "        [0.5199],\n",
       "        [0.5524],\n",
       "        [0.5199],\n",
       "        [0.5534],\n",
       "        [0.5739],\n",
       "        [0.5399],\n",
       "        [0.5600],\n",
       "        [0.5199]], grad_fn=<SigmoidBackward0>)"
      ]
     },
     "execution_count": 26,
     "metadata": {},
     "output_type": "execute_result"
    }
   ],
   "source": [
    "# create dataset\n",
    "features=torch.rand(10,5)\n",
    "\n",
    "#create model\n",
    "model=Model(features.shape[1])\n",
    "\n",
    "# call model for forward pass\n",
    "model(features)"
   ]
  },
  {
   "cell_type": "markdown",
   "id": "2bd92be6-0e2b-46f7-900f-4f45304686b0",
   "metadata": {},
   "source": [
    "Modifying the original training pipeline"
   ]
  },
  {
   "cell_type": "code",
   "execution_count": 27,
   "id": "8a59cc41-5498-410f-bbfa-6b94475c84e7",
   "metadata": {},
   "outputs": [
    {
     "data": {
      "text/html": [
       "<div>\n",
       "<style scoped>\n",
       "    .dataframe tbody tr th:only-of-type {\n",
       "        vertical-align: middle;\n",
       "    }\n",
       "\n",
       "    .dataframe tbody tr th {\n",
       "        vertical-align: top;\n",
       "    }\n",
       "\n",
       "    .dataframe thead th {\n",
       "        text-align: right;\n",
       "    }\n",
       "</style>\n",
       "<table border=\"1\" class=\"dataframe\">\n",
       "  <thead>\n",
       "    <tr style=\"text-align: right;\">\n",
       "      <th></th>\n",
       "      <th>diagnosis</th>\n",
       "      <th>radius_mean</th>\n",
       "      <th>texture_mean</th>\n",
       "      <th>perimeter_mean</th>\n",
       "      <th>area_mean</th>\n",
       "      <th>smoothness_mean</th>\n",
       "      <th>compactness_mean</th>\n",
       "      <th>concavity_mean</th>\n",
       "      <th>concave points_mean</th>\n",
       "      <th>symmetry_mean</th>\n",
       "      <th>...</th>\n",
       "      <th>radius_worst</th>\n",
       "      <th>texture_worst</th>\n",
       "      <th>perimeter_worst</th>\n",
       "      <th>area_worst</th>\n",
       "      <th>smoothness_worst</th>\n",
       "      <th>compactness_worst</th>\n",
       "      <th>concavity_worst</th>\n",
       "      <th>concave points_worst</th>\n",
       "      <th>symmetry_worst</th>\n",
       "      <th>fractal_dimension_worst</th>\n",
       "    </tr>\n",
       "  </thead>\n",
       "  <tbody>\n",
       "    <tr>\n",
       "      <th>0</th>\n",
       "      <td>M</td>\n",
       "      <td>17.99</td>\n",
       "      <td>10.38</td>\n",
       "      <td>122.80</td>\n",
       "      <td>1001.0</td>\n",
       "      <td>0.11840</td>\n",
       "      <td>0.27760</td>\n",
       "      <td>0.3001</td>\n",
       "      <td>0.14710</td>\n",
       "      <td>0.2419</td>\n",
       "      <td>...</td>\n",
       "      <td>25.38</td>\n",
       "      <td>17.33</td>\n",
       "      <td>184.60</td>\n",
       "      <td>2019.0</td>\n",
       "      <td>0.1622</td>\n",
       "      <td>0.6656</td>\n",
       "      <td>0.7119</td>\n",
       "      <td>0.2654</td>\n",
       "      <td>0.4601</td>\n",
       "      <td>0.11890</td>\n",
       "    </tr>\n",
       "    <tr>\n",
       "      <th>1</th>\n",
       "      <td>M</td>\n",
       "      <td>20.57</td>\n",
       "      <td>17.77</td>\n",
       "      <td>132.90</td>\n",
       "      <td>1326.0</td>\n",
       "      <td>0.08474</td>\n",
       "      <td>0.07864</td>\n",
       "      <td>0.0869</td>\n",
       "      <td>0.07017</td>\n",
       "      <td>0.1812</td>\n",
       "      <td>...</td>\n",
       "      <td>24.99</td>\n",
       "      <td>23.41</td>\n",
       "      <td>158.80</td>\n",
       "      <td>1956.0</td>\n",
       "      <td>0.1238</td>\n",
       "      <td>0.1866</td>\n",
       "      <td>0.2416</td>\n",
       "      <td>0.1860</td>\n",
       "      <td>0.2750</td>\n",
       "      <td>0.08902</td>\n",
       "    </tr>\n",
       "    <tr>\n",
       "      <th>2</th>\n",
       "      <td>M</td>\n",
       "      <td>19.69</td>\n",
       "      <td>21.25</td>\n",
       "      <td>130.00</td>\n",
       "      <td>1203.0</td>\n",
       "      <td>0.10960</td>\n",
       "      <td>0.15990</td>\n",
       "      <td>0.1974</td>\n",
       "      <td>0.12790</td>\n",
       "      <td>0.2069</td>\n",
       "      <td>...</td>\n",
       "      <td>23.57</td>\n",
       "      <td>25.53</td>\n",
       "      <td>152.50</td>\n",
       "      <td>1709.0</td>\n",
       "      <td>0.1444</td>\n",
       "      <td>0.4245</td>\n",
       "      <td>0.4504</td>\n",
       "      <td>0.2430</td>\n",
       "      <td>0.3613</td>\n",
       "      <td>0.08758</td>\n",
       "    </tr>\n",
       "    <tr>\n",
       "      <th>3</th>\n",
       "      <td>M</td>\n",
       "      <td>11.42</td>\n",
       "      <td>20.38</td>\n",
       "      <td>77.58</td>\n",
       "      <td>386.1</td>\n",
       "      <td>0.14250</td>\n",
       "      <td>0.28390</td>\n",
       "      <td>0.2414</td>\n",
       "      <td>0.10520</td>\n",
       "      <td>0.2597</td>\n",
       "      <td>...</td>\n",
       "      <td>14.91</td>\n",
       "      <td>26.50</td>\n",
       "      <td>98.87</td>\n",
       "      <td>567.7</td>\n",
       "      <td>0.2098</td>\n",
       "      <td>0.8663</td>\n",
       "      <td>0.6869</td>\n",
       "      <td>0.2575</td>\n",
       "      <td>0.6638</td>\n",
       "      <td>0.17300</td>\n",
       "    </tr>\n",
       "    <tr>\n",
       "      <th>4</th>\n",
       "      <td>M</td>\n",
       "      <td>20.29</td>\n",
       "      <td>14.34</td>\n",
       "      <td>135.10</td>\n",
       "      <td>1297.0</td>\n",
       "      <td>0.10030</td>\n",
       "      <td>0.13280</td>\n",
       "      <td>0.1980</td>\n",
       "      <td>0.10430</td>\n",
       "      <td>0.1809</td>\n",
       "      <td>...</td>\n",
       "      <td>22.54</td>\n",
       "      <td>16.67</td>\n",
       "      <td>152.20</td>\n",
       "      <td>1575.0</td>\n",
       "      <td>0.1374</td>\n",
       "      <td>0.2050</td>\n",
       "      <td>0.4000</td>\n",
       "      <td>0.1625</td>\n",
       "      <td>0.2364</td>\n",
       "      <td>0.07678</td>\n",
       "    </tr>\n",
       "  </tbody>\n",
       "</table>\n",
       "<p>5 rows × 31 columns</p>\n",
       "</div>"
      ],
      "text/plain": [
       "  diagnosis  radius_mean  texture_mean  perimeter_mean  area_mean  \\\n",
       "0         M        17.99         10.38          122.80     1001.0   \n",
       "1         M        20.57         17.77          132.90     1326.0   \n",
       "2         M        19.69         21.25          130.00     1203.0   \n",
       "3         M        11.42         20.38           77.58      386.1   \n",
       "4         M        20.29         14.34          135.10     1297.0   \n",
       "\n",
       "   smoothness_mean  compactness_mean  concavity_mean  concave points_mean  \\\n",
       "0          0.11840           0.27760          0.3001              0.14710   \n",
       "1          0.08474           0.07864          0.0869              0.07017   \n",
       "2          0.10960           0.15990          0.1974              0.12790   \n",
       "3          0.14250           0.28390          0.2414              0.10520   \n",
       "4          0.10030           0.13280          0.1980              0.10430   \n",
       "\n",
       "   symmetry_mean  ...  radius_worst  texture_worst  perimeter_worst  \\\n",
       "0         0.2419  ...         25.38          17.33           184.60   \n",
       "1         0.1812  ...         24.99          23.41           158.80   \n",
       "2         0.2069  ...         23.57          25.53           152.50   \n",
       "3         0.2597  ...         14.91          26.50            98.87   \n",
       "4         0.1809  ...         22.54          16.67           152.20   \n",
       "\n",
       "   area_worst  smoothness_worst  compactness_worst  concavity_worst  \\\n",
       "0      2019.0            0.1622             0.6656           0.7119   \n",
       "1      1956.0            0.1238             0.1866           0.2416   \n",
       "2      1709.0            0.1444             0.4245           0.4504   \n",
       "3       567.7            0.2098             0.8663           0.6869   \n",
       "4      1575.0            0.1374             0.2050           0.4000   \n",
       "\n",
       "   concave points_worst  symmetry_worst  fractal_dimension_worst  \n",
       "0                0.2654          0.4601                  0.11890  \n",
       "1                0.1860          0.2750                  0.08902  \n",
       "2                0.2430          0.3613                  0.08758  \n",
       "3                0.2575          0.6638                  0.17300  \n",
       "4                0.1625          0.2364                  0.07678  \n",
       "\n",
       "[5 rows x 31 columns]"
      ]
     },
     "execution_count": 27,
     "metadata": {},
     "output_type": "execute_result"
    }
   ],
   "source": [
    "import numpy as np\n",
    "import pandas as pd\n",
    "import torch\n",
    "from sklearn.model_selection import train_test_split\n",
    "from sklearn.preprocessing import StandardScaler\n",
    "from sklearn.preprocessing import LabelEncoder\n",
    "df=pd.read_csv('https://raw.githubusercontent.com/gscdit/Breast-Cancer-Detection/refs/heads/master/data.csv')\n",
    "df.drop(columns=['id','Unnamed: 32'], inplace=True)\n",
    "df.head()"
   ]
  },
  {
   "cell_type": "code",
   "execution_count": 28,
   "id": "33ccefe1-3e32-45dc-be3b-d42c3849033b",
   "metadata": {},
   "outputs": [],
   "source": [
    "X_train, X_test, y_train, y_test=train_test_split(df.iloc[:, 1:], df.iloc[:, 0], test_size=0.2)"
   ]
  },
  {
   "cell_type": "code",
   "execution_count": 29,
   "id": "7de0f56a-65ef-458f-a9ca-15b889d8051d",
   "metadata": {},
   "outputs": [],
   "source": [
    "scaler=StandardScaler()\n",
    "X_train=scaler.fit_transform(X_train)\n",
    "X_test=scaler.transform(X_test)"
   ]
  },
  {
   "cell_type": "code",
   "execution_count": 36,
   "id": "02820427-091e-40e3-85ad-4b0fe419ba82",
   "metadata": {},
   "outputs": [],
   "source": [
    "encoder=LabelEncoder()\n",
    "y_train=encoder.fit_transform(y_train)\n",
    "y_test=encoder.transform(y_test)"
   ]
  },
  {
   "cell_type": "code",
   "execution_count": 42,
   "id": "388015d6-aa6c-4280-b9f5-4153843370f2",
   "metadata": {},
   "outputs": [],
   "source": [
    "X_train_tensor=torch.from_numpy(X_train)\n",
    "X_test_tensor=torch.from_numpy(X_test)\n",
    "y_train_tensor=torch.from_numpy(y_train)\n",
    "y_test_tensor=torch.from_numpy(y_test)"
   ]
  },
  {
   "cell_type": "code",
   "execution_count": 51,
   "id": "58e03671-2fbe-427d-b6e0-a2c24e71076e",
   "metadata": {},
   "outputs": [],
   "source": [
    "X_train_tensor = X_train_tensor.float()\n",
    "y_train_tensor = y_train_tensor.float()\n",
    "X_test_tensor = X_test_tensor.float()\n",
    "y_test_tesnor = y_test_tensor.float()"
   ]
  },
  {
   "cell_type": "code",
   "execution_count": 59,
   "id": "4fc0b8e1-b7ea-47dd-9dc4-5cb5a50d07f5",
   "metadata": {},
   "outputs": [],
   "source": [
    "import torch.nn as nn\n",
    "\n",
    "class MySimpleNN(nn.Module):\n",
    "    def __init__(self,num_features):\n",
    "\n",
    "        super().__init__()\n",
    "        self.linear=nn.Linear(num_features,1)\n",
    "        self.sigmoid=nn.Sigmoid()\n",
    "        \n",
    "    def forward(self, features):\n",
    "        \n",
    "        out=self.linear(features)\n",
    "        out=self.sigmoid(out)\n",
    "        return out"
   ]
  },
  {
   "cell_type": "code",
   "execution_count": 60,
   "id": "b3a36395-a24e-4d69-8157-6f4ce38b388f",
   "metadata": {},
   "outputs": [],
   "source": [
    "learning_rate=0.1\n",
    "epochs=25"
   ]
  },
  {
   "cell_type": "code",
   "execution_count": 61,
   "id": "933f81ef-8038-4e6f-8418-9ecbf48f49de",
   "metadata": {},
   "outputs": [],
   "source": [
    "# define loss function\n",
    "loss_function=nn.BCELoss()"
   ]
  },
  {
   "cell_type": "code",
   "execution_count": 63,
   "id": "2645c096-138e-4811-9d8b-a5d497280a40",
   "metadata": {},
   "outputs": [
    {
     "name": "stdout",
     "output_type": "stream",
     "text": [
      "Epoch: 1, Loss: 0.8699954748153687\n",
      "Epoch: 2, Loss: 0.6021706461906433\n",
      "Epoch: 3, Loss: 0.4704028367996216\n",
      "Epoch: 4, Loss: 0.39866238832473755\n",
      "Epoch: 5, Loss: 0.35311567783355713\n",
      "Epoch: 6, Loss: 0.32114914059638977\n",
      "Epoch: 7, Loss: 0.2971782684326172\n",
      "Epoch: 8, Loss: 0.27834969758987427\n",
      "Epoch: 9, Loss: 0.2630477547645569\n",
      "Epoch: 10, Loss: 0.2502848505973816\n",
      "Epoch: 11, Loss: 0.23942109942436218\n",
      "Epoch: 12, Loss: 0.2300221025943756\n",
      "Epoch: 13, Loss: 0.2217816412448883\n",
      "Epoch: 14, Loss: 0.21447685360908508\n",
      "Epoch: 15, Loss: 0.20794132351875305\n",
      "Epoch: 16, Loss: 0.20204780995845795\n",
      "Epoch: 17, Loss: 0.1966971904039383\n",
      "Epoch: 18, Loss: 0.1918107271194458\n",
      "Epoch: 19, Loss: 0.1873251050710678\n",
      "Epoch: 20, Loss: 0.18318863213062286\n",
      "Epoch: 21, Loss: 0.17935854196548462\n",
      "Epoch: 22, Loss: 0.17579923570156097\n",
      "Epoch: 23, Loss: 0.17248062789440155\n",
      "Epoch: 24, Loss: 0.16937708854675293\n",
      "Epoch: 25, Loss: 0.16646674275398254\n"
     ]
    }
   ],
   "source": [
    "# create model\n",
    "model=MySimpleNN(X_train_tensor.shape[1])\n",
    "\n",
    "# define optimizer\n",
    "optimizer=torch.optim.SGD(model.parameters(), lr=learning_rate)\n",
    "\n",
    "# define loop\n",
    "for epoch in range(epochs):\n",
    "\n",
    "    # forward pass\n",
    "    y_pred=model(X_train_tensor)\n",
    "\n",
    "    # loss calculate\n",
    "    loss=loss_function(y_pred, y_train_tensor.view(-1,1))\n",
    "\n",
    "    # clear gradients\n",
    "    optimizer.zero_grad()\n",
    "    \n",
    "    # backward pass\n",
    "    loss.backward()\n",
    "\n",
    "    # parameters updation\n",
    "    optimizer.step()\n",
    "    \n",
    "    # print loss in each epoch\n",
    "    print(f\"Epoch: {epoch+1}, Loss: {loss.item()}\")"
   ]
  },
  {
   "cell_type": "code",
   "execution_count": 64,
   "id": "c6c2cff3-faa2-484f-a818-22ee60409104",
   "metadata": {},
   "outputs": [
    {
     "data": {
      "text/plain": [
       "Parameter containing:\n",
       "tensor([[ 0.3122,  0.0952,  0.1691,  0.0894,  0.1248,  0.1895,  0.2881,  0.1152,\n",
       "         -0.0193, -0.0296,  0.3584,  0.0370,  0.0505,  0.0618, -0.1397,  0.1369,\n",
       "         -0.0148,  0.0528,  0.0153, -0.1967,  0.2541,  0.2639,  0.2562,  0.3753,\n",
       "          0.0846,  0.1281,  0.2898,  0.2679,  0.2435, -0.0453]],\n",
       "       requires_grad=True)"
      ]
     },
     "execution_count": 64,
     "metadata": {},
     "output_type": "execute_result"
    }
   ],
   "source": [
    "model.linear.weight"
   ]
  },
  {
   "cell_type": "code",
   "execution_count": 65,
   "id": "a3016f8f-5664-48e1-a4e4-ec11c5a4b53d",
   "metadata": {},
   "outputs": [
    {
     "name": "stdout",
     "output_type": "stream",
     "text": [
      "Accuracy: 0.5590950846672058\n"
     ]
    }
   ],
   "source": [
    "# model evaluation\n",
    "with torch.no_grad():\n",
    "    y_pred=model.forward(X_test_tensor)\n",
    "    y_pred=(y_pred>0.9).float()\n",
    "    accuracy=(y_pred==y_test_tensor).float().mean()\n",
    "    print(f\"Accuracy: {accuracy.item()}\")"
   ]
  },
  {
   "cell_type": "markdown",
   "id": "0ab30df4-d8a0-4ce0-84ac-e1bb92a83518",
   "metadata": {},
   "source": [
    "# Dataset & DataLoader Class\n",
    "The problems with the methods used until now by us are:\n",
    "1. Memory inefficient\n",
    "2. Bad convergence <br>\n",
    "These issues can be resolved by using batches of data to train models. Hence, mini batch gradient descent is the preferable method."
   ]
  },
  {
   "cell_type": "code",
   "execution_count": 92,
   "id": "4c37e960-06a3-476a-ab0b-833bcbce8134",
   "metadata": {},
   "outputs": [
    {
     "name": "stdout",
     "output_type": "stream",
     "text": [
      "Epoch: 1, Loss: 0.1600402146577835\n",
      "Epoch: 2, Loss: 0.14005829393863678\n",
      "Epoch: 3, Loss: 0.1264367252588272\n",
      "Epoch: 4, Loss: 0.11624033749103546\n",
      "Epoch: 5, Loss: 0.10817166417837143\n",
      "Epoch: 6, Loss: 0.10155022889375687\n",
      "Epoch: 7, Loss: 0.09597527980804443\n",
      "Epoch: 8, Loss: 0.09119085967540741\n",
      "Epoch: 9, Loss: 0.08702323585748672\n",
      "Epoch: 10, Loss: 0.08334919065237045\n",
      "Epoch: 11, Loss: 0.08007805049419403\n",
      "Epoch: 12, Loss: 0.07714122533798218\n",
      "Epoch: 13, Loss: 0.07448560744524002\n",
      "Epoch: 14, Loss: 0.07206932455301285\n",
      "Epoch: 15, Loss: 0.06985882669687271\n",
      "Epoch: 16, Loss: 0.06782674789428711\n",
      "Epoch: 17, Loss: 0.0659506693482399\n",
      "Epoch: 18, Loss: 0.06421186774969101\n",
      "Epoch: 19, Loss: 0.06259464472532272\n",
      "Epoch: 20, Loss: 0.06108563020825386\n",
      "Epoch: 21, Loss: 0.05967357009649277\n",
      "Epoch: 22, Loss: 0.058348629623651505\n",
      "Epoch: 23, Loss: 0.05710238218307495\n",
      "Epoch: 24, Loss: 0.05592748895287514\n",
      "Epoch: 25, Loss: 0.05481753125786781\n"
     ]
    }
   ],
   "source": [
    "batch_size=32\n",
    "epochs=25\n",
    "n_samples=len(X_train_tensor)\n",
    "\n",
    "for epoch in range(epochs):\n",
    "    # Simply loop over the dataset in chunks of \"batch_size\"\n",
    "    for start_idx in range(0, n_samples, batch_size):\n",
    "        end_idx=start_idx+batch_size\n",
    "        X_batch=X_train_tensor[start_idx:end_idx]\n",
    "        y_batch=y_train_tensor[start_idx:end_idx]\n",
    "\n",
    "        # Forward pass\n",
    "        y_pred=model(X_batch)\n",
    "        loss=loss_function(y_pred, y_batch.view(-1,1))\n",
    "\n",
    "        # Update step\n",
    "        optimizer.zero_grad()\n",
    "        loss.backward()\n",
    "        optimizer.step()\n",
    "\n",
    "    print(f\"Epoch: {epoch+1}, Loss: {loss.item()}\")        "
   ]
  },
  {
   "cell_type": "markdown",
   "id": "3a9bf171-ccb4-4d75-b29b-b64ddf1b2cd2",
   "metadata": {},
   "source": [
    "## Problems with hard coding the mini batches\n",
    "1. No standard interface for data\n",
    "2. No easy way to apply transformations\n",
    "3. Shuffling & sampling\n",
    "4. Batch management & parallelisation"
   ]
  },
  {
   "cell_type": "markdown",
   "id": "90d15e93-b7c5-4620-ad3f-33ad40b19f23",
   "metadata": {},
   "source": [
    "Dataset Class <br>\n",
    "The Dataset class is essentially a blueprint. When you create a custom Dataset, you decide how data is loaded & returned. <br>\n",
    "It defines: <br>\n",
    "* __init__() which tells how data should be loaded.\n",
    "* __len__() which returns the total number of samples.\n",
    "* __getItem__(index) which returns the data (and label) at the given index."
   ]
  },
  {
   "cell_type": "markdown",
   "id": "4b66d3fb-821e-4d0c-bade-1b4d2f446792",
   "metadata": {},
   "source": [
    "DataLoader Class <br>\n",
    "The DataLoader wraps a Dataset & handles batching, shuffling, and parallel loading for you. <br>\n",
    "DataLoader Control Flow: <br>\n",
    "* At the start of each eposch, the DataLoader (if shuffle=True) shuffles indices (using a sampler).\n",
    "* It divids the indices into chunks of batch_size.\n",
    "* For each index in the chunk, data samples are fetched from the Dataset object.\n",
    "* The samples are then collected and combined into a batch (using collate_fn)\n",
    "* The batch is returned to the main training loop.\n",
    "    "
   ]
  },
  {
   "cell_type": "code",
   "execution_count": 66,
   "id": "291f5966-7692-4d3b-b3eb-7dc17463956e",
   "metadata": {},
   "outputs": [],
   "source": [
    "from sklearn.datasets import make_classification\n",
    "import torch"
   ]
  },
  {
   "cell_type": "code",
   "execution_count": 67,
   "id": "8da64ec4-4d8f-435b-8b9c-e6ac8a652553",
   "metadata": {},
   "outputs": [],
   "source": [
    "# Step 1: Create a synthetic classification dataset using sklearn\n",
    "X, y = make_classification(\n",
    "    n_samples=10,       # Number of samples\n",
    "    n_features=2,       # Number of features\n",
    "    n_informative=2,    # Number of informative features\n",
    "    n_redundant=0,      # Number of redundant features\n",
    "    n_classes=2,        # Number of classes\n",
    "    random_state=42     # For reproducibility\n",
    ")"
   ]
  },
  {
   "cell_type": "code",
   "execution_count": 72,
   "id": "26ef9a23-4c3d-4ceb-802d-0ec4dbf2e61c",
   "metadata": {},
   "outputs": [],
   "source": [
    "# Convert the data to PyTorch tensors\n",
    "X=torch.tensor(X, dtype=torch.float32)\n",
    "y=torch.tensor(y, dtype=torch.long)"
   ]
  },
  {
   "cell_type": "code",
   "execution_count": 73,
   "id": "34f3d970-301b-49b6-9d98-44712ec155de",
   "metadata": {},
   "outputs": [
    {
     "data": {
      "text/plain": [
       "tensor([[ 1.0683, -0.9701],\n",
       "        [-1.1402, -0.8388],\n",
       "        [-2.8954,  1.9769],\n",
       "        [-0.7206, -0.9606],\n",
       "        [-1.9629, -0.9923],\n",
       "        [-0.9382, -0.5430],\n",
       "        [ 1.7273, -1.1858],\n",
       "        [ 1.7774,  1.5116],\n",
       "        [ 1.8997,  0.8344],\n",
       "        [-0.5872, -1.9717]])"
      ]
     },
     "execution_count": 73,
     "metadata": {},
     "output_type": "execute_result"
    }
   ],
   "source": [
    "X"
   ]
  },
  {
   "cell_type": "code",
   "execution_count": 74,
   "id": "21e60afa-46eb-44d7-b146-467453ba3d13",
   "metadata": {},
   "outputs": [
    {
     "data": {
      "text/plain": [
       "tensor([1, 0, 0, 0, 0, 1, 1, 1, 1, 0])"
      ]
     },
     "execution_count": 74,
     "metadata": {},
     "output_type": "execute_result"
    }
   ],
   "source": [
    "y"
   ]
  },
  {
   "cell_type": "code",
   "execution_count": 75,
   "id": "9bf1b146-77c9-40d6-abba-e03d94d65818",
   "metadata": {},
   "outputs": [],
   "source": [
    "from torch.utils.data import Dataset, DataLoader"
   ]
  },
  {
   "cell_type": "code",
   "execution_count": 81,
   "id": "7dc8a552-2daf-4ea6-846a-5c8bfc1947b9",
   "metadata": {},
   "outputs": [],
   "source": [
    "class CustomDataset(Dataset):\n",
    "\n",
    "    def __init__(self, features, labels):\n",
    "        self.features=features\n",
    "        self.labels=labels\n",
    "\n",
    "    def __len__(self):\n",
    "        return self.features.shape[0]\n",
    "\n",
    "    def __getitem__(self, index):\n",
    "        return self.features[index], self.labels[index]"
   ]
  },
  {
   "cell_type": "code",
   "execution_count": 82,
   "id": "448a4391-c3b1-4b23-a75a-3ce578009702",
   "metadata": {},
   "outputs": [],
   "source": [
    "dataset=CustomDataset(X, y)"
   ]
  },
  {
   "cell_type": "code",
   "execution_count": 83,
   "id": "36cd51cc-a16d-4c6f-bddf-8836eb6c6d71",
   "metadata": {},
   "outputs": [
    {
     "data": {
      "text/plain": [
       "10"
      ]
     },
     "execution_count": 83,
     "metadata": {},
     "output_type": "execute_result"
    }
   ],
   "source": [
    "len(dataset)"
   ]
  },
  {
   "cell_type": "code",
   "execution_count": 89,
   "id": "af462baf-ce26-4db6-be88-ea502e78ba35",
   "metadata": {},
   "outputs": [],
   "source": [
    "dataloader=DataLoader(dataset, batch_size=2, shuffle=True)"
   ]
  },
  {
   "cell_type": "code",
   "execution_count": 90,
   "id": "5ffd823a-ed89-46fc-ab23-c1fe1f7cbd79",
   "metadata": {},
   "outputs": [
    {
     "name": "stdout",
     "output_type": "stream",
     "text": [
      "tensor([[ 1.7273, -1.1858],\n",
      "        [ 1.8997,  0.8344]])\n",
      "tensor([1, 1])\n",
      "--------------------------------------------------\n",
      "tensor([[-0.7206, -0.9606],\n",
      "        [-2.8954,  1.9769]])\n",
      "tensor([0, 0])\n",
      "--------------------------------------------------\n",
      "tensor([[-1.9629, -0.9923],\n",
      "        [ 1.0683, -0.9701]])\n",
      "tensor([0, 1])\n",
      "--------------------------------------------------\n",
      "tensor([[-0.5872, -1.9717],\n",
      "        [-0.9382, -0.5430]])\n",
      "tensor([0, 1])\n",
      "--------------------------------------------------\n",
      "tensor([[ 1.7774,  1.5116],\n",
      "        [-1.1402, -0.8388]])\n",
      "tensor([1, 0])\n",
      "--------------------------------------------------\n"
     ]
    }
   ],
   "source": [
    "for batch_features, batch_labels in dataloader:\n",
    "    print(batch_features)\n",
    "    print(batch_labels)\n",
    "    print(\"-\"*50)"
   ]
  },
  {
   "cell_type": "code",
   "execution_count": 93,
   "id": "95af73a2-be9e-4b9a-b41a-5d9883dd4ace",
   "metadata": {},
   "outputs": [],
   "source": [
    "class CustomDataset(Dataset):\n",
    "\n",
    "    def __init__(self, features, labels):\n",
    "        self.features=features\n",
    "        self.labels=labels\n",
    "\n",
    "    def __len__(self):\n",
    "        return self.features.shape[0]\n",
    "\n",
    "    def __getitem__(self, index):\n",
    "        # space for transformations\n",
    "        return self.features[index], self.labels[index]"
   ]
  },
  {
   "cell_type": "code",
   "execution_count": 94,
   "id": "c45f4563-f0f5-4ba6-a389-ecde9bdc4e13",
   "metadata": {},
   "outputs": [
    {
     "data": {
      "text/html": [
       "<div>\n",
       "<style scoped>\n",
       "    .dataframe tbody tr th:only-of-type {\n",
       "        vertical-align: middle;\n",
       "    }\n",
       "\n",
       "    .dataframe tbody tr th {\n",
       "        vertical-align: top;\n",
       "    }\n",
       "\n",
       "    .dataframe thead th {\n",
       "        text-align: right;\n",
       "    }\n",
       "</style>\n",
       "<table border=\"1\" class=\"dataframe\">\n",
       "  <thead>\n",
       "    <tr style=\"text-align: right;\">\n",
       "      <th></th>\n",
       "      <th>diagnosis</th>\n",
       "      <th>radius_mean</th>\n",
       "      <th>texture_mean</th>\n",
       "      <th>perimeter_mean</th>\n",
       "      <th>area_mean</th>\n",
       "      <th>smoothness_mean</th>\n",
       "      <th>compactness_mean</th>\n",
       "      <th>concavity_mean</th>\n",
       "      <th>concave points_mean</th>\n",
       "      <th>symmetry_mean</th>\n",
       "      <th>...</th>\n",
       "      <th>radius_worst</th>\n",
       "      <th>texture_worst</th>\n",
       "      <th>perimeter_worst</th>\n",
       "      <th>area_worst</th>\n",
       "      <th>smoothness_worst</th>\n",
       "      <th>compactness_worst</th>\n",
       "      <th>concavity_worst</th>\n",
       "      <th>concave points_worst</th>\n",
       "      <th>symmetry_worst</th>\n",
       "      <th>fractal_dimension_worst</th>\n",
       "    </tr>\n",
       "  </thead>\n",
       "  <tbody>\n",
       "    <tr>\n",
       "      <th>0</th>\n",
       "      <td>M</td>\n",
       "      <td>17.99</td>\n",
       "      <td>10.38</td>\n",
       "      <td>122.80</td>\n",
       "      <td>1001.0</td>\n",
       "      <td>0.11840</td>\n",
       "      <td>0.27760</td>\n",
       "      <td>0.3001</td>\n",
       "      <td>0.14710</td>\n",
       "      <td>0.2419</td>\n",
       "      <td>...</td>\n",
       "      <td>25.38</td>\n",
       "      <td>17.33</td>\n",
       "      <td>184.60</td>\n",
       "      <td>2019.0</td>\n",
       "      <td>0.1622</td>\n",
       "      <td>0.6656</td>\n",
       "      <td>0.7119</td>\n",
       "      <td>0.2654</td>\n",
       "      <td>0.4601</td>\n",
       "      <td>0.11890</td>\n",
       "    </tr>\n",
       "    <tr>\n",
       "      <th>1</th>\n",
       "      <td>M</td>\n",
       "      <td>20.57</td>\n",
       "      <td>17.77</td>\n",
       "      <td>132.90</td>\n",
       "      <td>1326.0</td>\n",
       "      <td>0.08474</td>\n",
       "      <td>0.07864</td>\n",
       "      <td>0.0869</td>\n",
       "      <td>0.07017</td>\n",
       "      <td>0.1812</td>\n",
       "      <td>...</td>\n",
       "      <td>24.99</td>\n",
       "      <td>23.41</td>\n",
       "      <td>158.80</td>\n",
       "      <td>1956.0</td>\n",
       "      <td>0.1238</td>\n",
       "      <td>0.1866</td>\n",
       "      <td>0.2416</td>\n",
       "      <td>0.1860</td>\n",
       "      <td>0.2750</td>\n",
       "      <td>0.08902</td>\n",
       "    </tr>\n",
       "    <tr>\n",
       "      <th>2</th>\n",
       "      <td>M</td>\n",
       "      <td>19.69</td>\n",
       "      <td>21.25</td>\n",
       "      <td>130.00</td>\n",
       "      <td>1203.0</td>\n",
       "      <td>0.10960</td>\n",
       "      <td>0.15990</td>\n",
       "      <td>0.1974</td>\n",
       "      <td>0.12790</td>\n",
       "      <td>0.2069</td>\n",
       "      <td>...</td>\n",
       "      <td>23.57</td>\n",
       "      <td>25.53</td>\n",
       "      <td>152.50</td>\n",
       "      <td>1709.0</td>\n",
       "      <td>0.1444</td>\n",
       "      <td>0.4245</td>\n",
       "      <td>0.4504</td>\n",
       "      <td>0.2430</td>\n",
       "      <td>0.3613</td>\n",
       "      <td>0.08758</td>\n",
       "    </tr>\n",
       "    <tr>\n",
       "      <th>3</th>\n",
       "      <td>M</td>\n",
       "      <td>11.42</td>\n",
       "      <td>20.38</td>\n",
       "      <td>77.58</td>\n",
       "      <td>386.1</td>\n",
       "      <td>0.14250</td>\n",
       "      <td>0.28390</td>\n",
       "      <td>0.2414</td>\n",
       "      <td>0.10520</td>\n",
       "      <td>0.2597</td>\n",
       "      <td>...</td>\n",
       "      <td>14.91</td>\n",
       "      <td>26.50</td>\n",
       "      <td>98.87</td>\n",
       "      <td>567.7</td>\n",
       "      <td>0.2098</td>\n",
       "      <td>0.8663</td>\n",
       "      <td>0.6869</td>\n",
       "      <td>0.2575</td>\n",
       "      <td>0.6638</td>\n",
       "      <td>0.17300</td>\n",
       "    </tr>\n",
       "    <tr>\n",
       "      <th>4</th>\n",
       "      <td>M</td>\n",
       "      <td>20.29</td>\n",
       "      <td>14.34</td>\n",
       "      <td>135.10</td>\n",
       "      <td>1297.0</td>\n",
       "      <td>0.10030</td>\n",
       "      <td>0.13280</td>\n",
       "      <td>0.1980</td>\n",
       "      <td>0.10430</td>\n",
       "      <td>0.1809</td>\n",
       "      <td>...</td>\n",
       "      <td>22.54</td>\n",
       "      <td>16.67</td>\n",
       "      <td>152.20</td>\n",
       "      <td>1575.0</td>\n",
       "      <td>0.1374</td>\n",
       "      <td>0.2050</td>\n",
       "      <td>0.4000</td>\n",
       "      <td>0.1625</td>\n",
       "      <td>0.2364</td>\n",
       "      <td>0.07678</td>\n",
       "    </tr>\n",
       "  </tbody>\n",
       "</table>\n",
       "<p>5 rows × 31 columns</p>\n",
       "</div>"
      ],
      "text/plain": [
       "  diagnosis  radius_mean  texture_mean  perimeter_mean  area_mean  \\\n",
       "0         M        17.99         10.38          122.80     1001.0   \n",
       "1         M        20.57         17.77          132.90     1326.0   \n",
       "2         M        19.69         21.25          130.00     1203.0   \n",
       "3         M        11.42         20.38           77.58      386.1   \n",
       "4         M        20.29         14.34          135.10     1297.0   \n",
       "\n",
       "   smoothness_mean  compactness_mean  concavity_mean  concave points_mean  \\\n",
       "0          0.11840           0.27760          0.3001              0.14710   \n",
       "1          0.08474           0.07864          0.0869              0.07017   \n",
       "2          0.10960           0.15990          0.1974              0.12790   \n",
       "3          0.14250           0.28390          0.2414              0.10520   \n",
       "4          0.10030           0.13280          0.1980              0.10430   \n",
       "\n",
       "   symmetry_mean  ...  radius_worst  texture_worst  perimeter_worst  \\\n",
       "0         0.2419  ...         25.38          17.33           184.60   \n",
       "1         0.1812  ...         24.99          23.41           158.80   \n",
       "2         0.2069  ...         23.57          25.53           152.50   \n",
       "3         0.2597  ...         14.91          26.50            98.87   \n",
       "4         0.1809  ...         22.54          16.67           152.20   \n",
       "\n",
       "   area_worst  smoothness_worst  compactness_worst  concavity_worst  \\\n",
       "0      2019.0            0.1622             0.6656           0.7119   \n",
       "1      1956.0            0.1238             0.1866           0.2416   \n",
       "2      1709.0            0.1444             0.4245           0.4504   \n",
       "3       567.7            0.2098             0.8663           0.6869   \n",
       "4      1575.0            0.1374             0.2050           0.4000   \n",
       "\n",
       "   concave points_worst  symmetry_worst  fractal_dimension_worst  \n",
       "0                0.2654          0.4601                  0.11890  \n",
       "1                0.1860          0.2750                  0.08902  \n",
       "2                0.2430          0.3613                  0.08758  \n",
       "3                0.2575          0.6638                  0.17300  \n",
       "4                0.1625          0.2364                  0.07678  \n",
       "\n",
       "[5 rows x 31 columns]"
      ]
     },
     "execution_count": 94,
     "metadata": {},
     "output_type": "execute_result"
    }
   ],
   "source": [
    "import numpy as np\n",
    "import pandas as pd\n",
    "import torch\n",
    "from sklearn.model_selection import train_test_split\n",
    "from sklearn.preprocessing import StandardScaler\n",
    "from sklearn.preprocessing import LabelEncoder\n",
    "df=pd.read_csv('https://raw.githubusercontent.com/gscdit/Breast-Cancer-Detection/refs/heads/master/data.csv')\n",
    "df.drop(columns=['id','Unnamed: 32'], inplace=True)\n",
    "df.head()"
   ]
  },
  {
   "cell_type": "code",
   "execution_count": 95,
   "id": "e819f50a-0aed-45ce-988d-1c1e40bb07a4",
   "metadata": {},
   "outputs": [],
   "source": [
    "X_train, X_test, y_train, y_test = train_test_split(df.iloc[:, 1:], df.iloc[:, 0], test_size=0.2)"
   ]
  },
  {
   "cell_type": "code",
   "execution_count": 96,
   "id": "77d88d77-0471-49b1-92ae-4af2f175cf53",
   "metadata": {},
   "outputs": [],
   "source": [
    "scaler = StandardScaler()\n",
    "X_train = scaler.fit_transform(X_train)\n",
    "X_test = scaler.transform(X_test)"
   ]
  },
  {
   "cell_type": "code",
   "execution_count": 99,
   "id": "a49885fd-a821-4717-8e33-29542e915583",
   "metadata": {},
   "outputs": [],
   "source": [
    "encoder = LabelEncoder()\n",
    "y_train = encoder.fit_transform(y_train)\n",
    "y_test = encoder.transform(y_test)"
   ]
  },
  {
   "cell_type": "code",
   "execution_count": 100,
   "id": "491c8045-6865-4c33-8fe7-8bc66bf0247d",
   "metadata": {},
   "outputs": [],
   "source": [
    "X_train_tensor = torch.from_numpy(X_train.astype(np.float32))\n",
    "X_test_tensor = torch.from_numpy(X_test.astype(np.float32))\n",
    "y_train_tensor = torch.from_numpy(y_train.astype(np.float32))\n",
    "y_test_tensor = torch.from_numpy(y_test.astype(np.float32))"
   ]
  },
  {
   "cell_type": "code",
   "execution_count": 101,
   "id": "f69a63cc-9189-4ad3-8d52-79576ea3bc11",
   "metadata": {},
   "outputs": [
    {
     "data": {
      "text/plain": [
       "torch.Size([455, 30])"
      ]
     },
     "execution_count": 101,
     "metadata": {},
     "output_type": "execute_result"
    }
   ],
   "source": [
    "X_train_tensor.shape"
   ]
  },
  {
   "cell_type": "code",
   "execution_count": 102,
   "id": "08c4514b-3c74-4789-b81d-b5f47576a1f8",
   "metadata": {},
   "outputs": [
    {
     "data": {
      "text/plain": [
       "torch.Size([455])"
      ]
     },
     "execution_count": 102,
     "metadata": {},
     "output_type": "execute_result"
    }
   ],
   "source": [
    "y_train_tensor.shape"
   ]
  },
  {
   "cell_type": "code",
   "execution_count": 103,
   "id": "ae104f23-49a0-4d7b-9c96-a802c990839b",
   "metadata": {},
   "outputs": [],
   "source": [
    "from torch.utils.data import Dataset, DataLoader\n",
    "\n",
    "class CustomDataset(Dataset):\n",
    "\n",
    "  def __init__(self, features, labels):\n",
    "\n",
    "    self.features = features\n",
    "    self.labels = labels\n",
    "\n",
    "  def __len__(self):\n",
    "\n",
    "    return len(self.features)\n",
    "\n",
    "  def __getitem__(self, idx):\n",
    "\n",
    "    return self.features[idx], self.labels[idx]"
   ]
  },
  {
   "cell_type": "code",
   "execution_count": 104,
   "id": "b8543f2d-8c1c-4a62-b187-7fd7949979e1",
   "metadata": {},
   "outputs": [],
   "source": [
    "train_dataset = CustomDataset(X_train_tensor, y_train_tensor)\n",
    "test_dataset = CustomDataset(X_test_tensor, y_test_tensor)"
   ]
  },
  {
   "cell_type": "code",
   "execution_count": 105,
   "id": "23b12b58-fe6e-4da7-9169-c5d1dbc1f56b",
   "metadata": {},
   "outputs": [
    {
     "data": {
      "text/plain": [
       "(tensor([ 1.8317,  0.3721,  1.8931,  1.8441,  0.5794,  1.3598,  1.4972,  2.1395,\n",
       "          1.1511, -0.0379,  1.0083, -0.4240,  0.8626,  0.9723, -0.8324,  0.0388,\n",
       "          0.2371,  0.3532, -0.1473, -0.4157,  1.6860, -0.0263,  1.5968,  1.6398,\n",
       "         -0.2492,  0.4506,  0.8761,  1.5473,  0.3111, -0.4396]),\n",
       " tensor(1.))"
      ]
     },
     "execution_count": 105,
     "metadata": {},
     "output_type": "execute_result"
    }
   ],
   "source": [
    "train_dataset[10]"
   ]
  },
  {
   "cell_type": "code",
   "execution_count": 106,
   "id": "8f4f44a6-eada-4b5f-bb27-f13a08a5ecbc",
   "metadata": {},
   "outputs": [],
   "source": [
    "train_loader = DataLoader(train_dataset, batch_size=32, shuffle=True)\n",
    "test_loader = DataLoader(test_dataset, batch_size=32, shuffle=True)"
   ]
  },
  {
   "cell_type": "code",
   "execution_count": 107,
   "id": "c7d7a864-c29b-44f9-b592-c08f91ff1d46",
   "metadata": {},
   "outputs": [],
   "source": [
    "import torch.nn as nn\n",
    "\n",
    "\n",
    "class MySimpleNN(nn.Module):\n",
    "\n",
    "  def __init__(self, num_features):\n",
    "\n",
    "    super().__init__()\n",
    "    self.linear = nn.Linear(num_features, 1)\n",
    "    self.sigmoid = nn.Sigmoid()\n",
    "\n",
    "  def forward(self, features):\n",
    "\n",
    "    out = self.linear(features)\n",
    "    out = self.sigmoid(out)\n",
    "\n",
    "    return out"
   ]
  },
  {
   "cell_type": "code",
   "execution_count": 108,
   "id": "25e8faa9-451c-4190-8b0f-f6dcd08c7aed",
   "metadata": {},
   "outputs": [],
   "source": [
    "learning_rate = 0.1\n",
    "epochs = 25"
   ]
  },
  {
   "cell_type": "code",
   "execution_count": 109,
   "id": "3c0ee056-3e9b-4063-b657-c9c1fd2173b5",
   "metadata": {},
   "outputs": [],
   "source": [
    "# create model\n",
    "model = MySimpleNN(X_train_tensor.shape[1])\n",
    "\n",
    "# define optimizer\n",
    "optimizer = torch.optim.SGD(model.parameters(), lr=learning_rate)\n",
    "\n",
    "# define loss function\n",
    "loss_function = nn.BCELoss()"
   ]
  },
  {
   "cell_type": "code",
   "execution_count": 111,
   "id": "6a35f88b-3e4b-4dc7-b943-774187a9db82",
   "metadata": {},
   "outputs": [
    {
     "name": "stdout",
     "output_type": "stream",
     "text": [
      "Epoch: 1, Loss: 0.020897429436445236\n",
      "Epoch: 2, Loss: 0.037674278020858765\n",
      "Epoch: 3, Loss: 0.09545177221298218\n",
      "Epoch: 4, Loss: 0.002796645974740386\n",
      "Epoch: 5, Loss: 0.0689617469906807\n",
      "Epoch: 6, Loss: 0.004471329040825367\n",
      "Epoch: 7, Loss: 0.006842087022960186\n",
      "Epoch: 8, Loss: 0.10190027952194214\n",
      "Epoch: 9, Loss: 0.08776341378688812\n",
      "Epoch: 10, Loss: 0.016367997974157333\n",
      "Epoch: 11, Loss: 0.22404804825782776\n",
      "Epoch: 12, Loss: 0.23520533740520477\n",
      "Epoch: 13, Loss: 0.008213624358177185\n",
      "Epoch: 14, Loss: 0.04945883899927139\n",
      "Epoch: 15, Loss: 0.03468620404601097\n",
      "Epoch: 16, Loss: 0.10122781991958618\n",
      "Epoch: 17, Loss: 0.0010557284113019705\n",
      "Epoch: 18, Loss: 0.3729603588581085\n",
      "Epoch: 19, Loss: 0.04739244654774666\n",
      "Epoch: 20, Loss: 0.21947921812534332\n",
      "Epoch: 21, Loss: 0.04051503166556358\n",
      "Epoch: 22, Loss: 0.1118830069899559\n",
      "Epoch: 23, Loss: 0.002712274668738246\n",
      "Epoch: 24, Loss: 0.07525260746479034\n",
      "Epoch: 25, Loss: 0.05392419919371605\n"
     ]
    }
   ],
   "source": [
    "# define loop\n",
    "for epoch in range(epochs):\n",
    "\n",
    "  for batch_features, batch_labels in train_loader:\n",
    "\n",
    "    # forward pass\n",
    "    y_pred = model(batch_features)\n",
    "\n",
    "    # loss calculate\n",
    "    loss = loss_function(y_pred, batch_labels.view(-1,1))\n",
    "\n",
    "    # clear gradients\n",
    "    optimizer.zero_grad()\n",
    "\n",
    "    # backward pass\n",
    "    loss.backward()\n",
    "\n",
    "    # parameters update\n",
    "    optimizer.step()\n",
    "\n",
    "  # print loss in each epoch\n",
    "  print(f'Epoch: {epoch + 1}, Loss: {loss.item()}')"
   ]
  },
  {
   "cell_type": "code",
   "execution_count": 112,
   "id": "0410b49f-7c9e-4e18-bbff-6d196bde646c",
   "metadata": {},
   "outputs": [
    {
     "name": "stdout",
     "output_type": "stream",
     "text": [
      "Accuracy: 0.9705\n"
     ]
    }
   ],
   "source": [
    "# Model evaluation using test_loader\n",
    "model.eval()  # Set the model to evaluation mode\n",
    "accuracy_list = []\n",
    "\n",
    "with torch.no_grad():\n",
    "    for batch_features, batch_labels in test_loader:\n",
    "        # Forward pass\n",
    "        y_pred = model(batch_features)\n",
    "        y_pred = (y_pred > 0.8).float()  # Convert probabilities to binary predictions\n",
    "\n",
    "        # Calculate accuracy for the current batch\n",
    "        batch_accuracy = (y_pred.view(-1) == batch_labels).float().mean().item()\n",
    "        accuracy_list.append(batch_accuracy)\n",
    "\n",
    "# Calculate overall accuracy\n",
    "overall_accuracy = sum(accuracy_list) / len(accuracy_list)\n",
    "print(f'Accuracy: {overall_accuracy:.4f}')"
   ]
  },
  {
   "cell_type": "code",
   "execution_count": null,
   "id": "bc324584-8f55-476e-8917-c3c035b43420",
   "metadata": {},
   "outputs": [],
   "source": []
  }
 ],
 "metadata": {
  "kernelspec": {
   "display_name": "Python 3 (ipykernel)",
   "language": "python",
   "name": "python3"
  },
  "language_info": {
   "codemirror_mode": {
    "name": "ipython",
    "version": 3
   },
   "file_extension": ".py",
   "mimetype": "text/x-python",
   "name": "python",
   "nbconvert_exporter": "python",
   "pygments_lexer": "ipython3",
   "version": "3.13.3"
  }
 },
 "nbformat": 4,
 "nbformat_minor": 5
}
